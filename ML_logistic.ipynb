{
  "nbformat": 4,
  "nbformat_minor": 0,
  "metadata": {
    "colab": {
      "provenance": [],
      "include_colab_link": true
    },
    "kernelspec": {
      "name": "python3",
      "display_name": "Python 3"
    },
    "language_info": {
      "name": "python"
    }
  },
  "cells": [
    {
      "cell_type": "markdown",
      "metadata": {
        "id": "view-in-github",
        "colab_type": "text"
      },
      "source": [
        "<a href=\"https://colab.research.google.com/github/venkatesh176/AI_Training/blob/main/ML_logistic.ipynb\" target=\"_parent\"><img src=\"https://colab.research.google.com/assets/colab-badge.svg\" alt=\"Open In Colab\"/></a>"
      ]
    },
    {
      "cell_type": "code",
      "execution_count": null,
      "metadata": {
        "id": "w5VVMA3NUDNm"
      },
      "outputs": [],
      "source": [
        "# statistical approach to build Logistic regression."
      ]
    },
    {
      "cell_type": "markdown",
      "source": [
        "\n",
        "\n",
        "```\n",
        "\n",
        "input file : diabetic.txt\n",
        "\n",
        "Age\tBMI\tBlood Pressure\tGlucose Level\tInsulin Level\tDiabetic Status\n",
        "45\t25.3\t120\t140\t85\tYes\n",
        "50\t28.1\t130\t155\t90\tYes\n",
        "38\t23.5\t115\t110\t75\tNo\n",
        "60\t31.2\t135\t160\t95\tYes\n",
        "55\t29.8\t128\t150\t92\tYes\n",
        "32\t22.7\t110\t105\t70\tNo\n",
        "42\t26.5\t118\t135\t80\tNo\n",
        "48\t27.3\t125\t145\t88\tYes\n",
        "35\t24.1\t113\t120\t78\tNo\n",
        "58\t30.5\t132\t158\t93\tYes\n",
        "41\t25.8\t121\t138\t82\tNo\n",
        "47\t27.0\t126\t144\t87\tYes\n",
        "36\t24.9\t114\t122\t76\tNo\n",
        "53\t29.1\t130\t148\t89\tYes\n",
        "40\t26.0\t119\t132\t81\tNo\n",
        "61\t31.5\t136\t162\t96\tYes\n",
        "39\t23.8\t117\t128\t77\tNo\n",
        "49\t27.5\t129\t146\t90\tYes\n",
        "37\t24.5\t116\t124\t79\tNo\n",
        "54\t30.0\t133\t150\t91\tYes\n",
        "```\n",
        "\n"
      ],
      "metadata": {
        "id": "Rdi-NkP-Z90A"
      }
    },
    {
      "cell_type": "code",
      "source": [],
      "metadata": {
        "id": "wp2DmxyJaGg-"
      },
      "execution_count": null,
      "outputs": []
    },
    {
      "cell_type": "code",
      "source": [
        "infile = open('/content/diabetic.txt')\n",
        "head = infile.readline()\n",
        "head"
      ],
      "metadata": {
        "colab": {
          "base_uri": "https://localhost:8080/",
          "height": 36
        },
        "id": "pByhYesmUWos",
        "outputId": "09266946-439a-4c14-f892-ca3e1b27e76b"
      },
      "execution_count": null,
      "outputs": [
        {
          "output_type": "execute_result",
          "data": {
            "text/plain": [
              "'Age\\tBMI\\tBlood Pressure\\tGlucose Level\\tInsulin Level\\tDiabetic Status\\n'"
            ],
            "application/vnd.google.colaboratory.intrinsic+json": {
              "type": "string"
            }
          },
          "metadata": {},
          "execution_count": 1
        }
      ]
    },
    {
      "cell_type": "code",
      "source": [
        "data = infile.readlines()\n",
        "len(data)"
      ],
      "metadata": {
        "colab": {
          "base_uri": "https://localhost:8080/"
        },
        "id": "3uh6fH3YU9BR",
        "outputId": "786c253a-e3c9-4511-ef57-ca063a80d03d"
      },
      "execution_count": null,
      "outputs": [
        {
          "output_type": "execute_result",
          "data": {
            "text/plain": [
              "20"
            ]
          },
          "metadata": {},
          "execution_count": 2
        }
      ]
    },
    {
      "cell_type": "code",
      "source": [
        "inputs = []\n",
        "target = []\n",
        "for line in data:\n",
        "   w = line.strip().lower().split('\\t')\n",
        "   ins = [float(v) for v in w[:-1]]\n",
        "   inputs.append(ins)\n",
        "   t = w[-1]\n",
        "   if t=='yes':\n",
        "      target.append(1)\n",
        "   else:\n",
        "      target.append(0)\n"
      ],
      "metadata": {
        "id": "yT1tBCpTVCaT"
      },
      "execution_count": null,
      "outputs": []
    },
    {
      "cell_type": "code",
      "source": [
        "inputs"
      ],
      "metadata": {
        "colab": {
          "base_uri": "https://localhost:8080/"
        },
        "id": "Z3lmEdzaVSYf",
        "outputId": "6ec2003f-633b-4215-9b2f-9b302f1c28ab"
      },
      "execution_count": null,
      "outputs": [
        {
          "output_type": "execute_result",
          "data": {
            "text/plain": [
              "[[45.0, 25.3, 120.0, 140.0, 85.0],\n",
              " [50.0, 28.1, 130.0, 155.0, 90.0],\n",
              " [38.0, 23.5, 115.0, 110.0, 75.0],\n",
              " [60.0, 31.2, 135.0, 160.0, 95.0],\n",
              " [55.0, 29.8, 128.0, 150.0, 92.0],\n",
              " [32.0, 22.7, 110.0, 105.0, 70.0],\n",
              " [42.0, 26.5, 118.0, 135.0, 80.0],\n",
              " [48.0, 27.3, 125.0, 145.0, 88.0],\n",
              " [35.0, 24.1, 113.0, 120.0, 78.0],\n",
              " [58.0, 30.5, 132.0, 158.0, 93.0],\n",
              " [41.0, 25.8, 121.0, 138.0, 82.0],\n",
              " [47.0, 27.0, 126.0, 144.0, 87.0],\n",
              " [36.0, 24.9, 114.0, 122.0, 76.0],\n",
              " [53.0, 29.1, 130.0, 148.0, 89.0],\n",
              " [40.0, 26.0, 119.0, 132.0, 81.0],\n",
              " [61.0, 31.5, 136.0, 162.0, 96.0],\n",
              " [39.0, 23.8, 117.0, 128.0, 77.0],\n",
              " [49.0, 27.5, 129.0, 146.0, 90.0],\n",
              " [37.0, 24.5, 116.0, 124.0, 79.0],\n",
              " [54.0, 30.0, 133.0, 150.0, 91.0]]"
            ]
          },
          "metadata": {},
          "execution_count": 5
        }
      ]
    },
    {
      "cell_type": "code",
      "source": [
        "target"
      ],
      "metadata": {
        "colab": {
          "base_uri": "https://localhost:8080/"
        },
        "id": "okQ8XzfsVwIK",
        "outputId": "a6667f44-ce94-4155-bd80-e3cb49a7ec8a"
      },
      "execution_count": null,
      "outputs": [
        {
          "output_type": "execute_result",
          "data": {
            "text/plain": [
              "[1, 1, 0, 1, 1, 0, 0, 1, 0, 1, 0, 1, 0, 1, 0, 1, 0, 1, 0, 1]"
            ]
          },
          "metadata": {},
          "execution_count": 6
        }
      ]
    },
    {
      "cell_type": "code",
      "source": [
        "import numpy as np"
      ],
      "metadata": {
        "id": "8Ch2hmGQV-tE"
      },
      "execution_count": null,
      "outputs": []
    },
    {
      "cell_type": "code",
      "source": [
        "ones = np.ones(len(data))\n",
        "ones"
      ],
      "metadata": {
        "colab": {
          "base_uri": "https://localhost:8080/"
        },
        "id": "ZvxgPAXIWBV_",
        "outputId": "c6409af5-f70d-400e-f74b-e11ae5f8f744"
      },
      "execution_count": null,
      "outputs": [
        {
          "output_type": "execute_result",
          "data": {
            "text/plain": [
              "array([1., 1., 1., 1., 1., 1., 1., 1., 1., 1., 1., 1., 1., 1., 1., 1., 1.,\n",
              "       1., 1., 1.])"
            ]
          },
          "metadata": {},
          "execution_count": 8
        }
      ]
    },
    {
      "cell_type": "code",
      "source": [
        "X = np.c_[ones,inputs]\n",
        "X.shape"
      ],
      "metadata": {
        "colab": {
          "base_uri": "https://localhost:8080/"
        },
        "id": "iQDs1AcwWHmY",
        "outputId": "c7cb5562-8028-4f9c-fec7-5782569bd9cc"
      },
      "execution_count": null,
      "outputs": [
        {
          "output_type": "execute_result",
          "data": {
            "text/plain": [
              "(20, 6)"
            ]
          },
          "metadata": {},
          "execution_count": 9
        }
      ]
    },
    {
      "cell_type": "code",
      "source": [
        "Y = np.c_[target]"
      ],
      "metadata": {
        "id": "HXZwzF24WPbp"
      },
      "execution_count": null,
      "outputs": []
    },
    {
      "cell_type": "code",
      "source": [
        "Y.shape"
      ],
      "metadata": {
        "colab": {
          "base_uri": "https://localhost:8080/"
        },
        "id": "OMFWgl2-WVRg",
        "outputId": "6d6808f0-56c7-4299-c69a-c0a8d28210ee"
      },
      "execution_count": null,
      "outputs": [
        {
          "output_type": "execute_result",
          "data": {
            "text/plain": [
              "(20, 1)"
            ]
          },
          "metadata": {},
          "execution_count": 11
        }
      ]
    },
    {
      "cell_type": "code",
      "source": [
        "X"
      ],
      "metadata": {
        "colab": {
          "base_uri": "https://localhost:8080/"
        },
        "id": "kLrql5cqWZss",
        "outputId": "0682144b-cbbd-4f20-eaf2-17f0c3d97de2"
      },
      "execution_count": null,
      "outputs": [
        {
          "output_type": "execute_result",
          "data": {
            "text/plain": [
              "array([[  1. ,  45. ,  25.3, 120. , 140. ,  85. ],\n",
              "       [  1. ,  50. ,  28.1, 130. , 155. ,  90. ],\n",
              "       [  1. ,  38. ,  23.5, 115. , 110. ,  75. ],\n",
              "       [  1. ,  60. ,  31.2, 135. , 160. ,  95. ],\n",
              "       [  1. ,  55. ,  29.8, 128. , 150. ,  92. ],\n",
              "       [  1. ,  32. ,  22.7, 110. , 105. ,  70. ],\n",
              "       [  1. ,  42. ,  26.5, 118. , 135. ,  80. ],\n",
              "       [  1. ,  48. ,  27.3, 125. , 145. ,  88. ],\n",
              "       [  1. ,  35. ,  24.1, 113. , 120. ,  78. ],\n",
              "       [  1. ,  58. ,  30.5, 132. , 158. ,  93. ],\n",
              "       [  1. ,  41. ,  25.8, 121. , 138. ,  82. ],\n",
              "       [  1. ,  47. ,  27. , 126. , 144. ,  87. ],\n",
              "       [  1. ,  36. ,  24.9, 114. , 122. ,  76. ],\n",
              "       [  1. ,  53. ,  29.1, 130. , 148. ,  89. ],\n",
              "       [  1. ,  40. ,  26. , 119. , 132. ,  81. ],\n",
              "       [  1. ,  61. ,  31.5, 136. , 162. ,  96. ],\n",
              "       [  1. ,  39. ,  23.8, 117. , 128. ,  77. ],\n",
              "       [  1. ,  49. ,  27.5, 129. , 146. ,  90. ],\n",
              "       [  1. ,  37. ,  24.5, 116. , 124. ,  79. ],\n",
              "       [  1. ,  54. ,  30. , 133. , 150. ,  91. ]])"
            ]
          },
          "metadata": {},
          "execution_count": 12
        }
      ]
    },
    {
      "cell_type": "code",
      "source": [
        "Y"
      ],
      "metadata": {
        "colab": {
          "base_uri": "https://localhost:8080/"
        },
        "id": "Cz_FBfYZWbDk",
        "outputId": "82963ae3-66a2-491d-f784-1bea67dacae7"
      },
      "execution_count": null,
      "outputs": [
        {
          "output_type": "execute_result",
          "data": {
            "text/plain": [
              "array([[1],\n",
              "       [1],\n",
              "       [0],\n",
              "       [1],\n",
              "       [1],\n",
              "       [0],\n",
              "       [0],\n",
              "       [1],\n",
              "       [0],\n",
              "       [1],\n",
              "       [0],\n",
              "       [1],\n",
              "       [0],\n",
              "       [1],\n",
              "       [0],\n",
              "       [1],\n",
              "       [0],\n",
              "       [1],\n",
              "       [0],\n",
              "       [1]])"
            ]
          },
          "metadata": {},
          "execution_count": 13
        }
      ]
    },
    {
      "cell_type": "code",
      "source": [
        "from numpy.linalg import inv\n",
        "def weights(x,y):\n",
        "   left = inv(x.T.dot(x))\n",
        "   rgt = x.T.dot(y)\n",
        "   return left.dot(rgt)"
      ],
      "metadata": {
        "id": "IlUAPIFFWe4r"
      },
      "execution_count": null,
      "outputs": []
    },
    {
      "cell_type": "code",
      "source": [
        "W = weights(X, Y)\n",
        "W.shape"
      ],
      "metadata": {
        "colab": {
          "base_uri": "https://localhost:8080/"
        },
        "id": "8zfs_MtCWv9I",
        "outputId": "7ef8d0ba-06bf-4953-edce-8163a1969ded"
      },
      "execution_count": null,
      "outputs": [
        {
          "output_type": "execute_result",
          "data": {
            "text/plain": [
              "(6, 1)"
            ]
          },
          "metadata": {},
          "execution_count": 15
        }
      ]
    },
    {
      "cell_type": "code",
      "source": [
        "W"
      ],
      "metadata": {
        "colab": {
          "base_uri": "https://localhost:8080/"
        },
        "id": "NSoV9Rb_W4ms",
        "outputId": "8e07189a-33f7-4d0e-d9e7-725a73e03e7e"
      },
      "execution_count": null,
      "outputs": [
        {
          "output_type": "execute_result",
          "data": {
            "text/plain": [
              "array([[-3.6195539 ],\n",
              "       [ 0.04538179],\n",
              "       [-0.19649457],\n",
              "       [ 0.01177053],\n",
              "       [-0.01081425],\n",
              "       [ 0.0876678 ]])"
            ]
          },
          "metadata": {},
          "execution_count": 16
        }
      ]
    },
    {
      "cell_type": "code",
      "source": [
        "def logistic(x, w):\n",
        "    return 1/(1+np.exp(-x.dot(w)))"
      ],
      "metadata": {
        "id": "ZTIN1p0nW61N"
      },
      "execution_count": null,
      "outputs": []
    },
    {
      "cell_type": "code",
      "source": [
        "ycap = logistic(X, W)\n",
        "ycap.shape"
      ],
      "metadata": {
        "colab": {
          "base_uri": "https://localhost:8080/"
        },
        "id": "AweDRAAHXG8v",
        "outputId": "fd225acf-4ecb-4060-8abe-a7bdad823bc1"
      },
      "execution_count": null,
      "outputs": [
        {
          "output_type": "execute_result",
          "data": {
            "text/plain": [
              "(20, 1)"
            ]
          },
          "metadata": {},
          "execution_count": 18
        }
      ]
    },
    {
      "cell_type": "code",
      "source": [
        "ycap"
      ],
      "metadata": {
        "colab": {
          "base_uri": "https://localhost:8080/"
        },
        "id": "2aqC8OK8XNmq",
        "outputId": "59a4f0dd-0324-4fca-f975-d587ae6d7776"
      },
      "execution_count": null,
      "outputs": [
        {
          "output_type": "execute_result",
          "data": {
            "text/plain": [
              "array([[0.69030505],\n",
              "       [0.70518259],\n",
              "       [0.55637437],\n",
              "       [0.76131559],\n",
              "       [0.72528581],\n",
              "       [0.41781363],\n",
              "       [0.50544932],\n",
              "       [0.69263919],\n",
              "       [0.52591128],\n",
              "       [0.73451843],\n",
              "       [0.57252657],\n",
              "       [0.68156439],\n",
              "       [0.4518325 ],\n",
              "       [0.68992813],\n",
              "       [0.54020375],\n",
              "       [0.77279287],\n",
              "       [0.55406627],\n",
              "       [0.73694948],\n",
              "       [0.54875118],\n",
              "       [0.70210433]])"
            ]
          },
          "metadata": {},
          "execution_count": 19
        }
      ]
    },
    {
      "cell_type": "code",
      "source": [
        "# np.where(condition, true value , false value)\n",
        "\n",
        "ycap_labels = np.where(ycap>0.5, 1, 0)\n",
        "ycap_labels"
      ],
      "metadata": {
        "colab": {
          "base_uri": "https://localhost:8080/"
        },
        "id": "D_SWJIFWXQlK",
        "outputId": "5103fdcc-a44f-4cc0-e521-bf266c7caae3"
      },
      "execution_count": null,
      "outputs": [
        {
          "output_type": "execute_result",
          "data": {
            "text/plain": [
              "array([[1],\n",
              "       [1],\n",
              "       [1],\n",
              "       [1],\n",
              "       [1],\n",
              "       [0],\n",
              "       [1],\n",
              "       [1],\n",
              "       [1],\n",
              "       [1],\n",
              "       [1],\n",
              "       [1],\n",
              "       [0],\n",
              "       [1],\n",
              "       [1],\n",
              "       [1],\n",
              "       [1],\n",
              "       [1],\n",
              "       [1],\n",
              "       [1]])"
            ]
          },
          "metadata": {},
          "execution_count": 20
        }
      ]
    },
    {
      "cell_type": "code",
      "source": [
        "# compare originals and predicted.\n",
        "np.c_[Y, ycap_labels]"
      ],
      "metadata": {
        "colab": {
          "base_uri": "https://localhost:8080/"
        },
        "id": "vnP_YoyQXwCF",
        "outputId": "9d6a2baf-d564-45ab-f1b8-60b286e44e13"
      },
      "execution_count": null,
      "outputs": [
        {
          "output_type": "execute_result",
          "data": {
            "text/plain": [
              "array([[1, 1],\n",
              "       [1, 1],\n",
              "       [0, 1],\n",
              "       [1, 1],\n",
              "       [1, 1],\n",
              "       [0, 0],\n",
              "       [0, 1],\n",
              "       [1, 1],\n",
              "       [0, 1],\n",
              "       [1, 1],\n",
              "       [0, 1],\n",
              "       [1, 1],\n",
              "       [0, 0],\n",
              "       [1, 1],\n",
              "       [0, 1],\n",
              "       [1, 1],\n",
              "       [0, 1],\n",
              "       [1, 1],\n",
              "       [0, 1],\n",
              "       [1, 1]])"
            ]
          },
          "metadata": {},
          "execution_count": 21
        }
      ]
    },
    {
      "cell_type": "code",
      "source": [
        "# find accuracy.\n",
        "\n",
        "# number of predictions successful\n",
        "pcnt = np.where(Y==ycap_labels)[0].size\n",
        "n = Y.size\n",
        "accuracy = pcnt/n * 100\n",
        "print(\" accuracy \",  accuracy)"
      ],
      "metadata": {
        "colab": {
          "base_uri": "https://localhost:8080/"
        },
        "id": "u5DyEDDoX9lb",
        "outputId": "ca18488e-1749-4843-c5c0-c693c9da73d8"
      },
      "execution_count": null,
      "outputs": [
        {
          "output_type": "stream",
          "name": "stdout",
          "text": [
            " accuracy  65.0\n"
          ]
        }
      ]
    },
    {
      "cell_type": "code",
      "source": [
        "def accuracy(y, yc):\n",
        "   pcnt = np.where(y==yc)[0].size\n",
        "   n = y.size\n",
        "   return pcnt/n * 100\n"
      ],
      "metadata": {
        "id": "mwAUYqH_ZIF1"
      },
      "execution_count": null,
      "outputs": []
    },
    {
      "cell_type": "code",
      "source": [
        "print(\"Accuracy \", accuracy(Y, ycap_labels))\n"
      ],
      "metadata": {
        "colab": {
          "base_uri": "https://localhost:8080/"
        },
        "id": "UNp8M_nBZS4B",
        "outputId": "9175d896-fc27-4afa-ba4e-d1bbdf2be17f"
      },
      "execution_count": null,
      "outputs": [
        {
          "output_type": "stream",
          "name": "stdout",
          "text": [
            "Accuracy  65.0\n"
          ]
        }
      ]
    },
    {
      "cell_type": "code",
      "source": [],
      "metadata": {
        "id": "JCxfth9fZcRz"
      },
      "execution_count": null,
      "outputs": []
    }
  ]
}