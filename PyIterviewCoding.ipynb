{
  "nbformat": 4,
  "nbformat_minor": 0,
  "metadata": {
    "colab": {
      "provenance": [],
      "authorship_tag": "ABX9TyOIZ7BRTdwjxI7zIWKQxpr2",
      "include_colab_link": true
    },
    "kernelspec": {
      "name": "python3",
      "display_name": "Python 3"
    },
    "language_info": {
      "name": "python"
    }
  },
  "cells": [
    {
      "cell_type": "markdown",
      "metadata": {
        "id": "view-in-github",
        "colab_type": "text"
      },
      "source": [
        "<a href=\"https://colab.research.google.com/github/venkatesh176/AI_Training/blob/main/PyIterviewCoding.ipynb\" target=\"_parent\"><img src=\"https://colab.research.google.com/assets/colab-badge.svg\" alt=\"Open In Colab\"/></a>"
      ]
    },
    {
      "cell_type": "code",
      "execution_count": 8,
      "metadata": {
        "colab": {
          "base_uri": "https://localhost:8080/"
        },
        "id": "bBIYCJ4hax5A",
        "outputId": "dc92696d-14d4-4d54-ee23-bcec7b405dee"
      },
      "outputs": [
        {
          "output_type": "stream",
          "name": "stdout",
          "text": [
            "['N', 'N']\n"
          ]
        }
      ],
      "source": [
        "str1 = \"NAINA\"\n",
        "str2 = \"REENE\"\n",
        "op = []\n",
        "def string_Common_Letters(a,b):\n",
        "  for i in range(len(a)):\n",
        "    c = b.find(a[i])\n",
        "    if c!=-1:\n",
        "        op.append(a[i])\n",
        "  return op\n",
        "\n",
        "x = string_Common_Letters(str1,str2)\n",
        "print(x)"
      ]
    },
    {
      "cell_type": "code",
      "source": [
        "str1 = \"NAINA\"\n",
        "str2 = \"REENE\"\n",
        "s1 = set(str1)\n",
        "s2 = set(str2)\n",
        "op = []\n",
        "\n",
        "common_letters = s1&s2\n",
        "print(common_letters)"
      ],
      "metadata": {
        "colab": {
          "base_uri": "https://localhost:8080/"
        },
        "id": "On-DEIhPdiFo",
        "outputId": "0fa4b1f3-ca3c-45d6-b2c4-3f0d40d9991b"
      },
      "execution_count": 12,
      "outputs": [
        {
          "output_type": "stream",
          "name": "stdout",
          "text": [
            "{'N'}\n"
          ]
        }
      ]
    },
    {
      "cell_type": "code",
      "source": [
        "str1 = \"\"\"Sheena loves eating apple and mango  Her sister also loves eating apple and mango\"\"\"\n",
        "dict3 ={}\n",
        "lst = str1.split(\" \")\n",
        "\n",
        "for i in lst:\n",
        "  if i not in dict3.keys():\n",
        "    dict3[i] = 0\n",
        "  else:\n",
        "    dict3[i]= dict3[i]+1\n",
        "\n",
        "print(dict3)\n",
        "\n"
      ],
      "metadata": {
        "colab": {
          "base_uri": "https://localhost:8080/"
        },
        "id": "auxm81vmtmbd",
        "outputId": "e9f87f9a-3de6-47c3-8646-abf8a97aec2b"
      },
      "execution_count": 36,
      "outputs": [
        {
          "output_type": "stream",
          "name": "stdout",
          "text": [
            "{'Sheena': 0, 'loves': 1, 'eating': 1, 'apple': 1, 'and': 1, 'mango': 1, '': 0, 'Her': 0, 'sister': 0, 'also': 0}\n"
          ]
        }
      ]
    },
    {
      "cell_type": "code",
      "source": [
        "str1 = \"\"\"Sheena loves eating apple and mango  Her sister also loves eating apple and mango\"\"\"\n",
        "dict2 ={}\n",
        "lst = str1.split(\" \")\n",
        "st =set(lst)\n",
        "\n",
        "for i in st:\n",
        "   c =lst.count(i)\n",
        "   dict2[i] = c\n",
        "print(dict2)"
      ],
      "metadata": {
        "colab": {
          "base_uri": "https://localhost:8080/"
        },
        "id": "R_8bZkSK51jb",
        "outputId": "02361cc5-2376-432c-d471-756721eadce8"
      },
      "execution_count": 34,
      "outputs": [
        {
          "output_type": "stream",
          "name": "stdout",
          "text": [
            "{'': 1, 'apple': 2, 'mango': 2, 'and': 2, 'sister': 1, 'Sheena': 1, 'also': 1, 'Her': 1, 'eating': 2, 'loves': 2}\n"
          ]
        }
      ]
    },
    {
      "cell_type": "code",
      "source": [
        "lst1 = [\"nai\",\"ki\",\"she\"]\n",
        "lst2 = [100,101,102]\n",
        "dict1 ={}\n",
        "\n",
        "for i in range(len(lst1)):\n",
        "  dict1[lst2[i]] = lst1[i]\n",
        "\n",
        "\n",
        "print(dict1)"
      ],
      "metadata": {
        "colab": {
          "base_uri": "https://localhost:8080/"
        },
        "id": "MY93A9yM21_a",
        "outputId": "51b6bbd0-5ac5-4470-d9e6-977b8495dbdc"
      },
      "execution_count": 38,
      "outputs": [
        {
          "output_type": "stream",
          "name": "stdout",
          "text": [
            "{100: 'nai', 101: 'ki', 102: 'she'}\n"
          ]
        }
      ]
    },
    {
      "cell_type": "code",
      "source": [
        "lst = [1,2,4,5,6,7]\n",
        "for i in range(1,len(lst)+1):\n",
        "  if i not in lst:\n",
        "    print(i)\n",
        "\n",
        "a = 7*(7+1)/2\n",
        "\n",
        "b=0\n",
        "for i in lst:\n",
        "  b+=i\n",
        "\n",
        "c= sum(lst)\n",
        "print(a-b)\n",
        "print(a-c)\n"
      ],
      "metadata": {
        "colab": {
          "base_uri": "https://localhost:8080/"
        },
        "id": "SWJGI8R76H92",
        "outputId": "fb4d75cc-515f-4bf3-ce4c-0df6dde26621"
      },
      "execution_count": 45,
      "outputs": [
        {
          "output_type": "stream",
          "name": "stdout",
          "text": [
            "3\n",
            "3.0\n",
            "3.0\n"
          ]
        }
      ]
    }
  ]
}