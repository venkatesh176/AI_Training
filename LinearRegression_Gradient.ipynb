{
  "nbformat": 4,
  "nbformat_minor": 0,
  "metadata": {
    "colab": {
      "provenance": [],
      "authorship_tag": "ABX9TyOnbNuSmkKZeB/ajZDklO3h",
      "include_colab_link": true
    },
    "kernelspec": {
      "name": "python3",
      "display_name": "Python 3"
    },
    "language_info": {
      "name": "python"
    }
  },
  "cells": [
    {
      "cell_type": "markdown",
      "metadata": {
        "id": "view-in-github",
        "colab_type": "text"
      },
      "source": [
        "<a href=\"https://colab.research.google.com/github/venkatesh176/AI_Training/blob/main/LinearRegression_Gradient.ipynb\" target=\"_parent\"><img src=\"https://colab.research.google.com/assets/colab-badge.svg\" alt=\"Open In Colab\"/></a>"
      ]
    },
    {
      "cell_type": "code",
      "execution_count": 13,
      "metadata": {
        "id": "eIe0vDSok1tU"
      },
      "outputs": [],
      "source": [
        "import numpy as np\n",
        "import pandas as pd"
      ]
    },
    {
      "cell_type": "code",
      "source": [
        "df = pd.read_csv(\"/content/sample_data/income.txt\", sep =\"\\t\")\n",
        "df.head()\n",
        "y = df[\"income\"]\n",
        "X = df.drop(\"income\" , axis =1)\n",
        "y = np.array(y)\n",
        "X = np.array(X)\n",
        "ones = np.ones(len(X))\n",
        "X = np.c_[ones, X]\n",
        "y = np.c_[y]\n",
        "X,y"
      ],
      "metadata": {
        "colab": {
          "base_uri": "https://localhost:8080/"
        },
        "id": "6YrOGXTclksn",
        "outputId": "bd2548ae-d3cf-4822-9069-aa9d4f253203"
      },
      "execution_count": 27,
      "outputs": [
        {
          "output_type": "execute_result",
          "data": {
            "text/plain": [
              "(array([[ 1., 58.,  4.],\n",
              "        [ 1., 48., 18.],\n",
              "        [ 1., 34.,  8.],\n",
              "        [ 1., 27.,  4.],\n",
              "        [ 1., 40.,  2.],\n",
              "        [ 1., 50.,  3.],\n",
              "        [ 1., 40., 14.],\n",
              "        [ 1., 32.,  7.],\n",
              "        [ 1., 20.,  3.],\n",
              "        [ 1., 35.,  1.],\n",
              "        [ 1., 48., 14.],\n",
              "        [ 1., 50., 20.],\n",
              "        [ 1., 34., 10.],\n",
              "        [ 1., 29.,  6.],\n",
              "        [ 1., 42.,  4.],\n",
              "        [ 1., 55.,  5.],\n",
              "        [ 1., 45., 12.],\n",
              "        [ 1., 32., 10.],\n",
              "        [ 1., 30.,  5.],\n",
              "        [ 1., 45.,  7.]]),\n",
              " array([[136.18],\n",
              "        [150.47],\n",
              "        [ 99.38],\n",
              "        [ 77.52],\n",
              "        [ 92.06],\n",
              "        [126.18],\n",
              "        [140.47],\n",
              "        [ 90.38],\n",
              "        [ 67.52],\n",
              "        [ 82.06],\n",
              "        [166.18],\n",
              "        [160.47],\n",
              "        [129.38],\n",
              "        [ 97.52],\n",
              "        [102.06],\n",
              "        [136.18],\n",
              "        [130.47],\n",
              "        [100.38],\n",
              "        [ 97.52],\n",
              "        [112.06]]))"
            ]
          },
          "metadata": {},
          "execution_count": 27
        }
      ]
    },
    {
      "cell_type": "code",
      "source": [
        "X.shape, y.shape"
      ],
      "metadata": {
        "colab": {
          "base_uri": "https://localhost:8080/"
        },
        "id": "gzEcmnbjqhFu",
        "outputId": "e4e1a665-1b5f-4c5c-c023-d02bb7950837"
      },
      "execution_count": 31,
      "outputs": [
        {
          "output_type": "execute_result",
          "data": {
            "text/plain": [
              "((20, 3), (20, 1))"
            ]
          },
          "metadata": {},
          "execution_count": 31
        }
      ]
    },
    {
      "cell_type": "code",
      "source": [
        "def scale(x):\n",
        "  return (x-x.mean())/x.std()\n",
        "\n",
        "def scaledMatrix(x):\n",
        "  for i in range(x.shape[1]):\n",
        "    if i!=0:\n",
        "      x[:,i]= scale(x[:,i])\n",
        "  return x\n",
        "\n",
        "def unScale(orig,scal):\n",
        "  return scal*orig.std()+orig.mean()\n",
        "\n",
        "X_act = np.copy(X)\n",
        "y_act = np.copy(y)\n",
        "X_scale = scaledMatrix(X)\n",
        "y_scale = scale(y)\n",
        "X_scale,y_scale"
      ],
      "metadata": {
        "colab": {
          "base_uri": "https://localhost:8080/"
        },
        "id": "E4dwVPQTrR7C",
        "outputId": "6af8d27f-00d7-4cf5-f106-72824ff064ba"
      },
      "execution_count": 58,
      "outputs": [
        {
          "output_type": "execute_result",
          "data": {
            "text/plain": [
              "(array([[ 1.        ,  1.85607541, -0.7364797 ],\n",
              "        [ 1.        ,  0.84182655,  1.94162829],\n",
              "        [ 1.        , -0.57812185,  0.02869401],\n",
              "        [ 1.        , -1.28809605, -0.7364797 ],\n",
              "        [ 1.        ,  0.03042747, -1.11906655],\n",
              "        [ 1.        ,  1.04467633, -0.92777312],\n",
              "        [ 1.        ,  0.03042747,  1.17645458],\n",
              "        [ 1.        , -0.78097162, -0.16259941],\n",
              "        [ 1.        , -1.99807026, -0.92777312],\n",
              "        [ 1.        , -0.47669696, -1.31035998],\n",
              "        [ 1.        ,  0.84182655,  1.17645458],\n",
              "        [ 1.        ,  1.04467633,  2.32421514],\n",
              "        [ 1.        , -0.57812185,  0.41128087],\n",
              "        [ 1.        , -1.08524628, -0.35389284],\n",
              "        [ 1.        ,  0.23327724, -0.7364797 ],\n",
              "        [ 1.        ,  1.55180076, -0.54518627],\n",
              "        [ 1.        ,  0.5375519 ,  0.79386772],\n",
              "        [ 1.        , -0.78097162,  0.41128087],\n",
              "        [ 1.        , -0.98382139, -0.54518627],\n",
              "        [ 1.        ,  0.5375519 , -0.16259941]]),\n",
              " array([[ 0.77882626],\n",
              "        [ 1.29748724],\n",
              "        [-0.55684372],\n",
              "        [-1.35026072],\n",
              "        [-0.8225259 ],\n",
              "        [ 0.41587246],\n",
              "        [ 0.93453344],\n",
              "        [-0.88350214],\n",
              "        [-1.71321452],\n",
              "        [-1.1854797 ],\n",
              "        [ 1.86768766],\n",
              "        [ 1.66044104],\n",
              "        [ 0.53201768],\n",
              "        [-0.62435312],\n",
              "        [-0.4595721 ],\n",
              "        [ 0.77882626],\n",
              "        [ 0.57157964],\n",
              "        [-0.52054834],\n",
              "        [-0.62435312],\n",
              "        [-0.0966183 ]]))"
            ]
          },
          "metadata": {},
          "execution_count": 58
        }
      ]
    },
    {
      "cell_type": "code",
      "source": [
        "print(y_scale.std())\n",
        "for i in range(X_scale.shape[1]):\n",
        "  if i!=0:\n",
        "    print(X_scale[:,i].std())\n",
        "\n",
        "\n"
      ],
      "metadata": {
        "colab": {
          "base_uri": "https://localhost:8080/"
        },
        "id": "6NjhalUfs7WL",
        "outputId": "01e161f3-fa21-4d42-c5fe-1a96d743225f"
      },
      "execution_count": 59,
      "outputs": [
        {
          "output_type": "stream",
          "name": "stdout",
          "text": [
            "1.0\n",
            "1.0\n",
            "1.0\n"
          ]
        }
      ]
    },
    {
      "cell_type": "code",
      "source": [
        "def pred(x,w):\n",
        "  return x.dot(w)\n",
        "\n",
        "def mse (y,ycap):\n",
        "  return ((y-ycap)**2).mean()\n",
        "\n",
        "def der(x,y,ycap):\n",
        "  return x.T.dot(y-ycap)/y.size"
      ],
      "metadata": {
        "id": "Ibt94kysvsw0"
      },
      "execution_count": 60,
      "outputs": []
    },
    {
      "cell_type": "code",
      "source": [
        "np.random.seed(42)\n",
        "w= np.random.random((X_scale.shape[1],y_scale.shape[1]))*2-1\n",
        "w"
      ],
      "metadata": {
        "colab": {
          "base_uri": "https://localhost:8080/"
        },
        "id": "DjvqLGAywXQG",
        "outputId": "21eccfce-b27e-4f56-974d-ab8682e35ce0"
      },
      "execution_count": 61,
      "outputs": [
        {
          "output_type": "execute_result",
          "data": {
            "text/plain": [
              "array([[-0.25091976],\n",
              "       [ 0.90142861],\n",
              "       [ 0.46398788]])"
            ]
          },
          "metadata": {},
          "execution_count": 61
        }
      ]
    },
    {
      "cell_type": "code",
      "source": [
        "conv = 0.00000000001\n",
        "flag = 0\n",
        "pe = 0\n",
        "alpha = 0.002\n",
        "\n",
        "for i in range(1000000):\n",
        "  ycap = pred(X_scale,w)\n",
        "  ce = mse(y_scale, ycap)\n",
        "  delta = der(X_scale,y_scale,ycap)\n",
        "  w+= delta*alpha\n",
        "  if i%1000 == 0:\n",
        "    print(f\"Training is not complete error {ce} at {i+1}\")\n",
        "  if np.abs(ce-pe)<= conv:\n",
        "    flag = 1\n",
        "    print(f\"Training is complete at {i+1}\")\n",
        "    break\n",
        "  pe=ce\n",
        "\n",
        "if flag!=1:\n",
        "  print(\"Training is not complete\")\n",
        "\n"
      ],
      "metadata": {
        "colab": {
          "base_uri": "https://localhost:8080/"
        },
        "id": "IT6VUXitw3ev",
        "outputId": "baa0faee-7086-4e55-d075-c250747fca0c"
      },
      "execution_count": 72,
      "outputs": [
        {
          "output_type": "stream",
          "name": "stdout",
          "text": [
            "Training is not complete error 0.0948536707695698 at 1\n",
            "Training is not complete error 0.09485037737763743 at 1001\n",
            "Training is not complete error 0.09485018313509627 at 2001\n",
            "Training is complete at 2444\n"
          ]
        }
      ]
    },
    {
      "cell_type": "code",
      "source": [
        "ycap = pred(X_scale,w)\n",
        "\n",
        "def r2_score(y,ycap):\n",
        "  rss = ((y-ycap)**2).sum()\n",
        "  tss = ((y-y.mean())**2).sum()\n",
        "  return 1-rss/tss\n",
        "\n",
        "ycap_unscale = unScale(y_act,ycap)\n",
        "\n",
        "r2 = r2_score(y_scale,ycap)\n",
        "print(r2)"
      ],
      "metadata": {
        "colab": {
          "base_uri": "https://localhost:8080/"
        },
        "id": "2qxQ4Rus1JEz",
        "outputId": "9f2a8ed1-5a41-431c-9f22-db707dbd4f50"
      },
      "execution_count": 73,
      "outputs": [
        {
          "output_type": "stream",
          "name": "stdout",
          "text": [
            "0.9051498256601\n"
          ]
        }
      ]
    },
    {
      "cell_type": "code",
      "source": [
        "ycap_unscale\n",
        "np.c_[y,ycap_unscale]"
      ],
      "metadata": {
        "colab": {
          "base_uri": "https://localhost:8080/"
        },
        "id": "Q2pS7QSQ9NtD",
        "outputId": "5ab74fe2-c6e2-4cc4-d1d9-54e756e9cdd3"
      },
      "execution_count": 74,
      "outputs": [
        {
          "output_type": "execute_result",
          "data": {
            "text/plain": [
              "array([[136.18      , 135.26630563],\n",
              "       [150.47      , 158.99469945],\n",
              "       [ 99.38      , 105.24004622],\n",
              "       [ 77.52      ,  81.30104409],\n",
              "       [ 92.06      ,  98.05498868],\n",
              "       [126.18      , 118.40146204],\n",
              "       [140.47      , 133.31488243],\n",
              "       [ 90.38      ,  98.82009197],\n",
              "       [ 67.52      ,  66.17701539],\n",
              "       [ 82.06      ,  86.41258976],\n",
              "       [166.18      , 147.24140153],\n",
              "       [160.47      , 168.35297818],\n",
              "       [129.38      , 111.11669518],\n",
              "       [ 97.52      ,  90.65932282],\n",
              "       [102.06      , 107.41326742],\n",
              "       [136.18      , 132.98218544],\n",
              "       [130.47      , 136.14230791],\n",
              "       [100.38      , 107.6350654 ],\n",
              "       [ 97.52      ,  89.46181323],\n",
              "       [112.06      , 121.45068552]])"
            ]
          },
          "metadata": {},
          "execution_count": 74
        }
      ]
    }
  ]
}