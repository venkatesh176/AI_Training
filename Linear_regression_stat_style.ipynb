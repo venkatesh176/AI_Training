{
  "nbformat": 4,
  "nbformat_minor": 0,
  "metadata": {
    "colab": {
      "provenance": [],
      "include_colab_link": true
    },
    "kernelspec": {
      "name": "python3",
      "display_name": "Python 3"
    },
    "language_info": {
      "name": "python"
    }
  },
  "cells": [
    {
      "cell_type": "markdown",
      "metadata": {
        "id": "view-in-github",
        "colab_type": "text"
      },
      "source": [
        "<a href=\"https://colab.research.google.com/github/venkatesh176/Python_8AM/blob/main/Linear_regression_stat_style.ipynb\" target=\"_parent\"><img src=\"https://colab.research.google.com/assets/colab-badge.svg\" alt=\"Open In Colab\"/></a>"
      ]
    },
    {
      "cell_type": "code",
      "execution_count": null,
      "metadata": {
        "id": "jF6ULtQ_EP3d"
      },
      "outputs": [],
      "source": [
        "# supervised learning : train model with data . data contains features and labels.\n",
        "# all predictive models, comes under supervised learning.\n",
        "# precitive models can be regression or classification.\n",
        "# regression ---> target variable is continuous.\n",
        "# classification --> target variable values is a classfier(any one of given options. )\n"
      ]
    },
    {
      "cell_type": "code",
      "source": [],
      "metadata": {
        "id": "KBB5xINbG5tB"
      },
      "execution_count": null,
      "outputs": []
    },
    {
      "cell_type": "code",
      "source": [
        "# Linear Regression.\n",
        "# predictive equation :  Y = X.W\n",
        "# X --> input matrix (feature matrix)\n",
        "# W --> Weight matrix.\n",
        "#   --> W contains intercept(bias), slopes\n",
        "# Y --> target matrix (label matrix. )\n"
      ],
      "metadata": {
        "id": "Gm_rZbfJE8vV"
      },
      "execution_count": null,
      "outputs": []
    },
    {
      "cell_type": "code",
      "source": [
        "# statistical style of Linear Regression.\n",
        "# W =   inv( X.T.dot(X) ).dot(X.T.dot(Y))\n"
      ],
      "metadata": {
        "id": "rmomKMonFa0I"
      },
      "execution_count": null,
      "outputs": []
    },
    {
      "cell_type": "code",
      "source": [
        "# a simple example ,\n",
        "# one input varaible, one output variable\n",
        "# simple liner regression ---> data contains one input variable. .\n",
        "# age --> input variable.\n",
        "# income --> output variable.\n",
        "# task : based on age , predict  income.\n"
      ],
      "metadata": {
        "id": "BFo0vE90FqY7"
      },
      "execution_count": null,
      "outputs": []
    },
    {
      "cell_type": "code",
      "source": [
        "# historical data --> collected samples.\n",
        "age = [20, 30, 25, 22, 40, 32, 35, 26]\n",
        "income = [43, 64, 55, 45, 79, 65, 74, 55]\n"
      ],
      "metadata": {
        "id": "lOmwuaJPGBAv"
      },
      "execution_count": null,
      "outputs": []
    },
    {
      "cell_type": "code",
      "source": [
        "len(age)"
      ],
      "metadata": {
        "colab": {
          "base_uri": "https://localhost:8080/"
        },
        "id": "aGbLjLHOGeEg",
        "outputId": "39478eec-87c1-4bc2-df05-2a9d9ab78b68"
      },
      "execution_count": null,
      "outputs": [
        {
          "output_type": "execute_result",
          "data": {
            "text/plain": [
              "8"
            ]
          },
          "metadata": {},
          "execution_count": 6
        }
      ]
    },
    {
      "cell_type": "code",
      "source": [
        "len(income)"
      ],
      "metadata": {
        "colab": {
          "base_uri": "https://localhost:8080/"
        },
        "id": "xJEHccKfGgOq",
        "outputId": "65d9d56a-f434-4e40-e784-2d89e6130db0"
      },
      "execution_count": null,
      "outputs": [
        {
          "output_type": "execute_result",
          "data": {
            "text/plain": [
              "8"
            ]
          },
          "metadata": {},
          "execution_count": 7
        }
      ]
    },
    {
      "cell_type": "code",
      "source": [
        "# step1 : prepare input matrix.\n",
        "# X --> 1st column should be ones. (this for intercept/bias) , 2nd Column should be first input variable : age\n"
      ],
      "metadata": {
        "id": "2Gx7QGF1GiH5"
      },
      "execution_count": null,
      "outputs": []
    },
    {
      "cell_type": "code",
      "source": [
        "import numpy as np"
      ],
      "metadata": {
        "id": "BP4lZww4GxWk"
      },
      "execution_count": null,
      "outputs": []
    },
    {
      "cell_type": "code",
      "source": [
        "ones = np.ones(len(age))\n",
        "ones"
      ],
      "metadata": {
        "colab": {
          "base_uri": "https://localhost:8080/"
        },
        "id": "0h2XO624G0Ub",
        "outputId": "74f3f9c3-4e53-487a-d777-535341062e5f"
      },
      "execution_count": null,
      "outputs": [
        {
          "output_type": "execute_result",
          "data": {
            "text/plain": [
              "array([1., 1., 1., 1., 1., 1., 1., 1.])"
            ]
          },
          "metadata": {},
          "execution_count": 10
        }
      ]
    },
    {
      "cell_type": "code",
      "source": [
        "X = np.c_[ones, age]\n",
        "print(X)"
      ],
      "metadata": {
        "colab": {
          "base_uri": "https://localhost:8080/"
        },
        "id": "v65hFYPRG8d6",
        "outputId": "a85e474b-8c37-44b2-9466-f4f2bbb74fd0"
      },
      "execution_count": null,
      "outputs": [
        {
          "output_type": "stream",
          "name": "stdout",
          "text": [
            "[[ 1. 20.]\n",
            " [ 1. 30.]\n",
            " [ 1. 25.]\n",
            " [ 1. 22.]\n",
            " [ 1. 40.]\n",
            " [ 1. 32.]\n",
            " [ 1. 35.]\n",
            " [ 1. 26.]]\n"
          ]
        }
      ]
    },
    {
      "cell_type": "code",
      "source": [
        "# step2 :\n",
        "# prepare output matrix (income)\n",
        "Y = np.c_[income]\n",
        "print(Y)"
      ],
      "metadata": {
        "colab": {
          "base_uri": "https://localhost:8080/"
        },
        "id": "JwRLUPiWHKHc",
        "outputId": "aa5d8f48-7a70-477e-a00a-d3cf473db3d4"
      },
      "execution_count": null,
      "outputs": [
        {
          "output_type": "stream",
          "name": "stdout",
          "text": [
            "[[43]\n",
            " [64]\n",
            " [55]\n",
            " [45]\n",
            " [79]\n",
            " [65]\n",
            " [74]\n",
            " [55]]\n"
          ]
        }
      ]
    },
    {
      "cell_type": "code",
      "source": [
        "X.shape"
      ],
      "metadata": {
        "colab": {
          "base_uri": "https://localhost:8080/"
        },
        "id": "pVBsvwqgHVUo",
        "outputId": "c95e380a-a216-4323-852b-5882233eefed"
      },
      "execution_count": null,
      "outputs": [
        {
          "output_type": "execute_result",
          "data": {
            "text/plain": [
              "(8, 2)"
            ]
          },
          "metadata": {},
          "execution_count": 13
        }
      ]
    },
    {
      "cell_type": "code",
      "source": [
        "Y.shape"
      ],
      "metadata": {
        "colab": {
          "base_uri": "https://localhost:8080/"
        },
        "id": "C3jsjaAjHYsB",
        "outputId": "b687feb6-f54a-47f8-bed8-e7e4ef831640"
      },
      "execution_count": null,
      "outputs": [
        {
          "output_type": "execute_result",
          "data": {
            "text/plain": [
              "(8, 1)"
            ]
          },
          "metadata": {},
          "execution_count": 14
        }
      ]
    },
    {
      "cell_type": "code",
      "source": [
        "X.T"
      ],
      "metadata": {
        "colab": {
          "base_uri": "https://localhost:8080/"
        },
        "id": "tlo6edS-IBK1",
        "outputId": "c1054da2-20b3-46d4-b157-f0ca3b346ffa"
      },
      "execution_count": null,
      "outputs": [
        {
          "output_type": "execute_result",
          "data": {
            "text/plain": [
              "array([[ 1.,  1.,  1.,  1.,  1.,  1.,  1.,  1.],\n",
              "       [20., 30., 25., 22., 40., 32., 35., 26.]])"
            ]
          },
          "metadata": {},
          "execution_count": 15
        }
      ]
    },
    {
      "cell_type": "code",
      "source": [
        "# predictive equation --> Y = X.W\n",
        "# W = inv(X.T.dot(X)).dot(X.T.dot(Y))\n",
        "from numpy.linalg import inv\n",
        "\n",
        "left =  inv(X.T.dot(X)) #  (2, 8).(8 , 2) --> (2, 2)\n",
        "right = X.T.dot(Y) #  (2, 8). (8, 1) --> (2, 1)\n",
        "left.shape\n",
        "\n"
      ],
      "metadata": {
        "colab": {
          "base_uri": "https://localhost:8080/"
        },
        "id": "F4sP0W0IHcKP",
        "outputId": "402a5057-ee11-467e-f8d1-e0a386b8e32d"
      },
      "execution_count": null,
      "outputs": [
        {
          "output_type": "execute_result",
          "data": {
            "text/plain": [
              "(2, 2)"
            ]
          },
          "metadata": {},
          "execution_count": 16
        }
      ]
    },
    {
      "cell_type": "code",
      "source": [
        "right.shape"
      ],
      "metadata": {
        "colab": {
          "base_uri": "https://localhost:8080/"
        },
        "id": "GvovjiK2IgsQ",
        "outputId": "c8bb67e8-4d6e-4cec-8d3b-13c3ecf776d3"
      },
      "execution_count": null,
      "outputs": [
        {
          "output_type": "execute_result",
          "data": {
            "text/plain": [
              "(2, 1)"
            ]
          },
          "metadata": {},
          "execution_count": 17
        }
      ]
    },
    {
      "cell_type": "code",
      "source": [
        "W = left.dot(right) # (2, 2).(2, 1) --> (2 , 1)\n",
        "W.shape"
      ],
      "metadata": {
        "colab": {
          "base_uri": "https://localhost:8080/"
        },
        "id": "HZwQ6EOuIjGM",
        "outputId": "128c359b-e717-463a-ddbd-3560cfebb247"
      },
      "execution_count": null,
      "outputs": [
        {
          "output_type": "execute_result",
          "data": {
            "text/plain": [
              "(2, 1)"
            ]
          },
          "metadata": {},
          "execution_count": 18
        }
      ]
    },
    {
      "cell_type": "code",
      "source": [
        "W"
      ],
      "metadata": {
        "colab": {
          "base_uri": "https://localhost:8080/"
        },
        "id": "O5hVum4_ItBK",
        "outputId": "f8e06e60-f617-4d22-e402-985ff49d3882"
      },
      "execution_count": null,
      "outputs": [
        {
          "output_type": "execute_result",
          "data": {
            "text/plain": [
              "array([[5.89813375],\n",
              "       [1.88180404]])"
            ]
          },
          "metadata": {},
          "execution_count": 19
        }
      ]
    },
    {
      "cell_type": "code",
      "source": [
        "# 5.89 is intercept(bias)\n",
        "# 1.88 is slope of age"
      ],
      "metadata": {
        "id": "qFrRVAnZIvGP"
      },
      "execution_count": null,
      "outputs": []
    },
    {
      "cell_type": "code",
      "source": [
        "# prediction --> Ycap = X.dot(W)\n",
        "ycap = X.dot(W) # (8, 2).(2, 1) --> (8, 1)\n",
        "ycap"
      ],
      "metadata": {
        "colab": {
          "base_uri": "https://localhost:8080/"
        },
        "id": "3_XlLjcyI641",
        "outputId": "df1e3864-5959-4690-f11a-c0d87b7f671e"
      },
      "execution_count": null,
      "outputs": [
        {
          "output_type": "execute_result",
          "data": {
            "text/plain": [
              "array([[43.53421462],\n",
              "       [62.35225505],\n",
              "       [52.94323484],\n",
              "       [47.29782271],\n",
              "       [81.17029549],\n",
              "       [66.11586314],\n",
              "       [71.76127527],\n",
              "       [54.82503888]])"
            ]
          },
          "metadata": {},
          "execution_count": 21
        }
      ]
    },
    {
      "cell_type": "code",
      "source": [
        "ycap.shape"
      ],
      "metadata": {
        "colab": {
          "base_uri": "https://localhost:8080/"
        },
        "id": "7HTXfbm0JOF_",
        "outputId": "707aabaa-21d8-45e2-b30c-2e53d0bfd6cc"
      },
      "execution_count": null,
      "outputs": [
        {
          "output_type": "execute_result",
          "data": {
            "text/plain": [
              "(8, 1)"
            ]
          },
          "metadata": {},
          "execution_count": 22
        }
      ]
    },
    {
      "cell_type": "code",
      "source": [
        "# compare both original outputs and predicted outputs.\n",
        "np.c_[Y, ycap]"
      ],
      "metadata": {
        "colab": {
          "base_uri": "https://localhost:8080/"
        },
        "id": "zAUF48YhJTLx",
        "outputId": "4cbff821-f7d7-4b24-a6aa-d12de2aaf3ed"
      },
      "execution_count": null,
      "outputs": [
        {
          "output_type": "execute_result",
          "data": {
            "text/plain": [
              "array([[43.        , 43.53421462],\n",
              "       [64.        , 62.35225505],\n",
              "       [55.        , 52.94323484],\n",
              "       [45.        , 47.29782271],\n",
              "       [79.        , 81.17029549],\n",
              "       [65.        , 66.11586314],\n",
              "       [74.        , 71.76127527],\n",
              "       [55.        , 54.82503888]])"
            ]
          },
          "metadata": {},
          "execution_count": 23
        }
      ]
    },
    {
      "cell_type": "code",
      "source": [
        "# quality check of the prediction.\n",
        "# performance of model prediction.\n",
        "# Evaluation of the model (accuracy testing. )\n",
        "# for regression problems, R-squrare is used to find Performance."
      ],
      "metadata": {
        "id": "Fs59NSOsJdi4"
      },
      "execution_count": null,
      "outputs": []
    },
    {
      "cell_type": "code",
      "source": [
        "# two ways to find r-squre value.\n",
        "# way 1. Square of Correlation\n",
        "# way 2. rsqure =  1 - (rss/tss)\n"
      ],
      "metadata": {
        "id": "MGfYytWMKD_X"
      },
      "execution_count": null,
      "outputs": []
    },
    {
      "cell_type": "markdown",
      "source": [
        "![image.png](data:image/png;base64,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)"
      ],
      "metadata": {
        "id": "FbUZi3M1Kxju"
      }
    },
    {
      "cell_type": "code",
      "source": [
        "# way 1 : rsquare is a square of Correlation.\n",
        "# corrlation (r)\n",
        "age = np.array(age)\n",
        "inc = np.array(income)\n",
        "# mean of age\n",
        "mage = age.mean()\n",
        "# mean of income\n",
        "minc = inc.mean()\n",
        "# deviation of age\n",
        "dage = age - mage\n",
        "# deviation of income\n",
        "dinc = inc - minc\n",
        "# element to element multiplication of dage and dinc\n",
        "emul = dage * dinc\n",
        "# sum of emul\n",
        "num = emul.sum()\n",
        "# square of  dage (each element)\n",
        "dsage = dage ** 2\n",
        "# sum of squares of dage\n",
        "sqage = dsage.sum()\n",
        "# square of dinc\n",
        "dsinc = dinc ** 2\n",
        "# sum of squares of dinc\n",
        "sqinc = dsinc.sum()\n",
        "den = (sqage * sqinc)**0.5\n",
        "r = num/den\n",
        "print(r)\n",
        "\n",
        "\n",
        "\n"
      ],
      "metadata": {
        "colab": {
          "base_uri": "https://localhost:8080/"
        },
        "id": "VjmjI6HxKYB7",
        "outputId": "64c732a2-ca52-4126-b543-4195b79c1a30"
      },
      "execution_count": null,
      "outputs": [
        {
          "output_type": "stream",
          "name": "stdout",
          "text": [
            "0.9898327569341583\n"
          ]
        }
      ]
    },
    {
      "cell_type": "code",
      "source": [
        "# way1 : rsquare is square of correlation.\n",
        "rsquare = r*r\n",
        "rsquare"
      ],
      "metadata": {
        "colab": {
          "base_uri": "https://localhost:8080/"
        },
        "id": "zlNdC_fTLKF4",
        "outputId": "21db347a-5544-4a76-d36b-7ffb6ffe8683"
      },
      "execution_count": null,
      "outputs": [
        {
          "output_type": "execute_result",
          "data": {
            "text/plain": [
              "0.9797688866998765"
            ]
          },
          "metadata": {},
          "execution_count": 27
        }
      ]
    },
    {
      "cell_type": "code",
      "source": [
        "#predicted values have 97% variance with actual values.\n"
      ],
      "metadata": {
        "id": "8K1mNdf9Naxw"
      },
      "execution_count": null,
      "outputs": []
    },
    {
      "cell_type": "code",
      "source": [
        "# 2nd way  to find Rsquare . (simple way)\n",
        "# rsquare = 1 - (rss/tss)\n",
        "# rss --> sum of residuals squares\n",
        "# residual --> residual error --> difference between y and ycap--> y-ycap\n",
        "# tss --> sum of deviations squares.\n",
        "# deviation --> difference between   y and ymean --> y-ymean\n",
        "\n",
        "\n",
        "\n"
      ],
      "metadata": {
        "id": "jTDBT8UTNoPm"
      },
      "execution_count": null,
      "outputs": []
    },
    {
      "cell_type": "code",
      "source": [
        "rss =  ((Y-ycap)**2).sum()\n",
        "tss = ((Y-Y.mean())**2).sum()\n",
        "rsquare = 1 - (rss/tss)\n",
        "print(\"Accuracy \", rsquare)\n"
      ],
      "metadata": {
        "colab": {
          "base_uri": "https://localhost:8080/"
        },
        "id": "W_thSHaxORjq",
        "outputId": "a6af2b2f-8465-46ff-b5a1-492a1a872e57"
      },
      "execution_count": null,
      "outputs": [
        {
          "output_type": "stream",
          "name": "stdout",
          "text": [
            "Accuracy  0.9797688866998766\n"
          ]
        }
      ]
    },
    {
      "cell_type": "code",
      "source": [
        "# 97% of predicted values are close to actual values"
      ],
      "metadata": {
        "id": "XgfIt-BvO4Ej"
      },
      "execution_count": null,
      "outputs": []
    },
    {
      "cell_type": "code",
      "source": [
        "# function  for to find Weights.\n",
        "\n",
        "def  weights(x, y):\n",
        "    from numpy.linalg import inv\n",
        "    left = inv(X.T.dot(X))\n",
        "    right = X.T.dot(Y)\n",
        "    return left.dot(right)\n"
      ],
      "metadata": {
        "id": "EGXAt_oRPiId"
      },
      "execution_count": null,
      "outputs": []
    },
    {
      "cell_type": "code",
      "source": [
        "W = weights(X, Y)\n",
        "W"
      ],
      "metadata": {
        "colab": {
          "base_uri": "https://localhost:8080/"
        },
        "id": "jHF83z3zP8MQ",
        "outputId": "904bda43-af93-442d-cfec-85aa251720b7"
      },
      "execution_count": null,
      "outputs": [
        {
          "output_type": "execute_result",
          "data": {
            "text/plain": [
              "array([[5.89813375],\n",
              "       [1.88180404]])"
            ]
          },
          "metadata": {},
          "execution_count": 33
        }
      ]
    },
    {
      "cell_type": "code",
      "source": [
        "# function for Linear regression predict.\n",
        "def predict(x, w):\n",
        "    return x.dot(w)\n",
        "ycap = predict(X, W)\n",
        "ycap"
      ],
      "metadata": {
        "colab": {
          "base_uri": "https://localhost:8080/"
        },
        "id": "IB3Z3KfjQDBw",
        "outputId": "7af50b0a-a29c-4f92-f43d-421cd696d44a"
      },
      "execution_count": null,
      "outputs": [
        {
          "output_type": "execute_result",
          "data": {
            "text/plain": [
              "array([[43.53421462],\n",
              "       [62.35225505],\n",
              "       [52.94323484],\n",
              "       [47.29782271],\n",
              "       [81.17029549],\n",
              "       [66.11586314],\n",
              "       [71.76127527],\n",
              "       [54.82503888]])"
            ]
          },
          "metadata": {},
          "execution_count": 34
        }
      ]
    },
    {
      "cell_type": "code",
      "source": [
        "# function for correlation\n",
        "def corr(x, y):\n",
        "    mx = x.mean()\n",
        "    my = y.mean()\n",
        "    dx = x-mx\n",
        "    dy = y-my\n",
        "    dxy = dx * dy\n",
        "    num = dxy.sum()\n",
        "    dleft =  (dx**2).sum()\n",
        "    dright = (dy**2).sum()\n",
        "    den = (dleft*dright)**0.5\n",
        "    return num/den\n"
      ],
      "metadata": {
        "id": "d7xxAFrnQSyn"
      },
      "execution_count": null,
      "outputs": []
    },
    {
      "cell_type": "code",
      "source": [
        "corr(age, inc)"
      ],
      "metadata": {
        "colab": {
          "base_uri": "https://localhost:8080/"
        },
        "id": "3oArZEWYQ8WN",
        "outputId": "9d02c711-06d4-4777-a22e-ecf45961316f"
      },
      "execution_count": null,
      "outputs": [
        {
          "output_type": "execute_result",
          "data": {
            "text/plain": [
              "0.9898327569341583"
            ]
          },
          "metadata": {},
          "execution_count": 36
        }
      ]
    },
    {
      "cell_type": "code",
      "source": [
        "corr(Y, ycap)"
      ],
      "metadata": {
        "colab": {
          "base_uri": "https://localhost:8080/"
        },
        "id": "TdBpy5oeRAks",
        "outputId": "721d6b2c-7055-4af3-865c-51969a9baf35"
      },
      "execution_count": null,
      "outputs": [
        {
          "output_type": "execute_result",
          "data": {
            "text/plain": [
              "0.9898327569341582"
            ]
          },
          "metadata": {},
          "execution_count": 37
        }
      ]
    },
    {
      "cell_type": "code",
      "source": [
        "def rsquare(y, ycap):\n",
        "    return corr(y, ycap)**2\n",
        "rsquare(Y, ycap)"
      ],
      "metadata": {
        "colab": {
          "base_uri": "https://localhost:8080/"
        },
        "id": "iQWxq_ULRESx",
        "outputId": "29c0cdca-708a-4f0f-a88c-6c0c98eb474a"
      },
      "execution_count": null,
      "outputs": [
        {
          "output_type": "execute_result",
          "data": {
            "text/plain": [
              "0.9797688866998763"
            ]
          },
          "metadata": {},
          "execution_count": 38
        }
      ]
    },
    {
      "cell_type": "code",
      "source": [
        "# way 2 of rsqure.\n",
        "def rsquare(y, ycap):\n",
        "  rss =  ((y-ycap)**2).sum()\n",
        "  tss =  ((y-y.mean())**2).sum()\n",
        "  return 1 - (rss/tss)\n"
      ],
      "metadata": {
        "id": "2x7dUue9RQcp"
      },
      "execution_count": null,
      "outputs": []
    },
    {
      "cell_type": "code",
      "source": [
        "rsquare(Y, ycap)"
      ],
      "metadata": {
        "colab": {
          "base_uri": "https://localhost:8080/"
        },
        "id": "ZCXfZob6RnwY",
        "outputId": "b6fbead8-125c-4a52-f3bf-30c8933a644d"
      },
      "execution_count": null,
      "outputs": [
        {
          "output_type": "execute_result",
          "data": {
            "text/plain": [
              "0.9797688866998766"
            ]
          },
          "metadata": {},
          "execution_count": 40
        }
      ]
    },
    {
      "cell_type": "code",
      "source": [
        "def accuracy(y, ycap):\n",
        "   return round(rsquare(Y, ycap)*100, 2)\n"
      ],
      "metadata": {
        "id": "x7WKREM-Rr6R"
      },
      "execution_count": null,
      "outputs": []
    },
    {
      "cell_type": "code",
      "source": [
        "accuracy(Y, ycap)"
      ],
      "metadata": {
        "colab": {
          "base_uri": "https://localhost:8080/"
        },
        "id": "mfYCzUEcR3U5",
        "outputId": "f91679e7-601a-4d2a-a92d-871325a5e793"
      },
      "execution_count": null,
      "outputs": [
        {
          "output_type": "execute_result",
          "data": {
            "text/plain": [
              "97.98"
            ]
          },
          "metadata": {},
          "execution_count": 42
        }
      ]
    },
    {
      "cell_type": "code",
      "source": [
        "# Build the model with above functions."
      ],
      "metadata": {
        "id": "iF6TENmzShaP"
      },
      "execution_count": null,
      "outputs": []
    },
    {
      "cell_type": "code",
      "source": [
        "W = weights(X, Y)\n",
        "ycap = predict(X, W)\n",
        "print(\"Accuracy \", accuracy(Y, ycap))"
      ],
      "metadata": {
        "colab": {
          "base_uri": "https://localhost:8080/"
        },
        "id": "b3Exsre7SnOR",
        "outputId": "62116631-02f2-49c1-e41c-0809a6147361"
      },
      "execution_count": null,
      "outputs": [
        {
          "output_type": "stream",
          "name": "stdout",
          "text": [
            "Accuracy  97.98\n"
          ]
        }
      ]
    },
    {
      "cell_type": "code",
      "source": [
        "# new data\n",
        "new_age = [30, 25, 40]\n"
      ],
      "metadata": {
        "id": "W8lc7xsxSzL-"
      },
      "execution_count": null,
      "outputs": []
    },
    {
      "cell_type": "code",
      "source": [
        "# predictable matrix.\n",
        "ones_new = np.ones(len(new_age))\n",
        "P = np.c_[ones_new, new_age]\n",
        "P"
      ],
      "metadata": {
        "colab": {
          "base_uri": "https://localhost:8080/"
        },
        "id": "25gb3I1sTL3Q",
        "outputId": "9ffb7c33-7bf3-4e5b-cc58-6b2c84010e5e"
      },
      "execution_count": null,
      "outputs": [
        {
          "output_type": "execute_result",
          "data": {
            "text/plain": [
              "array([[ 1., 30.],\n",
              "       [ 1., 25.],\n",
              "       [ 1., 40.]])"
            ]
          },
          "metadata": {},
          "execution_count": 46
        }
      ]
    },
    {
      "cell_type": "code",
      "source": [
        "predicted_income = predict(P, W)  # (3,2).(2, 1)--> (3, 1)\n",
        "predicted_income"
      ],
      "metadata": {
        "colab": {
          "base_uri": "https://localhost:8080/"
        },
        "id": "6Lh0uROETZOJ",
        "outputId": "0f236ec3-8047-4cbc-8fe7-5ed051690d9f"
      },
      "execution_count": null,
      "outputs": [
        {
          "output_type": "execute_result",
          "data": {
            "text/plain": [
              "array([[62.35225505],\n",
              "       [52.94323484],\n",
              "       [81.17029549]])"
            ]
          },
          "metadata": {},
          "execution_count": 47
        }
      ]
    },
    {
      "cell_type": "code",
      "source": [
        "np.c_[new_age, predicted_income]"
      ],
      "metadata": {
        "colab": {
          "base_uri": "https://localhost:8080/"
        },
        "id": "ibgTY7FETo6G",
        "outputId": "bc2833e0-6086-4d07-fd47-652297913c8f"
      },
      "execution_count": null,
      "outputs": [
        {
          "output_type": "execute_result",
          "data": {
            "text/plain": [
              "array([[30.        , 62.35225505],\n",
              "       [25.        , 52.94323484],\n",
              "       [40.        , 81.17029549]])"
            ]
          },
          "metadata": {},
          "execution_count": 48
        }
      ]
    },
    {
      "cell_type": "code",
      "source": [
        "# learning Summary.\n",
        "# Linear regression in statistical style.\n",
        "# how to find Weights.\n",
        "# what weights contains -->intercept and slopes\n",
        "# how to apply prediction\n",
        "# performance measurement (quality check) of predictions\n",
        "# what is Rsquare ?\n",
        "# Two ways to find Rsquare 1. Square of Correlation 2. 1-(rss/tss)\n",
        "# rss --> sum of residual squares\n",
        "# what is residual --> difference between actual target and predicted .\n",
        "# tss --> total sum of square. --> sum of squares of deviation\n",
        "# deviation --> differece between actual and its mean.\n",
        "# develop functions for all above\n",
        "# how to apply predictions on new data with build model.\n",
        "\n"
      ],
      "metadata": {
        "id": "xaREk-vxTyLV"
      },
      "execution_count": null,
      "outputs": []
    }
  ]
}