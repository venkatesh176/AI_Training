{
  "nbformat": 4,
  "nbformat_minor": 0,
  "metadata": {
    "colab": {
      "provenance": [],
      "include_colab_link": true
    },
    "kernelspec": {
      "name": "python3",
      "display_name": "Python 3"
    },
    "language_info": {
      "name": "python"
    }
  },
  "cells": [
    {
      "cell_type": "markdown",
      "metadata": {
        "id": "view-in-github",
        "colab_type": "text"
      },
      "source": [
        "<a href=\"https://colab.research.google.com/github/venkatesh176/AI_Training/blob/main/loss_functions_crossentropy_and_mse.ipynb\" target=\"_parent\"><img src=\"https://colab.research.google.com/assets/colab-badge.svg\" alt=\"Open In Colab\"/></a>"
      ]
    },
    {
      "cell_type": "code",
      "execution_count": null,
      "metadata": {
        "colab": {
          "base_uri": "https://localhost:8080/"
        },
        "id": "dvBamOvcE5xZ",
        "outputId": "f632acd9-e9b3-4752-9098-6cab890a2086"
      },
      "outputs": [
        {
          "output_type": "execute_result",
          "data": {
            "text/plain": [
              "8"
            ]
          },
          "metadata": {},
          "execution_count": 1
        }
      ],
      "source": [
        "y = [1, 1, 0, 0, 1, 1, 0, 1]\n",
        "len(y)"
      ]
    },
    {
      "cell_type": "code",
      "source": [
        "# predicted probabilities.\n",
        "ycap = [0.9, 0.8, 0.1, 0.05, 0.95, 0.91, 0.2, 0.87]\n",
        "len(ycap)"
      ],
      "metadata": {
        "colab": {
          "base_uri": "https://localhost:8080/"
        },
        "id": "fQH16ixDFGmw",
        "outputId": "1505dd2b-a653-45be-945d-6fe22626cf47"
      },
      "execution_count": null,
      "outputs": [
        {
          "output_type": "execute_result",
          "data": {
            "text/plain": [
              "8"
            ]
          },
          "metadata": {},
          "execution_count": 2
        }
      ]
    },
    {
      "cell_type": "code",
      "source": [
        "import numpy as np\n",
        "y = np.array(y)\n",
        "ycap = np.array(ycap)\n"
      ],
      "metadata": {
        "id": "81Pdd7sLFR9p"
      },
      "execution_count": null,
      "outputs": []
    },
    {
      "cell_type": "code",
      "source": [
        "ce_left =  y * np.log(ycap)\n",
        "ce_left"
      ],
      "metadata": {
        "colab": {
          "base_uri": "https://localhost:8080/"
        },
        "id": "EcYkKDNxFaqp",
        "outputId": "881920d4-75af-49f8-a54a-646347dc3cbe"
      },
      "execution_count": null,
      "outputs": [
        {
          "output_type": "execute_result",
          "data": {
            "text/plain": [
              "array([-0.10536052, -0.22314355, -0.        , -0.        , -0.05129329,\n",
              "       -0.09431068, -0.        , -0.13926207])"
            ]
          },
          "metadata": {},
          "execution_count": 4
        }
      ]
    },
    {
      "cell_type": "code",
      "source": [
        "ce_right = (1-y) * np.log(1-ycap)\n",
        "ce_right"
      ],
      "metadata": {
        "colab": {
          "base_uri": "https://localhost:8080/"
        },
        "id": "HnDnoYA2Fpa_",
        "outputId": "eb182386-c226-48e7-b895-352d5a690147"
      },
      "execution_count": null,
      "outputs": [
        {
          "output_type": "execute_result",
          "data": {
            "text/plain": [
              "array([-0.        , -0.        , -0.10536052, -0.05129329, -0.        ,\n",
              "       -0.        , -0.22314355, -0.        ])"
            ]
          },
          "metadata": {},
          "execution_count": 5
        }
      ]
    },
    {
      "cell_type": "code",
      "source": [
        "ce_add = ce_left + ce_right\n",
        "ce_add"
      ],
      "metadata": {
        "colab": {
          "base_uri": "https://localhost:8080/"
        },
        "id": "CZvxkyvXFxe_",
        "outputId": "edf411c0-9a4a-45ec-bdae-b610eb8f6f06"
      },
      "execution_count": null,
      "outputs": [
        {
          "output_type": "execute_result",
          "data": {
            "text/plain": [
              "array([-0.10536052, -0.22314355, -0.10536052, -0.05129329, -0.05129329,\n",
              "       -0.09431068, -0.22314355, -0.13926207])"
            ]
          },
          "metadata": {},
          "execution_count": 6
        }
      ]
    },
    {
      "cell_type": "code",
      "source": [
        "n = y.size\n",
        "ce = -(np.sum(ce_add))/n\n",
        "ce"
      ],
      "metadata": {
        "colab": {
          "base_uri": "https://localhost:8080/"
        },
        "id": "VeZxKafNF_ai",
        "outputId": "6064e056-af6c-4190-d14f-790eb631ca3c"
      },
      "execution_count": null,
      "outputs": [
        {
          "output_type": "execute_result",
          "data": {
            "text/plain": [
              "np.float64(0.12414593369049026)"
            ]
          },
          "metadata": {},
          "execution_count": 9
        }
      ]
    },
    {
      "cell_type": "code",
      "source": [
        "def cross_entropy(y, ycap):\n",
        "   ce_left= y * np.log(ycap)\n",
        "   ce_right= (1-y) * np.log(1-ycap)\n",
        "   ce_add= ce_left + ce_right\n",
        "   n = y.size\n",
        "   ce =  -(np.sum(ce_add))/n\n",
        "   return ce\n"
      ],
      "metadata": {
        "id": "tTGbIhKdGWpc"
      },
      "execution_count": null,
      "outputs": []
    },
    {
      "cell_type": "code",
      "source": [
        "cross_entropy(y, ycap)\n"
      ],
      "metadata": {
        "colab": {
          "base_uri": "https://localhost:8080/"
        },
        "id": "qaTQ743SGwkB",
        "outputId": "74778d94-68f8-4019-9a35-f5f36ac9540d"
      },
      "execution_count": null,
      "outputs": [
        {
          "output_type": "execute_result",
          "data": {
            "text/plain": [
              "np.float64(0.12414593369049026)"
            ]
          },
          "metadata": {},
          "execution_count": 11
        }
      ]
    },
    {
      "cell_type": "code",
      "source": [
        "# 2nd way --> using sklearn .\n",
        "from sklearn.metrics import  log_loss\n"
      ],
      "metadata": {
        "id": "fQZdw7lzG1VQ"
      },
      "execution_count": null,
      "outputs": []
    },
    {
      "cell_type": "code",
      "source": [
        "log_loss(y, ycap)"
      ],
      "metadata": {
        "colab": {
          "base_uri": "https://localhost:8080/"
        },
        "id": "qq65EhnEHGAs",
        "outputId": "efb58711-2a15-4dde-dc10-b09b548258d7"
      },
      "execution_count": null,
      "outputs": [
        {
          "output_type": "execute_result",
          "data": {
            "text/plain": [
              "0.12414593369049026"
            ]
          },
          "metadata": {},
          "execution_count": 13
        }
      ]
    },
    {
      "cell_type": "code",
      "source": [
        "\n",
        "def accuracy(y, ycap):\n",
        "  ylabels = np.where(ycap>0.5, 1, 0)\n",
        "  pcnt = np.where(y==ylabels)[0].size\n",
        "  acc = pcnt/y.size * 100\n",
        "  return acc\n",
        "accuracy(y, ycap)"
      ],
      "metadata": {
        "colab": {
          "base_uri": "https://localhost:8080/"
        },
        "id": "EGdX1DaMGOM9",
        "outputId": "658c8ea9-6530-48d5-d6ac-72773bbe3b39"
      },
      "execution_count": null,
      "outputs": [
        {
          "output_type": "execute_result",
          "data": {
            "text/plain": [
              "100.0"
            ]
          },
          "metadata": {},
          "execution_count": 20
        }
      ]
    },
    {
      "cell_type": "code",
      "source": [
        "# 2nd way of accuracy . using sklearn.\n",
        "from sklearn.metrics import accuracy_score\n",
        "ylabels = np.where(ycap>0.5, 1, 0)\n",
        "accuracy_score(y, ylabels)"
      ],
      "metadata": {
        "colab": {
          "base_uri": "https://localhost:8080/"
        },
        "id": "r012zFr5HglB",
        "outputId": "08a47f4f-8a73-4fad-8374-0f5ea2b60aa8"
      },
      "execution_count": null,
      "outputs": [
        {
          "output_type": "execute_result",
          "data": {
            "text/plain": [
              "1.0"
            ]
          },
          "metadata": {},
          "execution_count": 21
        }
      ]
    },
    {
      "cell_type": "code",
      "source": [
        "# loss funciton for regression.\n",
        "y = [10, 20, 30, 50, 80, 25, 35]\n",
        "ycap = [9, 20.7, 29, 51, 79.99, 24, 35.3]\n",
        "y = np.array(y)\n",
        "ycap = np.array(ycap)\n",
        "def mse(y, ycap):\n",
        "   e = y- ycap\n",
        "   e2 = e**2\n",
        "   return e2.mean()\n"
      ],
      "metadata": {
        "id": "V69Dpg5lIElO"
      },
      "execution_count": null,
      "outputs": []
    },
    {
      "cell_type": "code",
      "source": [
        "mse(y, ycap)"
      ],
      "metadata": {
        "colab": {
          "base_uri": "https://localhost:8080/"
        },
        "id": "RvTsv0BVInyZ",
        "outputId": "0c512097-0162-41a6-8489-b0b677e8fba8"
      },
      "execution_count": null,
      "outputs": [
        {
          "output_type": "execute_result",
          "data": {
            "text/plain": [
              "np.float64(0.6542999999999995)"
            ]
          },
          "metadata": {},
          "execution_count": 23
        }
      ]
    },
    {
      "cell_type": "code",
      "source": [
        "from sklearn.metrics import mean_squared_error\n",
        "mean_squared_error(y, ycap)\n"
      ],
      "metadata": {
        "colab": {
          "base_uri": "https://localhost:8080/"
        },
        "id": "Tz5icUTgIwEq",
        "outputId": "9b4d713e-42fe-4c8b-e06c-01d0514f3664"
      },
      "execution_count": null,
      "outputs": [
        {
          "output_type": "execute_result",
          "data": {
            "text/plain": [
              "0.6542999999999995"
            ]
          },
          "metadata": {},
          "execution_count": 24
        }
      ]
    },
    {
      "cell_type": "code",
      "source": [
        "from sklearn.metrics import r2_score\n",
        "r2_score(y, ycap)    # 1-(rss/tss)\n",
        "# rss --> ((y-ycap)**2).sum()\n",
        "# tss --> ((y-y.mean())**2).sum()\n"
      ],
      "metadata": {
        "colab": {
          "base_uri": "https://localhost:8080/"
        },
        "id": "fBecSFNeI6VH",
        "outputId": "8c51243a-aa1f-4220-9fcc-5ee608e7d3c5"
      },
      "execution_count": null,
      "outputs": [
        {
          "output_type": "execute_result",
          "data": {
            "text/plain": [
              "0.9985782394678492"
            ]
          },
          "metadata": {},
          "execution_count": 27
        }
      ]
    },
    {
      "cell_type": "code",
      "source": [
        "def rsquared(y, ycap):\n",
        "   rss = ((y-ycap)**2).sum()\n",
        "   tss = ((y-y.mean())**2).sum()\n",
        "   return 1 - (rss/tss)\n"
      ],
      "metadata": {
        "id": "YAE0WFJ4JpLu"
      },
      "execution_count": null,
      "outputs": []
    },
    {
      "cell_type": "code",
      "source": [
        "rsquared(y, ycap)"
      ],
      "metadata": {
        "id": "zE8jg6LqJ5ri",
        "outputId": "1ed25dc4-a646-48f7-881e-ceef245a8388",
        "colab": {
          "base_uri": "https://localhost:8080/"
        }
      },
      "execution_count": null,
      "outputs": [
        {
          "output_type": "execute_result",
          "data": {
            "text/plain": [
              "np.float64(0.9985782394678492)"
            ]
          },
          "metadata": {},
          "execution_count": 29
        }
      ]
    },
    {
      "cell_type": "code",
      "source": [],
      "metadata": {
        "id": "LHbMwlrFHVUS"
      },
      "execution_count": null,
      "outputs": []
    }
  ]
}