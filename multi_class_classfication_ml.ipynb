{
  "nbformat": 4,
  "nbformat_minor": 0,
  "metadata": {
    "colab": {
      "provenance": [],
      "include_colab_link": true
    },
    "kernelspec": {
      "name": "python3",
      "display_name": "Python 3"
    },
    "language_info": {
      "name": "python"
    }
  },
  "cells": [
    {
      "cell_type": "markdown",
      "metadata": {
        "id": "view-in-github",
        "colab_type": "text"
      },
      "source": [
        "<a href=\"https://colab.research.google.com/github/venkatesh176/AI_Training/blob/main/multi_class_classfication_ml.ipynb\" target=\"_parent\"><img src=\"https://colab.research.google.com/assets/colab-badge.svg\" alt=\"Open In Colab\"/></a>"
      ]
    },
    {
      "cell_type": "code",
      "execution_count": null,
      "metadata": {
        "id": "4kKf02NcPVoo"
      },
      "outputs": [],
      "source": [
        "# multi class classification.  (multinomial classfication. )\n",
        "# more than two classfiers in the target variable.\n"
      ]
    },
    {
      "cell_type": "code",
      "source": [
        "#https://drive.google.com/file/d/1VZiww8rlD56mfwvk6-ByCKtQfnwEGk5w/view?usp=sharing\n",
        "# diabetic_multi_class.txt\n"
      ],
      "metadata": {
        "id": "yf-n8OClPl26"
      },
      "execution_count": null,
      "outputs": []
    },
    {
      "cell_type": "code",
      "source": [
        "infile = open('/content/diabetic_multi_class.txt')\n",
        "head = infile.readline()\n"
      ],
      "metadata": {
        "id": "6Cx9LveVP76m"
      },
      "execution_count": null,
      "outputs": []
    },
    {
      "cell_type": "code",
      "source": [
        "head"
      ],
      "metadata": {
        "colab": {
          "base_uri": "https://localhost:8080/",
          "height": 35
        },
        "id": "AQtSN8EBQOMH",
        "outputId": "7f529bb0-e478-41dd-bbbf-17f9a0015ffe"
      },
      "execution_count": null,
      "outputs": [
        {
          "output_type": "execute_result",
          "data": {
            "text/plain": [
              "'Age\\tBMI\\tBlood Pressure\\tGlucose Level\\tInsulin Level\\tDiabetic Status\\n'"
            ],
            "application/vnd.google.colaboratory.intrinsic+json": {
              "type": "string"
            }
          },
          "metadata": {},
          "execution_count": 2
        }
      ]
    },
    {
      "cell_type": "code",
      "source": [
        "data = infile.readlines()\n",
        "len(data)"
      ],
      "metadata": {
        "colab": {
          "base_uri": "https://localhost:8080/"
        },
        "id": "r7Ze2-bxQfZQ",
        "outputId": "6767f7ab-c2c4-448a-d28b-fcd0aeb691d7"
      },
      "execution_count": null,
      "outputs": [
        {
          "output_type": "execute_result",
          "data": {
            "text/plain": [
              "20"
            ]
          },
          "metadata": {},
          "execution_count": 3
        }
      ]
    },
    {
      "cell_type": "code",
      "source": [],
      "metadata": {
        "id": "kzl5vr9lQjVd"
      },
      "execution_count": null,
      "outputs": []
    },
    {
      "cell_type": "code",
      "source": [
        "inputs = []\n",
        "output = []\n",
        "for line in data:\n",
        "   w = line.strip().lower().split('\\t')\n",
        "   ins = w[:-1]\n",
        "   ins = [float(v) for v in ins]\n",
        "   output.append(w[-1])\n",
        "   inputs.append(ins)\n"
      ],
      "metadata": {
        "id": "pNem3ZpbQZPf"
      },
      "execution_count": null,
      "outputs": []
    },
    {
      "cell_type": "code",
      "source": [
        "print(inputs)"
      ],
      "metadata": {
        "colab": {
          "base_uri": "https://localhost:8080/"
        },
        "id": "M-vSC5_bQ6tM",
        "outputId": "a6d3aa53-a548-496d-c36c-1777cf0b3de8"
      },
      "execution_count": null,
      "outputs": [
        {
          "output_type": "stream",
          "name": "stdout",
          "text": [
            "[[45.0, 25.0, 120.0, 90.0, 15.0], [50.0, 29.4, 130.0, 95.0, 20.0], [35.0, 23.1, 115.0, 85.0, 10.0], [42.0, 24.5, 125.0, 88.0, 18.0], [57.0, 27.3, 140.0, 100.0, 22.0], [61.0, 32.8, 150.0, 110.0, 30.0], [28.0, 21.7, 110.0, 80.0, 8.0], [30.0, 22.9, 118.0, 83.0, 12.0], [39.0, 28.0, 135.0, 92.0, 19.0], [47.0, 26.5, 128.0, 96.0, 16.0], [60.0, 30.2, 145.0, 105.0, 25.0], [33.0, 24.8, 122.0, 87.0, 14.0], [55.0, 31.1, 138.0, 102.0, 28.0], [44.0, 27.0, 126.0, 94.0, 17.0], [52.0, 26.8, 129.0, 99.0, 21.0], [48.0, 25.7, 124.0, 91.0, 13.0], [38.0, 22.5, 119.0, 89.0, 11.0], [46.0, 27.9, 136.0, 97.0, 23.0], [41.0, 25.9, 123.0, 93.0, 15.0], [59.0, 33.2, 148.0, 107.0, 29.0]]\n"
          ]
        }
      ]
    },
    {
      "cell_type": "code",
      "source": [
        "output"
      ],
      "metadata": {
        "colab": {
          "base_uri": "https://localhost:8080/"
        },
        "id": "XQ_ly5_gREht",
        "outputId": "ca1e8528-a49b-4d47-898a-1ec143cc6373"
      },
      "execution_count": null,
      "outputs": [
        {
          "output_type": "execute_result",
          "data": {
            "text/plain": [
              "['low',\n",
              " 'normal',\n",
              " 'low',\n",
              " 'low',\n",
              " 'normal',\n",
              " 'high',\n",
              " 'low',\n",
              " 'low',\n",
              " 'normal',\n",
              " 'low',\n",
              " 'high',\n",
              " 'low',\n",
              " 'high',\n",
              " 'low',\n",
              " 'normal',\n",
              " 'low',\n",
              " 'low',\n",
              " 'normal',\n",
              " 'low',\n",
              " 'high']"
            ]
          },
          "metadata": {},
          "execution_count": 7
        }
      ]
    },
    {
      "cell_type": "code",
      "source": [
        "nlabels = len(set(output))\n",
        "nlabels"
      ],
      "metadata": {
        "colab": {
          "base_uri": "https://localhost:8080/"
        },
        "id": "Y3Ix7eS4RF9S",
        "outputId": "221f18cf-fc57-4657-f1a7-2eae983c2512"
      },
      "execution_count": null,
      "outputs": [
        {
          "output_type": "execute_result",
          "data": {
            "text/plain": [
              "3"
            ]
          },
          "metadata": {},
          "execution_count": 8
        }
      ]
    },
    {
      "cell_type": "code",
      "source": [
        "ulabels = set(output)\n",
        "ulabels"
      ],
      "metadata": {
        "colab": {
          "base_uri": "https://localhost:8080/"
        },
        "id": "PNJnRMFtRPtv",
        "outputId": "799bc738-f9ad-4c5e-e2e0-9ac75a04d622"
      },
      "execution_count": null,
      "outputs": [
        {
          "output_type": "execute_result",
          "data": {
            "text/plain": [
              "{'high', 'low', 'normal'}"
            ]
          },
          "metadata": {},
          "execution_count": 9
        }
      ]
    },
    {
      "cell_type": "code",
      "source": [
        "linfo = {}\n",
        "i = 0\n",
        "for l in ulabels:\n",
        "   linfo[l]=i\n",
        "   i += 1\n",
        "print(linfo)"
      ],
      "metadata": {
        "colab": {
          "base_uri": "https://localhost:8080/"
        },
        "id": "8NU47KIFRVFe",
        "outputId": "2d711f5f-e4e5-4f21-a9cc-0770d5e4926a"
      },
      "execution_count": null,
      "outputs": [
        {
          "output_type": "stream",
          "name": "stdout",
          "text": [
            "{'low': 0, 'normal': 1, 'high': 2}\n"
          ]
        }
      ]
    },
    {
      "cell_type": "code",
      "source": [
        "output"
      ],
      "metadata": {
        "colab": {
          "base_uri": "https://localhost:8080/"
        },
        "id": "nFhK45jkRuWQ",
        "outputId": "eea9bfca-9c86-4ae1-bce6-c4e285cf9e48"
      },
      "execution_count": null,
      "outputs": [
        {
          "output_type": "execute_result",
          "data": {
            "text/plain": [
              "['low',\n",
              " 'normal',\n",
              " 'low',\n",
              " 'low',\n",
              " 'normal',\n",
              " 'high',\n",
              " 'low',\n",
              " 'low',\n",
              " 'normal',\n",
              " 'low',\n",
              " 'high',\n",
              " 'low',\n",
              " 'high',\n",
              " 'low',\n",
              " 'normal',\n",
              " 'low',\n",
              " 'low',\n",
              " 'normal',\n",
              " 'low',\n",
              " 'high']"
            ]
          },
          "metadata": {},
          "execution_count": 11
        }
      ]
    },
    {
      "cell_type": "code",
      "source": [
        "y = [linfo[l] for l in output]\n",
        "y"
      ],
      "metadata": {
        "colab": {
          "base_uri": "https://localhost:8080/"
        },
        "id": "ErB4FSu8R1Pi",
        "outputId": "ce51f719-996e-4c87-a008-9550ead4cec7"
      },
      "execution_count": null,
      "outputs": [
        {
          "output_type": "execute_result",
          "data": {
            "text/plain": [
              "[0, 1, 0, 0, 1, 2, 0, 0, 1, 0, 2, 0, 2, 0, 1, 0, 0, 1, 0, 2]"
            ]
          },
          "metadata": {},
          "execution_count": 12
        }
      ]
    },
    {
      "cell_type": "code",
      "source": [
        "import numpy as np"
      ],
      "metadata": {
        "id": "K9-cQu7VR_0s"
      },
      "execution_count": null,
      "outputs": []
    },
    {
      "cell_type": "code",
      "source": [
        "np.c_[output, y]"
      ],
      "metadata": {
        "colab": {
          "base_uri": "https://localhost:8080/"
        },
        "id": "2KOv8gUXSDns",
        "outputId": "d9cf30aa-5236-4bd5-d79d-57e536340210"
      },
      "execution_count": null,
      "outputs": [
        {
          "output_type": "execute_result",
          "data": {
            "text/plain": [
              "array([['low', '0'],\n",
              "       ['normal', '1'],\n",
              "       ['low', '0'],\n",
              "       ['low', '0'],\n",
              "       ['normal', '1'],\n",
              "       ['high', '2'],\n",
              "       ['low', '0'],\n",
              "       ['low', '0'],\n",
              "       ['normal', '1'],\n",
              "       ['low', '0'],\n",
              "       ['high', '2'],\n",
              "       ['low', '0'],\n",
              "       ['high', '2'],\n",
              "       ['low', '0'],\n",
              "       ['normal', '1'],\n",
              "       ['low', '0'],\n",
              "       ['low', '0'],\n",
              "       ['normal', '1'],\n",
              "       ['low', '0'],\n",
              "       ['high', '2']], dtype='<U21')"
            ]
          },
          "metadata": {},
          "execution_count": 14
        }
      ]
    },
    {
      "cell_type": "code",
      "source": [
        "y"
      ],
      "metadata": {
        "colab": {
          "base_uri": "https://localhost:8080/"
        },
        "id": "vveLC4bUSGwp",
        "outputId": "8a01bd9a-f222-4a0f-f575-975818b8e655"
      },
      "execution_count": null,
      "outputs": [
        {
          "output_type": "execute_result",
          "data": {
            "text/plain": [
              "[0, 1, 0, 0, 1, 2, 0, 0, 1, 0, 2, 0, 2, 0, 1, 0, 0, 1, 0, 2]"
            ]
          },
          "metadata": {},
          "execution_count": 15
        }
      ]
    },
    {
      "cell_type": "code",
      "source": [],
      "metadata": {
        "id": "-y__7QxASMdz"
      },
      "execution_count": null,
      "outputs": []
    },
    {
      "cell_type": "markdown",
      "source": [
        "![image.png](data:image/png;base64,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)"
      ],
      "metadata": {
        "id": "IBlmC3rISrq2"
      }
    },
    {
      "cell_type": "code",
      "source": [
        "def onehot(n, alen):\n",
        "   # 2\n",
        "   arr = np.zeros(alen)\n",
        "   arr[n]=1\n",
        "   return arr\n"
      ],
      "metadata": {
        "id": "wxQpXX6ZSsmq"
      },
      "execution_count": null,
      "outputs": []
    },
    {
      "cell_type": "markdown",
      "source": [
        "![image.png](data:image/png;base64,iVBORw0KGgoAAAANSUhEUgAABGoAAAGWCAYAAAAg32XDAAAAAXNSR0IArs4c6QAAAARnQU1BAACxjwv8YQUAAAAJcEhZcwAADsMAAA7DAcdvqGQAAJObSURBVHhe7b0HmFzVma4759xnzuHOnRkx9tgwY2zAmJwzBkwWJudgkpExOdjkZJLJUSIJkUUWWYikCEoooJxzarVa3a3uUiepg4H57/5Wa4tSaVV1VXVVdYX3fZ7vaalq77XWXntXSevr///XPwEAAAAAAAAAAAAAAAAAAAAAAAAAAAAAAAAAAAAAAAAAAAAAAAAAAAAAAAAAAAAAAAAAAAAAAAAAAAAAAAAAAAAAAAAAAAAAAAAAAAAAAAAAAAAAAAAAAAAAAAAAAAAAAAAAAAAAAAAAAAAAAAAAAAAAAAAAAAAAAAAAAAAAAAAAAAAAAAAAAAAAAAAAAAAAAAAAAAAAAAAAAAAAAAAAAAAAAAAAAAAAAAAAAAAAAAAAAAAAAAAAAAAAAAAAAAAAAAAAAAAAAAAAAAAAAAAAAAAAAAAAAAAAAAAAAAAAAAAAAAAAAAAAAAAAAAAAAAAAAAAAAAAAAAAAAAAAAAAAAAAAAAAAAAAAAAAAAAAAAAAAAAAAAAAAAAAAAAAAAAAAAAAAAAAAAAAAAAAAAAAAAAAAAAAAAAAAAAAAAAAAAAAAAAAAAAAAAAAAAAAAAAAAAAAAAAAAAAAAAAAAAAAAAAAAAOQ5mwbqE2hpIIuRXusXaPNAAAAAAAAAAACQBRKZMx0J8wYAAAAAAABKmsMCpbuolnRe30CnBILSpjMGTaymBsKsAQAAAAAAgLyms6ZKPgvDp7CRSTMwkO/epis9E1sFAgAAAAAAAMgZWoj2CCSTohgNmGwJYye/0L3w3afOSu0CAAAAAAAAdArMl/xQaOYQlZF96gL57kG0KgMdE0jsESiZCJyWQAAAAAAAAABJUcypSKUgjJzM4Ztf6Q+BkmGHQHMD+doAAAAAAAAAWE+xmzGKhJBZkW4KUTg/ipbwtV9oCs0bUqpSQ5EvvvnUc5HsLk6qc+NrAwAAAAAAAEqQQjBkOmuq5DOFYvhg5PgZHsg3X/GkeZSBo0ga3XedT0QNAAAAAABACRNdR6YrzQFFIqhWx62BDggEyZFPxk5o3pRyCpUMl2yYnPpsAAAAAAAAQBHRFZEymC/5gYy4XN53n0ITpxQicBLVmUlX+vwCAAAAAABAgZOraItiTkUqBbrKyAnNm2KNwEl2R6eORDQNAAAAAABAAZLtiBnMmNKiK1KqitW46Yxho6g0omkAAAAAAAAKhGwspjFkIBlyYeQUc8SNUgHj7RAVSnN7TCAAAAAAAADIYzK9QKaODGSKXKVQFbKBo623k4l80/ubBAIAAAAAAIA8YvNADwXKxOKXSBnoSrIVgVMopk2yBo1EJA0AAAAAAECeES5qO0qN6EiYM5DPZDsCR233CyTDs6tIxaDR5x2DBgAAAAAAoIvJVNQMpgwUOrkwbnIVfZOKQSONCySDFgAAAAAAALoIGTS9AnUmagZzBoqZXNS8iWfehEbL8ECpRuXo3KmBfP3FCoMGAAAAAACgi+msQYM5A6VOrooWx0p9JjJtUomiwaABAAAAAADoYtI1aFRY9NpA7AADsDFdYdooWiY0a0hxAgAAAAAAKBC0kEu39gxRMwCdY49A2nbe9/nKhJQSJZMm2T4waAAAAAAAALoILd5k0KQSOUPUDED2yXT0TTJ1aDK1k1O8yB39vat3tgIAAAAAAMhbtFhKtoiohEED0LWka940el6LVbJRNKmmT/mkCB8AAAAAAICSJ90FFgYNQP6zQ6C5gXyf3zUxr+WDAAAAAAAAShqZNKlEz0gYNADFQWe21c+WAAAAAAAASo5UI2i0mMOYASg+lGrk+8x3lfSdBAAAAAAAUFKkU38mE0VEASD/iJcWlW2FdW+i++e7BgAAAAAASoZ0atCQ3gRQOmRyG3C28AYAAAAAAEhAKjVoMrUFLwAAAAAAAAAArCOdCBp+Cw4AAAAAAAAAkGFSiaChJgQAAAAAAAAAQBZIJYqG+jMAAAAAAAAAAFki2SgaatAAAAAAAAAAAGSRZLfbpgYNAAAAAAAAAEAWSDbNiQgaAAAAAAAAAIAskmyaExE0AAAAAAAAAABZgigaAAAAAAAAAIA8INkoGrbbBgAAAAAAAADIEslG0bDdNgAAAAAAAABAFkkmioY0JwAAAAAAAACALCOTpn8gnzkTimLBAAAAAAAAAABZJJlUJ6JoAAAAAAAAAACyjEyagYF85kwoomgAAAAAAAAAALJMMiaNomwAAAAAAAAAACCLJFM0mG23AQAgkySTaptIOq9foM0DAQAAAAAUFfqPsu8/wZIMGlKdAAAgU3TWoIknjBsAAABop7a29rpIJPJ+PK1evfr9NWvWvN/c3IxQ3mnZsmX9/+Vf/uUfwaO80X969fpLL700ynceQiWkW2bNmvV/gs8EAHSeZCI4Oyv9ggHDBgAAoJRZZ8hYPK1evdrWrFljwX/2Eco7XXzxxb7/5Npmm21mAwYM8J6DUClp7dq1ny1fvvz/DT4XANB5EkVwZlqKsNkqEAAAAJQaEYwaVKCqrKy0bt26bfSf2+7du3uPR6hE9SlGDUDGqAu00b87WVTfQAAAAFBqRDBqUIEqXjTNoEGDvMcjVKLCqAHIHC2BvP/2BEqlYP0egTraqVBSfwAAAFBqRDBqUIGKaBqEOhapTwAZZXigjf7tCaQ0pc6govfxTCAAAAAoNSIYNagApbSn4PHdSETTILSRiKgByBw7BJobKPrfHhX/TSWaJhYVKI4XXaPXAQAAoNSIYNSgAlS8tCffsQiVsoioAchbktnmW5E2AAAAUGpEMGpQAYq0J4SSE0YNQF6RjDkTqrPpVAAAAFCoRDBqUAEqeHQ3EmlPCHlF6hNA15OKQSNpd6nOpFMBAABAIRPBqEEFqODR3UhLly71HotQKYuIGoAuJVWDRupszRsAAAAodCIYNagAFTy6G+mQQw7xHotQiYuIGoCuo28g779ZHo0LRE0aAAAAwKhBhalNNtnE959c77EIlbgwagC6DqUwef+9ihIGDQAAAGxIBKMG5YmampptdV2zNTQqXcN/TChFzwSP7wbacsstvceizmttoIaGZquJtN8n3zEoP0XqE0CXstG/VeuEOQMAAADxieTYqGkMFuELF7bY7NktVlPTHLTtPy5daYG/enWzLVvWYjNmtNiUKe2aObPFVqxocf37zisGrQ3u0+raKqsoW2A1VeXB35u8x2VDa9eucc9JsCj0vt+RZM5Mm9dsfT9psVETmy1S5z8u1NSpU2377bdf/5/ezTbbzAYMGOA9Np+1Zs1aq6yqsxmzKmzKtHKbvE76+4qKiHvfd16uVRN8poaMbbEnXmuxiTObrb7BfxzKSxFRA9B1RJszoVSDpl+gzQMBAAAAbEwkx0aNzJK//OUfdvrp39nw4a3OVPEdl45k+lRVtdiwYa12113/sKOO+t723fcHp2OO+c6ef77NyspaOozWKFTVrV5lk8d8aq/1uty+/vQFWx2pTts4SUVNjfW2qnK5rSxfZHV1NSn3qQiNuYtb7P4XW+zoy9rskVdarayi3XTzHV9Mqo00WP/PZtrxZ71p+x/5ku1z+Iu2x+/62BEnvWYvvvat1dQ2uGgW37m5kj5XcxY129+ebrWD/thmN/dssVkLm62RyJqCEBE1AF1KSyCfWSNh2AAAAICfSI6NGkW6nHbad7bHHt/b55+3Wm2t/7hUpUX98uXN9vLLbbbvvt/bNtv8YAcf/L2deup3zhQ65ZTv7Ikn2mzx4uI1ahRN882Qt6zXbcfap289YLWrVqZsmqQqRdIsXzLbPn3zAXvn2Wtt7vRR1tTU6D3WJy32p89rtruebbV9z2m1C//WaqMmttjq+qBtz/HFprq6Jhs9drHdcd9Qu+bmL6zHFR/bnr/rY1vv9qQ91HOEVa2q7/J50OeldnWzDf6mxc6/rdX2P6/V7u7dYnMWZj4iDmVeGDUAXcrwQD6TJloYNgAAALAhkS4wamSe7L779/bZZ5kzahSVMX58q5133nf2y1/+YGee+Z29/36bjR7damPGtNrXX7fa1KktwTX5zy8GbWjU3J8To2bNmkZbMGucvfTQhdb7njNtxsSh1tTY4D02VjIAVlQ127PvtNhvL2izw//cZv2+bLGqmvb3fOcUm3R/amoabOHiapu/oNKGj15kPa782Lbb+2l78InheWHUSLofVaua7eOhzXbSNa122EVt9srHLbYq+PyWgqFW4CL1CaDr2CHQ3EA+g8YnbeONaQMAAFDqRLJo1Ghxp5owdXXtdWOkBQta7OSTExs1+i29CpeG59TXd1zAVH30799qBxzwve299/f24Ydqu8WdJ2kc+pkRAyBYXK9Z0+RSfhob6gLVO3NCNWJij9VCXO81BseGNVzWNDW6v+tcd97axPOr95uagjaCfsK+fPfEZ9S0j3PduW4MTW78see2K7wuHa/rah+fOyd4L/Y4tVdfV2uzp4yw5/5+tj1956k2ddyXVhepWX+++tX1+gwj1TkZMaHZjr+y1XY/o816vdFq5Sv990i1Wurr1ee6OVz399V1jcG9b7SGda/HnpdraQyNTWvWjy1UQ4Nq+MQfn86T5i+scpE12++TnFGjuWqK6a++ocnbl9pvCN7TsU1NwRxqrMG8af7cecHricfYbCsqm+25fq22x5ltdmxw374a35JUvRo3L43qQ8+h/3lA2VEw10TUACTHpoH6BJJZkmnjZI9AAwNFmzKJRJQNAABAKRPJglHTvnhsr0ejgr7Dh7fY4MGtNmRIqzNQDj/8e9t1142NGp0nU2bRohYbN679eElRMXPmqPhwSzCWDfsKJUPnnXfabJ99vrdjj/3ORddkIy1j7dpgQRypshXL5tmC2eNt7rTRNnf6N7Zo7iSrXLEkGH/kx0WoFsb1q23pwum2cM4Eq165zGqqK2zZohk2f+bY4LzRtmjORKuqWOoMjdjFa/vitt6dt3j+FJsX9KNzFs6d6OrB1AdtR58TbdQMePM+qwrGU7lisS2c/a07b8Gs8cG451pDXdQYo/qS6bJy+UI3Vh2va9O5K8rmr6t30/4cyHipCsa0YOY4Z9KM+OJl63X7Cfb4zb+3of1726zJw4NzRznNmzHWzVVDQ91GfZYHi/6n326xPYNF/3m3ttqU2f66JzIPVlSstjHjl9iM2RWu+K4iUEaPW2JDvppvw0YssMlTy93riYyGbEsGjQoAT5+1wkaNWWxDvl5gg4bNs6HDF9i3k5bZ0rIaZ4bEzkO0FiyqTtqoUTuqYTN3fqXrb/BX7X2NnbDUzc/q1TJEfjxex06etty+CeZt8ZJqW74i4v6u+dM86vVFS1ZZnRvjhn2FUtHn0ZNb7IzrW23Hk9vszmdbbdmK9s+u73hJ49R3yYwZM2zkyJHup/6eaB5QRkVEDcDG+EyZRFIKUyZI1bCRiLIBAAAoNYIFU8aNGkW3TA4Wc3/72z/s2GO/t913/8F23vkH22mnH2y77X6wTTf9n+DnhkaNFnrV1c3O0Lnkku/skEO+d6bL3nv/YPvv/72ddtr3rhjwvHntUTI6R1EySmXS7lHl5e31afbc83s76aTvbOzYFlu1qv09Sf3o+EQLyo6k2isVZfNt2IA+1veJS+3J20+0nrceF+hYe+pvJ9k7vW+wcV+9ZzXVK1x0jYyNFcvm29vPXmfP3nWaDf7gSfvi3cfspYf+6I5/4pbfuzY+ePE2mzVleDC+uvV9aRGriJjp3w6y91+61Z6//xx7Jmjj6TtPsd73nBG0ea1NHNXfVml3p3UL3tCo6XnrMfbu8zfZ6EFvuJ/P3H269bzluKC/Y+2NJ6+y6eMHu6iX9X0FY1Ux4LHD3rW3n/mLPX3HydZr3XU9efsJ9toTl9nXn77oTByZNJGgnwkjPwzGdK71uu0Ee/SGI+2uS3a3uy7ezR65/nA3J71uO95JkTZD+z8btF+2fpxS05pmGzul2U6/rtUO6dFm737ZYpHVP851tGRuDBo617qf8ppddu0Ae+aFsXbhFR/Z/ke9aDsf8Kxtu8/TduRJr1nvl8bZsrKaLjFr1KcME9WVUWHg/Y54wXY76Dnb5be9bcf9nrUDjnrJ/nLL5zZs5AJnoPjakJI1ajSXZeW19ka/yXbuJR/Yb7u/ZHsf9oLtfWgfOzD4s2rdvPPhNFuxUmZe+/imTi+3i6762A4+5hW756Gv7G/3DbGjTn3ddj/4uWCMz7gixpf8ZYAN/mq+i7KJ7TNURVWLS1fb9fQ2O+qSVvtydHCPgs+W71ipoaHBvv76azv99NODz/12dtZZZ9mIESPc677jUcaFUQOlTqqmTDxlknQMG6JsAAAASoVIho0aLQrnz2+xe+5psx13/N4ZMzJZrrvuH3bZZd/ZoYd+b5tuKsNmQ6NGqU4jR7ba+ed/Z7vuqnO+s5492+yJJ9p3iNphhx/skEPad26qrm43axR5M3Bge5TO22+32vXXf+eKCCv96amn2uz991vtgw/apcLFCxa0un5ix5yMtDCW2TD88xftyb+dZI/d1N1effwS69/3Huv33PX29B0n2UPXHmIvPniBTZ8w2EWnKD1o+ZI59spjf7b7rjrApQb1uv14e+6+Pzhz5s2nr7FHbzzKHrnucOv/2j1WvbJsffqUInFmTBhir/e83BkfbwXHjvziFRvx+Uv2xlNX2xM3H2MvPXyhTRrdPzg2Epyzdr1R88j1h7kIl2fuOj0Y1yn2Tu/r7IOXbrOn7jjZHr72UHvvxVutbPGsdfd1bbvxMupje+7eP9hjwXhefPCP9tGrd7lzVHfmob/+LmjrVBsz5G2rXVUR9FfrIm2GfdLHBr77hL33/E2u3Qf/crArKPzlu4/ZwPd6Og3r3zu4jsEb7UCl4rRvf95i+57THk0zaVZ7FFb4frRkGnz6xSxnykh7HdrHdjmwt512fj+77LpP7XfHvWK/2PEJO/6st1xEiYwdXzvZlFKJJk4ps0v+8okdePRLdmaPd+36vw20m+8a5P687d5P22/2fMquuflzm7+oyhknvnaSMWr0GautbbABwZwcc/rrzmC56Or+9lSfMXb3Q1/Z0ae+btvu9ZSdcu47LqJH86f+Jk4us9Mv6Gf/vePjtt/h7UbS7459xS69doCde/EHwTlP21a79bK/BGNcvGTVBvcrWvoMDR3bbL+/vNV2O73Nnnqzxao9KYyhampqrG/fvrb11lvbP//zP9vOO+9sr7/+uvtu8R2PMqvgPpL6BKWCDIyHAnXWkPFJbWYDDBsAAADYmEiGjRpFuLzySpvb1enQQ7+zV19ts4ULW6yiosXKy1tcStIxx3xvu+32o1GjFCXVrrnoou/sN7/5wa688h+uAPCqVYqKabFJk1rs9tv/YVtt9YOdfPL3riiwomQ++aTVjj76O2cG6bz/+q8fbJNN/sf+9V//x7bc8gfbdtt2bb/9D84gknGjqB3fuDuSjJNJowe4qJZn7jzVmSYVZQuttmali0ZRKtMbva5whsX7L95q5UvmuOiT0Ki5+9K97KG/HmLv9rnJmRw11eW2fPEs+/LdJ5zB0ee+P9jiuRODc9prwmgnJRksilb58NU7bcmCqVa/uiZQrS2ZP8X6v36vPXzdYfZ60OfypUFfwTmhUfPANQfa3y/by/rce7aNGfyWS39aVbXcpoz5zBkvisqZOuYLl1alGjSzp45wxYCVuvRFv0etbNFMF80jU2bxvMnOtFGkTN/HL3HXqXNUn0fjiQTHzZgw1Hr//Ux76s6TbdI3n7r0rtW1q5zqIqusMSZFS1q6otlu6dViu5zaZvf2abVlCbbjDo2a3+z5pP3bLx+0PQ/pY4/0Gmmz56608hURZ86cdM7btsN+z1jP3mOCZ6be2042pbGvqmmwWXNWunEtLau1ipWrbWXVahdp8+yL42z7fZ+xvQ593j75YrZLL/K1k4xRo7oyY8YvdaaLzJb7Hx9uc+atDD4T9VYZ9DdyzOJ1BYmfsVvvGWyLl64y1bEJjZp/D+bwFzs94aKSho1caGXLa2zajBUuwkaG18HHvmLDRy90dX+i+w3lzNglzXbDo632m+Pb7C8Ptdiisvj3T3VpBg4caN27d7df/epXduyxx9qQIUPc677jUcZFRA0UG9k0ZHySMXJMoGyTqmmTqXQsAAAAyDciGTRqZLho++sLL/zOGST339/momvCIr7S0qUb7/qk+jKKjFHa0k47fW/vvttqlZXtERZqU8coJWqvvb53W28PGtRqVVWKwGmxa6/9h/3hD9/ZGWd8Zwce+L395Cf/43Z9Up2as876zs4++zv3/lVX/cOGDfsxgicVyWRQTZYPX77THr3+SOvf924rWzzT1jS1F9nV+zJQJo762J6+6zR77u9nud2PVEx3fUTNlfvZq49dbDOD12X6tJ9TY5PHfG6P33i0i3yZM3WEO0fvz5w0zBlCT995sousqQuOlRmje6EImImj+1vPW5RydbLNCo7VeaFRowgYpSyNGfymq2+jKB2dp9o4bz/7V5dyNXrg68FCOeLMmKEfP2OP3XCkM2LmzfjGmTDtxYPXuto5c6aNspcf+ZNrc9ywd9ZF8LTPjXZ9mjdjjPW5tz01K5ldn/QczF7QbOfe0l6U9sUPWqxSOz15jpVCo2a7vZ9yuyHd/9jXNm9+lTMs1NaiJdV26z1DXETIbfcMtpWVXROp4YrzNrUXDW5/3tdaU/Bnjf+rkQvsyJNfsx33f8ZefG1C8Nnyz1EyRo1q8Tz/6re2w77P2DFnvBG0vTD4DDW6qB5J77/61kTb9cDedmaP91ykj4oIh0bNf27zqHU/5XUXkaMdpzTOVTX19ua7U1y/ex36gvX/bFZcM0mqCD5/Kv4so+b8W1tsxvz2dDbfsWq/vLzcPvroI3vggQfcz5Urs78jGWpXMM9E1EAhkmszJlrjAh0WqKtIxbDZKhAAAAAUG5EMGjUqBDx6dIuLpom3q5Nve27Vl3nyyTZnsMisefvtNhs1qtXGjm2Xomv6929zUTE77viDe19GjfqrrGxxRYuVBtWnT3skz4knfmcjRrTa8uXtUTzSypUtwYK53SSIHk8yUmTM4rmT7Ll7z7bHbzra1aFZXVsdvPfjQlNmiCJR3u59vT1289EuRalu9ar1Ro2iX4Z89Ex7/Zp1C1SZK7OnDLdetx7vTJDp3w52Jk3tqkr7ZtAbLpomTKVaNHeiG4O0cPZ4G//1e86keezG9vHIKAqNmiduOdo+fOl2V0w4TKVSnyrq+0Hwutod/NHTLtqlfNlce/Opq+2RYHyfv/OIVcfUkpGUkjXwvcddWtRnbz5okZrK9e+lY9S4+jRTm+3wi1ttnz+02bsDW6wmwbbpoVGz64HP2innvWOTppQ5kyZ8f3l5rT30xAjbZs8n7YobPnUFfaPPz6W0u5PGM3N2hU2YXGZjv11i34xb7GrJHH5CX2euPPfyeKvthFGjCJ2rb/rMttjpcTv1/Hfsk89n2Zjxi11frr+xi+2l17+1fQ9/3o44sa99PXKhM11Co+bXezxld9w/1M1T+HnQrk8ffzbTmTuK0nnj3SnO/InuN1q1wWdJqWuKiDrtulabOPPH2lE+6ZlSBI3SoPQz9hlD2VMw1xg1kK90pRkTqqtNmY7oyLTpGwgAAACKjUgGjRqlPakWjOrEKPJFuz3JHIk+JtaoUQqTonDuuusf9rOf/WD/8R//47bXPuig7+3gg3/Ufvt971KbFKnz1lvtRk10u4rK0esqQKyaNkqPSseU8UkRJkr5UcqQCuROGz/QGSrRxzgjpGy+ffTKHc4IGfRBL1eXJTRqHr3+CBv+2cvrDJ72cxStorQjFeSVpo8f5NpVgeBhnzxn9199gD1w1W/t2XvOcKlR63Xv2a7gr6J0ZJ6MHdbPRdyERo3bnvvN+1z6UrggduNzRs3fgvEdYYM+fNKNZdmimcH4LnKvffXpC7a6pmr9+EIp6ubrz150fcnoUWpT+F46Ro12dho5scUOvKDV9junzT4c0uJq1viOlUKjRkVvz/nzBzZnXqWLWgnfX76i1h7uOdJ+veeTdvl1A1w6VKbufbJSfzI7Jk1bbg88MdxOPOdtO+TYV+3g379sBwXa83d97D9//YgzSTpj1ChqR0WBz7n4A+v2q4fsv3d4wvY74kXXh/pa398hfWyz7R61Q49/1YYNX+DmMDRqFJWk+VKqVtiuxt7/s5m224G9bdcDn7PX+01OaNTUNTTbx8Pad+w69dpWmzCjxbtjF8oLkfoEXYlMkEwU8s2E8t2USYQMG98ctgQCAACAYiOSQaNG0TGqG7P11j84Y0WpSbFGzZIlLW5Xplij5s47242an/70f5wxc9RR31v37htKrymNSWlQsZE6uTdqNozaCI2aD1/+mz1245E25ONnbHXkx4gaZ9R8/kryRk3/dqNG9WteeOA8e/mRCzfUwxe6YsLa/Uk1YnTeBkbNW/enbtQMeN5v1FRXOBNHRs1Hr9zp2g3fS9eo+WZyix3Soz2i5j1F1CRp1KjorSJK8s2okdEx6Kv5LuJn692fdAV+DzvhVTvqlNedDuj+km227WO2TQaMmikyav78vm265UP2q1172qHHvepSmWJ19Gmv29U3f+4ie+qjUp9k1KjGj9KewnZTNWq0Q9f6iJprO46oQV2n4LNPRA3kgnwxZFRP5tpAmwQqFsJdq2TK+K4ZAAAAio1IBo0amSWDB7e44r5KYRoypNW9Fr6v3WImTmxxKUy77PJj6pNSlB59tM222KI9EmfAgDZntMwMFn+xmju3fdtt1a6J7TtbRo1LfZo3yXr//SyX+qQIltjUJ1cDZuF0tzuTzJyxX/VzOz+lY9TICBk5sK89Epzz8iMXOSNEKUoyWmK1snyRS2HSVuCpGjUu9WmpUp+ucqlZn739UPvOU+vOCVVVscS9p52mlDIlAyp8LzRqnr/vXFdTZ/qEIR0aNWuC+zJ1TrOd8tf2GjWvfNRiVapRE+d+ZcqoaWpqcqk31dXVwbPYXpsl9ph0tays1hX13XbPp1wUy0uvT7DxE5fZjFkVNn3mCvtwwAy3G5O2we5s6tOcuSvdNuVb7PSEnX3RezZsxAKbPmuFS7faQHMqbOHiame4uF2pMmjUVAWfwT7vttp2J7TZH25usWlz49eokTTXdXV1bu71M5NzjzoUETWQSTBkcotMmkSpT7oPAAAAUGxEMmjU6DfqMkh+97v2bblffrnNKtbt5iOTRjs+/fWv39nPf77h9tyKqtEW29qdaYcdvrd+/dqLCccutvV3GTS+RXg2jRotKlXvpV/vG+zh6w61j1+925Yvnv3jvGgRGqmx8V+957bAfvnRi2z+zHFuV6V0jBrVm5ky9gvrdetxrg6Nateo8HC0MSRpXK4GzbpFb8pGTdCmdp/64t3H7OFrD3PFjmW6RBstqqMza/JX9vwD51nve86wKWM+d6+F76vAsXaxevnhHq7OzrcjPnTXEL4fT4vLmu3ah1tsp5Pb7O/PtdqyFf77KmXCqGlsbLTp06fbY489ZrfffrsNHjw4ePZq189PZ6S+Zs9ZaX+++hMXTXPL3YNt2XIVf24vKqyttD/9crYdesKrtv2+T3faqCmviNhjT422rXbtZb8/7Y321Kb6po2uWdcWzpN+ZtKoWbC02W56otW2PaHNrn2kxZYE91MGnO9YjUPFhN9991277bbbgs93P4oJ51YYNZAMKkrbI5BqnuRDmpJUKmZMLGEETUf3IVe7UQEAAECuiWTQqNFCsaysxS699DuX/nT55d/ZN9+0umK+U6a02PXX/8N23vkH69btfzYwamTi6P1jj/3efvGLH6xHj3+4aBy1pSLAkqJutM230qRURDh2UZpNo0aSqTHyi772+M3H2LN3n25jhr7jzJtIbaXVVJXbvOlj7LUnLnfpQTI+KoP3FG2SjlHT1NRoi+ZOslcevcge+svB9m6fG52BokLEqyNVzpBZVbXCbbvt+llnrKRq1Mj8UX+Tv/nU7Tql3aCGfPS0lQfHRWpWuq23tT33hzrnxiOt33M3uqghmTPhNSiSZ9mC6fb2M39x249/8NJtVrZkVjCWShexo3mTsRO7KK9c1WxPv9ViO5/aZn++qzXhrkGZMGpkDPTu3dt222234Nnc2i6++GKbMWOGi7KJPi5daUyXX/+p/XLnnnbJXz5xUTTannvpshob8tV8++PlH9nPfvOY/XqPJzcwanQdq1c3WVV1vVVV1dmUaeV22XWf2m/2esrufnCYLVpc7V6XqRLuclVX12SfD55rBx79km2799N2692DbeKU5cF117odn9TvsrIaZ/osD+aisbHdsMmUUSOzdPy0FjvzxjaX+vTIK+3303espOglbcd99NFHB5/vX9hxxx1nX3/9tXvddzzKrILPHqlPEE0+1YyRStGMCY0Yba8tpXMvlAZVqPV2AAAAoCMiGTRqJJkon33WZscc851tueUPdthh39uf//ydM2H237/dRFG9Ge3OFBo1Oi8SabF3321z22rL5FFq1Flnfe+237766n/YmWe2n3fbbf9wW3znMvVJktFQUbbAvnzvCet567H22E3dnZHy4St/c1teP33XqdbzlmOcqSJzozFYhGre0jFqFCETCY5TitULD15gj1x/uIvUeaf3dfbpm/fbx33vttd7XWEvPvRHGxiMJ7Kq0o0vHaNGr6+qXG4jv+zrUpdkNKlPFQ1+7/mb23e6uvloe/XxS2zGt0NcOlfYppPOr1puIz5/Oej3eLc1+AsPnG8fv3qXff72wzb4gydt2riBzmCKPk91akZNbLbjr2q1Ay9os7c+i19QOBNGTUVFhfXs2dO22WYb++d//mfbfffdrX///u75jj4uXWkHpadfGGu7/La3bblrTzv2zDddetLJ574djLu3bb/vM7b59o85AybaqJGp8u5H0+2O+4e5SJwrrv/U9j3iBfvp1o+4XaKuve1L9/pTfcbYrDkrXQqT5lFRNdqi+7fdX3RRPPsc/rydf+mHdv3tXwZz8Kmd+Ie3XUHjV96cZFXVde5ZzJRRI1PmpQ9bbI+z2uyoS9rsy5HB575h4+NCKd3stddes9/85jf2f/7P/7Fdd901+Ky+lbG5Rx2KiJrSI5+iY+oCaRynBIJ2NB++uUpWMrcwaQAAAIqZSIaNGi2QFQnz+usyXb63nXb6IVgU/+CMm0ce+YcNHKj0p3/Y0Ud/56JmtFNUeJ4ib1Sf5sorv3PpU9qKe5ddfrA99vjB1bW54orv7J132qy6uv346H5VtPiDD1pduxdd9A9XzyaTRo3U1FDvtuAe+vGz1vfxS63X7SdYT5eedJK99HAPG/zhkzZ3+mirr4s4A0PRJiowLINFUTjfDHnHRZmE7Sk1SpEyL9x/vjM3Zk36en1akVKaqlYutcljPnOmh3Z7Ul+9bjvOFTWWSdP/tb+7FKmGuvYFb12k2qUePX//OTb4g17t22ivM0e0uK9YvtA+fetB633P6fb1Zy8400XvKUKmsnyxjR78pr31zF9cupX6evL2E4O2zgvOecCmjR/komx0TTonWkqVKls8y82L0r50bvtYj7fn/n62De3/jK3ybPu9qKzZ7nxGBWlb7fJ7W232whZvVE19fZMNGjbPbTUtI2PBoqoNjBpnkjw/1vY/6kW76a5BzvyIPl/SltAjR460s88+2/7lX/7FdthhB5eKo2c89th0VF+/xiZNXW53PfCVq1GjFCeZNr/t/pJdcPlHducDQ+2sHu/ZIce9an3fnmyRdSaIasj87b6htu/hL9guB/a2nfZ/1hkvv9jxCdtmz6ds56CNXQ/qbWde+J6N/GaRaftvnSfDRue++uZE++NlH9o+hz3v6t/sGhy/16HPu3o4N9012IaPWuiMLs2Xdou66OqP7bdHv2zPvDjWpWSF41fq1JdD5tjhJ7xqh53Q1977eLqL3AnfDyWDdOrcFrssuF87ndxq1z3S4tKgYo3TaClyZvTo0XbBBRfYzjvv7H6OHTvWpaP5jkeZVfC5I6KmOMm3VCUMmeTRXPnmMBmR7gQAAFAKBAvVjBo1kgySmpoWmzGjJVigtUsRLkphkqEyZ06LKypcWblhZIzOU0SOImYmT26xUaNabMSI9p86ftGilqDd9uOi+5PUzooV7cWK1a8ibDJt1EgyNWSArCibZ4vnTrQFs791aUrlS2YHr1cFC+joIrVrg0Xqalu+dLYtmT/FRZ5smDak2jarbOnCaYGm2+qa6g3mWu/LuFHEiwyiRXPW9Rf81N+rK8tcBE7Yn9quqVphSxdMc8aLiiCHbUlqS2bN0vlTrbpi6UZ9KcJGxYkXz5vi6s4smjPByhbPdClX2vnqx+vaWGua2udFRY/dvMwa76Sxrly+aF3dmw3PXx3c68HftNhRl7Tabqe3Wc/XW235yo3vm/pdWVXndi9SgdzYeixKCVq8dJWNm7DU5syvtIbg79HnS2ojWKzaE088YZtvvrkddNBBNnToUGfgxB6brtSvonmUvjRqzCJnrHw7aZnNX1jlzKRZs1e6ayhbV79G5yiSZfbcle74EaPja8Lk5VZVFXwWo+6B2qiprbcFQfsqXDwi6E/Hjh63xO0MpfSn6LlSFM+M2RXu2MVLfxyD1D7Hq4N+lrkxKmLHd79XVjfbyx+12L5/aLMTr2614d8mjqaR1I6+R+bNm2fjxo2zuXPnBt8DFBTOlYJ5xqgpXPKxbgyGTOeJt3tTIhXy1uIAAACQKpEsGDWSFoeNje3Gi6Q/67XwddWlifdbeL0efa4UHh+9QI+V3tdxYV++YzIhLTBlisiUkQEhyajwLTzdsU3adaehvfCv533VpJF857cfs6a9jXV9tfen4z3tBX2orWhDaL3Wjzs41/d+s95vP3/DfpJbULtrjZkX14bryzc3zbZwWbPd/lT7Ns/HXaU0mhaL1LW/F32sTAVFk4R1WqLfkxRh0tDQZI1NwftRr2tMMgVUzHbUqFF25ZVXrq9RM3v27OA83zykL/WnMWo7bEUCacxhupLGpr9vaJDoeQ2OD45NpNjzos9vv/aoNjQPQZuxx4djC8cU/Z4UznG8vvQ5HD2pxf74t1bb/7xWe+K1ZqvwRLf5pL4114qu0U/93XccyopIfcpv8qVmjMwD7S50a6ADAkH2UF0a3z2IFeYMAABAqRLJklGDUDKSqTZldrPd3LPV9jqrzc6/tdVGTWqxunr/8alK9VG+/PJLu+GGG6x79+6uNs25557rXtPzjWGQnGSejZjQ4go/739uq931bKvNXdRujvqOR/mj4BknoqZrIUUJYtkh0NxA0feFlCYAAAD4kWCxilGDulSr65ptzNRmu+K+Fjv0T2321FuttsKzPXs6UhHhp59+2g4//HA75ZRT7N5777Vhw4ZZZWV7AWbfOWhDadtt1aG574VWO+D8Nrv47lYbM0V1bfzHo7wTETXZJ1+iYkIRHQMAAABQyEQwalAeSHVOJs1S/ZNW+2ZSizNvMmHUqGDtsmXLbNq0aa5Gigwapd9g0iQv3YdVkWb7YmSLPfRyq307oz0Nyncsykth1HSefKwVgxkDAAAAUKxEMGpQnkhmTWV1e4RNJkyaUO11d5rcTwya9KSomppIsyv2XBfcJ98xKD9F6lNa5IsxgxkDAAAAUIpEMGoQQqiYRUTNxuRThAw1YwAAAABgQyIYNQghVLQq0YiafDJiiIoBAAAAgNSIYNQglLdSTR1tJX7IIYfYmWeeaUuXLvUeh1A8FalRw05KAAAAAFC8RDBqEMpLyaTRluLBx3S9ZNj4jkUogQox9SnfjBiiYgAAAAAgd0QwahDKS11wwQW+BSNRNSgl5WlETb4ZMbHCmAEAAACAriOCUYNQXilMd9pkk018C0iialCqyoeIGiJkAAAAAACSJYJRg1DeyJfu5JPvXITiKBdGDUYMAAAAAECmiGDUIJQ3ipfuFKu5c+d6z0coVhlKfcKIAQAAAADIFRGMGoTyRptttplvUbqRttxyS8walKzSiajpamMGIwYAAAAASpcIRg1CeSPVnwk+lklpv/32o7Aw6lBxImowYgAAAAAA8pUIRg1CeaOpU6fa9ttvv35BqwibRx991Lp16xa9yF2v3XbbDbMGbSRFW73wwgsule7nP//5Wt+zk2NhzAAAAAAAJEukhI2aNWvXWE1DjZVHyq22oVa/eV7/WkWkwuqa6txrvnNTldpRH+prWc0yp4rVme0DFa/Gjx8fdxco0qBQtDGj58H3nGRZGDEAAAAAAJkiUsJGzYrICuszvo9d+NGF1m9aP1vduNqq66utz7d97NJPLrWRi0fa6qbV3nOT1drmtRZpjNi0FdOs1ze97Kz3zrJDXz3UDu97uF3U/yJ7ffLrtmjVImtc0+g9H6FQidKiSIMqXuWBCSNhxAAAAAAA5IpICRs1C6oW2F+/+Kvt++K+zrCRoSLz5pbBtzgjZdC8Qe4137nJShEzIxaNcMbPzs/ubFs9uZVt/dTW9qtev7ItntjC9n5+b3t45MPOrCGyBiWS0qISLdRJgyoOYcwAAAAAAJQ4kRI1amSKTCufZue+f67t+8K+9tbUt6yusc6WrFriImyOeu0oG71ktNU31XvPT0aKplleu9weGP6A/e7l37lomgdHPGhvT33beo/rbaf3O91+8cQvbKdnd7Knxz7tonl87SAUKraGTaxU0+bMM8/EsMlzDRo0yC6++GKMGAAAAAAA2JhIiRk1qkFTVVdli1ctts/nfG5Hv3607fX8XvbyxJdtXtU8G7NkjJ3w5gl2RN8jbOC8gbaweqE7vmltk7e9jiTzZ8zSMfbapNds9OLRrjaNDJnlkeX2/vT37fBXD7efP/Zz++OHf7RF1Yvc+HztIBStjnaHkgGAYdN16uqoGNUz6t69u91777328ccff5PG9twAAAAAANBVRErMqKmsq3SpRoe9epjt8MwO1u3BbvavD/6rbff0ds6w2bX3rrbpw5s67dx7Z1dP5tFRjzqDJZ3UJEXVqP6M6t/I7NHf9boMGdWt6fFRD/v5oz+3Y9841mZUzLCmNekZQqi01FEaVCgibLKnPIiKWa9oY2bEiBEbjDP43vJtzw0AAAAAAPlKpASNGhkvh792uP3mqd/Y//fA/2c/eeQntstzu9jeL+zt0pD+9YF/tc0e3cz26LOHq1Xz2OjH0jZq4mm9UfNxD9fXiW+faLMqZqUduYNKTx2lQUULwyY95YMZk8iESVKfYtQAAAAAABQQkRIzamSEaIvsKeVTXGTNTs/sZCe8dYJ9MecLm7R8kr0y8RXbrfduzkAZvmi4M090fKZ3ZVKR4S/nfWlHvnakbdlzS7tl0C2ukHEmzSBUGtLW3akYNkrHYTvvH5VPkTFSBoyZDUREDQAAAABAgREpwWLCMkNUd+bJMU+6VKc/ffwnm71ytnvt/Rnvu52YtPPTstplzqDJtHmi9spqy+z+4ffb9k9vbwe/fLD1n9XfmTe+4xHqSKlE14SSMVGspk2e7JwUV926dXNje++997zjz7CIqAEAAAAAKCQiJWTUqD5Mw5oGW1W/yuZXzXdRLDJKrvn8GptZMdO91mtML9v1uV3trmF3ue27dWwm05GU8qQInXemvWP7vbCf7f7c7vbsuGfda0TToExIETaKyAg+3mkp3w2cfIuA8SnTUTGdERE1AAAAAAAFRqSEjBqZNNrZqd/UfvbM2Gfs+LeOd9tjn/XuWe7v2iL77PfOtq16bWXnf3i+vfDtC/bJ7E9cSlImdmNyaVe15fb2lLftuDePczVwbh58s82tnJvx1CqEOmvYJFJnzZxCMFs6Uo6jYtIWRg0AAAAAQIERKSGjpqahxj6b85kd/cbRziT52aM/s3+5/1/s10/92qU77fbcbm4HJu0CpULDB7x4gJ334Xmunk1njRSZNHMq59hjox6zfV/Y1+0wpT8r5QqTBmVT2TRsil2FYsZ0IFKfAAAAACARmwbqE2hpIO//i9dJ7/cLtHkgyCaREjJqZIgsrVlqg+YNckWDtfW2omfu/upu+3DGh/bc+Ofca9qWW68pmmbE4hGuds2a5vTnQNE4K1avsOfGPWcHvXyQq4tz25DbnEnT0NTgPQehbEh1Wwo5iiUbKhIzJq6IqAEAAAAoeZI1YpLV8ECQTSIlVkxYdWDqGutsUtkkO/GtE23PPnvawLkDrbqu2sYuHeteO/iVg+2TWZ9YbWOti4TpTO0Yl25VOc/6fNvH9nhuD7ej1MOjHrbpK6Y7A0hRPlJtQ63VN9V3qi+EUlExmzb5VCOmq4VRAwAAAFDUKLrloUCZMmGSFWSTSIkZNZLMkwllE+z3b/ze9n9xf2fQrG5cbSMWjbAj+h7htswetnBYp1OSFEmjCJ4w3Wnzxza349883tXD0e5SH8/8eL0+nfOpTV4+2SINEVf02NceQrlQvhs4xR4Bk2lh1AAAAAAULJmOhMmkIJtEStCoUeTKqEWj7LBXD7MjXjvCZlTMsEhjxAbMHuDq0pzw5gnOvOnsbk8yhMYsHePMH9XC+b/3/V/b7LHNbJsnt7Ftn952Aymy556v7rEF1QuIqkF5r86aOZgtuRNGDQAAAEBe0lWRMJmQxgzZJFKiRs3oJaPt1HdOdbs7yRxRRI2MmmPfPNYuHXCpS03q7E5PMmrGLRtnJ719kv36yV/bFj23sF/1+pVt2WvLjbRL713sjqF3uC3BMWoQQhkUxYQBAAAAcsthgfI1EiaRxgXqaMyVgY4JBNkkUoJGjYyQuqY6K6sts/JIuTWtaa9Do6iaZTXL3HbcMlk6m4Kk82UKldWU2cLqhQm1qHqRVdZVurH42kIIoTSFUQMAAACQGQrVgAklI0bXkIi6QL5z9ToGTa6IlKBRgxBCpSJSnwAAAADWU+hGSzwpyuXaQJsE6iy+9jFpck0EowYhhIpZRNQAAABAsVCsRktHSiYSJlP4+sekyTURjBqEECpaEVEDAAAAXUSpmiqpKJORMJnCN07INRGMGoQQKlph1AAAAJQkWwXqEahvIIyS3EupQpr7UwIVGr7rgVwTwahBCKFiFqlPAAAA+Q2RJ4WjQjZgksV33ZBrIhg1CCFUtCKiBgAAIGtgsBSeSsFo6Sy+eYNcE8GoQQihYhYRNQAAkGs2DSQDY3igfoE2D5TvYLoUhjBaso9v3iHXRDBqEEKoaEVEDQAA5BiZNAMDRS/yZNjkitAkwnDpeiUyVfSe7xxJ9w66Dt89gVwTwahBCKGiFUYNAADkGC3MfQs9mTe3BkonugbzJXW1BArn/IBA+YZvzJJ2QWIr6K7Fd18g10QwahBCqJhF6lNp4FvE6M+FknIAAMVDokgJ5FcppvP45gGDJj/w3RvINRGMGoQQKloRUVMyxPsNtpTLlAMAAN/3ULGKeinp45tPbSkOXY/v3kCuiWDUIIRQ0QqjpmRI5jfYHUXYKCqnR6DOpCcAAPi+fwpBmC65RalZsfdA8w9dT+x9kSDXRDBqEEKoaIVRUzL4/sObimTifBvzWvg66VMAkAqx3yNSV6RDjQuknZwgP1G0Z+w9079l0PXE3hcJck0EowahkteaNc3W0NhsTcFP3/vFLF1zfUPxXjtGTcng+w9vJrU60G6BAAA6wvcdskeg2J2g0lExmS9hbbFC2sI8k+wQyHePoevhvuQDEYwahEpaMmnKVzbbxFkttqS82Zqa/MelqoaGBqusrLTy8vL1qqiosJqaGpkH3nNyLV3r0vIWGzu1xRYta7bGDF17noliwqWB/sM7N5DvP1fZEtE2uSWdXW+4R9AV+J5F2JjY2mKlWE8s+vpD5XOdmujv4WL+fvXdF8g1EYwahEpWa9c227IVzfZsvxb7w82t9ty7Lbayuv113/HJqqmpySZOnGjXXXednXnmmXb66ac7/fGPf7QXXnjBqqurveflWiuqmu2Vj1vt5Gta7dZeLTZjfrM1FJ9Zg1FTemTqN9fJSlupYgZkj3QMmlhxjyCX+J5B2BhfOlipUUh1avRd7Pu3tRgNtthrlCDXRDBqECpJyYxZVdts/Ye12O8va7OjL2u19we3WO1q//GpSEbNiBEj7IQTTrAdd9zRfvOb39gvfvEL22qrrZx5o+iafIiqqYk028fB9R9xcZvtf16bPfVWqzOuOmtU5ZNIfYJ15MK8wQzILJkwaGJVir+xzzWl8hv3RPiePdgY5smftpuvdWpiI6CiVWyUwjXmPxGMGoRKTj+aNM12/JWtdvAf26zPey1WXpkZk0ImjFKcZs6caZMmTbKhQ4c6g2bLLbe0K6+80pYvX+6O8Z2bS+laV1a32GuftNrhf26zIy9ptdcHNFt1TWbmIU9ERE1powXiQ4EyudjvSBg2nSMbBk20EoHJ0HniLeZKaT591w8bos8a8xS/Tk2+pT/pfqVSELvQP+++a4JcE8GoQajkpMLBE2a02CX3tNoup7baXx5qsenzMlefRpIRo8iaxsZGW7ZsmT300EP261//Oq+MGmnN2mZbuKzZHuvbavuc02bn3dpqYya3WEOD//hCExE1BYUKZGZzgZ5r6TryudZAPqLFwNRAvvnMlOKhvn1RV7m+j9FmUew4CmHhI6MyetzxVCjXkw6+64UNiWfolSKFkP6k76TYMSajQv2c+64Fck2kRI0aXVNtba1bQM6aNcumTZtmU6dOdREAZWVlVl9fv9FCUgtOvTdv3jxXY0N/18+5c+e689WOUjq0OI3up6qqymbPnm2LFy+2uro6N6dLly61GTNm2PTp023hwoVuLPmycE1GukZdq65Lc6jrUqHYOXPmuLnQ6ytWrHBzFH2eCswuWbLEHae503latIf3QHOp1zPxzKmNlStXunnWvfVJ879o0SI3jtj51991X3R/dFw4PhXIjb7H0cfOnz/fPR/67OgZCq9N5+u9VatWea9N7em6dYz6CedQc6w5iz1eUp9hHzo2+prUTrx5XBuorKLZer3Rarud3mbHX9Vqw79t3/ko9thQuo96jjUX4XxqjLpW33zEStfxyCOPJG3UaNyKyFmwYMH6uVdfGkNsX/q7njU9U/GeRf099lmMlooIT5rZYn+6o9V2PLnVbni81RaVaY79xxeSgnnGqMkOWrj2CKT/TMYuKItdut5kU6m0Q0spRBBkAhkU/QP55jFWMgOOCZQI3aPYAtO6d/FIFNav89Ixa6JNF6mjBUs8syha+Z6+5UvlSFfJzFk+4rsW2JB40RmlSLz0p3x67ju7vXyhRZr6rgFyTbCgLDmjRgtELfg+//xzu/POO+3444+3Aw880A444AA7+uij7d5777WxY8e6649eTMqk6dmzp11wwQU2YMAAtwB/++237ayzzrKDDjrIjj32WHv00Ufd4jJcFGr+Pv74YzvttNPs5ptvtm+//da++uoru+222+yII45w51166aX25Zdf5tVuOB1JBkjv3r3t1FNPtfvvv9+++eYbe/bZZ911ai41p7169XJzFM6FniMt9DXnmjPNi+b5gQcesOOOO86dp9f79evnFtwdLf47kkyR9957z4466ijbb7/9NtLee+/t5v+GG25w44zuL1z86xm54oor7NBDD7WDDz7YzjnnHHvllVecYRNt5ukadS1//vOfrUePHjZ69Oj116bnQv2cf/759v7777t2oz9TMmJkrLz55pvuXB3729/+1k4++WR77LHHnCkS+yzqzzKG9DypD9WC0fO7//772yGHHOLa6d+/vzsvPCeUtqGeNKvZevytzXY9rc0eeKHFKqrimxK6Nl3v66+/7uZC86l+NM5zzz3XzYfuayIjJBWjRnOvz5qej4svvthdz+9+9zs777zz7LXXXnNj0ZyF58uEefHFF12x4vvuu8/GjRu3/lnUPGpunnrqKWfYJBrjispme/KNFtvl1DY78uI2GzS6pVh2gSL1KT6lbLakq1iDIBnDhrooHSODoqNIGs19qtsSR+8G1pG5o/dj+4xWOgsNn/kTr51kTJpQ+YzmPNPfJ2qvkKLTfNcAG+KbI93nUiRe+lM+/dvhG1860vd8IZg1vrFDrgkWciVn1OiaRo4caaeccorts88+bsEp00QLwt1228223npr+/3vf29ffPGFM0/C8xR5ceONN7pj/vKXv9iFF17oztdiUG2oYOr2229v99xzj1t4a960mNZCVq9roa9Fqo7da6+93E+19d///d/OCJBZo+Ojx5qKtHCVeaDr60i+iKFUpIX2HXfc4a5Z86ZFsowPmQUyXLbZZhtXOFbGhaKUtPjWfMgQ0bxtu+227j3dgz333NPNoaTzdtllF7v77rvdfHfm2dO902JffchcCKV7rT67detmP/nJT5ypoaiN0KiRCaAxy7DT9UgyniQZFDvvvLMzKAYPHuw+I+E5qsNy2GGHuXsqU04mVvh8yRj61a9+ZXvssYc988wzzlzQ/Cv6Q8/iZZdd5q5b0vHSTjvt5ObjxBNPtA8//NBFyIT3TCbURx995EyIHXbYwfbdd193XYcffrgbo8Yho0yGZDgfoSKrm+39Qc12wPltdvJf2uybKYkNCZkmTz75pLvPuh6ZJupL92u77bZzz/Y111xjkydP3sDsilayRo2MFM297n/4TGjeZeTpGsO5//rrr9fPvdqSWahx6PpliOlZ1Ll6FvWM6lm85JJL3PMX75nSHIyc2GKnX9dm25/YZnc9u24HLM+xhaRgnkshoqbYUobySYqIScYc6MiwgcR0FFbfkcmSCZKNBIlePEVHzITv68+hEZPot9DRhk0qJo2U72Rju/x8SwWJh+6lb/zZwvcMStHPYT4SPdZQ2f6M5zO+9CcpX/CNLV3p2cx349U3bsg1wWKn5IwaLar123VtE9ynTx+34B0yZIgzSvR3RUDIrFHxU0XHhAtKGQfXX3+9bb755m6BqkXrVVddZe+8846LXrj11lvdQlJmgBbxWnSGRo3a+9nPfuYW4meffbZbRH/yySf23HPPuUW1FrBabCotyLeATUa6X1OmTHGGgfqPJ72vRbXMGl87yUiL47/97W9uJx9dl4yna6+91kUYyVTQ3P3yl790xoSiWjS20KjRFs3/+Z//6eZEi2kZPoo0kWSA6XWZDTJZdJ6v/2Sk+VeK2ahRo9zCPpTulcYn40Qmh6KkQuNA0jmPP/64u79a+OseKWJIETK6lyeddJIzmhRdoudI1xUaNTIzfvrTnzqzRs+Rol30fL3xxhsuWkimnAwczb/GJ0Pvlltucc+FjtdYFK316aefOnNEUTWaD5kPip7ROepPxpKMB+2o9Kc//clFu6h/PccffPCBvfXWWy6qx3ePVTD4kVdbbPfTW+2mx1ttSXn8aBpJZo+eG0Wp9O3b141NfWke9QzoHkuaJ31f+NpIxqjR3xVJpc+GjC2ZMy+99JKNGTPGzb+iZmRMyZDRZy00Q2UkKZJG9zN8Fv/617+6Z1Fzr4gpFTHWGPVZjTdGGTILljbb7U+12lbHtNeqmb2oPQLJd3wBqVAiaohuyZ60IL420CaBso2MHd8YwE+4yIy3SNFnIVXCNmWopLJQTcVcCM2VRFFA6j/edUVLz2cqpkY6c9KVZMq00VwWAvFMx2zQ0TMo5VNURjS+sZYy8YzifME3tlA/BJLJFu8afMr3tGDfmCHXBAvhkkx9Ck0UXaMWs/q7FttK6Xn55ZfdQrt79+4ujSK8/tCo+Y//+A9nyGjhqjQMzZEiI7SQ12Jc52pBr9dDo0a/0ZfBc9FFF7njFB2h/rRgVbqUFp+XX355wt/4dyQtXGVAKFpE44snGRBayGqBG7tYTlahUfNf//Vf7tr0Z5kWumbNqbZmVtSFohmUvqN51XWFRo3mcNddd3VzKHNK8xeed8wxx7hFt6JStHBPd4ySzlWURyjdD5kOilJRtMrVV1/tapmEkSB6FgYNGuTMM5k4TzzxhDMZwvN1HTJFNHZFa8hs09ijjZpu3bo5g0eGic5VmzpPz4GiZBSho5Qq1XaRiaX7peNlKug4tSXJIPnss8/cPOo8pe8oSkjP6rBhw1zUjcwHGY66H+FzrJ/hmHxzN2dhs11yT4vt84dWe+nDVlsV2fD9WOm+hc+yfqpd9aM+ZAzKrJSZJANGaV2+NpIxajRuRbEpukxmi0xTRR6Fc6/5kuGl95SiqPuosYRGjUywLbbYwn1G9ZyFz6JSDfVZDs1QtRPdb7S0E1bf/q223Ylt1v3SVhs1qcUVXvYdWygK5rmrImqIckldij6QUXVKoEJEiyZfBIUiJcCPLzUoVLpRNLFtprtQVZRUvIgYLTKSKXqcysLFJ/UvkzHZ9K1CIdkaT9HKV8Mhllx9ByRj0oQKCU1M/bskdVXEjcaRaJylSLz0p3zBNzZJJs0dgUS0KRv+giSRSZvPn2nfeAsp/bI4CBYyJVlMWNLiT4tNLX61KNYCTos+LZ4V0aEFo6ISdJyOD40aLUoVPaLiplqw6j0tOhV98/e//92l2rz77ruu7dCokWGhhbWiTfRauEjV/CqCQlEWiixRm+nOt/qXuSEjQIvZeFIKllK4fIvlZBUaNTJUZCRoMayFtt7T+FXEVdekxbGO07xGGzU6Twt2mTvh/GosMr5Us0fROKoF1Jn5iJXa0RwprUaRKKphoggb3afwGBloMur0vgwtRY3oWvVsSDIiBg4caEceeaQz5BTxoedH1x4aNbrXisjReeHY9b7MlTPPPNNFVOnPquui50WGkaJjouciHK/mS/MkM0yGiNrUMRMmTHDpZjpXkT26Dj2fGr/6SnRfJ81qsVP/2moHXtBqHwxusUid/7hoqT2ZIvpOUB/h50WRPbq/umbVk4n3TCVj1KhNReUoWklGmUwqnRfOvUwbmWhKS1TEjSJm9PkJjRo9MzpPcxv9LE6cONHOOOMM98zp8xtvjJIKKg8Y3mJ7ntVmv7uw1b4c2WJ19RsfV0gKrrUzRg1mS3zpt9tafNwa6IBApY4WHvEK4aZaV6WUiGeEdGZh62sz3cWoDIVkomJ80vdG9MIl3rXGk44v5VQQzX34mZIxVijfM7H3Ucr0d0Ci7xufog0a3/u5Nm3iGbSZJtaY8l1/rq89EbFjk/JhXFsG8o0tme+ojiLq8uH6fPi+9/XcQi4JFl4lGVEjs0SpJIqOUHqKTJLbb7/dpaGoaKkWxqrFEWvUKI1CaSqKblCdkOgFn47TYlMLQc1d2I+MGqVKKW1D0TTRi3EdoznWOVqMyviJbjMVqV1FZChCRTtMxZNSe8JIBV87yUjj1QJdppWMB0WlhM+JfmpnIC2O9b7SVBQZExoPMmo0H4q00XxFt6tF91133eXmX0aP2snE86c2ZIworUa1ThRRo6iWaNNMUv+KutCiX+aDasdo/Ho2QoX1ZBQF9fTTT683R0KjZvfdd3cGT7QBpD70dxkPmjv9WcaM6vTImFBdI70XPRb9WeN58MEH3XzIWAqNK/UpM1DRRxqn+tRzq7ErkkfzFntt0po1zTZqYosd8edWO6RHq32ehBGh50TjUFqV6uvIXNI8qCC2IrNk1CmaRdeia4vtU0rGqNFzq3YVpaVoJhl26iN27hWBpOuVoaZrDI0aPWsywjRHYduaK6WZ6RnVPVVqXaIoLdWpGTq2xQ7+Y6szaj79usVWJ2Fk5bk+/dnPfvb74Osew2VjYbZ0no4WQNn4TXox4ZszPZedWdj62uxMAct0omLiRb6kEklSyiZNIeO7l5kmUSSaT8lG3nTmc5IK8UzLTKLv5mQ/a6G62rTxjSkfok5mB/KNLZXvqHjfo/kaVeMbr/5tglwSKdFiwqp5oYVlWKBU0RFa/OmnFr7dunVzETA+o0ZpL1qwxho1PoVGjRb1MgfGjx/fKYMkkdSuDBifORMtLYgzZdRo4a2dkBQJE7047sio0XworUiGQ3S7iliRcabzZNQoYqOzz5/GJQNLOwbJSFE0hnas0jXEti0TS0aRzIJNN93URdbouYiWTBpdt1KfZBboOYg2apSOpDouYVRHPIVzIVNCZozGGP086c8aY2hwqDaO5lljlmRQKF1KETUqnqvnVvOquj9Ko1NqkD7D0X3KqFHB3MOTNGrCMeg61b+efSn8vOizI5NGNYc6a9TISNPnS20pNU7z4pt7RREpckYRNbq+0KhR2zJkoutKaZ7SMWoO+mOrHZxho0ZGrKKOVC8n+Op1P2Us6ZnzHZ9IiiyKbgu5//TqP+6FmjJUqCSzECCaJjHZmDNfm1K6CwL9Rrgjk1f/gU9l0SLDJtFvmaV8/U0zJMZ3LzNNPKNDz2C8BXGyysXC2devPmOZJFUzK1q5Mqxi8UVxSF3N/wSKHVNNoFTQ92i+Xp8PjbdQxlq8BAudkjJqtEBTLRelCCkVQmaMipTKkJk0aZIzUlTzQwtfLboLyajRdSmlSeaTFtLxpNQo1bLRArej8ceTFtrZMGpkJIXFX7W41vGxz5/6CdNwZIZ09HzqONU+UV0TLfJ17Rqv7z5oTmQUqX9FVKmgsVJntNiPla5Rhpf613hSNWoUhSRzQ2NStEjs/dCfZaop2kYmjIoGa1EfHqOfiszR3Go8irDRMYpW2myzzdz863kL0/PcOYEmzmyxk65ptd+e32rvD2pxu0CF78dK16BIGhXI1pwoakfpe4pG0+dF7ykNUNfQ2dQnXZvmQQWq1Z9MqHhzr+dCxofayKRRo9QnmTNKfTrkwsymPimVL/jKRfGl/8AQ3VIYdBRFEyrTC49ixDdvnUH3xtdmqHRrDOg/7fEWx1I60S8dGUBdtViEzuG7l5kk3jMeft/ouYquExJ7XDLKNr4+MxlBpjlK9HlNRl3x+YtnsnU1vjGp/kyq5Ov1xaOQxlqcBIvYkjJqtDhXgWDtKCOzQLVEtNALC6TKOHj//ffj1qjJZ6NGC9SbbrrJjV3pIfEkc0rXkW9GjeZFi38tqpXqo3oi0caEpD9r3lWjRbt0aUeg2EiUaKnNqVOnOjNBKUaKClHB4ui0pGhp8a8ithqf5jHcMl3txCo6TS0doyaM3tEcxW4RLunPKtYr80Xj0bGxqWKS5lVj0bzoeG0rLlNFhp3SoPQZjj5+1oIW+9OdrbbHma323LutVl2zYXvRUpva6Unmjz4Pqs+je6b+dM0ym/QcaG47a9TI9FJqmkwfpVPJBNJ3UPScS+pbP8PzM2nUVKuY8Metbnvu31/WaqMzWExY5lnwlVtKIsql+EjWoJGKpehrtvHNXWfQ/fG1GUr3Ll2zJlG9mnSJXlT7lIvoBsgsvvuYSeI94/G+b3zHSomMjGyTzT71PZ1qylM8deb7Ih3yNYrDN6Z0TKx8vb54FNJYi5NgIVRyRs3IkSPX7+qjGiOKWtBiX2aDFtj6zbd+q6+iu4Vk1OheyQiReaFxx5Pe13FaaPvaSUadNWoUIaJIEc2pDA0ZJ1r0a6Gu9Bal72hHpViTQceptowiLnSPlH4kI0H3Ivo4Sf1p0a6aKkqbOf744100iEwDHa8iwJKecy3+dY7GomK0qv2ihb3qpOh5kRkgg0JGia5FdVCUqhMaPukYNbo2FZJWKpbGJ9NQRZhlWOh51J9lbug9FdBVKpPa1HVpLIqgUgSSjtf16DWNSRFhStmSUSPTMXYOy1e22MMvt9jOp7baNQ+12sJlwVzF2Z47NK5knGnOZZ5o/iQZIPoc6JqVKhad+iRpTsI51lhlpqgdFU7W/GnMsXOva1Tkk54PRT7pWfXNvT6z4fxmyqhRtNG8Jc12a69W2/qYNvvTHa1uu26li8Uem440T8FXbqEJswVEqgYN6U7J45vDdEn2t+i6j+nWofC1L/Oms795j20zWoVG+HmRyZQvRVpzSbbvoe8ZlDERD5+5GNJVC+ds9tlRylNoondkkoZSe7nEN4auxjemdExkfTf42spXCmmsxUmwUCopo0bXogiLP/zhD+433NoWWUVttRhVrQ/9XSlR//Zv/1ZwNWo0Fi16tYDtSDquo7EnUmeNGs29tkzWvGuOZY7IUJFBI5NB58iEiH32tFjXlt4yaf73//7f9rOf/SzuDlZa3L/11ltupytFmGhrdNVakXkhwyaUzAEt/HVf1Ib6Vc0YRXZo/Criq3Qo1USRKaTIFkW5yBwIx5iOUaO+ZDooCkrzqPM0Rj1bqqEjQ0Ov6Xl76KGHXASO+pI5pPlSYV1FCsls7Nevn7tWjUk7Usk4Ofnkk13x6tAICaVUp/cHNtu+57bZ7y9vs6/GtbjaLNHHhNLzq13QZJ7pc6F7p7HJQNJnSBFaugc//elPNzBqdO16BlRUWXP86quv2oUXXuju+7HHHus+E4r2UYSOjJXouX/44Yfd3CtKR3OvAsmae7Vx5513unnRNYcRYZkyapqCORg5odlOv67Vdjipze59vsWqEkQbpSp97+g5DL52c67/9b/+V33wE8MFUiUVg0YiiiZ1fPOYzm+wda9S/S16OqkNvnakzka++NoMVWhGR+xCuZSignKxEPW1n8gc1vxHH6vvs2ii3wuVbbLZZzyzNva6o5FpE+97XkZXLvGNoavxjUlKlXgmWr7iGytbdOeSSAkWEw4Ly6pWixZv+i1/uDBUFIKMB0VqaEEZvUuTFpGqoaHznn/+eRcp4FvwRUtz+MYbbziz4KyzznIpO9kyanIpRVQoxUYmgkwLRUxEL45lyCgySQt8bYetxXT4uhb7KtSrgrEyQmTMSIpwkjkmkyReDRk9j6pdorQkFZ1VtImMG5lmsccqukTpUyp2q750r3WPoyUDTbtxyVgJo2PUr65HhoGiXfR8SIry0DlKA9JzojpHMu90XTJqtEW2Il90DUqZ6siokXSe6r1o6+3QDNGcyHSQZFzJwNJ8hIaL5kDRRor40rFSeD0ao+ZRpqAMEt8z2rRGdWqa7YLb2mzHk9vsjqdbbHmFjKMNxybp2pSSJYND92iLLbZw4wr7kSmkbcJ1H66++mr3XKg/FYXWfdHr4bhkrum+y6wJP2+KnpFxFjv3MsY0xzI2pHDudb/02dT7oeEic0jGkZ5FmUG679HPogwSva7xyhQLDZ7o65RWVjdb737NtscZrS7taciY+AZWutJYdA3BV2+n1K1bN/f5konm6ydGnwZzlO723FCaaGH8UKBkDRptHUwUTXr4ftuveU/lP8MdmTTx0pUk9ZVK1EeitjrzH3hfe6EKzehItFCOnWvdux6BwvpchWZKxZKLhWiq7UdHjsSaybkwlnxks09f23omOzLRE0XY5Iquuh8d4RuTlMrnVdcW77shX/F93+c6wqq0iZSgUaPFoKITFIGgiAT9tl1FUvXbepkAYXSHIidkLITXrxQTRVQoJUPFacPFZSLpGEVaXHPNNS4qQhEUxTCfimx55513nMGgdKXoiBb9VISKIpVUj+TNN990x+u6oyNq9tlnH7ezk3a+kTkm40PzL0MsNgoklNqQOaL0Hu1spHQhpUz5TB0tyJ977jl3bxXdI6mvaMk8U5SU0puijRX1r3HIENEW0WpDx59//vlunLqmmTNnrj9H/WsRrm3eFeEjQy7eNcRKnzGdq6LWmi89j+eee64zFRR1IuMhui31pa29FXmj4zV3GpvOU1SYIl4UuaU59xkSSvEpq2i2nm+02i6nttkRF7faFyPj726k8amo75NPPukifhRJo6iWnj17umdbZoE+R5prRTHpHPUtA0ZmQjjX4T2Ivg8ygNRG7NzrmmU0aQ40FzpWc6/t8xVdI+NKJlfYl+ZJc6G6R6FZFLantvS6IpAUUaXjw/dCNTY224QZ7bV79jyr1e7t02LLyv3mVQEKowaSRf+RlEGTaDEeLQyazhP72/5QyZo1umeJTBq1E6+PaCVrhiRqqzP/ge/omSskfONPVoW+CMrFQjRT7euz0z9QptpLhWz26Ws7lUhH3/m5Il79oa7GNyYpme9pPWeJIlP1er7i+77XdzXkikgJGjWSFnIyUVSDQ7/9l7TI1OJPCmtiaNEYLvo0D0oF0Tk617cIjlXYj6J41GZ0e4UsXYOeD12XollinxGZCbpemVuaM70vhUaNoiOUrqIFtxbW0fPf0fyonbBvRYzE9h1KY9D7alt9xJPup4yC2H719/BZCNsIx+m7/zpWz4zaS+Y6oqVr0GdN54b9qK1449K1aV41B7HXormJNyehVCBXuz9d9vdW2/6kVutxR6uNn9b+euyx0f3pfmps6ld/1/Mcfo6io3f0U+PoaO7Vjm8u9Xddu+YgbEN9++Y+7CvRs6jXdb7veVF9HtWmue/5VtvnD212+b2tNm1u+1bd0ccVsDBqIBEd/SfSJwyazKHfYsdb3Eq6L76Il2TuW/hb9GRrUSSD2vKdK3XmP/AdmUmFRLJGp0+FvgjyXVOmF6K+PlKN5kpkcOr1bOPrN1P42k4m8iP8TvGdnyt834W5uB8dkegzrX8PffObzHd0vqcLx/u+h1wRLHBK0qhBuZeeo9CoUfqHb3tulBspqqYm0mwDvmq2469qNygefbWookiSkq51ZXWLvdq/1Q7p0b7T0/uDmq02wZblhaa1a9d+hlEDcUi0WPEJgyY7aDelRGZNOgpNmmj0n+54i4ZUFtOJFi3porHFazcfFmqpkEwEUzwlG9mUr/iuKdMLUd9zouc3mRS+ZBbP2f6O0xh8/WYKX9sd1aPq6N+CXOHrOx/+zenoMx0+f6n80kPPcSH8e+obO+SKCEYNypEwavJLMilk1nzyVYsdc0WbHX1Zq30wuMUVG/YdX4zStX46vCW49jY7+I9t1rtfq0sLKzKziogaiCWZxUq0MGiyTybNGp9JE+KLrkn1t7rxFi16njqDr91CWcxE45vjZFSI1xqL77oyTbKL5tCYSOX7rrPPcDJoLL6+M0U8wzPdecmlUerrPx+IF1mSrnSP8jmSJhrf+DsyRCFTRDBqUI6kFBWlOqmujQoyq6aJrwgwyp1kSMiYeOmjFrv07y325qctVp3BnY7yXZXVzfbOFy12/m2tbsvy+UuKKuUpFEYNxBKv4Ge09B/JawNtEghyQybMmlyE0mfC7PER224xGYS6t4kiForlWn3Xlmn0nMQzIzqjRAZnJvF9xjNphnRkZKWiXJuHvjHkC5l65grts+67Bj1jkAsiGDUoR5JRo7omKkyrArIqrBxdJBd1jdasaTcs5ixqthVV7X/3HVeM0g5YKyqbbfq8ZisPfhbjtZP6BB46MgOIoOk6OlrQxxP3DPIB37OZDTJpRki5rBXi6z+Tn10ZWclED3UkzUmuv1N848gXOvvMdcV8ZoJ4BhXkgghGDcqhZNaoSKyeq2IprFwMUmRNU1OzK6zre7+YpWtWFE2xXjtGDXiI9x+vXC5WIDG+qBWfMGggn/A9o9kg2c9HRypWM6KzZk2uooti8Y0lX4h+5moCLV/352RUyP+2xjOoIBdEMGoQQqhohVEDHnz/8cpFbQYAKG5iv1ekbNaz6Ixh01WLZ99YskG6c9NV85LtIsvZwhcFWUy/9NBzFH1toSAXRDBqEEKoaIVRAx5i/wNfTP+pBICuI3ohF0o1sXJBR8ZEvkSf+caWTZIxbPLh34BsF1mG9OG+dBURjBqEECpaYdQAAECO8C3olGoJP+KbI8h+kWVIn9j7IkEuiGDUIIRQ0QqjBgAAcoSv/hU7xGxI7PxI4J8X6m91PYWaklYcRDBqEEKoaIVRAwAAOaJfoOjFnIwbFtsbEj0/oXoEUvTIrYGyWdMnn/HNC3QtMmni7UIIuSCCUYMQQkUrjBoAAMgRWwWaGkgLORUox6TZmNgFb6xyVdMn3/DNRS6RQfZQoExsbV4KglwQwahBCKGiFUYNAABA3uBb9EarVGv6+OYiGoyU/BG7ROaKCEZNXmvt2maL1DVbdU2zVUVpVaTZGpra3/edl6rUTkND0G7thv2o39X1mesHIZRbYdQAAEAWUFqEdurRok1S2lOppu2kgm/hG61irekT/bz4rhsVhlT0mV0ic0UEoyavVbmq2fp+0mK3P9VqNz7erpueaLWHXmq1SbNarL7Bf16qkhkzYkKz3f9Ce/thX3c+22r9h7VY7Wr/eQih/BZGDQAAZJh4tSsoHNwxsXMWq3xOF8NsKW1h0uSaCEZNXmtRWbNddFerbXtCm+1wUpvtdkar7Xlmq51wVat9OarFIhkyUBRJ88ZnLXb0Za22R9D+rqe12W+OD/o8uc2ZNRVV/vMyobXS2rVOvvcRQukLowYAADKM6qj4FnISJMY3Z6FymVJCKhFKRZWBMGlyTQSjJq+1YGmznX1Tq+1+Rps91rfVho5rsdGTW2zizGZbWd0c3Bv/eamqKWhnWUWzfTu9vf1PR7TYxXe32nYnttkNj7VaeaX/vM6oKXiuVtVFbF75Upu8eK7NLltktfWrbW0zhg1CmRJGDQAAZBj9Zt23mFN9FdKfEuPbwlzKZLQCkS/pSWbEtYE2CQTQ9UQwavJaMmr+cFOr7Xdum30wuMVWrmq2+sZmawi0JsN1Y2TWqF21v7Cs2W5/usV2OqXNbng8s0bNmrVrLVK/2uaXL7WPx39lV7zyiB1x/xV20fP32rcLZgbjaPKehxBKXRg1AACQYeKZDZLMAerVxEfpYbFzloxJg/mCkQKlRgSjJq8VGjX7n9fmasXU5KBWjFKRFF1z57MttnOGjZr6pkabVbbIXhvxmV3y4gN2xANX2i63nGP/fdXx1v3Bq23ErEnW2IRRg1CmhFEDAAAZxmc2xArDxs8OgeYGCucpTCkpFSNmXKDoOjyJ0ugkgNIlUqJGja5J11ZRUWFLliyxhQsXOi1evNgqKyutvr5+o5opTU1N7r2ysjI3N42NjVZbW2vLli2zRYsWuXb0vo4Lz9VPHbN06VLXV0NDg9XV1bk/qy+dV15e7sYS25+UilGj82tqatx4Vq1a5frST/Udjq+qqsqNz3d+qGwZNYqkWVSx3B78pK8d9eBVduDdf7YLet9l5z17p217/enW/aFrMGoQyrCC7wWMGgAAyCSxZkMqKjUDpxgNmFizpTPIqPL1EQqgdImUoFGj65HZ8uqrr9pll11mBx10kO2yyy6244472t57721XXXWVDRgwwFauXLnBtcvwuP/+++3EE0+0t956y0aNGmVPPPGEHXXUUbbrrrvafvvtZzfeeKNNmjTJmTE6R3P47rvv2hFHHGGXXnqpDRkyxN5++227+OKLXV/q99RTT7XXX3/dVqxYsdFcp2LUyIRRO0cffbQ9+uijNnjwYHvggQfskEMOsZ133tn2339/u+mmm2zixInuvvrakLJp1Cxcsczu+eBFO/vp2+3ZQe/ZuLnT7b6PXradbz4bowahLAijBgAAsoQMm3wzILJpBBWb6ZIPqUSJorM0zwClS6QEjRqZKDJZTj/9dGeuHHrooXbsscc6w2X33Xe3bbbZxo455hj77LPPXDRMeJ6iUmTEyJS58sor7fzzz3fmh4yQww47zLbddltn9tx99902f/58N286/5VXXrHtt9/eDjzwQLvkkkvsd7/7ne27777unD322MO22GILZ+R88cUX7vjoyJpUjBoZS71797YddtjBTjnlFDvttNNsn332WT++3/zmN24ct912m82bNy/ufU3GqNEYFVGkuexIiuwJr2nV6oiNnjPFvp4xwcqqV9qyqgp7aEBf2+XmP2DUdIFkPuqZ3nLLLX3/QGZF6uuCCy6wuXPneseEMiuMGgAAyCKdia5B2VUmI1+yRbznJ0wJAyhdIiVo1MhgUNqRjJgvv/zSxo4da9OmTbPJkye7SJrzzjvPLSYV9TJ79uz1JoOMmhtuuMH+8z//037xi1/YAQccYPfee68NHz7ctfHkk0/aXnvt5SJ01I7Sp0KjZquttrJNN93UGTkyed5//30bN26c9e/f304++WT3/h133OH66KxRs/nmm9tPfvIT23PPPe2ee+6xESNGuPEp+kdGlMwl9avx+dpJxqhRStXIkSNdtJCii+KpX79+9vXXX7uUMF2XJCNG0p/LV1Vi1HRCXWG05FKYOp1X8DnDqAEAgGyDYZMbFYL5AgCZIFKCRo0MAkV5qJ6LrlGGhf4uqXbMCy+84KJmunfv7gyOsKaLTJTrr7/eGS7bbbed9erVy+bMmePmSNKxZ555pjNDZM7otWij5uc//7lbdH7zzTcuTUn9Bgsoe+SRR1wUzOWXX26zZs3aYL7TMWrUj6J0ZPzMmDFj/fhGjx7tomx22mkne+mll9xrvnY6Mmo0fwsWLHBpVDKrdtttNzdfPily6JprrrGpU6d6a+Ng1PyoYjddsiHNlT5zmjvfnCKMGgAAyCkYNp0TRgwAtBMp0WLCMhtklCjSQ4s8FRKW+aAIGtV5kcGglCGZG7FGjVKIbr/9dndeODdqT39/5plnnOGiaB2l/YRGjdKilGL1+eefu9d1vM7TGL766iu74oorrGfPnq6Pzho1Gp/SsmT6KHpI76m/mTNnutQrva9aO4qKiW3DHRuoI6NGhYllMJ111lmuZk88nXHGGa4vGVq+56iUjBo9a4rSwojJjYjGaVfwecWoAQCAfGCPQAMDef/dLnJhwABAakRKNKJG1zZhwgR78cUXXc2W6667zv7617+66A/VrvnlL39pBx988EZGjVKfVABYaU4yOkLDRZIpoh2cZPhUV1e796Jr1Bx//PEbROiEY1Fkj4wiRdcoqid8T0q3Rs21117rxhKOTz9l1KigsYyav//972kbNZLGqYLMWgTL3IonGTTahSpemlUxGjUYMvmtUovCCT77GDUAAFAK5MoIwnQBgOwTKUGjRubJoEGDXMSHDBSlAqmei3Zh0k+lNXXr1i2uUaOUHkXOxBo1PkUbNepv/Pjx3hSgeErHqFEdHI1Tu0hly6iR8aL5UG2fKVOmxJXelwml58g3V4Vu1BSDKbPZZpu5XcLipcJlWkotzMf5KtYIHIwaAAAAAIACI1JiRo3MAkW83HLLLS5q5re//a0zN5R+pOK+Mmb0dxUF9qU+YdT8OIdK/1I6l9LE4kk7XCldbPr06d7rLkSjJt/MmVwbLblUV5o6xWLcBJ9XjBoAAAAAgEIiUmJGjcwCFfNVoWAZGjI2ZHDodUlFft98801nMmDUJK5RI3Ogoxo1SiO77777XAqU77oLyajJhUFTzKZLpqXPkj7HvnnMtgrJxMGoAQAAAAAoMCIlaNSMGjXKDjvssPVGjWrDqE6MtuzWdt3nnHOO/fd//zepTwlSn1QQWeaLau5ojuJJppj61TxoDNLqhnqrXl1rVZEam7N8sd3z4Qu2001n2xEPXGlfTB5tK1ZVWXXwXl1wXEfzmyvJpMmUKbDffvu51DtfPyhzymU0TmjcvPfee96xdKWCzxBGDQAAAABAIREpMaNG16Itq3v06OG2sVZNGqVBKepD0R/aWvsXv/iF/fu//ztGTQKjRu1pLnUtHUnHheOojNRY/2+/trvef95uevspu7rvo3bUA1fZFtecaDvceJZd8Nzddv2bvdz7n0wYYTX1kQ367SppER58XFIShkz+qSuicLraxAk+exg1AAAAAACFRKQEiwlXVFRY37597YADDrBf/epXzrjQTkkyU7S4Pvvss917xx57rIsYCa9fETeqy6L3nn/+eReFE92uT5rDN954w9W8UZrQxIkTU5rPVIwaRX1oF6t99tnHjVPXGW3UaBcm7WolM+rhhx+OO/5kjJp05NqtrrCHB7xmh/z9MtvjtvNs11vOse1uOMO2/OvJtvW1p9hON59tu916rh1y76X2+GdvWkVtdXBe10fVdOvWzbsID4UpU/gq1ggcjBoAAAAAgAIjUoJGja5HpsbQoUNdZMw999xj9957r7366qsugmby5Mn22muvuUgYmTPh9SsC5YsvvnDnyMCJ3UrbJx2jbcC1nbdq32hL4GwZNbpXKoj81FNPuRQu3b9oo0bGTf/+/a1Xr16ueHK8LbOzZdRIq1bX2qCpY63n5+/Yg/1fjauen79tQ6aNs9r6OjceX1u51CabbOJdcKumzIABA7znoMJWrowbmYDZrHeDUQMAAAAAUGAEi/mSM2okGRe6NpkXZWVlrk6NCgnLvJC5IiNHqUSNjY3rz9E8yKxRSpHmJjRBEinsR+eozej2klEqRk10Xxpn7H1TGlJ1dbV7P6wZE/1+qGwaNWvWrrGauoiVr6qy5dUr40p1amrqgmcviTnOhVRYOvi4bCAt4n3HouJXtk2cMOImE+ZN8DnHqAEAAAAAKCQiJWrUFIpCo2bfc9rsnS9abOmKZltV22w1kWZrbGo3VXznpaq1a5utobG93eqg/dmLmu2WXi2208mZNWoKVVOnTnWpccFHxolIGhQtpb1pRzA9F+Ezkkl1JlUKowYAAAAAoMCIYNTktWTUnHVjq+10Spvd1LPVXu3f4gybAV+32KIyRcn4z0tVMmlmLWh2UTtqv8+7LXbmDa22zfFtdsNjGDUIpatsmTjJRt1g1AAAAAAAFBgRjJq81pLlzXb1A62211mtts/ZrXbAea120AWtdsb1rTbkmxaL1PnPS1WK0un3ZYud/JdWOzBoX/3scWar7XdOqz3wYqutrPafhxBKXZk2bxJF22DUAAAAAAAUGBGMmrxWXX2zTZjebF+OarbPh6/TiGb7anyzLVvRbE1r/OelKqVRLVjWbEPHtrcf9jVodLNNn98eceM7DyHUOWWj3k10tA1GDQAAAABAgRHBqMlrqXaMzBgZKdFSypPe852TrtYE7cX2I63JkBmEEEpOWSpWvDRQ30BbBQIAAAAAgHwlglGDEEJ5rSzUucGwAQAAAADIVyIYNQghVHDKYNQNkTYAAAAAAPlEBKMGIYQKVlnaVQrzBgAAAACgq4hg1CCEUFEpCzVuMG4AAAAAAHJFBKMGIYSKVlG7PvUIJMPFZ8SkotC0OSUQAAAAAABkmghGDUIIFa0823NnyrAJRbQNAAAAAEAmiWDUIIRQ0cpj1MSCcQMAAAAAkE9EMGoQQqholYRR4yOT5g3GDQAAAABAKkQwahBCqGiVplETS6aNm36BNg8EAAAAAACxRDBqcqe1waKpKdAaz3sIIZQFZcioieawQH0CVQbyGTGpiGgbAAAAAIBYIhg1OZHMmcbKNRaZ22h1i5tsbeNa73EIIZRJZcGoiYVoGwAAAACATBLBqMmJmlattaVv19r4c1bYzLurrH45c4oQyr5yYNTEkinjhmgbAAAAAChNIhg1OVHDyjU256FqG7rLUpt89UqrW9LkPQ4hhDKpLjBqYsmEcSPDhigbAAAAACgNIiVq1KhWzJq6tba2YW177Zg1wd+DP69Z3S69vjZ43XduWGtmTf2Px+vPG9WeUZvrjlG608w7q2zwb5bYxEtXuhSopuD1UG4sQZvhuW48Olevx7Yb9h+85/qNHmfwZ3deOB4d27ju2I7Gue4913fUXHjP6aT0TDU2NlpdXZ17xiT9uaGhQQvLjY7Xa3qvvr7enau/NzU1rT9fP/X32HN1rM4J25Wi+w3biz4HoWJS8Mx3tVETzR6BBgbymTHJiCgbAChENg0k01rff7cGwngGAIDERErQqJHJUV+2xipHN1jN1AZrql1rdWVNVjWuwSqG1tmKIaut+tsGq1+xZqNaMjIsmmrWWmReo1WOqrcVg1e746vGNNjqhU3WFJEZEBwbqHHVWque0GArBtXZ0vcjNqFHhX25xWIbc1K5LXm71sq/XN2ugautcmS9NZQH/a1pN0UaKoPxBW1WftNgDVV6PWoMDWtdXyuH11vV2GD8NTIu2vvU2FYFfepadF5j5drgGhtt5dfBdQVj1ZjrgnNl3Oh4N87gmKqx9cE111t9MAZF+1QF179iiOaizrVVtzQzdXVklMgcKSsrsylTptjw4cNt0KBB9uWXX9qwYcNs8uTJtmLFCmemRJsueg5nzJhhY8aMsWDRadXV1TZ79mwbMWKEDR482L7++mv399ra2vXn6efKlSvtm2++cX3pnPLyctfH0KFD3Xl6b8mSJXENIoQKXcFznU9GTSydibbBtAGAQkAmzdRA0d9f/QOpKHu87z+9Tr0uAIBSJlKCRo3qxSz/eLWNOrLMJl1aYWUfR2z6zZU24tAyG7b7Mhu641IbfuAym3VftdXOanQRJzpPZolqyyx8qda+PW+Fff3bZfbVPoH2Do7/bZlN/FOFLe0XcUWDFcVSM7nBJl+50obttcyG7LTEvthssX3yfxfYZz9dZEN2XGJDd13qNGz3pTb25HJnEoURLDJhRh+z3EYetdwqx9S7CJdw/A0VwRier7Fhey+zMScst1VTGpyJIgNq1ZRG+/bcFfbNieW27IPVNu+JVfbNCeVujBrDsD2W2eTLVlrFsKAvRcoE56wcVe/MI7U199FVNvnylTbykDI3tsHbL7Gv91tm026stFXTGt11heNIRzJEJkyYYDfddJMdeeSRttdee9muu+5qO++8s+2000522GGH2R133GHffvutM2vC8xYvXmy33HKLHXXUUfbiiy9anz597IwzzrB99913/blnnXWWffjhh86s0Tk6/6uvvrLu3btbjx497M0337TbbrvN/X233Xaz7bbbzvV/8803O/Mmuj+EikV5btRE05loGwwbAMhXZMj4vreS0fBAAABQikRK0aipXmPL+kVs2K5LbfgBy5xJ8dU+S+2bE5a7+jFjTi63QVstsa/3XWaLXq61NZF2k0TRKss/q7NR3ZfbsD2X2sQ/V9i8Xqts5t3VNvrYchu83RIbe2q5rRxR7yJrlO60+I2Izfp7tU27qcpGHlFmn/90kX213zKben2lzbyrul3B+fOfrrGamTJC1rpol4ohdfb1/sucGbNyRLupEo6/YcUa1+/AYIwjDiqz6gn17UZNY7OL4Bl93HIbstNSG3f2Cvs6uL4Rh5TZxEsqbEKPFTZsl6U2eNslNi3ov65sja1paLaKr+ps+EHLbOCvFjvjaejOS23Ukctt0mUr7Zvjl7soIF3voldrnQnlInHWjSVVKZpGkSynnXaaHXTQQXbeeec5A+aGG26w4447zrbccktnutx9990uskZRLtKCBQvsyiuvtG233dZOOukkO+CAA5xJc/7559tll11m++23n/3qV7+yCy+80EXW6JmVKaRonT322MNJBo1MoUMOOcQuvvhiO+WUU1x/e+65pz3//PMu4oaoGlRsKiCjJhZF29QF8i1eEonfRANAPpHO91i0AACgFImUsFEjw+LTbgudGSLDpGZag4uYqRxd356m9MvFNuGPK6xuaXuEjNKhtGuTImRUGHj1/EZn3jQodWh8g024sMKG7LjUZt1T7UyaNU3N1li71hqr1lpkbpPNuK3SBm2zxBk8tTMa3euhFOXjUovWtteT6ZRRc/Ty4LoW2aBfL7Fvz6twkTr1S5ssMrvR5j5e7V5XBJDStWRCyaiRofPpvy60wdsvtRm3V1r1xPa50DVP+FOFDdx6sU25dqVF5qsOzMZzmqz0LFVUVLg0pvnz57sUKKUnSZMmTbJbb73VtthiC2fijBs3bn0KVGjU/OQnP7H/+q//smOOOcbef/99W7hwoUtdeuedd5zhokiZjz76yD23oVGzww472L/927/ZjjvuaNdcc41rV+lTU6dOtdtvv9223nprZ9yoLYwaVGwqYKNGZKKmDaYNAHQlLYF830/JCgAASpFICRs1Q7ZdYgO3XGwz7qxydVzCwsL1y5ps3uOrbNge7VEpq+c3WdOqNbbolRobtucyG3dme9SMDBWlQyl9SGbLoldqnYkzPjinelLQXvBe2KfMldl/r3bm0KQrE+/6lAmjRmlW489aYeVf1rkaNrouRfmUf1HnImxk1FQMrXf1eZxR89tlLnJm8hUrbdXkhvb+gnN0XfOfqXEGzoQLV1jNjIbgujpnZuh5Cgv/Svq7VFVVZf369XOpTIp8kcmiCJzQqLniiitss802c+lPMmZk7ug8mTlKlTrzzDNt//33t759+7r0p9CokUGz1VZb2Y033mgTJ050hYTVpo754IMPnCmk1ChF4mhcvjEjVKgqcKMmFmraAEChofQl33dSsipGVLcnrNGDoQ4A4CNSwkbN0J2X2KijymyVTJWoGjAyKWpnNlrZxyoUXO+MDkXVTL5qpQ3aarFN+NMKK/tktasdU7VOKtK78MUal0o18vDlrnivi5BZ16bqyuTMqPn9cpfWpXo5utYwVSmssbP8izpbHoxfBYLX1IepT2Vu7Mvei6xP9XJjCf685K1aG6pUqjNWBHPVYGubOmfUyCSRWbJ06VKbPn26jR8/3hUJVmHgZ555xhk10hdffLHeVAmNGkXH9OzZc31aVNieTB4VFP7kk0+c4SLzJjRqFGVz9NFHu8LFai8ch55rjeHzzz93tWxIfULFqOCZLiajJprOmDZs9w0AuWKHQHMD+b6LxgU6LFCI75hiQyaNL1KSejwAANFESrxGzZgTy13ETHT0i4wNGTdKa3K7ODU1u12eFCnz2U8Wulouql8jkyTU8APLXATOF5svtpG/K3PmR5cZNccst6/3WuaiadRWdNu6FkXR6NrCczTWEQeXuQLC5Z8H9zvatJJR83a7UTP29PJOGzUyQlatWmWjR492aU6///3v7eCDD3ZRLQceeKDtsssuLk1JhozPqNH7L7/8stXU1GzQrp5RPa96XQaNzomuUXPCCSdsVKBYUgSNImt0brE95whJRWzUhHQ2yobf5AJAvuD7niq27ycZ5b7rlAAAICRYoJa0UTP2pHJbvSDGqIlV8J4zas4qt89+ssgGbbvERh623EYdvbEUzTLlmkpbNXFDQyPjRk3PDoya4LzygRsbNbGScbPeqDm0zMq/yK5Ro8iX1157zZkzSkfaZ5993O5PinhRSpMKBHfr1i2uUaOUqFdeeWUjo8anaKPmxBNPdLtNsbMTKjWVgFETTbo1bWTY6LfeAABdie/7qdgiTSoD+a5TAgCAkAhGTcdGTSAZK5MuWenMkUmXV1jFV/VWM6PRpUhtoFmNtnphk9tmO0w5kpxRc2+12xlq0hVJGDVD1xk1ey6zlV9FGTVBm/VLg7YerHbFjgvJqNFzNHPmTLvooovsl7/8pZ188smuJo22xtbr+ikTJtyuG6MmN1L6l+r3aDesq6++2nsMKlyVmFETTTqmjQwb6tgAQFcRr/BwMZGoZg8AAIREMGqSMmoag3Pm9lplg7dfYmNPW+GMGm1tHW3GuJSpoB1fW9rWeu7jq2zIDkts/PkrnKmjSJ3Y4ySZMiuH17l0qsHbLbUl70SscVW7OSIDaMXAOrel+GebLrIRwTGFYtTIJPnmm2/s8MMPt2222cbVo1FBYBkxesbKy8udCaPiv9qiG6Mmu5JBI2Nmk0022eA/SirK7DseFaZK2KiJJdXtvjFsACDXxDMxiglFL8aLqgEAgJAIRk1SRo1MGe2SNPLI5W4L7um3VNqqKY2uOG9j5VoXMaOCw5H5jdZQru28NzQzVBNGu0INDfr8at9ltvj1iIuq0blue+51NWOc2dPYbFXfthsu2olp6o1BX1MbrGHddtmKyFGdnAH/srDgjJqxY8da9+7dbcstt7Q777zTFf5VYWBt1a3omuOOO87+/d//ndSnLGnu3Ln2wgsv2AUXXLCRQRMt37moMIVRswFE2QBAPiMTw/c9VGz4THN9NwMAQEgEoyYpo0YGimrDyGwZ/ttlNmibJa6g8PhzV9jU6ypt0hUVLsplzMnltvS9iIvAiY62WdO41ipH19u356+wgb9c3B5Zc077udNuqbS5j62ymmkN67cIl+kz864qG7LTUhv06yU25oRym3BhhY08osy+2muZi7b5/OeLCi71ad68eXbddde5iBrptNNOs4svvtiOOeYYZ8LIoPmP//gPF1WDUdN5RRszMseCj3yH0i5ZvrZQYQqjJi4ybeLtxBJPFB8GKB2it5D2fR9Imf5OUJ++fooN3zVG734FAACRUjRqVq215R+vtpGHldmEP66wusUbmirxJCNk9aImW/hSjU38U4UzaobsvKQ9SmbvpTb6uHKbfkuVVY+rb69RE31+0H5jxRq3LfbES4Jz9w/O3WmJDdllqQ3bfakzeVSXJjxvTV2zVY1tsBl3VNnwg3Rs0MdewXEnl9vsh6rdrk8jgtf195qpDe1GTVOzi/KRATT66OXt6VlRRYh90jnaWlz9jz2lfQwbbFUejKfso4iNOKTMJv65wmqmNXZsaiWQdlgaOnSoM2v2339/Z8zIfFF9lKuuusruuusulxp12GGHuePq6+vdeYsXL7ZbbrnFvf7OO++4dmLbjpVMGW3ZrWLFMiqmTp3qdnnyHVssSseYiZbOURu+tlFhCqOmQ9LZNUrHU3wYIP+INlfSNVGSMWhiNTVQJswa9etrP9Okc43RSnduRamYUQAAnSNSgkaNjIaGlWvczky1MxrbzYwkjBpJ5ypNafWiRque0OiiZGR0VI2pdxEx9cvW2Np47QWvyfioW9Rk1UHfOq9yZPv5ioTRmNabIMGxMkzqlzfZqkmNVhX0oz403sbgOEX3qI2aKQ22pnad0RRI24nXTmt0kS+K6kkmUqixeq2tCtpRW41VG57j5qoi6CsYn+rqKMLG9RXdRgpSdIzMF9VHmTRpktumW9KflyxZ4urUTJkyxSZOnOh2iNLxOk/nKBpHr+uYZJ5Jnas2dM6MGTPc8xy2V0yqrKx0tWbSMWZCbbbZZvboo4+6z7uvD1S4wqhJiVRNm84sVgAgOTprKqSya5L6kunia6cjZcKsyVVKUKItslNROjtSxesbAACiCRavJWfUSDIgZIQoSiZl4yE4vv38ZmfyOLm21sYtEBytsO/15wZyY/Gc644Nxqj22/sIXl/f/7o+o8ev94Jj3HvJXldwnFKzNmprneL21QnpmVLEiwwYSX/Wa+HrSluKfu5ksCgaJvb1jqRjdY7aLEaTZsCAAc5kCT7KaQmDpviFUZMWqRo2KoxJHRuAzCPjJJ0t92OVLPEiWpJVZ7fS9rWZjZSgRFtkp6pUiVfUHQAAoomUqFGDUKEqTG/S7kzBRzglqYCwijnfe++9NmLECG/7qLiEUdNpiLIB6DoyFfmRLKnsDBdPnSHT7cUj0RbZqUjfd6mSqXYAAIqbCEYNQnmtztSdwZhBGDUZI9Xiw/qNNYYNQOfIRORHKiZASyBfG6moM2S6vXioxlaqxdRjpXtzTKBU8bWVTjsAAMVNBKMGobxTunVnMGZQrDBqMk46aVEYNgDp0dnIj1TNhExEmqRLqRTZLYVrBADoPBGMGoTySunWnZFBoyLNvjZR6QqjJmsowiaV2hkYNgCpo8iPRMZopumov2SULqVSZLcUrhEAoPNEMGoQygsNGjQorbozMnWUGuVrEyGMmpyQSpQNhg1AaiQyT7JBZ9OC0qVUiuyWwjUCAHSeCEYNQl0mmTMXX3xxShE0pDehVIRRk1NSjbLR4hPTpnRJZdvpUn9WZJ745iXb85GqaaP7lC6Zbi9f8V0nAADEEsGoQSinUnqS6s8ka85gzKDOCKOmS0jVsJEwbUqDVMwZn6YGKtVnxDcfnd0OO1U62i68M0VxM91evuK7TgAAiCWCUYNQThQaNDJego9eUqLuDOqsMGq6lHQMGwnTpvjorEETrY7Midi+Un2eos+PPdd3HYnaj3fdic6JR7wdmXJBMvdP7/lINJ8hOsbXZjHiu85UngMAgNIgglGDUFaVjkFD3RmUKWHU5AXpGjalHD1RTGgRrnvpu8fpKh7qK96zlmx9JF9R29AcilfwVop9XhONJVQqETHxdmTKJtEmi6/vUKovExv9kujc2OvWcbHHSMWI7zpTeQ4AAEqDCEYNQllRWH8mWYOmW7dudsEFF9h7773nbQ+hdIRRk1cQYVNaJLvIT0fxSGSkhEpkAGrMiYraxnsvVNh2MiZNqGSJV6cmmyQzn+kqGt+8av4yTfhMyhjpqu+UroyMAgAoHCIYNQhlTJWVlSnVn8GcQdkWRk3ekq5pI2nhrwXkVoGKkViDoxCNKl1DslE04wIdFqgjEySU5iMeybYRL7omnjER9hlvkR0tXXeyz3aia/HhayObJDufqSr2un3H6JnINNkwnlL9fHZFZBQAQOERwahBKCMaMGBA0gaNjnv00Ufd58vXFkKZEkZNQdAZ0yaUFkvFYt4kMgsKwbBJ1qSRWRKdLuM7xqdEBWaTMVKiFZ1yonHHMybCPuMtstNR7PUng6+dbJLqfCYjzXHsdfuOy8ZnOVvGk5Rs+pJvu/VY4woAACIYNQh1SmENmuDj1KEwaFCuhVFTUKS6FXAyKhRzI5pkFpP5el0yO/oH8o1Z0sI/njnhOz5WHS1oY40UzWXsojhW4RzGq5MS3Wf0MyqjRYo9Pp58BkWq+NrNJpk0pqR45pTPEFKkVaaf72wYT9FKltjnqLPPBQBA8RHBqEEoLaVSJBiDBnWVMGoKkkxE2HQkLb7zNQInlcVkPhk2MmkS3bcwxSkevnOilYzR4VsAd2QAag71HPgMso4W0Wq7IyNIyoRJI3xtZ5OO5i4Z6b6fEKhHID0ftwaKfV7jGUKZfr4zbTxFS2MFAIBMEcGoQSglJWvQUH8G5YMwagqeXJg20coH4yOdxWSiArm5IlH9j2RMCt95oTIRdaBnKZ4JFm/sydRJkZmRyFzLZMSEr/18x5cKp/mOpqM5zNTznQnjySeiYgAAMk0EowahpJRKBE337t3d8b52EMqlMGqKEv1mPpkohmwpGTNHi9Ns7XgUT1osdqXJ5ItIkZKNNIi3UM8k8UywzvadyFzLZFFcX/v5TryUslSlOQYAgFIhglGDikDabUlbYW+55ZbuPzT6eeaZZ2bELFHbN954Y9IpTi+88IK3HYS6Qhg1JUNXmzf5pK6KrvGNJZWUH6XI+NrIpPmUakRFsqhd3/lSJsl2+9kgnoGXjgAAoFSIYNSgIpBSjILHeSMdcsgh3uOTlYye3Xbbzdt2tKhBg/JVGDUlTa7TpvJJXRF94BuHDLRkSLTjkpRp8ynZ9LJU8J0vZZJst58NfGNOR8lGZgEAQDEQwahBRSAZJcHj7FU6UTXJRtFg0KB8F0YNxKEUInByjW8MyRgsvhomiaT71tkom0QRMKFSNQZ8bUiZJNvtZ4NEtWeSFTVgAABKjQhGDSoCKXImeJy9SjWqJpkoGgwaVCjCqIEUKLYInFwTb0Eez6zpbB2fzkYNdWQgpGoM+NrQ85RJfH3kO8lGL8UKcwYAoJSJYNSgItDUqVNt++239/1Hx8l3TrRia9zEkyJsMGhQIQmjBjJMOmZOqgvOTO1Mk2s6WpDLkNExmYxk6gwdjTdVfG1kspCw8PWR78R7njFiAAAgPhGMGlREihdZM3fuXO/xkkyaZOvQDBgwwNsGQvkqjBooUjqKRkk1bScTaEGeCRNGkS7XBurIrOrsNSZKf0onEsbXTqbJRR8AAABdTwSjBhWRFFnjqyujSJlYs4YoGlQKwqiBIkQmTaKonq6MVOisWSOTJnrs8SKYMnWN8dKf0omE8bWTaXLRBwAAQNcTwahBRaZ4UTX77befM3KSMWdCEUWDCl0YNVBEJFPTRcZDptNtUiVds0bmS67H7kt/SjdSx2f6ZJrY9qVERZXTrQOk4zO5LToAAEBqRDBqUJFJZky3bt18//FKWhQLRsUijBooApJdbMdGo3Ql8eqSxFNXRQHFjrMz44g1fdI1fBIR3X4upGsCAADIPRGMGlSEGj9+fIdba/ukc4igQcUkjBoocDpKcwrVFdEoqaAUpv6BNNZxgfJ5rOkSbfpky3iKl6qVTQEAAOSeCEYNKlIl2rLbJ6VGDRo0yNsWQoUqjBooYJI1aeoC5UskDWSXjnaqyrSyERUEAADQMRGMGlSkUgpUMrVoMGhQMQujBgqYvoG839tR6qqUIegaOlusORVhAAIAQNcRwahBRSyZNdtvv73vP2AUCkYlIYwaKGBkwni/vwNh0JQuqdb/kRKlm/na4/kCAICuJYJRgxBCRSuMGihgfGkuRDkAAABA8RPBqEEIoaIVRg0UMJnckQgAAACgcIhg1CCEUNEKowYAAAAAoMCIYNQghFDRCqMGAAAAAKDAiGDUIIRQ0QqjBgAAAACgwIhg1CCEUNEKowYAAAAAoMCIYNQghFDRCqMGAAAAAKDAiGDUIIRQ0QqjBgAAAACgwIhg1CCEUNEKowYAAAAAoMCIYNQghFDRCqMGAPKEhwIND9Qr0OZ6AQAAAOIQwahBCKGiFUYNAHQhmwbqE2hpIIuS/r5VIAAAAPARwahBCKGiFUYNAHQhfQNFGzTRGheIyBoAAAAfEYwahBAqWmHUAEAXUhfIZ9KEUioUlDbRUVdSv0AYeKmh+VJqYWzkWiFIY5ahS4QdQCyRSKRnTU3N7Nra2ln6Gf1n/Qzen71mzZpZwX/2Z/sULATce7E/O3ovnhIdm0o7oRId2xXthNI56ZznU7r9J/NaRwrPiT439rVk2k10TqbbQajE9AZGDQB0ES2BfIuzaLFAK218UVfFaOAVspmC8ksYmqVCbW3tFpWVlTsHP3fSz+g/62ckEtm5sbFxp6ampp19am1tde/F/uzovXhKdGwq7YRKdGxXtBNK56Rznk/p9p/Max0pPCf63NjXkmk30TmZbgehUpOZ/T/rvvIBAHKJFty+hUa0tFCH0iVe1FU+gtmCClkYPAAAAAAA8E87BJobSIuEynWKXTwo6gZKl3hRV7kC8wWVmjBsAAAAAABgPTJufAsHKG7COjSKsIpdIMaLuuosGDAIJdbUQJg1AAAAAADgXTBAcZNo968Vntck1S6Kt7072liKVrs20CaBCokegbi/XSc9N0TXAAAAAACUOL7FAgWFi5uOdv8qFUWbKb40QAniw3z90z/tEWhgIN9cdEZE1wAAAAAAlDC+miQUFC5uktn9q1CUqciVbKV8FSuKrsrX+UqU2pcPRNcKSyRq1wAAAAAAlCi+BSoFhYubeKZEvqgr0oao15QaMkLydb5iU/v0vOcjyRo2+Tp+AAAAAADIEixQS49kF4iZVlcYMKngGzP48aXPKQUoH/CNLZ9R+lRHn0fSUQEAAAAASgzfwgBKj2TrbYwLdFigYsN3rSyQ/fjmKh+eiXxOyUqEzNNERZz1mSMFCgAAAACghPAtDKC0KcVngnpNyRM7T1I+kM8pWR3RUaQbBYYBAAAAAEoI36IASptSfCao15Q8sfMkdTWKpom3o1khIcMmXsFv6tUAAAAAAJQIvgUBdD3h7jVhSkQud4GJfR6kYod6TcmTb/Okz0r/QL5xSYVGooLfAAAAAABQArAYyE9id68JpRSI7QJlcwtiX7+lQKled6rk2zzF+6yEKjQS1awh/QkAAAAAoATwLQYootr1aJck372RmmP+numUiOi2Q5UCvuvms7AxvnnqKhKlPIUqROJFeJH+BAAAAABQAlBENT9JlP7g06eBMvXbdl/7pQCfheSInSOpK+go5SlUoRKvVg0AAAAAABQ5PkOAIqpdT6L0h0TKRC0bX7ulQCY+C7G1hXzKZb2hbOC7pq6go5SnUIVKPLMWAAAAAACKHIqo5i+6N4m27O1I6RoCvrZKgXQ+C8kYM/FUqGksvmvJNcmkPIUqVPhuBgAAAAAoYVgMJEZGx0OB0lmM54NSNWx8bWSDjkyOdI2mzuAbRyKSjeqIp0JD9ywfriOVeS9kiu16AAAAAAAgSTK5GOhMhAHKrlSgOBnjw3duptFzMjCQr69Y5TLyxNd/ooLCiYo+dySlVeXShMoE+mz7riXXpDLvhVwQutiuBwAAAAAAkiTZxQAmTH7qH57XEklbfCcyCHznZJJUTJpQuSLVgsLx6ogkK32WCmnh7Us30r3MNb5511ymev/ynWK7HgAAAAAASBLfYmBcINVIwJjJbymy4JhAqdazSWTW+I7PpJmQarqQnr9c4TMA9PmIR7w6Iqko2UinfMA3/sMC5ZrY5z38HKR6//KdYrseAAAAAABIks5GBaDcSQZaRwvjZE0b3Xcf2f4tfrJFYEP1CJQr4hkviYwq3/Eyl1I1z+Ldj3zCN+58It79K1SK7XoAAAAAACBJtBjwLc7Rj9Jv7K8NtEmgQmKPQInMAh/Z/C1+vGK0iZTriJNUjarYYyWfuaR70VHKV76nQfnGnG/4xlhotYCi8V1PIaXLAQAAAABAmmQ6qiaZyA/IDQcEimfE+cjmb/HjFaNNRopSyYVhk6pR5ZtbPf/xxinDJl5UUb7XH/GNOd/wjbEQopXikapxCAAAAAAARYIW56nUoglrQkB+01Hh3nikcmwqpJr25FNHxZA7S6pGVTyTM9E440U6JTKE8oHY8Ur5Ft2RiilZCGQzwg0AAAAAAPIcLVDjpclgzBQWyezQlahIr+/4TOBrNx1lO0LC12c8QyJR6mC8KKBEBlo+UwjRHfGMs0IlmxFuAAAAAAAAkGWSMWgkRbYkMt5852QCX7ux0sK/o9o6UjbxGRKa03hmTTxzIB3lM10d3RE+3xpHvDS4ZIyN2M9JPEMtX4i9FgkAAAAAAADylGTNmVAdmTTCd14m8LUbq3DhnyjCS8om8YyXeNEjGmuy859IaiOf6croDl8UUnR6WaqfA5903/MR31jz1VQCAAAAAAAoSdJdlCZj0gjfuZnA125s3ZrYxXJXmAPq01dPJ1H0SGfNmmTvTVfjG3sukEnm6zvTykd848xXUwkAAAAAAKCk6EzUQCp1hnznZwJfu0pz6r/uz9otSbtUhYTXG3uOlG00Ll+/iYrnyqzpKGXLp0KqAeUbfy7QHPn6zqTyNaLJl4onAQAAAAAAQBeTalRButuk+9rKBKm060t1iVYu8C2Qky2eK6Mn0filQtzG3ncduSBeOlqmlM9mWbxrBwAAAAAAgC4m2aiCzhoAvjYzga/d2CKuyUQNyQDJBb4Fci6L5+YjsfMh5YJ0o5U6UiFEM8VL/6NODQAAAAAAQBfTUVRBphadvrYzQbwUjlSkNnIVhRJvgVzKdPV8pGrYFIIRkwy+a6NODQAAAAAAQBcTu0jNVupM9GIwVCZ+e9/Z9BUtunOdKuQbR6I6NcUO89E1UKcGAAAAAACghPEtCDPx23sZTb7dlJJRV0VGdKZOTTHCfHQN8UxOAAAAAAAAKAGy+dt7FdlNJXWlqwvu+hbImp9SjSKJNx+QXahTAwAAAAAAUMJk+7f3ydQZyZcdkTRWokh+JJ5hANnHN++ZiHQDAAAAAACAPIfF+IYQRbIhsXMhQfbJZqQbAAAAAAAA5Dm+RWGpgnG1Ib65oKBw9okX6Ub6EwAAAAAAQAkQuyhcGqiUiZ6LUKVqTvhMPD0f/QLtFuihdX+PPaarpLEoVa3Q71c8w5D0JwAAAAAAgBJAi8KwjkxX7biUT2S7To2iIvLN4EDtyiejh/QnAAAAAAAAgIBk69RsGqhPIAwXFC09D4o46myaUrz0JwAAAAAAAICSIl7aCUL5IAAAAAAAAICihsgYVEgCAAAAAAAAKFgwYbIr1TS6NtAmgfKBHoGK/V4DAAAAAAAA5CWFbMLkm8HREb56KZr3YiPfjZ5inHMAAAAAAADIYwrRfBkX6LBAxUz0zmASu4P52SPQwEDRz0emxJwDAAAAAABA2hRjypEMmc7u5AMAAAAAAAAAsAHUbfErOjIm3tbIeh0AAAAAAAAAIGUwZH5UqulJibboBgAAAAAAAABImb6BfEZDsSlbNWJ8fUkAAAAAAAAAAClTF8hnNBSKurp4qm9MEgAAAAAAAABAyrQE8hkNuVQh74jkux4JAAAAAAAAACBl4hXEjZbMHLb89eObLwkAAAAAAAAAIGVUEHduIJ/ZIBVytEsuiBeRBAAAAAAAAAAAOcYXkaQdtAAAAAAAAAAAIMfERiR1dXFjAAAAAAAAAAAAAAAAAAAAAAAAAAAAAAAAAAAAAAAAAAAAAAAAAAAAAAAAAAAAAAAAAAAAAAAAAAAAAAAAAAAAAAAAAAAAAAAAAAAAAAAAAAAAAAAAAAAAAAAAAAAAAAAAAAAAAAAAAAAAAAAAAAAAAAAAAAAAAAAAAAAAAAAAAAAAAAAAAAAAAAAAAAAAAAAAAAAAAAAAAAAAAAAAAAAAAAAAAAAAAAAAAAAAAAAAAAAAAAAAAAAAAAAAAAAAAAAAAAAAAAAAAAAAAAAAAAAAAAAAAAAAAAAAAAAAAAAAAAAAAAAAAAAAAAAAAAAAAAAAAAAAAAAAAAAAAAAAAAAAAAAAAAAAAAAAAAAAAAAAAAAAAAAAAAAAAAAAAAAAAAAAAAAAAAAAAAAAAAAAAAAAAAAAAAAAAAAAAAAAAAAAAAAAAAAAAAAAAAAAAAAAAAAAAAAAAAAAAAAAAAAAAAAAAAAAAAAAAAAAAAAAAAAAAAAAAAAAAAAAAAAAAAAAAAAAAAAAAAAAAAAAAAAAAAAAAAAAAAAAAAAAAAAAAAAAAAAAAAAAAAAAAAAAAAAAAAAAAAAAAAAAAAAAAAAAAAAAAAAAAAAAAAAAgAzyT//0/wMLVwnrTyQHxgAAAABJRU5ErkJggg==)"
      ],
      "metadata": {
        "id": "Xv0Y0actUYTJ"
      }
    },
    {
      "cell_type": "code",
      "source": [],
      "metadata": {
        "id": "ovnBcwP3UZJX"
      },
      "execution_count": null,
      "outputs": []
    },
    {
      "cell_type": "code",
      "source": [
        "onehot(0, 3)"
      ],
      "metadata": {
        "colab": {
          "base_uri": "https://localhost:8080/"
        },
        "id": "mFyhKfZ-TKEJ",
        "outputId": "a17521f4-20c9-4908-96fe-95cf172bdeee"
      },
      "execution_count": null,
      "outputs": [
        {
          "output_type": "execute_result",
          "data": {
            "text/plain": [
              "array([1., 0., 0.])"
            ]
          },
          "metadata": {},
          "execution_count": 17
        }
      ]
    },
    {
      "cell_type": "code",
      "source": [
        "onehot(1 , 3)"
      ],
      "metadata": {
        "colab": {
          "base_uri": "https://localhost:8080/"
        },
        "id": "BuSzHEhJTOtf",
        "outputId": "5def4cd4-d8aa-4494-83b5-5a347113a82f"
      },
      "execution_count": null,
      "outputs": [
        {
          "output_type": "execute_result",
          "data": {
            "text/plain": [
              "array([0., 1., 0.])"
            ]
          },
          "metadata": {},
          "execution_count": 18
        }
      ]
    },
    {
      "cell_type": "code",
      "source": [
        "onehot(2, 3)"
      ],
      "metadata": {
        "colab": {
          "base_uri": "https://localhost:8080/"
        },
        "id": "ZRGSfFS-TRB5",
        "outputId": "b6bdbd8d-c5e7-4236-a772-653e999b180d"
      },
      "execution_count": null,
      "outputs": [
        {
          "output_type": "execute_result",
          "data": {
            "text/plain": [
              "array([0., 0., 1.])"
            ]
          },
          "metadata": {},
          "execution_count": 19
        }
      ]
    },
    {
      "cell_type": "code",
      "source": [
        "onehot(3, 5)"
      ],
      "metadata": {
        "colab": {
          "base_uri": "https://localhost:8080/"
        },
        "id": "e_ah2yUYTUP8",
        "outputId": "71072dac-4bb8-489e-a1f2-f6205e19386d"
      },
      "execution_count": null,
      "outputs": [
        {
          "output_type": "execute_result",
          "data": {
            "text/plain": [
              "array([0., 0., 0., 1., 0.])"
            ]
          },
          "metadata": {},
          "execution_count": 20
        }
      ]
    },
    {
      "cell_type": "code",
      "source": [
        "y"
      ],
      "metadata": {
        "colab": {
          "base_uri": "https://localhost:8080/"
        },
        "id": "UcZr6uE1TYfj",
        "outputId": "79e92913-cb43-4a02-b92a-6c5746d422e2"
      },
      "execution_count": null,
      "outputs": [
        {
          "output_type": "execute_result",
          "data": {
            "text/plain": [
              "[0, 1, 0, 0, 1, 2, 0, 0, 1, 0, 2, 0, 2, 0, 1, 0, 0, 1, 0, 2]"
            ]
          },
          "metadata": {},
          "execution_count": 21
        }
      ]
    },
    {
      "cell_type": "code",
      "source": [
        "barr = [onehot(v, nlabels) for v in y]\n",
        "barr"
      ],
      "metadata": {
        "colab": {
          "base_uri": "https://localhost:8080/"
        },
        "id": "1h4YmIsITeVN",
        "outputId": "14b9d0d9-d4ef-452b-c361-5d8fcfaaa8c1"
      },
      "execution_count": null,
      "outputs": [
        {
          "output_type": "execute_result",
          "data": {
            "text/plain": [
              "[array([1., 0., 0.]),\n",
              " array([0., 1., 0.]),\n",
              " array([1., 0., 0.]),\n",
              " array([1., 0., 0.]),\n",
              " array([0., 1., 0.]),\n",
              " array([0., 0., 1.]),\n",
              " array([1., 0., 0.]),\n",
              " array([1., 0., 0.]),\n",
              " array([0., 1., 0.]),\n",
              " array([1., 0., 0.]),\n",
              " array([0., 0., 1.]),\n",
              " array([1., 0., 0.]),\n",
              " array([0., 0., 1.]),\n",
              " array([1., 0., 0.]),\n",
              " array([0., 1., 0.]),\n",
              " array([1., 0., 0.]),\n",
              " array([1., 0., 0.]),\n",
              " array([0., 1., 0.]),\n",
              " array([1., 0., 0.]),\n",
              " array([0., 0., 1.])]"
            ]
          },
          "metadata": {},
          "execution_count": 23
        }
      ]
    },
    {
      "cell_type": "code",
      "source": [
        "Y = np.array(barr)\n",
        "Y"
      ],
      "metadata": {
        "colab": {
          "base_uri": "https://localhost:8080/"
        },
        "id": "jF0fv2S5TmRS",
        "outputId": "68daaa55-3f6b-49d7-f45d-c70ba98fe02d"
      },
      "execution_count": null,
      "outputs": [
        {
          "output_type": "execute_result",
          "data": {
            "text/plain": [
              "array([[1., 0., 0.],\n",
              "       [0., 1., 0.],\n",
              "       [1., 0., 0.],\n",
              "       [1., 0., 0.],\n",
              "       [0., 1., 0.],\n",
              "       [0., 0., 1.],\n",
              "       [1., 0., 0.],\n",
              "       [1., 0., 0.],\n",
              "       [0., 1., 0.],\n",
              "       [1., 0., 0.],\n",
              "       [0., 0., 1.],\n",
              "       [1., 0., 0.],\n",
              "       [0., 0., 1.],\n",
              "       [1., 0., 0.],\n",
              "       [0., 1., 0.],\n",
              "       [1., 0., 0.],\n",
              "       [1., 0., 0.],\n",
              "       [0., 1., 0.],\n",
              "       [1., 0., 0.],\n",
              "       [0., 0., 1.]])"
            ]
          },
          "metadata": {},
          "execution_count": 24
        }
      ]
    },
    {
      "cell_type": "code",
      "source": [
        "inputs"
      ],
      "metadata": {
        "colab": {
          "base_uri": "https://localhost:8080/"
        },
        "id": "WguWIe28Uqyt",
        "outputId": "46cd76fa-7790-42b9-d232-42604d1e597f"
      },
      "execution_count": null,
      "outputs": [
        {
          "output_type": "execute_result",
          "data": {
            "text/plain": [
              "[[45.0, 25.0, 120.0, 90.0, 15.0],\n",
              " [50.0, 29.4, 130.0, 95.0, 20.0],\n",
              " [35.0, 23.1, 115.0, 85.0, 10.0],\n",
              " [42.0, 24.5, 125.0, 88.0, 18.0],\n",
              " [57.0, 27.3, 140.0, 100.0, 22.0],\n",
              " [61.0, 32.8, 150.0, 110.0, 30.0],\n",
              " [28.0, 21.7, 110.0, 80.0, 8.0],\n",
              " [30.0, 22.9, 118.0, 83.0, 12.0],\n",
              " [39.0, 28.0, 135.0, 92.0, 19.0],\n",
              " [47.0, 26.5, 128.0, 96.0, 16.0],\n",
              " [60.0, 30.2, 145.0, 105.0, 25.0],\n",
              " [33.0, 24.8, 122.0, 87.0, 14.0],\n",
              " [55.0, 31.1, 138.0, 102.0, 28.0],\n",
              " [44.0, 27.0, 126.0, 94.0, 17.0],\n",
              " [52.0, 26.8, 129.0, 99.0, 21.0],\n",
              " [48.0, 25.7, 124.0, 91.0, 13.0],\n",
              " [38.0, 22.5, 119.0, 89.0, 11.0],\n",
              " [46.0, 27.9, 136.0, 97.0, 23.0],\n",
              " [41.0, 25.9, 123.0, 93.0, 15.0],\n",
              " [59.0, 33.2, 148.0, 107.0, 29.0]]"
            ]
          },
          "metadata": {},
          "execution_count": 26
        }
      ]
    },
    {
      "cell_type": "code",
      "source": [
        "ones = np.ones(len(data))\n",
        "X = np.c_[ones, inputs]\n",
        "X.shape"
      ],
      "metadata": {
        "colab": {
          "base_uri": "https://localhost:8080/"
        },
        "id": "7F2_ZKqIUszW",
        "outputId": "b833b263-58fc-4c49-92a3-6e4fc141105e"
      },
      "execution_count": null,
      "outputs": [
        {
          "output_type": "execute_result",
          "data": {
            "text/plain": [
              "(20, 6)"
            ]
          },
          "metadata": {},
          "execution_count": 27
        }
      ]
    },
    {
      "cell_type": "code",
      "source": [
        "def scale(x):\n",
        "  return (x-x.mean())/x.std()\n",
        "def scaleMatrix(x):\n",
        "   for i in range(x.shape[1]):\n",
        "     if i!=0:\n",
        "        x[:,i] = scale(x[:, i])\n",
        "   return x"
      ],
      "metadata": {
        "id": "lrJm2EcfU7Ab"
      },
      "execution_count": null,
      "outputs": []
    },
    {
      "cell_type": "code",
      "source": [
        "X_original = np.copy(X)\n",
        "X_scale = scaleMatrix(X)\n"
      ],
      "metadata": {
        "id": "CUPHY1kaVorE"
      },
      "execution_count": null,
      "outputs": []
    },
    {
      "cell_type": "code",
      "source": [
        "X_scale"
      ],
      "metadata": {
        "colab": {
          "base_uri": "https://localhost:8080/"
        },
        "id": "RhGc0npZVu_Q",
        "outputId": "1984e1fc-3a98-4860-8374-b2bd952b8454"
      },
      "execution_count": null,
      "outputs": [
        {
          "output_type": "execute_result",
          "data": {
            "text/plain": [
              "array([[ 1.        , -0.05166734, -0.56726298, -0.83650301, -0.53079861,\n",
              "        -0.52835517],\n",
              "       [ 1.        ,  0.46500607,  0.80792001,  0.08780971,  0.10871779,\n",
              "         0.27218297],\n",
              "       [ 1.        , -1.08501417, -1.161092  , -1.29865937, -1.17031501,\n",
              "        -1.32889332],\n",
              "       [ 1.        , -0.36167139, -0.72353378, -0.37434665, -0.78660517,\n",
              "        -0.04803229],\n",
              "       [ 1.        ,  1.18834885,  0.15158267,  1.01212243,  0.74823419,\n",
              "         0.59239823],\n",
              "       [ 1.        ,  1.60168758,  1.87056141,  1.93643515,  2.02726699,\n",
              "         1.87325925],\n",
              "       [ 1.        , -1.80835694, -1.59865023, -1.76081573, -1.80983142,\n",
              "        -1.64910857],\n",
              "       [ 1.        , -1.60168758, -1.22360032, -1.02136555, -1.42612158,\n",
              "        -1.00867806],\n",
              "       [ 1.        , -0.67167544,  0.37036178,  0.54996607, -0.27499205,\n",
              "         0.11207534],\n",
              "       [ 1.        ,  0.15500202, -0.0984506 , -0.09705284,  0.23662107,\n",
              "        -0.36824755],\n",
              "       [ 1.        ,  1.4983529 ,  1.05795328,  1.47427879,  1.38775059,\n",
              "         1.07272111],\n",
              "       [ 1.        , -1.29168353, -0.6297713 , -0.65164047, -0.91450845,\n",
              "        -0.6884628 ],\n",
              "       [ 1.        ,  0.98167948,  1.33924071,  0.82725988,  1.00404075,\n",
              "         1.553044  ],\n",
              "       [ 1.        , -0.15500202,  0.05782019, -0.28191538, -0.01918549,\n",
              "        -0.20813992],\n",
              "       [ 1.        ,  0.67167544, -0.00468812, -0.00462156,  0.62033091,\n",
              "         0.4322906 ],\n",
              "       [ 1.        ,  0.25833671, -0.34848387, -0.46677792, -0.40289533,\n",
              "        -0.84857043],\n",
              "       [ 1.        , -0.77501012, -1.34861695, -0.92893428, -0.65870189,\n",
              "        -1.16878569],\n",
              "       [ 1.        ,  0.05166734,  0.33910762,  0.64239734,  0.36452435,\n",
              "         0.75250585],\n",
              "       [ 1.        , -0.46500607, -0.28597555, -0.55920919, -0.14708877,\n",
              "        -0.52835517],\n",
              "       [ 1.        ,  1.39501821,  1.99557804,  1.7515726 ,  1.64355715,\n",
              "         1.71315162]])"
            ]
          },
          "metadata": {},
          "execution_count": 30
        }
      ]
    },
    {
      "cell_type": "code",
      "source": [
        "for i in range(X_scale.shape[1]):\n",
        "   if i!=0:\n",
        "      print(X_scale[:, i].std())"
      ],
      "metadata": {
        "colab": {
          "base_uri": "https://localhost:8080/"
        },
        "id": "pTfxODbXT5vB",
        "outputId": "55959bde-6c1c-4b57-e209-bb941a8b48a3"
      },
      "execution_count": null,
      "outputs": [
        {
          "output_type": "stream",
          "name": "stdout",
          "text": [
            "1.0\n",
            "1.0\n",
            "1.0\n",
            "0.9999999999999999\n",
            "0.9999999999999998\n"
          ]
        }
      ]
    },
    {
      "cell_type": "code",
      "source": [
        "# statistical style.\n",
        "def weights(x, y):\n",
        "   from numpy.linalg import inv\n",
        "   return inv(x.T.dot(x)).dot(x.T.dot(y))\n"
      ],
      "metadata": {
        "id": "Xej_jpfEWHh5"
      },
      "execution_count": null,
      "outputs": []
    },
    {
      "cell_type": "code",
      "source": [
        "W_stat = weights(X_scale, Y)\n",
        "W_stat"
      ],
      "metadata": {
        "colab": {
          "base_uri": "https://localhost:8080/"
        },
        "id": "fBgYxQS3Wd16",
        "outputId": "6da2c4f2-cdd8-4fd6-f88d-9453b8045507"
      },
      "execution_count": null,
      "outputs": [
        {
          "output_type": "execute_result",
          "data": {
            "text/plain": [
              "array([[ 0.55      ,  0.25      ,  0.2       ],\n",
              "       [-0.05796927,  0.16550468, -0.10753541],\n",
              "       [ 0.00367409, -0.16695774,  0.16328365],\n",
              "       [-0.27959174,  0.36408168, -0.08448994],\n",
              "       [ 0.24888927, -0.44189756,  0.1930083 ],\n",
              "       [-0.33689555,  0.18670089,  0.15019466]])"
            ]
          },
          "metadata": {},
          "execution_count": 33
        }
      ]
    },
    {
      "cell_type": "code",
      "source": [
        "def predict(x, w):\n",
        "   return 1/(1+np.exp(-x.dot(w)))\n"
      ],
      "metadata": {
        "id": "mLDulT5sWmcX"
      },
      "execution_count": null,
      "outputs": []
    },
    {
      "cell_type": "code",
      "source": [
        "ycap_stat = predict(X_scale, W_stat)"
      ],
      "metadata": {
        "id": "mAHdF-0VWzOb"
      },
      "execution_count": null,
      "outputs": []
    },
    {
      "cell_type": "code",
      "source": [
        "ycap_stat"
      ],
      "metadata": {
        "colab": {
          "base_uri": "https://localhost:8080/"
        },
        "id": "kG-isI5KW5GJ",
        "outputId": "7d606144-ea21-4437-9829-21d4a785b621"
      },
      "execution_count": null,
      "outputs": [
        {
          "output_type": "execute_result",
          "data": {
            "text/plain": [
              "array([[0.69649884, 0.54178148, 0.50045068],\n",
              "       [0.60750173, 0.55646234, 0.58330614],\n",
              "       [0.75549647, 0.5151239 , 0.45297454],\n",
              "       [0.62090141, 0.62557501, 0.49833607],\n",
              "       [0.54620264, 0.63872234, 0.56090547],\n",
              "       [0.44919716, 0.58945128, 0.69893206],\n",
              "       [0.77667516, 0.51709454, 0.42194364],\n",
              "       [0.71275274, 0.56444474, 0.45809552],\n",
              "       [0.58183992, 0.60340554, 0.56217495],\n",
              "       [0.67934025, 0.52084817, 0.54135963],\n",
              "       [0.5097072 , 0.60948387, 0.62621737],\n",
              "       [0.69191473, 0.5448039 , 0.50280404],\n",
              "       [0.4983499 , 0.58330062, 0.661562  ],\n",
              "       [0.66893349, 0.52040636, 0.55353497],\n",
              "       [0.62740385, 0.54161646, 0.57738626],\n",
              "       [0.70053664, 0.54998308, 0.48738845],\n",
              "       [0.74640106, 0.52037664, 0.45982162],\n",
              "       [0.55128207, 0.60234145, 0.5936119 ],\n",
              "       [0.70550406, 0.49588537, 0.53564233],\n",
              "       [0.45478612, 0.59362788, 0.69048069]])"
            ]
          },
          "metadata": {},
          "execution_count": 36
        }
      ]
    },
    {
      "cell_type": "code",
      "source": [
        "# in above observation,  more than one cell getting >0.5 or <0.5\n",
        "# statistical approach is failed here.\n"
      ],
      "metadata": {
        "id": "P2unCBZpW7Vz"
      },
      "execution_count": null,
      "outputs": []
    },
    {
      "cell_type": "code",
      "source": [
        "# Machine Learning approach"
      ],
      "metadata": {
        "id": "-P14xPuMXVz_"
      },
      "execution_count": null,
      "outputs": []
    },
    {
      "cell_type": "code",
      "source": [
        "np.random.seed(101)\n",
        "W = np.random.random((X.shape[1], Y.shape[1]))*2 - 1\n",
        "W.shape\n"
      ],
      "metadata": {
        "colab": {
          "base_uri": "https://localhost:8080/"
        },
        "id": "vXbMDxg-XcU2",
        "outputId": "3ea3647d-45b1-402e-a35c-5d905cffee1d"
      },
      "execution_count": null,
      "outputs": [
        {
          "output_type": "execute_result",
          "data": {
            "text/plain": [
              "(6, 3)"
            ]
          },
          "metadata": {},
          "execution_count": 38
        }
      ]
    },
    {
      "cell_type": "code",
      "source": [
        "W"
      ],
      "metadata": {
        "colab": {
          "base_uri": "https://localhost:8080/"
        },
        "id": "HIbEfALRXyeN",
        "outputId": "f166ec8b-5e1a-43fa-cd38-a6cb404640b9"
      },
      "execution_count": null,
      "outputs": [
        {
          "output_type": "execute_result",
          "data": {
            "text/plain": [
              "array([[ 0.03279726,  0.14133517, -0.94305155],\n",
              "       [-0.65695669,  0.37055396,  0.66779373],\n",
              "       [-0.38606756,  0.78722616,  0.44308772],\n",
              "       [-0.62012209,  0.10845518, -0.29573609],\n",
              "       [-0.63621519,  0.57120352,  0.93096644],\n",
              "       [-0.53529268, -0.83287713,  0.20709684]])"
            ]
          },
          "metadata": {},
          "execution_count": 39
        }
      ]
    },
    {
      "cell_type": "code",
      "source": [
        "def mse(y, ycap):\n",
        "   return ((y-ycap)**2).mean()"
      ],
      "metadata": {
        "id": "WG-WrXa5YI06"
      },
      "execution_count": null,
      "outputs": []
    },
    {
      "cell_type": "code",
      "source": [
        "# train the model\n",
        "conv = 0.000000001\n",
        "flag=0\n",
        "pe=0\n",
        "for i in range(100000):\n",
        "   ycap = predict(X_scale, W)\n",
        "   ce = mse(Y, ycap)\n",
        "   if i%1000==0:\n",
        "      print(\"Current loss after \", i+1, \" iterations \")\n",
        "   e = Y - ycap\n",
        "   der = e * ycap * (1-ycap)\n",
        "   delta = X_scale.T.dot(der)\n",
        "   W += delta * 0.002\n",
        "   if np.abs(ce-pe)<=conv:\n",
        "      print(\" Training completed after \", i+1, \" iterations\")\n",
        "      flag=1\n",
        "      break\n",
        "   pe = ce\n",
        "if flag==0:\n",
        "   print(\" Training not completed , run more iterations\")\n"
      ],
      "metadata": {
        "colab": {
          "base_uri": "https://localhost:8080/"
        },
        "id": "v_FD9Hu4XzsN",
        "outputId": "453f9877-3d09-4af5-cf29-4ace7405b750"
      },
      "execution_count": null,
      "outputs": [
        {
          "output_type": "stream",
          "name": "stdout",
          "text": [
            "Current loss after  1  iterations \n",
            " Training completed after  2  iterations\n"
          ]
        }
      ]
    },
    {
      "cell_type": "code",
      "source": [
        "W"
      ],
      "metadata": {
        "colab": {
          "base_uri": "https://localhost:8080/"
        },
        "id": "SIVmueOpZRFz",
        "outputId": "92957dd6-b66e-42e5-f65e-f56f32838bf6"
      },
      "execution_count": null,
      "outputs": [
        {
          "output_type": "execute_result",
          "data": {
            "text/plain": [
              "array([[  0.81210624,  -0.91569203, -10.80440469],\n",
              "       [ -1.04575083,   1.0810962 ,   0.12946049],\n",
              "       [ -4.3884429 ,   4.95265406,   5.61243706],\n",
              "       [ -7.57374174,   7.67257944,   0.50802406],\n",
              "       [ -1.6260548 ,   1.96962075,   4.25828759],\n",
              "       [ -9.13582802,   8.8040997 ,   2.53495022]])"
            ]
          },
          "metadata": {},
          "execution_count": 50
        }
      ]
    },
    {
      "cell_type": "code",
      "source": [
        "ycap = predict(X_scale, W)\n",
        "ycap"
      ],
      "metadata": {
        "colab": {
          "base_uri": "https://localhost:8080/"
        },
        "id": "wOGbrG3SZVa_",
        "outputId": "30c302ce-b257-46d6-c61c-e7a2450498f1"
      },
      "execution_count": null,
      "outputs": [
        {
          "output_type": "execute_result",
          "data": {
            "text/plain": [
              "array([[9.99999791e-01, 1.24830848e-07, 1.49368841e-08],\n",
              "       [1.43074105e-03, 9.98965248e-01, 6.61174964e-03],\n",
              "       [1.00000000e+00, 1.53442297e-14, 3.18237467e-12],\n",
              "       [9.99866142e-01, 5.92014429e-05, 8.58248573e-09],\n",
              "       [2.07093671e-07, 9.99999828e-01, 9.97415946e-03],\n",
              "       [6.71073688e-20, 1.00000000e+00, 9.99999363e-01],\n",
              "       [1.00000000e+00, 3.92457873e-19, 5.73283176e-15],\n",
              "       [1.00000000e+00, 5.47579536e-13, 1.82799300e-12],\n",
              "       [7.74563528e-03, 9.92287624e-01, 8.10614671e-05],\n",
              "       [9.91809841e-01, 8.52330196e-03, 1.22242132e-05],\n",
              "       [3.71909456e-13, 1.00000000e+00, 9.91031019e-01],\n",
              "       [9.99999978e-01, 1.13566903e-08, 1.27964079e-09],\n",
              "       [5.78644488e-13, 1.00000000e+00, 9.95813686e-01],\n",
              "       [9.91742491e-01, 7.92173637e-03, 1.29746440e-05],\n",
              "       [8.22149764e-03, 9.91669959e-01, 9.03142764e-04],\n",
              "       [9.99999180e-01, 6.75261160e-07, 4.90381855e-08],\n",
              "       [1.00000000e+00, 1.62160214e-12, 1.84964507e-11],\n",
              "       [2.12246233e-06, 9.99997938e-01, 6.00984752e-03],\n",
              "       [9.99992896e-01, 5.74759093e-06, 4.04984563e-07],\n",
              "       [1.57268606e-18, 1.00000000e+00, 9.99997260e-01]])"
            ]
          },
          "metadata": {},
          "execution_count": 51
        }
      ]
    },
    {
      "cell_type": "code",
      "source": [
        "ycap_labels = np.where(ycap>0.5, 1, 0)\n",
        "ycap_labels"
      ],
      "metadata": {
        "colab": {
          "base_uri": "https://localhost:8080/"
        },
        "id": "8NivuLkIZuWd",
        "outputId": "eaf4b8c2-c37e-4cd3-b607-4ff852696104"
      },
      "execution_count": null,
      "outputs": [
        {
          "output_type": "execute_result",
          "data": {
            "text/plain": [
              "array([[1, 0, 0],\n",
              "       [0, 1, 0],\n",
              "       [1, 0, 0],\n",
              "       [1, 0, 0],\n",
              "       [0, 1, 0],\n",
              "       [0, 1, 1],\n",
              "       [1, 0, 0],\n",
              "       [1, 0, 0],\n",
              "       [0, 1, 0],\n",
              "       [1, 0, 0],\n",
              "       [0, 1, 1],\n",
              "       [1, 0, 0],\n",
              "       [0, 1, 1],\n",
              "       [1, 0, 0],\n",
              "       [0, 1, 0],\n",
              "       [1, 0, 0],\n",
              "       [1, 0, 0],\n",
              "       [0, 1, 0],\n",
              "       [1, 0, 0],\n",
              "       [0, 1, 1]])"
            ]
          },
          "metadata": {},
          "execution_count": 52
        }
      ]
    },
    {
      "cell_type": "code",
      "source": [
        "test = np.zeros(3)\n",
        "test[1] = 1\n",
        "test[2] = 1\n",
        "test"
      ],
      "metadata": {
        "colab": {
          "base_uri": "https://localhost:8080/"
        },
        "id": "6I540RXTZ06r",
        "outputId": "afdc0977-99c4-42d2-ca7a-348c996133e5"
      },
      "execution_count": null,
      "outputs": [
        {
          "output_type": "execute_result",
          "data": {
            "text/plain": [
              "array([0., 1., 1.])"
            ]
          },
          "metadata": {},
          "execution_count": 53
        }
      ]
    },
    {
      "cell_type": "code",
      "source": [],
      "metadata": {
        "id": "ZXdKCNKOdeQp"
      },
      "execution_count": null,
      "outputs": []
    },
    {
      "cell_type": "code",
      "source": [
        "arr = []\n",
        "for v in ycap_labels:\n",
        "   if np.where(v==1)[0].size == 1:\n",
        "       arr.append((v, 'good'))\n",
        "   else:\n",
        "       arr.append((v, 'bad'))\n",
        "arr"
      ],
      "metadata": {
        "colab": {
          "base_uri": "https://localhost:8080/"
        },
        "id": "-9BpSo_CbDNX",
        "outputId": "41c61f67-7645-4bdf-b023-aa9e2569d1b1"
      },
      "execution_count": null,
      "outputs": [
        {
          "output_type": "execute_result",
          "data": {
            "text/plain": [
              "[(array([1, 0, 0]), 'good'),\n",
              " (array([0, 1, 0]), 'good'),\n",
              " (array([1, 0, 0]), 'good'),\n",
              " (array([1, 0, 0]), 'good'),\n",
              " (array([0, 1, 0]), 'good'),\n",
              " (array([0, 1, 1]), 'bad'),\n",
              " (array([1, 0, 0]), 'good'),\n",
              " (array([1, 0, 0]), 'good'),\n",
              " (array([0, 1, 0]), 'good'),\n",
              " (array([1, 0, 0]), 'good'),\n",
              " (array([0, 1, 1]), 'bad'),\n",
              " (array([1, 0, 0]), 'good'),\n",
              " (array([0, 1, 1]), 'bad'),\n",
              " (array([1, 0, 0]), 'good'),\n",
              " (array([0, 1, 0]), 'good'),\n",
              " (array([1, 0, 0]), 'good'),\n",
              " (array([1, 0, 0]), 'good'),\n",
              " (array([0, 1, 0]), 'good'),\n",
              " (array([1, 0, 0]), 'good'),\n",
              " (array([0, 1, 1]), 'bad')]"
            ]
          },
          "metadata": {},
          "execution_count": 59
        }
      ]
    },
    {
      "cell_type": "code",
      "source": [
        "ridx = [int(v) for v in np.where(Y==ycap_labels)[0]]\n",
        "ridx"
      ],
      "metadata": {
        "colab": {
          "base_uri": "https://localhost:8080/"
        },
        "id": "RndBkSiWdhYT",
        "outputId": "0958f9d6-7bee-498f-f325-8ba8de7bf649"
      },
      "execution_count": null,
      "outputs": [
        {
          "output_type": "execute_result",
          "data": {
            "text/plain": [
              "[0,\n",
              " 0,\n",
              " 0,\n",
              " 1,\n",
              " 1,\n",
              " 1,\n",
              " 2,\n",
              " 2,\n",
              " 2,\n",
              " 3,\n",
              " 3,\n",
              " 3,\n",
              " 4,\n",
              " 4,\n",
              " 4,\n",
              " 5,\n",
              " 5,\n",
              " 6,\n",
              " 6,\n",
              " 6,\n",
              " 7,\n",
              " 7,\n",
              " 7,\n",
              " 8,\n",
              " 8,\n",
              " 8,\n",
              " 9,\n",
              " 9,\n",
              " 9,\n",
              " 10,\n",
              " 10,\n",
              " 11,\n",
              " 11,\n",
              " 11,\n",
              " 12,\n",
              " 12,\n",
              " 13,\n",
              " 13,\n",
              " 13,\n",
              " 14,\n",
              " 14,\n",
              " 14,\n",
              " 15,\n",
              " 15,\n",
              " 15,\n",
              " 16,\n",
              " 16,\n",
              " 16,\n",
              " 17,\n",
              " 17,\n",
              " 17,\n",
              " 18,\n",
              " 18,\n",
              " 18,\n",
              " 19,\n",
              " 19]"
            ]
          },
          "metadata": {},
          "execution_count": 70
        }
      ]
    },
    {
      "cell_type": "code",
      "source": [
        "rcnt = {}\n",
        "for i in ridx:\n",
        "   if rcnt.get(i)==None:\n",
        "       rcnt[i]=1\n",
        "   else:\n",
        "       rcnt[i]+=1\n",
        "rcnt"
      ],
      "metadata": {
        "colab": {
          "base_uri": "https://localhost:8080/"
        },
        "id": "OQw8d2lDcWvG",
        "outputId": "2472cfc8-0c87-499b-81d9-1a4c387f5f74"
      },
      "execution_count": null,
      "outputs": [
        {
          "output_type": "execute_result",
          "data": {
            "text/plain": [
              "{0: 3,\n",
              " 1: 3,\n",
              " 2: 3,\n",
              " 3: 3,\n",
              " 4: 3,\n",
              " 5: 2,\n",
              " 6: 3,\n",
              " 7: 3,\n",
              " 8: 3,\n",
              " 9: 3,\n",
              " 10: 2,\n",
              " 11: 3,\n",
              " 12: 2,\n",
              " 13: 3,\n",
              " 14: 3,\n",
              " 15: 3,\n",
              " 16: 3,\n",
              " 17: 3,\n",
              " 18: 3,\n",
              " 19: 2}"
            ]
          },
          "metadata": {},
          "execution_count": 73
        }
      ]
    },
    {
      "cell_type": "code",
      "source": [
        "passres = [k for k in rcnt if rcnt[k]==3]\n",
        "pcnt = len(passres)\n",
        "acc = pcnt/len(data) * 100\n",
        "acc"
      ],
      "metadata": {
        "colab": {
          "base_uri": "https://localhost:8080/"
        },
        "id": "j9X4FCRQcdjj",
        "outputId": "4d056e82-ed35-417a-9a58-28a9fb4a6e68"
      },
      "execution_count": null,
      "outputs": [
        {
          "output_type": "execute_result",
          "data": {
            "text/plain": [
              "80.0"
            ]
          },
          "metadata": {},
          "execution_count": 76
        }
      ]
    }
  ]
}