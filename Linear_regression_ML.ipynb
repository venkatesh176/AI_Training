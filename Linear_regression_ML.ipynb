{
  "nbformat": 4,
  "nbformat_minor": 0,
  "metadata": {
    "colab": {
      "provenance": [],
      "include_colab_link": true
    },
    "kernelspec": {
      "name": "python3",
      "display_name": "Python 3"
    },
    "language_info": {
      "name": "python"
    }
  },
  "cells": [
    {
      "cell_type": "markdown",
      "metadata": {
        "id": "view-in-github",
        "colab_type": "text"
      },
      "source": [
        "<a href=\"https://colab.research.google.com/github/venkatesh176/AI_Training/blob/main/Linear_regression_ML.ipynb\" target=\"_parent\"><img src=\"https://colab.research.google.com/assets/colab-badge.svg\" alt=\"Open In Colab\"/></a>"
      ]
    },
    {
      "cell_type": "code",
      "execution_count": null,
      "metadata": {
        "id": "npq0bik5dTVC"
      },
      "outputs": [],
      "source": [
        "# historical data --> collected samples.\n",
        "age = [20, 30, 25, 22, 40, 32, 35, 26]\n",
        "income = [43, 64, 55, 45, 79, 65, 74, 55]\n"
      ]
    },
    {
      "cell_type": "code",
      "source": [
        "import numpy as np\n",
        "age = np.array(age)\n",
        "income = np.array(income)"
      ],
      "metadata": {
        "id": "sHU_Qfyadbjr"
      },
      "execution_count": null,
      "outputs": []
    },
    {
      "cell_type": "code",
      "source": [
        "ones = np.ones(len(age))\n",
        "ones"
      ],
      "metadata": {
        "colab": {
          "base_uri": "https://localhost:8080/"
        },
        "id": "z8T5294Idjat",
        "outputId": "6e8eaff8-e194-4176-ad02-eb6a7c84da13"
      },
      "execution_count": null,
      "outputs": [
        {
          "output_type": "execute_result",
          "data": {
            "text/plain": [
              "array([1., 1., 1., 1., 1., 1., 1., 1.])"
            ]
          },
          "metadata": {},
          "execution_count": 3
        }
      ]
    },
    {
      "cell_type": "code",
      "source": [
        "# feature matrix\n",
        "X = np.c_[ones, age]\n",
        "X.shape"
      ],
      "metadata": {
        "colab": {
          "base_uri": "https://localhost:8080/"
        },
        "id": "x3mjuYjHdqSU",
        "outputId": "f25d62fc-bbe8-40ae-b865-0a1222196b6c"
      },
      "execution_count": null,
      "outputs": [
        {
          "output_type": "execute_result",
          "data": {
            "text/plain": [
              "(8, 2)"
            ]
          },
          "metadata": {},
          "execution_count": 7
        }
      ]
    },
    {
      "cell_type": "code",
      "source": [
        "X"
      ],
      "metadata": {
        "colab": {
          "base_uri": "https://localhost:8080/"
        },
        "id": "uRKfkTNQdyV_",
        "outputId": "7087116a-e893-4c57-ce1c-ad0836bd0b2e"
      },
      "execution_count": null,
      "outputs": [
        {
          "output_type": "execute_result",
          "data": {
            "text/plain": [
              "array([[ 1., 20.],\n",
              "       [ 1., 30.],\n",
              "       [ 1., 25.],\n",
              "       [ 1., 22.],\n",
              "       [ 1., 40.],\n",
              "       [ 1., 32.],\n",
              "       [ 1., 35.],\n",
              "       [ 1., 26.]])"
            ]
          },
          "metadata": {},
          "execution_count": 5
        }
      ]
    },
    {
      "cell_type": "code",
      "source": [
        "# label martix\n",
        "Y = np.c_[income]\n",
        "Y.shape"
      ],
      "metadata": {
        "colab": {
          "base_uri": "https://localhost:8080/"
        },
        "id": "tMJCDV7zd0o_",
        "outputId": "2148879e-4c4a-4692-d54e-395611b7af66"
      },
      "execution_count": null,
      "outputs": [
        {
          "output_type": "execute_result",
          "data": {
            "text/plain": [
              "(8, 1)"
            ]
          },
          "metadata": {},
          "execution_count": 5
        }
      ]
    },
    {
      "cell_type": "code",
      "source": [
        "Y"
      ],
      "metadata": {
        "colab": {
          "base_uri": "https://localhost:8080/"
        },
        "id": "b8ALps12d5xo",
        "outputId": "1397be5c-f9ed-4b21-d494-0b0453c2ca70"
      },
      "execution_count": null,
      "outputs": [
        {
          "output_type": "execute_result",
          "data": {
            "text/plain": [
              "array([[43],\n",
              "       [64],\n",
              "       [55],\n",
              "       [45],\n",
              "       [79],\n",
              "       [65],\n",
              "       [74],\n",
              "       [55]])"
            ]
          },
          "metadata": {},
          "execution_count": 7
        }
      ]
    },
    {
      "cell_type": "code",
      "source": [],
      "metadata": {
        "id": "qz4c4YFmd8Xw"
      },
      "execution_count": null,
      "outputs": []
    },
    {
      "cell_type": "markdown",
      "source": [
        "![image.png](data:image/png;base64,iVBORw0KGgoAAAANSUhEUgAAB00AAAJ7CAYAAACPjgmqAAAAAXNSR0IArs4c6QAAAARnQU1BAACxjwv8YQUAAAAJcEhZcwAADsMAAA7DAcdvqGQAAP+lSURBVHhe7N0FmFtV/v/xwy5uC8XdoRR3KN7dRYoVKa5FFitSvEBxZ0thWSjuDkWXFi9erBQv7sXdiv34/99n7hnupMlMZjqSSd6v57nPJJlMcnOTSW7O536/Z4L/+7//+yNIkiRJkiRJkiRJUpX75ZdfslN1nnjiiTBixIjwl+y8JEmSJEmSJEmSJNUkQ1NJkiRJkiRJkiRJNc3QVJIkSZIkSZIkSVJNMzSVJEmSJEmSJEmSVNMMTSVJkiRJkiRJkiTVNENTSZIkSZIkSZIkSTXN0FSSJEmSJEmSJElSTTM0lSRJkiRJkiRJklTTDE0lSZIkSZIkSZIk1TRDU0mSJEmSJEmSJEk1zdBUkiRJkiRJkiRJUk0zNJUkSZIkSZIkSZJU0wxNJUmSJEmSJEmSJNU0Q1NJkiRJkiRJkiRJNc3QVJIkSZIkSZIkSVJNMzSVJEmSJEmSJEmSVNMMTSVJkiRJkiRJkiTVNENTSZIkSZIkSZIkSTXN0FSSJEmSJEmSJElSTTM0lSRJkiRJkiRJklTTDE0lSZIkSZIkSZIk1TRDU0mSJEmSJEmSJEk1zdBUkiRJkiRJkiRJUk0zNJUkSZIkSZIkSZJU0wxNJUmSJEmSJEmSJNU0Q1NJkiRJkiRJkiRJNc3QVJIkSZIkSZIkSVJNMzSVJEmSJEmSJEmSVNMMTSVJkiRJkiRJkiTVNENTSZIkSZIkSZIkSTXN0FSSJEmSJEmSJElSTfvLH3/8EdpykSRJkiRJkiRJkqRKZqWpJEmSJEmSJEmSpJrW5qFpserT/CJJkiRJkiRJkiRJHWmCTz/9tN2Sy4kmmihMOOGE9T8nmGCC7Dd1Cs9LkiRJkiRJkiRJUmv55ZdfslN1nnjiiTBixIj2bc/766+/hp9++il8++234csvv4w//+///i/7bV1VqiRJkiRJkiRJkiS1pwnGjh3bbkklASnLb7/9FgPUFJJOMcUUYdJJJ42n86w8lSRJkiRJkiRJktRaKqLS9C9/+Utsy0tAOuWUU8bT+OGHH2LVaSErTyVJkiRJkiRJkiS1tXYNTfOoIp188snDZJNNFk9TeVosOJUkSZIkSZIkSZKkttRhoWky0UQTxarTFJwy52ke1aZWnEqSJEmSJEmSJElqKx0emoLAdJJJJomnf/zxx/D7778blEqSJEmSJEmSJElqFxOMHTu2YtJJAtPffvst/Pzzz+GFF16I5//617+GGWaYIcwzzzxhxhlnjOclSZIkSZIkSZIkqbl++eWX7FSdJ554IowYMaKyQtP/vy4xKJ1wwgnD4osvHj7++OMYks4xxxxhscUWCxtssEHYeOONQ5cuXWJ1qiRJkiRJkiRJkiSVq1RoWhHteZNJJ500PP/88/H07LPPHn/Sqvedd94Jt99+ezjssMPCfvvtF15//fX4O0mSJEmSJEmSJEkaXxUVmuatvfbasS3vdNNNFyaeeOJ42RdffBGuuuqqcP7558c2vpIkSZIkSZIkSZI0viouNJ1++unjz2233Tbcdddd4bbbbgtbbLFFg7lMufyll17KzkmSJEmSJEmSJElSy1XUnKb49NNPY5te5iz929/+Fn8+88wzYbvttqtvy0sF6tlnnx169+4dzzeFqtSvvvqqQXXq5JNPHqaeeurw66+/hu+++y72L55yyinDVFNNlV3jTz///HOcb5WftAtmnZh3ldtgXf/yl4bZc7H7m2KKKeJt5+di/eGHH8K3336bnQthookmCtNOO22DgPj777+P65dMNtlkcb3Tff7xxx/hp59+iuvHY+A8v6M6d5JJJim6fpIkSZIkSZIkSVItKjWnacWFpkhBIuEgIeN7770Xdtlll/Dggw/Gy2ecccYYmm666aYNQshSXn311dC3b9/w7rvvZpeEsNlmm4Wdd9453HHHHXG+VO6DYPaII47IrhFiEMkcq/fee2947rnnwptvvhkDTMJN1mHJJZcMK6+8clhttdVikJswB+uBBx4YXnjhheySELbccstw8MEHx/A0Oeuss8J///vf7FwICyywQBg0aFCYf/7543kCWh7n4MGDw//93//Fy6i6PeSQQ+LtfPPNN+HRRx8Nw4cPDy+++GL44IMPYrBLsDrXXHOFbt26ha233jostthi8W8lSZIkSZIkSZKkWlYqNK34EkQqJwkh84HnnHPO2awgkCCR26BSNS1jxowJF154Yejfv3+477774mXpPrhPKkUJK3fcccdw9NFHhxtuuCGMHDkyXu/ll1+OQSUB52677RaD1ldeeaU+2JxmmmlilWz+/qiW/frrr+PvQSD6yCOPNLjOs88+G287IaAlrCX05fcff/xxmGWWWWIoym2dccYZMUw+/fTTw7Bhw2JwyvUIegmCL7jggvj3kiRJkiRJkiRJkkqr6ND0oYceipWgp556aqwEBS1xqbacb7754vmWImC85pprwo8//phd8icCU4LIE088MYwePbpBm91CXPfyyy8P+++/fwxOQYXsEkssEdc14f4+++yz7FwIH374YXjrrbeyc3U+//zzGHgSqOLLL78Mb7zxRjyN2WabLVa2koBffPHFsQqVIDUhrJ111lnDTDPNFFvzSpIkSZIkSZIkSWpaRYemVFHuvvvusRKU6k/a1h5++OFhm222aTDvZ0uMGjUqBpddunSJlauzzz57nNMUVJFSZUqICeYEJbDs06dPrDrt169fWH755eO8oaCS9e677w5XXnllDDy5Pr8nwEy4L5aEytN0Ps05yvyqVJXSdhfcP5WjCetJC1/+bsiQITFUBX//z3/+M5x77rkxTGWh7S/th6effvp4HUmSJEmSJEmSJEnFVXRoSnUpwSFtbwlJ//73v4dtt902VlKOL8LNZZZZJgaN99xzTxg6dGi8bao4CSSpIE0IK0877bS4MJ/oMcccE6644oqw1lprZdeow+2k6tFFFlkkBrEJ95fa/3IfTz/9dH3l6cwzzxx/gsrWFNZ+9NFHDapTl1tuudia94cffmhwOVWlq6yySthoo43iOq277rqxrfCRRx4ZVl999exakiRJkiRJkiRJkoqp6NCUeUEJCSeYYILYIvf6668PBx98cHjqqadi5en4mHbaacNBBx0UevfuHas3CTkJUQlqaaWbt/7664fNNtss/g0B5RRTTBH/ZvPNN6+vEgXzpjJZLKaaaqqw1FJLxdMJgShSG94UBi+00ELxctDiN7UipjVvmieV66V5XCeaaKK4XZKffvophrhnnXVWrGBNFahUzuavJ0mSJEmSJEmSJGlcFR2annzyyaF///5hpZVWiuep/rzxxhvDscceG95+++14WUsRkC677LLZuT9RKZqvMgVh5YQTTpid+9OCCy4YZphhhuxc3frl12vJJZfMTtUhNKXKlArSkSNHxsvmnXfeWCWaMMfqm2++GU/n5zPleilcnWWWWcKqq64aw9OE6x533HFh4403DnvvvXdsFZyf71SSJEmSJEmSJElScRUdmtJilspS2uISnFJxSpvbBx54IFx11VVh7Nix2TWbjzlKp5566uzcnz799NPY/jaP6tJiJp100lhRmlD9yvolXbt2bdCil5a6zEdKwElwiiWWWCI+tvz1qHSlspbK1YSq1TRH6jTTTBP22muv0LNnz1j1ynYB6/3BBx+Ea6+9NvTt2zcceuih4eWXXx7vqlxJkiRJkiRJkiSpmlV0aJosvfTSsYKSkBK0o33ssccazOvZXLS7TWFjHkHqxBNPnJ1r3K+//togYKVVb74ilSA036KXtrmvv/56eOGFF+J5KkWpYl144YVjeJpQkUqb3hSs0mJ3+eWXD9NNN108D6pOCZOZt3SNNdYIk08+efabOt9991247rrrwplnnlnfrleSJEmSJEmSJEnSuCo+NKVKkjCS+U3zYeaYMWNiMNja5phjjnhfee+++2793KJ5zD1KZWpC4MrfJ9NPP31sA5za6BLyjho1qr4170wzzRRbBM8444wxBE3zo37yySexmja1CabCdMUVV2wwfyqB7/zzzx8OOOCAcMEFF4TLLrss7LfffmGeeeaJgTB+/vnncOutt8aWw5IkSZIkSZIkSZKK+wuBIOFaJUptZQkPH3300QYh6bTTThsrMFsboePMM8+cnatzzz33jBM8Ur152223NWjHS8vfFVZYITtXV0maQlHQTnj48OH1c5UShvJ7HgfVtDwmcNvcZ6oQpWK1W7du8TS+//772LqX+yYgZb7TTTbZJM71OmDAgBjWJgS1qRqW61PBeskll4SLLrooPPfcc/FySZIkSZIkSZIkqZb95dlnn40h2sCBA+Ny9tlnh4ceemiceT07Aq1sWb8zzjgj3H777fXVnoSRVHDmw8HWwnyh66yzToOq1meeeSbsueeeYfDgwWHo0KFxztADDzww3Hzzzdk16io/11xzzTDffPNll9ShPS9hasLj+fjjj+NpqktnmGGGeHrJJZesD2u//vrr8OSTT9Y/B7TuZb0S5i096KCDwimnnBKvR6BL1SvVt8yZStvgZJZZZqmfd/Xhhx8Offr0iY+FOVH33Xff2ObYOU8lSZIkSZIkSZJUyyYYO3Zsg8SMqlOCvaeffjr8+OOPsS1s9+7dG8zV2da+/fbb+JOqTaoqOZ+vhqU687zzzothYr5lbSnPP/982GyzzeorPEF4+O9//3ucVrx4++23Q79+/WJA+ssvv8TLCEWpCGU7EN5SNfrbb7/F37EOhLjnnnturBjNI5DkvmifizSPKpdz//vvv388z+1tuOGG4d57721wHRBq77DDDvE00uMhPCUQJZSdZJJJ4vP15ptvxjlf+VuCX/7upJNOCl26dIlBLwF0ul3Wu2/fvuGEE04YZ05USZIkSZIkSZIkqdqk7C954oknwogRI+oqTQnfUgBI+EZQuvfee4eDDz44BoVUWLK89tpr8TrthfCS9rIpMJ1iiiniuh1yyCFhscUWqw8XW9tcc80Vg0Za3jJPKfdD0EgoSYBLkJu2F+u07rrrhkGDBoXFF188XpbH31JFmnA7LGznRRZZJLs0hEknnbT+fLoOqD7t2rVrPF2IoDXNk8oT+sILL8R15G9Zr/XXXz9WlaYqVe4jjwCYsLSttqMkSZIkSZIkSZLUGfz1gw8+OPrqq6+O1Ya33nprnOeS9rHMr0nYRhXj8ssvH0PKkSNHhjvvvDNWOlKlSGvZcio9myuFpKeddloM9pjTk0rO7bffPhx++OExOGUuT5QT+H3yySfh+uuvr58jFLTNXXvttccJEsFtTjfddGHllVeO953ui3a5hKVUcHL5SiutFHbcccdwwAEHhEUXXbT+eoWo/LzpppsatM1le1KBmm8xTHtd5knNW3311cM222xT32IXzE2a5nflNglPqX7lsdAemApdKkypYqUFcHqOeD5TG1/Wda211orXYW5VSZIkSZIkSZIkqdqRs+Ux9SUFpg3a81JJ+vLLL8fg9P7774+BHtWWG2ywQay4TAgPmeeT8DSVsKbAcPfdd49VlOMjted98MEHY2hKgMncnAS4BJb5oLSc0JTbe+qppxrM0zrnnHPGyk7mR23KRx99FIPGTz/9NIaUrBOh8hxzzBHXq1RYmqQ5Sgk3EwJnKlCp5E0Iq7leXqn1JIjlSWS9CFB5grnOjDPOGNdppplmGme9CFZ50l955ZV4mkB13nnnzX4rSZIkSZIkSZIkVbdS7XknuPbaa/+gBSyVkyx5XGHIkCExQF1llVVi9SIVmm0thaZTTjllrJIkGC1ckvxpSZIkSZIkSZIkSSqlZGg666yz1leaUkFJ21jau9ICt3v37vEyKjRvvPHGcM0118TzG264YQxRu3Xrlv1l6zI0lSRJkiRJkiRJktTaSoamr7766h/vv/9+bPX69ttvxza2L7zwQpy7kxayG2+8cejdu3ecKxOPPPJIGD58ePxjWr0ut9xyYa655oqtav/2t7+F9ddfPwar48PQVJIkSZIkSZIkSVJrKxma5uc0TX7++ed4heuvvz7cfffdMUCl8nS77bYL//znP+tDUcJN5kB9991343ycn3/+edh///1Dly5d4u9bytBUkiRJkiRJkiRJUmsrGZpeeeWVfxByMp8pc5tOPfXU2VXqfPbZZ+Gmm26KrXmpSE3Vp7Tnpcp0kkkmya7ZegxNJUmSJEmSJEmSJLW2suY0xYILLhjD0CWWWCKstdZa9SEq1aYPPfRQuOKKK+IfUo06xRRTxOsvvvjiYZpppokBKtWoXD4+DE0lSZIkSZIkSZIktbaSoek+++zzB611mZ+UhXA0IQRdd911wyabbBIrS5PUvpcbePHFF8Pzzz8fg06uT1Vqt27dsmu2jKGpJEmSJEmSJEmSpNZW1pymhKEEoM8880ysKuUKyRxzzBG22mqrsOmmm8YWvW0pH5oSihYLTpP8aUmSJEmSJEmSJEkqpazQtBCVp1SOXn/99eGjjz6Kl0044YRh9dVXD2ussUb8yVyorc3QVJIkSbVgzJgx4ZJLLgmff/55dkkIyy+/fNh4443DpJNOml2i9vT999+HoUOHhqeeeioeLLr++uuHhRZaKH4naU1vv/12uOqqq8IXX3yRXRJCz549wz//+c/snCRJkiRJagstCk3zqDwlPL377rsbtPBlzlPa8RKezjnnnGHXXXeNbXrHh6GpJEmSagFdXjbbbLPwxhtvZJeE0KdPn/Dvf/87/O1vf8suUXv58ccfw9lnnx3OOuuseNDoZJNNFpZddtl42aKLLppdq3U8+uijYYcddghvvfVWdkkIxx13XDj88MOzc5IkSZIkqS2UCk3LPlx6tdVWi4MF/NHAgQNDr1694pHXBJxcduONN8bLX3vttewvWs8ff5SV60qSJElSi3311VfhwQcfjBXAfAchROXg0Zdeeim7RmViXfnC9+WXX4Znn302fjejklWSJEmSJJWv2T2munTpEgNTAlKSV5YLL7wwnHrqqWHw4MFhscUWy64pSZIkSZ0HlaV00GFKkmT66aePSyWjUvmUU04J2267baxcPumkk2LwK0mSJEmSyjfeE/NQbdqjR4/45XyttdbKLpUkSZKkzmWaaaYJu+22W5xTdtZZZw1LLrlkOPLII8Nyyy2XXaMyPf744+Goo44Kw4YNixWm33zzTfYbSZIkSZJUrvEOTdsbrads1ytJkiSptf3lL38JSy21VPjPf/4T7rvvvjBkyJCwyy67hKmnnjq7hiRJkiRJqladJjQ1LJUkSapNv//+e/j888/DRx99VL+kSjrmceR3H3/8cZxrP7+/+H//939h7Nix8bqffvpp/Duux7yPXF7Kd9991+C+WLgf/Pzzz/HvuR2Wr7/+Ovz222/xd43h75gvk7/h9riNdJvNweNj3bmtTz75JN5Wekw//fRTyf1lLmc75B/TZ599Vr/u+cfF7bIN2H55ac7MdJ889l9//TX7bXm4jfw6cDs//PBD9ts/8Vzmr/fFF19kv6lT7PGwzoW4HtslrTcLj5u5SgsfH7g+t8NrjqB0kkkmCd9//33J55jb4PrcZv620/2m5ygt5T7n3B/bt6nXC9uF3xdWlrL+6XcsPIY81i+9JgtfR409XkmSJEmSqtkEY8eOrbgkkkESTDHFFPFo7wkmmKDogvRTkiRJ1Ym5Gffaa6/w8ssvZ5eE0Lt373DggQeGK6+8Mtx0000xFN1iiy3CAQccEPch33rrrTj3/ksvvRRef/318Oabb8ZwixCMOStpt7rBBhuExRdfPEw88cTZrdahyvDss8/OztW57LLLwkwzzRTv6/777w/vvfdeDJ4WXnjhsM4668Q5/4vNe0l4xX3fcsst4ZFHHgnvvPNODKsWWGCBOMXFggsuGPr16xfnpEz69OkT/v3vf4e//e1v2SV1CBd5TA888EB4/vnnw7vvvhuDOebfnGuuuWIr2TXWWCOsvPLKcRvk8dhPPvnkcOONN2aXhPg3gwYNin/P+g0fPjw+Ls4vvfTSYauttgqrrrpqmHTSScOrr74abr311vDQQw/F7cl25DGst956YZNNNoltbcvx3HPPxfa3BIKYaKKJQt++fcOuu+4a9/uTQw45JK5TQvXnRRddVP+4+L7AvJ1UgoLb2XvvvePt/PWvf42XETI+9thj4e677w4jR46MbWu5D54nnv8111wzrLbaag22c6ntxGtioYUWyi6pw3V5Ldx5553hxRdfjOH9jDPOGG978803j2HkiSeeWP9Ycfnll4cVVlghnn700UfDDjvsEF+ryXHHHRdf6zx2bnf06NH1rxfWldude+65s2uHsN1224Unn3wyrguhZ8L2mHnmmeNzh/322y/sscce8TTbZcSIEXHdn3322QavoznmmCPMN9988X5WX331eH1JkiRJkqpN4YHJjLfwXdnQVJIkSRWNII85Jgl4ki233DIGe/lQKh82/utf/wpXXXVVrPorhoCIwPLoo4+Ot52CNnDZsccem52rQ7h47733xpatBEx5VCQedNBB4eCDD45hVUJg+uCDD4ZjjjkmBluEX3kEj6usskoMxj788MPs0uKhKdvg/PPPD9dcc00M/0oh9CLs3H333RuEa1QiEihffPHF2SUhhmMEjQSPxdZvnnnmCaeffnq8TbbJXXfdFR9THgEkj5tArjCoLYaAjna3bMeE5+rUU08NU001VTxP9SOBNoFnQjh99dVXhyWWWCKeZ3vsvPPO9bdDEH7BBReEtddeO56n4pPnf/DgweG1116LlxUiVCTAJVBMoW+x7TT//PPHEJWAPSEQPffcc+N9UqVZqHv37vH1SaifD00JKgm2USw03XfffeN2YL0JYfN4jfLaICzu0qVLvIzgl9dYUwhjDz/88Pg9i+1y5plnltwuSNeXJEmSJKkalQpNO92cppIkSRKVluecc06DQCqPQCgFpoRQs846a1wmn3zyeBntR6lcPeWUU+JtNYVK06FDh44TmIIginCM4DGP2x0wYECsMC0MJMFlBF75CsFiaLNKOHzGGWc0Gpji/fffD2eddVaslixsaVuIcJLwrNT6cV8Evocddlis1iwMTEGwx/PwwgsvZJc0jkrMxRZbrMGBj4TG+XWlOrhwm1BJnK80JhR95ZVXsnN1YfEyyywTT/PFh0DzqKOOilWxIMwmRJ533nljWA3ug4piAspiLYJL4fbPO++8GGwXC0zBl61LL720/mDQct12223xeS4MTMH2J7yl2rnYc1GOO+64I74m03ZBsf8PSZIkSZJqUcWHprQ9kyRJkvJoF0vVIhV3c845Z5htttkaVDoSBNEGlQpJqgbTQvjYrVu37FohtlWl7Wyx0DCPYI8Kwf79+8d2ulQf5lEtSNVjmguSQJLK0Keeeqp+f5ZKwWWXXTZWZh5xxBGxmpJ1biwAI6C77rrrwvXXX18f2BI4Unm5zz77xMfHz0UWWaS+vS1znnJ9/q7wyMk85q+ksnKzzTaL60P1bmGbXYJf2gHTHpfHTutY2tXmW+nScpijMcsx2WSTheWXXz5MN9102SUhBngpJGSOUAJHWjIj3Q/hOM9Vejz8Pl0HPKdUvbKtaTNMyE3LWs7TonannXYKl1xySXwNEAJTZQq2AaHpqFGj4vmmcHusH9Wa+aCV1s3bbLNNDCR5Pqhi5vfF5k1tDBW0BMDcxpFHHhlbLeeroHld8TpjvcFribbFtCXOm2GGGeLzxe9YeK2B0JSAOr0maSVM6J3+P9gWvL4JlyVJkiRJqjVWmkqSJKnTIfShXSpVlbTNJQzadttt66sImSeTdq7MjbnpppuGtdZaKy60Y6V9LeEdCEupkixVsZowbynVhbQspfqSQCpflffrr7/Gyszvv/8+nqcKknkpuRyEf4S4tPklWCO44/a23377+PtSCNEKW7x27do1ts09/vjj4+PjJ3NuLrrootk16kLGG264oUGwWAxBKduQ9WHdmJu1EHN5UrnKY+e++Fk4f2u+xWxTqAidZZZZsnN1FZ+pPTHrTRtmgl/CQipTQbBMUE5oCCpq8wj/wO9pYUygDrZ7z5494+Njjk7mBaWVMpcl3Fa5oS/Vyzyv+cfLa44Wv2zHQw89NG4jWujm2yOXizCe2+E2WOfCkB+EzCk0XXfddWMgTLiax0ED6XcsqbUwbYXzCMPz/x8Ev7y+N9poo+wakiRJkiTVDkNTSZIkdTrMYUmwtPnmm8egibkuCc6oKsQ//vGP2G6USkoqIWmdS+vTK664osHcqCDsTGFcKYRIVN8RtlIdSkhFdWceLWNT9SGtZPMBFZWVzDNKcErYyu1Q7UiAS5VsKQRk+fXlvnfcccf4+KaccsoY2PGT9endu3f94wdVrm+88UZ2blzMxcp8rlRJsj4ElD169Mh+W4fQcb311gsrrbRSvA7zrK6//vqxGjKvWNviUqhUXWCBBbJzddWlaT0JUJ977rl4mueP6yZUvaZtSuVvMu2008bKW3zwwQdxrtBU4cm2JhgkvCboZKGlLn+TEMA31fY4oSKW9ctXB6+44ophiy22iLfJ9uf54Plh2+YrcstBqEtFM7fBbbHuzI+aRwVtU5XRpRS236XlNP9HDz/8cGyBTKU0rzHb9EqSJEmSapGhqSRJkjodqh/XXHPNMOGEE2aXNERVItWYO++8c1h77bVjBWWfPn3CgQceGG6//fYGIR/VoY21sQUhbR5hZWErW4K5FKYVVngSkNKWNt9qFVRc0sq1FCpN8wEZ4StBGnN05nGeCs58BShVkYWVhXlclzauefkKUBCsUumYD2MJVwn1WmriiSeOjyGP5wtUiKbTBKEEkgnBJqEowR5z1iY87hSuEojmA1C2ARW0hMGEkWm58MILs2vUaSo0T7heYVUt90/Am0foSOUv2685CKPzr2kCzFRt2xpWWWWVBq9BqmwHDhwYw3v+V9guvOaa21ZYkiRJkqRqYGgqSZKkTofqzGLVcIQ9tFplXkbm+/zf//4XqzW//fbbWPVH21KqJQvDy6Y0t2KQqr08grB88JgwP2mp4Bdprs+E66bWwoV4bASSeY3Nl8pj4v7zCrcL1ylcv+Zui2IKg1+CSIJs5i0lFOU+qOSlpW66Ho8lVfCm7cL6UmWcwl8uzz9mXg/M4UnYml+oQM4rfL5KocqzMBAnQC7c7mC7NXdbFT4fnC+8bHxQmU0LXuYCTmiFzGPif4U5UqmIfvDBB7PfSpIkSZJUOwxNJUmS1OmUCj1p70qF6T333BPDMwI3WuIyD+c555wT5zndd999Y8BYCQgIqYYspTkVndxOmkM1aW443F7mmWeeODdrQmhJhWNqRUyr26WXXjq28c238iU0pRKVIBSEpbQmTkFyYXjJ88/t0F65sSVf0doYWvk2FkTnUSHM81tJmGf11FNPjXOlMk9vYaUx7aXvvvvuOK9qmjdVkiRJkqRaYWgqSZKkqvHKK6/E0CcFW8x3+p///CdW0G222WZh1VVXja1yCb/aUmFLVVoAE+gWop3sm2++mZ0bF21f85WGX3/9dZz/s7B9Ko+Xx55vM0sLYeYrrUS0AV522WXrHxsVosOHD6+f25TniLCT7ZifO5aq4aeffro+NGX70B43IQTMB6ec5nkfPHhwuOCCC0outG0uB2F7YSteqjSpZM4jwCbgTXPctrdS4S7bm22aWvFeeumlYcCAAWHJJZesfy54bT3zzDNxHmBJkiRJkmqJoakkSZKqBiEkAWVCG1JCt1RxSaj4yCOPxDarbalwDlTmjrz22msbtIUlWLv11lsbbQ1LZWB+nlHW/6abboq3l0dgOmTIkAYhHaEjf1+JaJHM+qUWy1Q13nbbbfXbYt55541zvVJxuthii9W36CV4fuCBB+ofJ3Pb0qo5YVsxl2jCNn744Ydj61/mcC1cCAh5TlifcrA+8803X3auDiH9U089lZ2rQ+DI3LnlVqW2Nl7fxeYm5XVD9Sv/D4S/VJsedthh4dhjj23QspftloJpSZJUOdi3YFoD9gdvuOGGuL/BnPCFuB5TGjz66KNxHytd9/nnny97LvfGsI/B7XCg1V133RVvn3XiIDgOcivsfgL2T9hv4ro33nhjXLdi1xsf7NcxzQD3wfL444/H/cA8tg37SfyOfXGuxzZifdhmbbH/xj4snXC4L56Hzz77LPtNHe6Tbippve+4445x9vc7Ax5Xej2wvPDCC+GXX37Jfvsnnid+d+edd8bXws033xy3P9/l2mL7v/3223EqCtaJ12Dhd0E6xIwaNap+vXkMhc+RpNphaCpJkqSqQXVlvjKTQSUq6ggVmS+TtqMMihSGSa1t8cUXbxCuMW/kZZddFo466qhwyy23xEElWgZffvnlja4LlbK9evWqr56kgvC+++4LBx10ULjyyivD0KFD48/+/fvHgYZUQUtFJH83xxxzxPOVhueItskp8GQwZeTIkfUtYZnzlGCPeUGpJE2VuwykcL30OKlWzc8bSli99tpr188fy/UYvGN+W8LW1157LQ6aPPfcczHEplUzg2XlYj1WWWWVBvPTMuh23HHHhYsuuigOgvGT+0tVs+2B5zv/umcQk/XgtcHjJDjGySefHI488si4LfjfYN2plC0coKItNNW+kiSpsowePTruQ26xxRZxoZsGnUgS9isJ20477bSw/fbb118vv+ywww5x/6DcOd3zCJdYh1NOOSVst912Ycstt4xzpudvn/Psm3KgYmEoykF+O+20U/16sJ9WLFRrCQ4MYyoObpfbp7MGUz+wTdgn5MBKgstDDz00/p51T+ucFrYZ245tOL7fF9i3Yh+LfU3WJd3Hv/71r7gNCxHYHnHEEXG9WI455phOdRAbB93xXWvbbbeNj5P9bPa789jXJyDNb4+08Lrhb9mvZj91fMNTXg8cUMD+cHqtcj90IGL/txD77nvttVe8DuvBY+ExSao9FR2apsEQSZIkqRzMlZlvn8pR3VTSbbzxxmGDDTaI850yMEMY15YWXnjh+OV8iimmyC6pC7IY2GIgp0+fPnGOVdrSNjbv6DTTTBP23nvv2FY44Wh5Bhv23HPPsNVWW8WfhKf5gYX11lsvDvoQIlcqtlG+IpeBu1RBSnVp0q1bt/rQlMfONgPbNt+6F1zG4yZMTfgbBtA23XTT+Bro3bt3WHfddcNuu+0Wj2wvbK3bGCpjGUghFM9jUHC//faLzzk/H3vssVi9WjjHalvhdc+S8FpgnRj44XGyPuDggTPOOCM+hk022SQOHrE9GNjMV0HTrpdKYEmSVDkILAkd77///hjosa/BZzqdN5J33nknDBo0KO7zcqAd4RB/Bw7io5qR/UYO5Lv44oubPZUAVaR0qOD2hw0bFqeZSFV7rBPVeRycdt5558UAkOq9tI/KQV7se7AfxZgvgdYVV1wRD+IaX9weB8dxQOKHH34Y9/VXWmmlsP7668f9NwK0hx56KBxwwAFxf/yJJ56IwWgKbNlGbCu2GY/tzDPPbPF6sR1Yh3vvvTduq0MOOSSGtflwuxDfB9h/3XDDDeN2Iqyj2pQD3dLzV8l4jplCgypNglG+g/zjH/8Iq6++ev3+MK+/q666Kh7Ax0GsBMe8/njueH4ImAnR2fYE1zyfLcG6ENYSVrOPy/2NGDGi0dc667vmmmvGdeY0j4HHwmPKf8eSVBusNJUkSVLVoKXrjjvuWN9ulS/hDDrwpZuBD0K2rbfeukGY2Ra4fYLRjTbaqMF9MTDDwBJHulPNx3ybjVX0UT3YtWvXOOjUo0eP+Dfgyzu3QeDHz/RlfrrppouPj6C4UuczTdgu+fCR54plzjnnjO15E0LwueaaK55O1wHBav56CQOHDE6tvPLK9RWhDMQwUMVAH5WqhOlsN9r+MjDVHDwfVAiwTinwZnCMgRieDwaEqEYlHE/th9saFcmExfk2w7wmWCceJ48fbDtegwTPtOdjwJDtQRUDv2N7sd0I4mlFLEmSKgP7Gnxu00mCYJJ9mLXWWiuGbGl/hwPFqI5jvnZCH/6GfRGma+BgNTqQECayj8A+EcEU4VVzQrkPPvggrkdq8cu+Bwe3seT3edn/IKSkIpUgN1lxxRVjlSHXZT24f+ZYH982vWwTQmCmTOB2eazcD/uV7E9z+6nzDPtHBHns67C/zJQNaSoIthnbjk41bOu0D1Uu9jfPPffcGGazb0Z4zPeQcm6H54rvD+yLgQMKCcAJnisdz/F///vf+FjZp+Q71y677FK/b8r2J0Q+8cQT47z/bI80XQSvTTr08D2Hv+VAPsJvXp/NObgR7OPT8YXtz/1fc801MZzneW0K36N23333uO6sB4+FALewWlZS9TM0lSRJUtWYeuqpYyuoAw88MLZ4TYNIfCGn5dOpp54aByIaq+5sLbSePf7442MLNY50TwNJVI9y1DW/44v5ZJNNFi9vDJWmDAQRnv7zn/+MgV2qluUxEppROchABINl+Xk9KxmtdwvxvOXncWUQi8rHQoXXy2OuTga7aL9FgJmf95TtRVXm3//+99jmmMHG5uC1Q5XE+eefH3+m54KF54GwlAFCwtv8ABnPf1tVnjLIRNCZXvfptcZPzqcKFFoX87jzrx9+cp7L2V5sN05LkqTKQZBHwEgFIwj7evbs2eCAKQ4QJKgksASf8XTZ+M9//hPDI7pNcNBZ2g8m+KRatCUtYLnf1VZbLey///4xpKJyle4W7HPnpwzg4CwqTxOq+Pg7OolwPQ4mpPKVdqzjg/vhsaRwrHv37nEqiEJM68D+I6EaB9lRCcr+NduS7xEJ68W2pGVuc/B3VIfS5aMlc2KyT8a6pO8wL7300jgdZSoRFaKpswnbmO8r+Y4whJ9sl9QSmutwsOtJJ50Uq08Jl3lO0r4yBwCw/Qn3m4PXNBW6VIjmu6iUi3Vm3dP0HxwgwGOTVFsmGDt2bMX1wE1HkXCEDW9SLHyQFi5IPyVJklSd+NL85JNPNvjiy1HjxYK0hCPIOSqYtlsc2cyRw3wx5yett1544YX6I9oJlpZbbrn6gRLalrHkMfDCUegJ68RR3/nBkBlmmCGuU2EIyv2wLhyBTRUi90doxxHw3A5HxOfbRfHY+MKejnjP47Y4gpoBMwa4GEDheqwbVQQ8vvQlP4+/Y9Al32as8HGDCsQ04AFum8G1fBtdMH9qfoCtqeejFAZOaJeVV+zxs/14zvIIAvPt6IqhcoLXAANeaX253S5dusTBRsLU/P2Uu50SthfzH6XbpspigQUWiLdJWM4gJUeqg+3IgCWDhGDwk3m28s89R9rz93mFr8fG1ie97nmN81pjwI3BS15v/B2vN7YFr6H0+mHglNcNFc+F20OSJFUG5k2ntWyaM50Dt5irnP2mhDnMCZ74nAf7vkxRwAFUafyUcIqAM4VX7L8RWrEPUg6qBamkZOoL2pnmD0xjP4pqQ4KwtI9MuEqwOmDAgHgeBJscYEYbXEIuwl3CS6YVaG4HELD/w4GItFOlowb7SJdcckk8MC4FxHSeoaKV/U66shDc5juCsL/IwYdsn4R99euuuy5Wx5aLqkYO4CTgZp+c/Sv2x/KhMJdxu/npN/LYl2MKDr7/gH1H9iE5KHJ8x8EJ1B9//PG4Ttwu+8Tje5u83piiglCU55bgl9cUB42m285vF7DvSWjdr1+/+u8uVALzuk77/Lwu2E681srFfjz/A1Sz8vdsa24/v29Ppxtut9j3CPbb+W7Ga4TnjL/lYFfaSLNPLam6pBbtCQdK8DlhaCpJkiRJrYgvW7SJzoedDL7Q4otBIkmSpHJxkBNzMxJWEnoRBrFPsdNOO9VXJIL5zAmdOHgKhFaEQ/mD3whf99lnnxhiga4fBEJMP1AOgiQOwGLu82Jz53PwHeuVKgTphtG3b99wwgknxPMJVYTM20+7XDCXJAebNXVAXDHcBkEZoRuYG5THnZ/vnQPpCNI4uJHOIGzDPALfyy67LFbLJk2Fm8WwXelkwjQIhNa0UObAyYEDB2bXaPp26VTCHPl0meEgOKovCaO33Xbbotu8OTho7t///ne4++67Y0Ulc9vz3OcD5OYgJCUsJTQlPGUMf911142vKbrrJISWhOc333xzPE8gzXowVUnC64rnkdcGeNxsJ6Y7KRehKV1feD55XExvwsGeV155ZXaNxkNTcKAut/G///0v/u8RLPN46NjC45NUPUqFpv6nS5IkSVIzMHBCqy4qfhnM4qh0BlWoluDofSos8oEpR6ZzlLzzhEqSpOb66KOPYvCT2u5SXbr88ss3CEzB/gZhVCowYf5RgsQ0KMw+C10uUrEKVZhU0eW7qTSF+eQJY0uFd4ST+fkjuY9igRyBIo8hYT1psdtcPDYqMlNIyzYhNM1X4IL1peKWIK0wMAX7cWyfPP6muSElnWcITQnl2F9kjtJS00mUwvpRxcttgcf44IMPNujy0lLss9J5hG3NnKEEsVR7UqXM7acOKeXiNclrM1U3U1nM1Bj5wBRU/1LNnEJHXoOsAxXA3CdB8ejRo+vbT/MaprK2uSF6CmOvv/76GDpvuummzT5gMbWeTo+B7jAcDEDrZUm1oWRoyocFb3pMHs7E15zmMkmSJEmqZZdffnkchNl1111jizva41FBQds8jrRnLqW89dZbL86z6tHpkiSpuahepFoxIRhiKcRlVA+msIew9Zxzzgk33nhjrJ6hVS9tXqmkI5SijSpVfK11UBfVfYwfEzIlVJrON9982bk/EUwxdUHCgWcEus1FkEV1YZpHnnAuP29ruajOZRvlURHK0hwExEyjsMQSS8TH2FKEykwlkdCyNgWT44NpGKg8pnqSsJKgknCXKlDaJfMcEGSW6+uvv24wZy2PmbCzEM8L1cSE2bz2eN5uuumm2EaZQJKqTiqNUxtd1o/2yoT0zcH9cCAAYStTU7QU1aj554+AN/+6llTdSn5r50OOSZN5o+SoEU6zSJIkSVItY2COwb1hw4bFo/SZv/Too4+Oc2XRti5VWDBYs8EGG4Q999xzvAZuJElSbSKIfO211+oDM0IvQshi1aH8bo899oiVjgSohGLMIcllm2++eWz5SicM2p727NkzVuQxX2dzA8ZiGD++66674r4QQRoIx1ZeeeWwwgorxPN5tMml6pOQC/w94Weqpi1XYWjH7aX548vBNmKfjqIh9usSgmfasebnbG1PVJkS3CXMo5/vYtJSzBnLFBIUSNGmmbn0OaivpZWnBPMErwkhc7Ggk/vgtXD88cfHSlReq1QHH3jggbGlNBW5t9xyS7w/As9jjjkm/Otf/4qv1Y4w99xzNzgwgbmEUxWspOpXMjRNfeDzil3WHpp6g5YkSZKk9sJAT2MYGGKghaP2qfDID3pJkiSVi5axBFPpgCzCRqr1SnWvmHHGGeM8kcyXSataxlSp6nv//ffrA0kqS3v16hVbkDa1T1MOWvLSZYNKRapi0zguwR+dOWgbXAxtU6koTAhAU+BaLq6fr8DksaW2tuVg21LtSLVlvpKQFr/rr79+qwTKLcFzl2/rS0vdNFft+OB1w3anCwoH/Z1xxhlxHlda59IWuLmVp2y/H374ITtX1zqaYLYYXmtpHtVUxclrhzCS4JrXOK9vwlW2fXOex9ZGxXA+NOX/sDUqfSV1DiVD08I+7qB9gyRJkiTVMqpKTzzxxLDTTjvFVmMM7rBQVbrXXnvF9mLXXnttrPSgQiHNLSZJktQchEqfffZZdq4uNC01RybTqtHqlCkDqJok7GIfhG4XhJNpDlSCLqYWYF+G0y0tViHkogKP4I2QjerENLUb1bCHHnpoDOdKzQtKNWe+NTDjzs0de2bbECgmbJtyunsw7v3MM8/E9aaqkUCS7UCwR/Ut+3q02O0oPFf50LBYaMfzS/UpFbrFFlo6l5pqj4CUamUqjnkt0LqZymPmUiXQHDVqVIPKU+aN5bVYiO2fv5ztn15neWxbXmu8Vs4999xYOQuuy2uT5yy17aWd9GGHHRYeeeSRDpsqkPXKt2Zm+3/yySfZOUnVzkl1JEmSJKkZunfvHg455JDYym3o0KFh+PDhcRkyZEg488wzw+677x5WWmmlkkfaS5IktTbmgzz11FPDDTfcEKsmCaGomGS/hBBq++23j6EWl7/55puxRSvztLekSIYwi6pEAkf2fVL4mrpt0Ap46623jhV7pbCflN9X+vbbb+PS1gj5aFvMNrn99ttjUAeCRKpv2cdjXtLWqMJtKdrS5lswFwtN6QhJC9stttii6HLccceVtT15nHRFoUUuoSaB8dJLL92g8pR9Xtr1thSvMV5r5513XrxNXiu8FnlN8jzwGuW1yuuHdb755ptjaJvmOG1vbP98FXThwQuSqlvFh6YtPdpJkiRJktoKA44M7NC2Lb9wGb+TJElqL7TeJSxlXlEqENkn4QAuglEqCQ844IAYbhKkMV8jaG3L76kQbQ7mWSVspLvGNddcU1+BR7XgRhttFCsJaflKq+DGpH2nhDnjWdrSp59+Gs4///xYYXrffffFMJL9NoLeXXfdNQwePDi2hu3IwBTsT+bXgareX375JTtXh+eZ+W5ffvnloktjlaaFGH9nW3Cb+crd1vLQQw/F1xpteLmveeaZJ74WeU3y2uQ1yu+p8uWxsy68lqk6be48t62h2PbndS+pNlR0aGpgKkmSJEmSJEml0e6UYCqFjlRwrrPOOnGuyhRM0ia3R48esYoyIUSkTW25COFefPHFON8lrYDTXKsEpFtttVWsPGXqgnJCR0KofBDF37RlWMl93XTTTXEahVQZy7ZJrYRZ5p133gZBbkdhOxMcJqwTrZlbG88fFZR33nlnfE779u0b2zuPHDky/m7JJZeMFagEysyF2lKPPvpo3OYJ4Sivk9S6mcfHa5XLUvUxr+Wnnnqq2fPctga2f77tMOtXqs20pOpje15JkiRJkiRJqjBUQdImNSHoK1aN+cMPP8TKwiS1Fy0MAGmXm287Wvh3TXn33XdjuDZixIgYQnL7Xbt2jW2BTzrppLDooovG+y4HLVvz7WOZ45SlObj/fIcPtk2xIhwCwCeeeCLO20lrYrCevXr1Cv/9739jZSzVppXSLYTAjkA7YY7Nwrls2e60u73uuuuKLgMGDCg6VQSBIK1+Cb1pxcu8pTvssEOs9mQuU6y99trxPJXEAwcODMsvv3zR0JDXZjnbn9cYr7WEuWwLQ2CeS1oS518/b7/9dodUmlLVm2/Hy/afaaaZsnOSqp2hqSRJkiRJkiRVGAKkfJBI9WFqh5tHeDXllFNm5+rC0Ndff71BtRw+/PDD2Lo1obLzb3/7W3auaQ888ECsaM1XmBI4brbZZg3C2HIQhqX5REGg29gcqMUQvuWrUwkaaTFbiDleb7nllhj6EuoR9BE6HnTQQWH11VcfJ1zuaATS+blmC18HmGGGGcIGG2wQevfuXXThcRUGnYSBVJEee+yxsar0rLPOCvfee2+s5mRbUp18+OGHx6CU+VIXWmihRqt/Wad8yMlrM18hm/DazIf/BNdUR+fxvD3//PMNXhO8Ntuy+rgU/m/yc7iy7s35P5HUuRmaSpIkSZIkSVKFIURkDtIUOBGGvvHGG+PMVUmARuvdFP5xvWuvvTa2on3yySfDq6++Gu6///4YltHyNCH0pIowYa7SnXfeOWyxxRZxufDCC+urQQnWbr755gZtVgkfCWFp6XrEEUfEwC2/UMnI3JSFCC7ff//9+tvidmafffZmV/PRMpb5MROCrg8++CA79yfCOFrQpu3G/bEOPB5aCheuN8uJJ57YoAqX2z7yyCPrtw3biVbFbYHgkOcsmXrqqWPIO764XapQmbv12WefjduD9sR77rlnfK4vvfTSGKYSljJHbVPmmmuuBmHiW2+91SDsTdZYY40GlbKPPPJIfM08+OCD8XFSBUwFM89HCl15LTMvb2oL3J7bn7lX89ufQHmBBRbIzkmqdoamkiRJkiRJklRhCI4IBVOYSMhFKFhYpUfFX8+ePWOIldqlUvVH29xddtklzku5xx57xADzp59+ir//y1/+ElZeeeUYTCXDhw+PYesNN9wQF4IqrgdaunLfqcoU3MfVV18dw9liC+1jH3/88ezafyIYo/VqCsgIh+eff/5mzxtJYEdL4ITq1ddeey079yeCZoKwhMcwevTo2Jq32HqzXHLJJWHMmDHZX4QY8A4ZMqR+2xBGp23d2tjuqY0wCO3mnHPO7FzLERTzGqJ6kxCQ4JGwkla+66+/fgwo0/NdDsL6BRdcMDtXt948r4V4na2yyir1t83zROUv1axpzlSqXvl7sF15LdMmmMAY7bn9C//HOHCB1sGSaoOhqSRJkiRJkiRVIMItqgxTQEQo+MorrzSYO5IwaoUVVoiVpKuuumqcL5LfE/xQjUdwSbteQkpuhwrTjTfeOFZUEk6BKkRuN4WqhETLLLNMfcUhoWMKtRICONqqEoIVW6h4pdVsIcJWqg2TmWeeOYZqzUVouuyyy9bPj8k68lgLW8QSfqbHlbBexdY5Lax7qkxlWxIGvvfee/E823vhhReOVZptgcpLWiknbBvmXB1fhKWLLbZYnK/0qquuCqecckrYcMMNY/iZb59bLloyE7qnMJTXB3Ol5oN18BrjtcZrjtcer0FeN7yWeb54jdJCGTyXvIZ5LfOa5rbbc/uz7rSgTqEp98X6GJpKtcPQVJIkSZIkSZIqEMHUEkssUR8MfvbZZ7G1amEISCBGAEZb2R122CG23aVCNYVhk046aQyZVltttXDwwQfH1rm0YU0tfQm88qHovPPOGwPbFNb+9ttv9SHi+CLAzc+tSrUi69JcrDvhWQp+WUdul7lL8whIC4O85mAuUKoP03ypVD8uvfTScZu2NubTJDRNlbHcB8FwqrgcH8wtSnDJPLQE4s2t7C1EhfDiiy9e30KXoJk5U1MAmvA88fzymuO1x2uQ12LafrxGea3ymuW1y2uY13Kaz7Q9tz9tqHkMBOfgsS211FLNnm9XUuc1wdixY/88LCnnzDPPzE41tO+++2an2k7qlc/OAEdzpIUP6fyC9FOSJEmSJEmSqg2Vb/369YthDgidzjjjjBjmFEOlJe10mTeUijnCRAKm2WabLc4tSUDFWGselZ/MFUkb1Iknnjhsv/324dxzz60PVQlrR4wYMU4VZ2MIw2i7S3VjQoB5yCGHhPPPPz+GYFSyDho0KGyzzTYtCsEIGfv37x9vj9COdT/ttNNi69kUdL3wwguxRS/boVysy4orrhirMAmTCfLY5iAAZNswV2djCJm5X+ZUTfK3W4iKylGjRoWtt946zqnJc0Rr28svv7w+GK40hIy02aXdLs8traIvuOCCBqFnHuE1lca8zqim5fXE64RKTqppqToufB20dPvz2qB6mpA+oTqZ6tipppoqu+RPrNs999wTX/u83ln/Xr16xTbTPC5J1YUDMvI4YIXPOUNTSZIkSZIkSapQhEbMPUkYSLBDwETwuP/++48TfrYEt3njjTeGbbfdNgaLBHpHHXVU2HPPPbNrtA5CQUKs7bbbLoaDoIryyiuvjOFqS8d5CboOOOCA2OYV6667btxeVKG2BipXGRO/7bbb4vn11lsvjp1TjduaqG4koKOVLYP5zGVKWH7ooYfWh9eVhueUUPfII4+M1aA8hwTWvH4I6VtDe23/NA8wt83/xOyzzx6OO+64GKKaQUjVp1Ro2mna8/IGLEmSJEmSJFWaTz/9NNx9993h5ptvjkuaD09qDbTopRKTylJCUkLU6667LlbQtcaYKa1+mTMyVWJS7Uer1NbGejOXJpWfrPecc84Zdt1119iqdXxCKSo3aeuaKhQZ9L7pppuKzqfaEqw32wesZ/fu3ePcnK2N+T2vuOKKOJDP89yzZ89Y/VupgSnYHmuvvXbYbLPNYmUmz+vQoUPj+yHBY2toj+3Pug4bNiwMGTIknuaxbLnllmGdddYxMJVqjHOaSpIkSZIkSc1EOEBlGAEN8/QRbmy66aZxSRVvUmsgtKElKcEpgSavPV5jt99+e/3ci+OD26MqsHfv3nHZaqut2qQdLP8rd9xxRwxnaaO7/vrrx1BqfKtl01ydq6yySgy7vvnmm9gulha3PLbxxW3SEpltw//56quv3upzXH733Xex2pd2vjzfBMo83/ysdASYtBTu1q1bfC6p2CTUp0V0a2iP7c+6sv3HjBkTQ2paShOaFmujLKm6dZr2vHxYpJ9pQfopSZIkSZIktQcG2J955plYmcTy3nvvNahqu//++5ucb09qLiruLr744tjOlvkyF1xwwdiid9VVV82uUblY9wEDBoRHH300VvItssgicZ7Kueeeu9XGd4cPHx7OOuus8Nprr8VxZNoN77bbbhU/HyXvHbxn0AqWOUKZd5PK2Z122ikGhp0BzynVvbQX5v2Rqt/99tsvbLLJJq0ecLY25talwpS5dZljlXl/99hjjzifKa8jSdWp089pmoLS/Gm01oeqJEmSJEmS1JhUDUYVG4NrtOUtxtBUbYGqSUK1jz76KJ6ecMIJY5Ufc19WOgan33///RhKMZ471VRThVlnnbVVW8/+/PPPMbBL1bfcBwFYpQePBI5fffVVfWUm60tF8dRTTx3PdxY//PBDfAw8x5huuulipWYltxcGByB89tlnMdgHgS/bf4oppojnJVUnQ1NJkiRJkiRpPHzwwQexcu2uu+5qtO2noakkSVLlKhWaWl8uSZIkSZIklYGKMKqSCEw5kJ9KKirZJEmS1PkZmkqSJEmSJEllmnjiieNcksx3d+qpp4ZNN900+40kSZI6M0NTSZIkSZIkqQxUlu6///7h4osvDpdccknYaaedQpcuXbLfSpIkqTMzNJUkSZIkSZLKMMUUU4QePXqE7t27h6mnnjq7VJIkSdXA0FSSJEmSJEmSJElSTTM0lSRJkiRJkiRJklTTDE0lSZIkSZI60IgRI8KgQYPC1ltvHeadd97wl7/8pcMW7v/SSy/N1kySJEmqHYamkiRJkiRJ7eTjjz8Ot9xyS+jfv3+cG5Ogkvkx+/XrF6699trwzjvvZNfsGNx/nz59Yng6ePDg7FJJkiSp+hmaSpIkSZIktZGvv/46hqEpiJx11lnDJptsEk4++eQwfPjw7FqVh/B0zz33rK8+NUCVJElStavo0PSPP/7ITkmSJEmSJHUOo0ePju12qSTt0qVLbLtLy9tSVaQzzzxz6NWrVzjxxBPDY489Fv7v//6vQxbuv5gUoBL8VnLQK0mSJI0PK00lSZIkSZLGw6hRo2IlZpqTtFu3brHdbqmAccUVVwz77bdfuPrqq8Nbb70VxowZE4YMGRIOPfTQ+LuOwv0Tnv74449hxx13zC79E8FvailsBaokSZKqjaGpJEmSJElSmWi3O2zYsHD00UfHAHHyyScPSy+9dKzELDUnadeuXWNIeuedd8ZQkmrSgQMHhi233DLMPffc2bUqx6STThouvvji+gCVKthiUgUqC3O1qmm///57eOWVV8Ill1wSLrroovDcc89lv5EkSVJHMzSVJEmSJElqBJWkVI5SQUq73Z49e4Zjjz02VpKOHTs2u9afCB0JGs8555xYSfryyy/HkHSdddbJrtF58Fiogh05cmQMfouFvFSbMlcrladUo6q0hx9+OLY5Jmjea6+9wr777htDdKeokiRJ6niGppIkSZIkSQVSUEoQSCUpc5QyV2kxBIlUjRKMEoBRnUnQuPvuu1dkJWlLLLnkkvHxEQKXqkBNlae27C3tjjvuCE8++WT4+eefwy+//BIeeeSRcMMNN4Sffvopu4YkSZI6ygRjx44teijbmWeemZ1qiCPg2tq3334bf3I041//+tc4T8YEE0wQl/xppJ+SJEmSJEnjg6D08ssvD7fcckvRNrtgrIJ5R1mWX375+HPmmWfOflt72FZU3bLt8giLBwwYUHRu1GpDq2a2Qd79998f1lhjjezcn4444ohw0kkn1VeWTjzxxOGAAw6Il0822WTxMqkYDlZ49dVX45KvTJ5qqqnie9HUU0+dXdLQ008/Hd5///3sXIhjrYssskiYb775skuK++abb8ITTzwRfvjhh+ySEF+jvOdNM8002SV/4iCA559/vsF9YYkllogHnxTiQAEq2D/99NPskhBmnHHGeJCK/wuSpLbG51Yen3kjRowwNJUkSZKqxSeffBLnScubc845wzzzzFN0v/nLL7+Mg1t5DLzRfrLYYBXz1eWrrCaccMKwwAILhJlmmim7pPURWpQKLqh6KjVox7p+9tln4bvvvovfIXhcs802WxyMaw204+Q+2OYM+nEftOycY4454qBlU99T+Bv+/vPPP4/VWgx+TjnllGH66aeP4QvfhSS1j3KCUv4vqarcfPPNiwZhCuHkk08O/fv3z879qRbC0+aEpoREBKQPPfRQDMH++c9/xhCVz16pMbxe/ve//4W99967QTDJvs1ZZ50VNttss7g/kvfee++FbbfdNlY0J/PPP3+48MILw2qrrZZdUtybb74Ztt9++/D4449nl4QwxRRThKFDh4ZVVlklu+RP7777bthll13Cfffdl11Sh/9//kcKvfbaa3HdCHUTKvZ5LOwPSZLUlgxNJUmSpCp3/fXXx8GmPAbWGMiefPLJs0v+dNVVV4XtttsuO1eHqoObbropLL744tklfzr33HPj/GsJ89edd955Yb311ssuaX3FBqKTYgPSBMHXXHNNuPXWW+McgmPGjInhLoFp9+7d4+AcfzM+FQwMIl599dXx/l944YV4n9wH244ByG222abkQOSvv/4aBx9Zv2eeeSaG0ASnDIQSynTt2jX84x//iM8LAayktvH111/HdruEpQalrYcDSmjPWzivKeM7zO9arcFpqv7L4zOnWPDD+/0HH3wQD3Li9EILLVS0Ck8qhv8xKpPZJ0sYK1177bVjW+z8vgMtoHmfO+GEE8L3338fL2Oc9eCDD477VxNNNFG8rBQqTA877LDw3//+t0FlK4Er8/IWIpjlPZP9oryNNtoo7qMW3t+DDz4YNthgg/p1Y9/suOOOi2PPrKckSW2pVGja6ec0daJ8SZIkqQ4h5t/+9rfsXB0GZQnliilspQiqBAgFiymcy4/7o9qzUhBCUuFw5JFHhnvvvTcGpvjtt9/i47ruuuvCbrvtFgf/8q3mykXgyQAfcxQSRHM6DQxyHwyYX3TRRaFv377hiiuuGGd+OqpSDz/88LDzzjvHg1SpMqIlHYPmoPJ0+PDhseKI0PSee+6Jl0tqPfyfpXlKOSCjMDAlKOV/nIMieA8h6DMwLR/h6MUXXxxOPPHE7JI6BD2ELGz3apzvlOBzww03bLCUqpQj4KILBCHXuuuua2CqZuF/jIOzqBZN2I/gPStfEYrnnnsuHsCQQkkKT9hv22KLLZoMTEFV6TLLLDPOvmWpuZ25vDAwxdtvvx0rXguxb5bWDbz/cn8GppKkjtTpQ1NJkiRJdQgxF1tssexcHSohCesKMYDNYFohwj8qNAsRGBZW0Sy44IKxgrO90GKXqlYG3lkYXEsYpDv11FNje00qyIphUPHDDz8M//73v2OlJ4+1OdguVHfQdq4wEE24D7Y5lRn5VnjgeWD9CKVTUFoMgS6BKuuZn+dLUssRjvK+wfsklVf59wmD0tZ36KGHxve5wvCU54FK1GKtOiWVh+CT97P8HKZUld5+++2x5T9+//33cPPNN8cWuAlBPh1IFl544eySpnFf+f0tcJvcfqF8m9089mVefPHF7NyfCg/S436Ya1WSpI5kaCpJkiRVCea0IjTNT2FBlSlBYaGXXnqp6FH/YJ7TwsEwbqMwwGvvKtPpppsuDvYRJrKkKgva6tCSN1+ZSYs3qjWp/GTuuNlnnz37Td3gHaHIW2+9lV3SNAJW2hnnq3NnmGGGsN9++4ULLrgghqmcTwheaPtJOF1o4oknjgOWO+20U2xDd8wxx4R//etfce7ZvKeeeirceeeddteRxgMttjbZZJNYzVfYMpb3MKoiDUrbDuFpYXAKqnyp2Fdl++qrr8JHH31Uv/D5SThXDHOI56/L/kexg5O4jGm5mHc8XZfT33zzTdHrE74TBHKgAwcfcX1+cr7UuvC5ye2l20/3kW6fz2bWL91WqfuuVEy5wHQDyy23XHZJHQ64omMF24yQkvlP0z4E+4ZrrbVW2HTTTcuqMk2Yuz6/DwXaS7Pt8jh4LR+MUhHL1AX44osv4r5lfhuzjuyL5rEP61ymkqSOZmgqSZIkVYkpp5wyhgD8TBiUeuONN7Jzfxo5cmT9gBetAtPAFmijVtjSlyrT/GWEkoVVrW2N9eSx0SaOJa0z7d2uvPLKBpVjhB8M1BNM9u/fP+y6667185gygPjkk0/Gdr7loqpi6NChcXsmzHN4yimnxHa73BdzduVxH4WVFQwi7rDDDjHkZT5Y2vXSTpi5yQh383OtMljN81SqqlVSacOGDQs9evSI80pS4Z3H+wMHJPD/Va1zbFaSVHVK8LXOOutkl4b43lyt7XqT9DosDOw7C1rJ8/+SFuafLNY6nueWg5ny1+V5L9yXoGPD+eefH+espIVxui6nqUDm/zIhYOP6tLsfMGBA/KylpTHX52dqdc80BIWBJy1f6T6Rbp+Flra0j6XLBm3we/fuHZ8bbosDly677LLYvruzoNMH+xN04Ug4AIT9Cyo4OaAr3yGE4JODyfL7iOUgoC0MZ3leC7uPsF3TQXqEshzYltaNbiVpDviEIJXwNW/ppZfOTkmS1HEMTSVJkqQqsvzyy4/TMpcBxTwqKqhiTPNITTPNNA2qHKkkYXArIWRkcCw/2NWtW7dxKiM7CpUKzz77bHaurv3c1ltvHWaZZZZ4nqBy4403brC+DLAWm9O1GAb7adtJOJsQ2vbq1au+WoOfPXv2jFWkCYOXVLmlKo8uXbrEtr1Uly6++OINgmqstNJKcV68PAaiGWyUVB7CKQbe+X+k4iqP/9nHHnss/j/nwzu1D96LhwwZEn8mqV1vsUrgakALVV6HPMbOiM96Pvtef/31uPBZSzVj4cE8fN7dfffd9dd7//33w9xzzx0/98B+B2EebbAJTAkon3jiifrrc5rf0142YZ/jqKOOin8zcODA2GqWakWuz0/O83vmKmeO8fRZCz63qSBNt8/CAWEEvhxERWjK37Bvw21df/31cb34fObvOgMqR//xj3/EeXHTHKB0CbnrrrvigSK33XZb/f4DwScB68orrxzPNxcHyXHgWkLVLgeFpW3OPhXzqabQmX0kDljJtw8mVM2H0jwfHByW8DeF+0CSJHUEQ1NJkiSpijDgVNhGjUHBFJCCClNC0zTYRchKiJcwqEUVZmrRy+Ao1appnixw/Zlmmik717GoqKBFb8J6EZrkB/iKbRcqTsrB46baJb8Naa8711xzZefqUFWRD2aZm5QK1TS4zP1vtdVWsY1yMYSo+TABDITm2y1LGhetNqlWJHgjpCo8IIJqUtpxE9ituOKK2aXqCLzHUTVYKIWnzQlOeZ779esXn3fe7ytxSSFRsVbtncEyyywTD8ZKCMceffTRGJLm8f9F+JjMMcccsRUsBxLxN1SL0s6egxaKzYVZDNuM26UFL5+DHODFnMQsk0wySbwOv+M2qSotbBdbiIDujDPOiPs3hZWp4LP+6quvjuva3OeLz/t77703tuVvzkLwSwDZUuxP7LXXXmG++ebLLqmrAmVqgvzUDCussELYZZddwhRTTJFd0jzs37DdE7YP+5Y8bhBw8/+Y2iWzXnTjyE9bwHOZnxaBEDUfUC+xxBJhzjnnzM5JktRxDE2lToCjMmnZxlGUabn11luz3zYPbes4ivKEE06IO9JNfbFQ8xT7otzYIklSa2NAmoGnPAazCBYTTuerT1dZZZVYRZAqHwkgqTRN7W4ZgMtfn9ZuSy21VIOWcCBUpFqEqprmLE8//fR4DSjnK0BBtUJhQEolaKo8TRiozLf0LYW51wpbyBGYMoCbx3bJDyqCfa182NoYBpzzFb606mUusZYOckrVjv/fo48+OoZmBG4Ebwn/n4Q0hDvMW0rVmypDvl1vvj0ynwP5ikyeT0JUgvBiwSgHxwwaNKjB867WxWcp4We+dTxhVz78Ap/jhQdWMV0AB2exX8BBDXzmphb3fF6uuuqqMfTmf5gqT4K9ws87KlX/+c9/xsrQSy65JP4vs9DaOX2mcx/cP6Flvtq0EPtCrAMVkLwGaY1PlWb+sTH2wv1wwFNz0Gr2tNNOi6/n5iwHHXRQs+8rj/8DulTQ3pjTCbeZtgX7asx/Oj6BJPs2+XnsuW3uI3UgYR+J5yDh/5V9ywUXXDC7pK4KlgPQwMFknGb/Cun/eeaZZ47nJUnqSI7YS50AO+4XXnhhbBWTljvuuCP7bfkYAD399NND37594xeTAw88MBx77LFlDRaqofRFvXBprmK3wSJJ0vgonGuUQcJ86Ekwl6/MZKCSapJ8BSQBXqoA4Gc+zGPwjGqtws8sBlGZL4s5wpqzMJcYLYFbKl9NAQLSwkAX+YoHUBGRBuwaQ+hZOM8ZA7upNW9C+7vUijDh9ssJhHn8VLekqg0Q8jBYndruSaqTD0v5PpP//2TQnUpG3o9o6ekgfOXiIB8CMOaETni/TN+JeH4JTAlOO3swSovZzoiKzvXWW69B4EY4mm+Jz/4EwWgen+1UmfK/Sive/PyXfFbusccecS7yY445JhxyyCFxjIMqT+YdTficZd5vXiMcAMG84XwmsjCmsf7662fXrHtPKGcOcP6GUJQ5xGmXf/bZZ4ctttiiwec561pu+/5KwAFvVHVSDVrM3//+9zhv6/hg/4lQM7+d2K9MVbIEqO+99148DQJWnn/2LfOYTgE8X/ngnYNcOBivsNuGJEkdwZF5qYawQ8v8FvzkKD/C2AceeKBB5YmKS1/c09LW2vv+JEnVpWvXrg0qLRmcohUt7ehYGFhMCEqpZiRozVdiMgCW2u8RSlJtmnC9fPVAR0uVDk2hArUlGMRnGzaFweXm3gf7ZAw+H3DAAXGutYTBxs022yzOJyepDv+H+bA0/3/JQQbnnHNOHIjnOoWV4KpcVP21JCwhECeMZI5aKhgreeG12Vktssgi47S1fvLJJ+vny2R/IT+mwP8nB2OBuU3pKJFa8qZ5OPfee+/YwpdglM9OKk9pb7/ccsvF62G66aYLq6++ejwYic955sCkFS9ttpn/lGkDEiof6TrR2IFQVJRyYBfhIsEtrznuk6A2v//D81VYSdsU1p95kjkIrDkLLftbY6oDDgIrVWXLwVipbW5LEZby3OQPPqOTRur0wX4M2w0c6LXooovG01Qcs60T5pblQDwqczmd8L9MKOt0BJKkSuBIvFRD2JHni0ceA3stHUCsBZUSWhqeSpKag8A030aNwUoqJ5jPi0oABjgTBrSY05QqEub9TKgcSXN+UuGTBsPAYNjUU0+dnfsT+xq0vaOVXnMW5ktL85PVErYxg8n7779/uOqqq+pbGxKYUlFD677UMlmqZU2FpVSiEXIQoFmp1DkVm+eU55IgikpUwrIUQKaFA3sII9dYY43sL9QW+EyiUjH/Oc3+AQvPw8MPPxzDUfCdlc/1VPVIQEbYmRCSEpqy31EO5h89/vjjY9hJxeSmm24adtttt1idyv3m8Rma76JRiIC0WDUm84EWdoko7C7RFA7SIARlbtXmLBwwkJ8LvSWormUfotTB8A8++GAMmsdXsbns2bfk/vOVx7xPp/1JgnFC9yR1LuFgvHzonf8bSZI6miPwUg0hHOULRjrajx3TnXbaqWQbl1qVAspKDCkred0kSZWDg6QINvNtXZk7impRBiDTnOb8niP7U1vefNAK5i1DvrUvll122exUQ4S1DG5fcMEFzVqYr73wwK62kG992xaouinnPqgGofMHc/Htuuuu4dFHH81+U7e/tsMOO4STTz7ZORhV88oNSznAQJ1bmuc0vxCC3XnnnfF3hZWOal9UGbK/kBB60ZKXClAC7e+++y5ePv3008dQNB1YxX5HqjIFASwBY1PfZ+mKcdttt4W99torzmd63333xapGPmPZd+GzsnD+06ZQzVjsb1iXwgrH/DqXg9tgjIWpAZqzsD7j04Kf7XT77beHW2+9Nf7PgIMNaHWbECRfe+21cdqFUtWo5aAad+GFF87O1eEgPPYv8615mVc/Ve4SsjL+lLYvoSn7oQSmrHvC+nqQmCSpUjjqLtUY5iNhh5n2bxxtyBGbqtMaYWThF/2mlvHRGusrSapOVINQvcngZcIAFQOOTz/9dGyLBoJKAtBUmUUr2PygFXNPMcCVr0ylGoP2v8UwGMp8p1StNmdhIHN8BssKK0RKSXNvJeW202X7lNPqkwH+wlbBDBwXVr5RuctcaieccEI8nQZnqbxhnjUCUypPbFOnWmVYKlUWDopad911Y4tb0Ab38ccfjwdVPfXUU/EysH+Qr/wt/GznO3A+LCuFCkY+I9lnAYEkVcfMgXreeefFMY0tt9wy/q5cfNYW+w5OpWThOjU3kGXu8//9739x3Zqz0GaY/ayWYvv/+9//blAZu9JKK8X3xnxHEKo7zzzzzAZTLTQXz2U+OAfvw3TMSNM5sF9FAJr2y1gHQtTUopcAl/CW9s4JoTHBqiRJlcLRdqkKsOPPFwB29Et9EUjY0aWylCNFGRgtHMTL4yhEbq/wtss5OpHr5NeruX/fnloaPvJYCpfmao3bMDyVJBXDwBYBZsKgIINUzGeaPm8IK/PVCIQR+fZon376aaz0yA+yLbPMMg1uN49BQypPGEBrzsKgKPOGtlRhmz/WIw3gJeyHFA5MUgFRTmhK22G2VR63nyprEipg8gOXhJ6sG3+f8HsGgq+88sr6v2cQmnaG//3vf8Oee+4Zpp122ni5VGsMS6XKRBi2wQYbxP9N8J2esJTP8HxbWOYgzXeOYA7MfFtfPp8J8JrqysC+CksaO2DfY/DgwWHfffcNvXr1ipXH5R4wlXCQUmFoyO2/+OKL4xxUlZ8XvhwcMHXWWWeFPfbYo1nLkUce2aBNbXMwTyn7EvntxMFyW2+9ddh4441jyJ2qWAkrOWj+3nvvjedbila7HCCXsE/DnMI8r2BfiecmheXsB7E/mt+Hol1zPmjnNVVJ8+RLkuQou9SJseNLKxwGFvji0KNHj9C7d+94nsuLzefBnFlcLy2czyPcpLXKHXfcEQYOHBjnBerZs2e8Lj/Zsb/sssviYEUxDMIyn8kNN9wQDjzwwDjnCH9Li54tttgitlaidUzaqe5ozQkb88FmGmxuCy29H4NTSVIeFZyF7V1piZafd4p5vFgSQkQqAhIGEWmNyFyo4LOGgcvCOa0S9g/oYpHf1yhnYR4wAtqWSoO4Ceubn0MNDOwVBqm0MC4HVaaF2/L1118fp6qUtscMyiaEpQwwpgoLgutLL7007iel/TQGFtlml1xySdhwww3rq3ikWmJYKlU+PjOpYkyocmQfgYOSwEFIq6yySjydED7mqxMZb7j++uvDsGHD4uk8ujWkuVE/+OCD+tsFc2OypO+8dM7IVyuWg9smNMzfL/fDfKD5fRBC3lIdNSoF4wQ8FrZlfjvx/Gy22WbxgC1a/ecPcvvmm2/iPkj+4K6EEJsWyOeff36s4qX9cjG8H+f3ndjvye9Xsn+42GKLZefqcLB+PoRmvCl/+0wNUXhgmiRJHckRdqmT4qjCm2++Oeyyyy7h+OOPj61gHnnkkXDLLbfE81zOaa6Xx1GdXC8tnM9j5/Xggw8OW221VTjooIPCRRddFFv5cl1+Mu8Y86IecMABYfTo0dlf/Ym5z6iQYK5U5umiOoW/feihh+KRjaeffno499xzxxlkbG982So3ZGxueNnamnP/zXlckqTqR8CZx7xT+c/gfJUpCAcZvErBHYNotFFLBztRPcLf5KsMKgGDm/lWegyCsh+UKjkJKIcOHRoHWRMeY2GbOSpQaDf48MMPx8oZ5igF12W75Fv0clsPPvhg/WAl98H5fPUpwfUKK6yQnaurnKEdX7oO60xgTEveUtW7UjXj+0S/fv0MS9VpEPZxsA/hU62hapHHnrpV8fnHPgKoKCQwJSDLI+jkAG/m70wYc+Bzr3///uGmm26Kn8/8r++zzz5x/AGFHbH4/CQgZLoAQjpa0nKgeHPwnZrPYFr8ciD3jTfeGA4//PBw11131X/f5rs0jzF/AFk52D9gDIbxjuYstOqfa665slspHwdu8ff5uUQ5UGvzzTeP4TXPx2qrrRbWXnvt7Ld16AbCmE7+IHaeRw7cYv2ZQ5YD5zmIpbD6FsxVyr5Tmj6A28mHsASq+akhwLbJb0+6fqT7J6Dmd3bYkCRVkgnGjh1btE8mve6LoRVGW2NuBLCTxE4ZOy18ILPkTyf501I1YkeY9iqFlSGpKrRYu1v+L2hxwpGCq666anZpCGuuuWYc0Eton/PAAw9k50L80sORialFDDve7MjyJYId2zR4yGAp7V6oRmXOLTBA2bdv33D77bfXf+mYaKKJ6ufSIMBl8JWqU3bUGUjsCOWEiuWGlB2l3GC00h+HJKltUQHCYGVhNQeocGSwknZ7eY8++misTkhdJbgenycsVA8wyLjAAgvE3xWiiuOcc84pOtDWGCoQ9t5773EG2sDAHWEKCFboeLHyyivH8wn3y0FdDHwmM844Y/xbBgw5qIsBWkLj5O9//3u48MIL6wcrCZO5HwYO2WdhrlfmFk1VM+xzsY+U5lcD24OD1QhtR4wYEY466qgGlaYMQNJyl/0h0IaP1rwJFRl08SislM3jd6xLCqqpoCUQpmIEVJNssskmDdohSpWMYJRKJr6njBo1Krv0T4SlAwYMMChVReIAF0IixquojKw1HFDEAdIcGJ3Hd/7jjjsufqal1qwJIRkdrvi/z+Ozke3I2AXBHW36+b9nrICDwumilVr38/2Xrg2EsHz+pc/AfJtf2tyncQZ+z4HehLGF+DzlfhlHKZzPlM9UPrfXX3/9sr9zg9tiP6nY2ExTGPdszrgm63viiSfG7Z0O3GJd6ezF+Ey+GwjVo9tss02DSloeI/tShMNgn43xpnwITTjKwe50wMjj8XH5IYccUrTFMtuO10Ahngf2iQqxD8bvGKeSJKm9FXbp5OAivtdbjiR1UnxZYYCwe/fusUKBNrjMF5KwM/vqq6+G6667LrukfOxwMwjIUd8cvcjcHFSNcuRnug/eVPgiQzVGcvfdd8c5TVJQx5eanXfeOf49C0eDsgPNQGuaW6M98bia+uKTBoUrXbnr2ZwvepKk6kP4kJ+jNI/L8615EwLAfJs0BufSZw4HZDVWEcFgMlUTfOY3Z2Fgc3yqDBjco8UtPxMGCAlNCRQ58DMfmDKgyv4TA4cJ3TEuv/zyWAXKfg6Dh6niBVyXQcV8lS23SYcNwlQ6deQrWdm2W265ZX1gynbMz+EFKlvPOOOMsN9++5VcGGTOz/dK9w4GSgl4WTj4rSWDtFJ7I+xnrj3mIeT/pjAwtbJUnUGqqhufebg7M0JLAsV8dwfw/8vBSIWBKQjx2DfgszLfsYEDsvnMpXCCAI4AMP091YyEpqnzBfshHMRNS2BCPsZBWI/mYB+BDhx8R+Y+ue8UmHIZB1tRabnWWms1+3s0oSdjHKx/c5fmBKZsBwZzGedJgSl4XtgPyo8JgcfLWFHaFwGVvuzvpMp+1ruwspfrF5sugHWl40ixdroccF+qrTH7j8UO7uI5YRoDSZIqiaPpUidFexsGAKmQOOWUU+IRfVSIFw5+MncZ80yUix1Z2vJy5CGVE1Rt0KqXHXCqJ6guTfiCkW/vS6VpqhQHFaiEpvw9y6677hpOOumk+IWpcGe+rZXzpaecELLSGJxKkhrDQGWpFnNcnq9GSNgXWHjhhbNzDdGitrHWvAy8UW1Ca7jmLOzXjM8BVQw6Eo6yv8LphOCUKtM0Rxq4rz59+oSNNtqowXXz7eISLktYP26fv0vbgAFLBh/ZH+K6KbwkYKWqND+32xdffDHO9AT8PdUwXF5qoZIp3S5h7ksvvVQ/0MmAJlWotrVTpSJY4uAFDqjgf7Sw0gwcXMA0HoalUuXj84+KzvwcleCzqFRgBtq2nn322bFCkjEFDsBKn8EEdowdcDnBKwjlaKPLARYc5JU+d+m+wLgCnSBKHRRWCkEvYxEckERQx/2z8JlN1w3GVAhNCwPESsLc7Iz/cIB8HkEvXcQKv/sTUjMmQ2iZR5tpDhZjTId9CK7Dvh/bg/1AqlZXXHHF7NoN0YKZkLYQ+5WlDqzj9VI41yl4Dtt7bEiSpKbYnlfqBIq15+XISuY0LdzB5H/0P//5T3au7ksF862kQbum2vMmDM4xkMfRnwzyEbwyGEiYSiu/hPVK5/kCRLCajnhkII9BSdr38AWK8x3x/9pUaNgZw9JiauVxSpLKx2cylYx8PtOCLuEzmcFI2uUVCyvZlyjc72cgjcoGPvvbUznteRP2V6666qo4VxldOajkZECQwVZa/zI4x4FcBJ+F+1BMUXDggQfGSk62GyEP2419mYT9I9rvsm/FfRCYfvXVV/Ezlm1KCM1gIu2NqYDhsqTY/lw5uH+qcQmXCYEZ0E37XnTvuPLKK8Nyyy0Xz0uVgrB08ODB4dRTT20w313CARgcnElgmq88kyoZXZVSS1MqK1Mb+1pz//33x5AtdVegKpHW9lSSN4XPZMYVOJiJcQY+b/l7KtAJ1vgcTWEqOLCIqYP4G/6WMJVwjwOgCA7z4SGf62le9mLteeeff/76KQb4Oz7DwXsQoW1nmFucg6aefPLJcSqdCSTTtEmF2Mb8TeHUCexTsc/COAK3RxUvoSwdw7i9YlMmJHTOKDw4n+3H3zG9UyGmPeAAM24/j+ekcB5cSZLaS6n2vIamUidQbJCNQQYGIgpRecrvEr44MPC5+eabx/NNhabsUPPl55577ok7wgw48oWDygsqHRgYzA+65v+ev+G+863p+MLCUYiLL754nFOM8JYd4/GpJmmOWgwSG3vMBqeSVHtef/31WE1AG7qEwUbmqSo1N+no0aPHqQjjM515sQqrS9pac0LThMHYkSNHxsfBfgvVrwSmVMIUq65NGDAcOnRo/Zym7Lfkg8+EgVv2z/hSxaA5B5kx4Mv+Dm3rCDgLsT91zTXXFA2QGsPtsQ/FdyMeD4PSqa0p88Tz3FZyVYxqDwcV8D+bn98XhB2EpHxfaKwiTapUVD2m7+CHHnpoPGi41jAmwAFFjBnyWQhawHIAT3MrP9tSY6Epn9WSJEmGplInViw0ZS6rww8/PDv3J+amyLe1YgCP+Ui33XbbeL6p0PSRRx4JRxxxRHyDSG8c+f87Qrd88Jb/e45OpKXvwIED42Bjsfm1VltttVjFQUufYkcgtqZaDg8NTiVJ1aIloWm1osppvfXWqz+AjTaDJ5xwQjwtdTTmLOV/tXCuUsJS5vzdfffdDfjVqVFJlw58Yd7rUu1LqwkhKa3iOfiI7/d8DhFGpipbWt7Sjp6Wt421729vhqaSJKkppULTxkuwJFUsKkKLodIhjwMPyg0naddy+umnx7Z0vGkQvFFlwcEStNai5Q4t7UphEKRv374xpCUUpZKjMLwjlD3kkENi9UdbqvXQsLHH2Ni2kSSpktHxgv0RglSWwkq2akcrwXzHD6p7pI6WWpYyZ2k+MKXl5YABA2K4QqBiYKrOjNd5CkxpzVsLgSmYR5tWvFTWHnTQQfEAiLfffjv7bd1cphygXUmBqSRJ0vjoFCPnxarVpFrHoFmx/438FxhwROhss82WnWvcww8/HI+oSJhb4qyzzorzaDHnGS35mmq5Q1BKyy0qXs8999wYuDLnSJqXhDCP1nd33XVXPN/eaqnK0orS2sbzzzxBzB3DgRAM9PD/TeV6aqUlSZ0NoSlVI1SzFWv/We2Y940uHyy9e/eOc4dJHYWAlKCUwJT9jIRwlICFsJSDGwxLVQ2uv/767FSIbaZrxQ8//BCn4aEtMVMB0fKfcQi6UDENDxXknWEuUEmSpHJZbiR1Us8880wMH1Nwys9XX3013HffffF8MuOMM4b55psvO9c45sn6/PPPs3MhDsTl5zpjXtMXX3wxOzcu2vZwHXC/vXr1igOaV1xxxThH4n700UfZqdZXqpKyFkPEUo/ZatPqRsX5nXfeGQ9a2GyzzeKcdwxo0tKRI8XPOeecZs+pJ0nqeMxRz7QILNddd13JOWmltsTBCsytu/TSS8eWvHkEKISlzPVIpalULfKvdeYEr3ULLrhgOOWUU8JGG22UXSJJklQdKn7U3CpTqTjCS+axuvfee8Mbb7wRf9IqJz/vKVZZZZVY/dkSVKi9/PLLMYChYo2jS++///7st+O6+eabw8knnxzXjblP+Dva9HAEauGgyVRTTZWdal0GpuMyOK0tHJBw1FFHhb333jtcffXV8WjwVFnKgQ0cWMG8Q/3794/vHX7OSqp0zOt+6aWXFl26du2aXUtSW+OAq379+sW5ha+99trs0jpU3hGWcmAWc5hK1aRWW/OCTlPMnc1nMfOJ9+zZMxx++OHhoosuipXmlVpJzjRFHDzOOqeFlvbMwSpJktSYCcaOHVt0tPTMM8/MTjVE1Upb+/bbb+NPdr4Y1E8L7T/ST5Ykf1qqRrTT5EtKYSBKy1ta4dCCl/+bMWPGNGi7ydGfl112WVhhhRWyS0JYc801w4MPPpidC7G9G9UKIPTca6+96r8Q8v/Gl6RFFlkkXsZ8JoShP//8c/w98n9P+y3mRJ1zzjnDPPPME6affvo49yrrRWXsd999F6/H+vIla9NNN43nWxPrXEwth6aJ26Y2nHTSSTE0baoFLwc07LTTTuH4448P0003XXapJElSQ19//XUYNGhQOPXUU8PYsWOzS+vQWYZ5S5dccsnsEqn67LnnnvEAYtB6mkrqWsJBlvnvjGlsrtKxzoUHiKYxRUmSpF9++SU7VYdpzUaMGGF7XqmzYp5SqjXff//9WNlZOE8hYSpHgC611FLZJU2jKpWjL9OXCL5k0AL4xhtvDI8++mgMVrp37x5/VwqhKm1+hw4dGtvyUunGkbkpMP3b3/4W24MStrY2Q0HVupEjR8Z2jfn3gtVWWy3OTczBUPz/pvmF2TGgSuSRRx6J5yVJkvIISzkokspSptzIB6ZrrLFG7EAzZMgQA1NVvVpvzcv4AJWbaekMgSlYz/x6sxiYSpKkphiaSp0U7WVOO+20sOqqq8bKTXb+J5poohiW/v3vf49HglPJSTVZuWaYYYZw0EEHxXkPZ5lllvovGYSl66yzTgxeCFZLobqUuY0IdCeZZJJ4Ges15ZRTxsEWqlypauPo3NaubDMwbVqpbdFZvvSqcT/99FO4/vrrY0vthPcDqj9o1du3b99YhUq77OSbb76Jrb0lSZKSwrCU8wkBKfOmE5gSnErVrpZb80qSJNUi2/NKnQD/EzfddFP9lzUwYLHuuuvGuYMefvjh8Mknn8SAdP7554/teAlAi6Hy8913383OhTDXXHOFrbfeOjtX57PPPguPP/54eO211+J5Qhaq1QhSuZwvjkn+75nDlIrXV199Nbz99ttxvVPousACC4TFFlssTDvttPG6ra1Y8GdgWpzbqmMwuHjcccdl5+r+r6gGpwV2wnykhJzMNZpss802YZdddsnOhfDmm2/G9rsffvhhPM9BCsxvzP//tttuG5566ql4OZ+Nffr0iS2zqfAGFSJclp+HjAMwbr311tClS5fsEkmSVItSG14OlMwHpSAsGjhwYGzHK9WSWm/NK0mSVK1Ktec1NJXU6RULAWEQWJzbq2NQ0dmzZ8/61rkzzzxzOPfcc8NGG20Uz4PrEJBy8EGy+eabNwg5OWiBanAqS7H88svHig8qTNdee+36y6eYYopYcb7HHnvE88kpp5wSQ9aka9eu8WAKW+tJklSbmgpLOaBrxx13zC6RagudW9LBy4899piVppIkSVXCOU0l1RQDwNLcNh2DAZd8Vennn38enn/++fD777/H8/xkTlKqxvPeeeedBpdxPgWjoCU2VaJjxoxpcDlV3bTVKzTjjDNmp+pwoFKqWpUkSbWDgLRUG17C0osvvjh2tTEwVa2yNa8kSVLtMTSVJKkd0N6agDOh4pRWu6m7wpdffhlD059//jmeTwhX8+16GbzMW2qppeLPTz/9NP5MaNfLfMKFCtvw0rL3q6++ys5JkqRqZ1gqlef666/PToWw5ZZbZqfUGfzxxx/xfeyMM86IbZUvvPDCcQ5OlSRJKsbQVFKnVqzVrJWUTSu2jUq17VXrYF7RZZZZJrbNTfginwJL5jN95pln4unpp58+TD755PE0cwy/8MIL8Ys/8qEpVaPdunWLp7/55pv4sylpflNJklR7mJvRsFQqz7Bhw7JTIWy44YbZKXUGHHh65JFHxvbip59+ejj44IPjvMy//vprdg1JkqTiHCGXJKkdEEoz/ygVpwnzkBKK4u23346Vp5h//vnrK0K/++672Mb3hx9+iMFoPjRdfPHFwxxzzJGdkyRJKo3q0j333NOwVCoD/ydMi4FpppnG1rydDN+tnnrqqfgdigOGeT4feOCB2N1HkiSpMYamkiS1E6pCZ5tttuxcXUveNBhDNSn++te/hu7du4f55psvnsdrr70WvvjiixiqpspUrke738I5Spvy/fffZ6ckSVKt6N+/f6wuTQxLpcaNHj06OxVC165ds1PqLKabbrq45HHwaurmI0mSVIqhqSSpni1629bUU08dllxyyexcnRSaPvvss/EnX+45kn255ZaL5zFq1Kjw8ccfh/fff7++DS/XW3bZZcOkk04az5fbdrfw6Gr+ftppp83OSZKkajJixIh4kNXJJ5+cXRLCOuusE7tdGJZKpbH/nRTuv6vyzTXXXGGPPfaI36lmn332sOaaa4a+ffuGqaaaKruGJElScY6OS+q0nM90/LitOgYDl3lUkb733nv14elMM80U2+6muUpB0PnGG2/ENr3MzwO+/BOaJoUVp99++20MWQulv08Icm3xK0lSdeFgqz59+sTuFfnwh8B0yJAh9QddSSqOffRkwQUXzE6ps5hwwgnDFltsEa6//vpw7733hssvvzysvvrq2W8lSZJKm2Ds2LF/ZKcbOPPMM7NTDe27777ZqbbDQC/4IkcokpYJJpig/idLkj8tqXYYmrZMse2W5zZsW8yts8EGG4RPP/00nmcwk6OeDzjggDBmzJjQs2fPcPPNN4fHH388Xo85TcHnL615+cKPrbfeOlx55ZXxNLg+A6Hp+gwUHHHEEbEdH6cTjrg+77zzsnMhrLbaauGOO+4IU045ZXaJJOmTTz4JTz/9dHj11Vfjd5PJJpsstmcsnJu6uX7//fcYZr344ouxLSrzWvO5ywEsCy20UKxmyrdxL+W3336LB9w899xzcd421nGiiSaKlTVLLLFEvK2JJ544u/afbrvttjBy5Mjs3J/oOLDJJpt4EE2VGDx4cPz8z89dypyMBx98cDj00EOzSyQ1hn3yYcOGxdN33nln3M9W58HnLd+dfv311+ySEFvz5rvz0MHnxx9/zM6F+DnK5yHfl3/++ec4H+ovv/wSz7MfMMUUU8QpUhrzxx9/hLFjx4affvop/i3nGbPkM5kxTm6n2Bgm+wL8HUv6O+53kkkmiX/Dz1KYxoW/SbgvuhJxG/nHwbrzGNgO+XXgPpnChW3VnMfKvgjbj79ne/O36TEW2weRJKnS5D8/8cQTT8ROPYamkjot3g8KGfg1rtg2ay1u+/IQjP7rX/8K//vf/+J5BraXWmqpcOONN8YvnkcffXQYMGBA/RxjjzzySLwe4SpfPocPHx7Pn3baaTFoTahU3WmnncKDDz6YXVL3NxdccEFYeOGF45dmWvFtt912DSpODjrooHDKKadk5ySpthGWcuDKDTfcEANTqvP5IsXBJ9NPP30MTjloZeONNx5nrrRynHrqqbHqhQNnGMxlsJH3Z97fuf155pknbLTRRmGbbbYpGs7yPYkvcbfcckt47LHH4u3QjYB15DOeweCZZ545rLHGGmH77bePny/5gctdd901XHTRRdm5P80777zhsssuCyuvvHJ2iTojXhv9+vWLP/O23HLLMHDgwPjakFSeWWedNR7kAvbf/f/pXHjO9tprr/j9J+ndu3c4/vjjs3MhHmDK531Cp5///ve/8bP1pptuigel0rmHEJADkjbccMOw3nrrlazU53P90UcfjZ/PfN/64IMPYmhJ4EmXIKZg2WWXXeJrK4/Q8+GHH47f+1jf9Hfc73zzzRc/y//+97/HA6u4rBDf75588snsXIgHeF1yySVxHW699db6x8E+AuvAfgw/+e750ksvxe4DDz30UHy9s650PeKxcqBAsQNr+d7/0UcfxYMJWGdugwN3WTe+26600krxoAPWvangVZKkjmRoKqnq8H5QyOCuccW2WUeqxeeLD+QTTjghnHTSSfGLKl9eqf5499134+8ZrGfAnKN9qQihWgTMv0Ml0ocffhi/kPIF+B//+Ef8Hbjdf//733EggCObEwYL9txzz/hFlt/zd2mnoEuXLuHqq68Oa621VjwvSbWMSgkOXCFc4v25FN6PqeIjnKIqpTmYUy1/cEsxBLT77bdfPICmcLCSA2522GGHceanLobB3/PPPz8eQJMYmlYnKkp5TaZ9hoSQ/5xzzokhuqTycTAi74tgP72c91xVFroxcIDTs88+m10Sws477xwPKE0KPxMJRnkvPffcc+sPVM2jG8MxxxwTttpqqwaVn3ynffPNN8N//vOfcO21144zHUpS+Fmb/m7QoEExvC31d+wXcFAVgSsLr8n8OGjhvgWhJQfXcqBWPkxNVl111fi9kODzqKOOit0vCvd7OEiAg3QJWPP3RUUpISxjxnfddVf8zlqIbUNwy23z+VNpYxCSJCWlQlM/uSRJHYYvUC1ZOjMqfpZbbrn6OUgJMwlCwdG4fCEGLZE4ypfBedBWiQooLLroorEFYx63u+mmm4Zlllkmu6TOpZdeGjbffPNYcZQPTAleuSw/L6ok1SreGzmIhPfMNHDI582cc84ZKzxmmGGGeBl437744ovDfffd16KDf3i/nnvuuePtUjUy//zzN6gG5f5pv07r9MLbpxolDd4ziMqgJoOwfCbwuZFHtQohWv5AGjoS8BgZEKY9uzo3wtKTTz45vgbygSkD6oT/vAYMTKXmy3dl8X+odhAiEjRS9VkMFaCEjXSiyHvllVfCPvvsEwPZUsFnMenv2Kdo7O/YL3j99dfjup1++umxorUxzMd75JFHxmkGiiH0POyww+J1eK0XO1CMqlOqVdOUMsnzzz8f/5aOFykw5TOHA7XSvhJVslSgEjCPHj06XiZJUmdiaCpJNaRaKjsLQ9Ryl0pBGJpCU56T9EWVwfPU+osjehdbbLH6L5/56xGMFmvbuOCCC8Yv3vmWT4SttEziy3P+CKr1118/HHjggbHaVJJqHfOCEiTmBwd5r6VKjw4AtPDLv18yeEmw2dTAZaGll146DlISXHK7tMS7/PLLYzvePAYrH3jggaIVHCDM5f2e9aNqhQFXKlO5PI8KEz4DEqpOOWCGdq2EteqcqIKjiwSf94Vzl9Lan7CUamVJLUOr0oT9dtUG9gEIMvmeROcJKlPzrfhpp89nKvOJJ8wDSlcHqi4JC0FLWg5mokqT22EfYosttoif0ek7aTpAKv93dK/ggFY6WfB3ffr0iX+TWtxy4BQHyDTVsYLrcbDttttuG2+HNrv5zhjcNwd+8f2Qtr98juy2227jfL/ks4SANWH7UBXLvkWaw5T/DzoosR9CpS1VrxzUxbbieuyjlNqXkSSpUhmaSlKNIXxLS63JB6jNWVobg5wcjZvHl0tC0vygPG31CudPop0vg+6FFUUJ8+ww8E+LXyqZJp988ng5X7b50k8wS9tfjvwtnE9HkmoVFRH5QVDeH3mvpH05A5YMfDK/V35uLlr3vfHGG9m58nCbhxxySKzy5HZ5n2Zesb59+4ZFFlkku1YdKl4KBxp576erAIOTvI/36tUrtvljkJJpVGg1mEeoyxzZqg685jbZZJP6ylJaSid8vjOPHq8N516Uxk++NauVprWDtrLMD0rrWT6rTznllHgAClOk5HGgVUILv6FDh2bn6tCalra/hIjcDpWZzJVKu1vmNgXVqoV/16NHj1ityuc7f0dVK3+XOhGBz/Xbb7+9aHVowvdF1pv743aoUC3Wfp99kfPOOy8cfvjh8TqF+xBUv+araml1TIUpQTHYV+KALbpY8JjZPyEgTgdwEQYPGzYszqcqSVJnYmgqSWogH6o2Z6lmxYLUcpZSCEg5cpkvmWk57rjj4uA3v0sIORlIz1+Po4XXXnvtkvN503Z3gw02iO2UGDilbR9/d+yxx8Yv7ldddVW8jEBWklSHQc/8ACRVmLzXpvdk3o979uzZoOJkzJgxzQ5NZ5pppgbv8wkHzBQeyEJAWjhnKvOUMYDKwGrhwTO0+C1s0U4lSOE8LepcCEapTOZgK553BqzzCHSoWB45cmQM4CWNH/7n8i1FOSBBtWG22WaLnR8I/QhQ+Wzm+1kKOpPUlYLwkK4Q7777bjwPPpv32muv+H497bTTxtvh+xm3xWc086KC/Q66BiQclMWc5cyrym3wd4Sf7ItQDZrHQV7sg5TCgTV0laBjEbez8MIL11eA5nEwGNdl/QiGuU4+IGa/KN/in3a/TFGQsN+ywAILxLbFHKDFdmC/ZdJJJ82uUdcquDktiyVJqgSGppKkVlEsSC1nqWbFgtS08OWXIDMtHIHMoAy/y6OVE0FpWqgkSl+2G8PcMgyk7r333vHvuH3aMfKlWZL0JwbI33zzzexcHQYBp5xyyuxcHVqg50NTvPfee9mp8cPc1vmKUAJQ3q8ZMM1jgDK1dy+mcGCSwdLCChl1DrTc5fObAW1aNBbOC0cbXoLS+++/Pw7qS2odhFmpipt9c/apVRv4vCwMSKeaaqr4WZqX2unSDYKq01R5CbpG0GK3MRzMRJv/fABJhwD2PQoRdBa2iObv2G8opfBxEMgSBBfu1yy00ELZqTq81qeffvrs3LgK53JlflO6HPGdMy18d+WxJWwr2/NKkjobQ1NJVaUwcFJplbKtigWp5SzVLAWrzV0kSc1Hxcg333yTnatT7OAUBhPz1ROghe74+PLLL2MbSFrw5YNbAtPNNtsshqflYlDynnvuyc7Vocpk0UUXzc6pM8iHpRxUxfy2Ca9BWi4SsNNNwgo4qfURmib+j9UWOvk05zvVjz/+GD777LPsXB0OdircVyhE9SYHOTHvZ0K1Z2F3iaSws0Q534cLHwfBabHL8pp6/IX7PBxcQJVpfuE6+RAZ7OtIktSZOMIqqdOq9uCsI3SmbZq+LDZ3qWZ8yW3JIkm1jND0hx9+yM7VKRxIBBWehQOX+bZ15aLVKi3wWKjQYC6w2267Lf6O219hhRXCoYceOk4FSGO++OKL2LaXucMS3t/TnKyqfIVhKecT5r4dOHBgDEv5yXlJbePJJ5/MTtXN+SiVwudsYctb2uLnw9BiOCCqsOqzManyOeF+i+2ntLXCiluqUjfaaKMml1lmmSX7C0mSOgdHSiVJNaVYkFrOUs1SeNqcRZKqBa3j8vOZlkLlSGsMUjKH2YMPPhiXJ554Is4Bxv3TAnCTTTYJF154YawyLfe+qJI944wzwoknntig4oUK06222qroHKqqHE2FpVSUEpZSYWqbUKltEU5R/Z9YaarGcKATc5VToZnQmrax1rmgqpT2ufnKUroK5DsLJHwPzbe7BfsL3G97Y87XPD6jTj/99HDBBRc0ujAfuyRJnYmjnpIklaEwRC1nqWbFgtRyFqlSMCiaFir/CC1Y+vfvH3r06DHOQqBR7DU9vgu3y+1zvyeffHJcn8K5C9V8BE/557hwGTVqVHbN8pVTPTI+CG8ff/zx+Fq44YYbxql+LUTQ+thjj4W99tornH322Q3mRuvevXsMUplbTZWp3LCUuUsltY9rr722/n+R/0NDUzWG8HKppZZqUDVKYHrJJZfELhaFCEVTq1rmKWUe04QW+3feeWds+ZvwffLZZ58Nd999d3ZJna5du3ZIF4lu3bplp+rQjpeDv2hJTNVp4cJj4YAzQmJJkjoTRy8ldWrFgikGodW4Ytuo2kO+jpDC0+Yu1SwfFjVnkcpBEHbLLbfEIIKKvcaCznwg2qdPnxhasKTgsnChOrAtcLvcPvebAlsGpVjHySefvH59eSxbb711DHiLVSKoIV4L+ee4cNl///2za5bvq6++GqdFXkswwMprjmXbbbcNq6yySqxW+eWXX8Ibb7wRbr/99rDvvvuGq6++uuT9cfmtt94a/vWvf8Xrffvtt/FyqkpXXXXV+Hqi/W9z5kRV++H5MSyVKs/555+fnQpht912y05JxVFhuvbaa8cANOG73PXXXx922WWXMHjw4DB06NBw8803h+OPPz623udzHiuuuGJYbrnl4umEz/N+/frF8J6/4+/79u0bXnnllewaIQa0PXv27JD2vFSMzjfffNm5ED755JPY5YL1fO655+Jn12uvvRYeeOCB+HiPOeYY5zOVJHVKjkJKklRhCkPUcpdqloKj5i6qToXh6NJLLx2fb35yniCC37dV0Nle8oEZj4VBNIK2WWedNT5WQtYRI0Zk11BLFZurlKrPQoRbhSFmYau6cjDA+u9//zsugwYNikE4A47LLrts/fsWbXYJ1l544YV4Po8K1PPOOy8Gqy+//HK8jIFbWvXtvffetsKrYFSRUwXM/65hqVRZ2LdIn6lUx/m/qHLw/s0BTOxLJHR++N///hcOPPDA2Caf19IJJ5wQHn300fDrr7/G60w99dTx7+aff/54Hp9//nn8LCCw5+8OPvjgWMmZphBgX2XnnXeO+xEdge4V3D+VpaD7BoHuYYcdFteJqQU22GCDsOmmm8bHS5AqSVJn5GiipKpkWFKa26Z6FQtSy1mqGa/3liyqDOWGo1yvORgMXWONNeoXjvwfMGBAXDjK//77748LgVSx/5nWXLgP7osj9VkP1oe2a03hMROqEcB06dLFKtTxUCw0JbwqREUF7fPyWhKa8vpjwJGF546Kwy233DJWv0433XTZtUJ4++23Y8VGHtWoQ4YMic/9mDFj6tsFU51MCHvccceFBRdcsEMqUNQ4njPeu/IHOvC/blgqVYbLL788OxXCOuus06B1qlQKBy316tUr7pMSKqbPXz6faU9LJwhCVA7G4rr5z+fVVlstfnavsMIKYZJJJomXEZCyr8Hf8ffcDvu+M8wwQ9h9993jviKtbzsC+0oEunvuuWdcH9YrPU7aEbNvyvyrHBTE46VjivOqS5I6I0cFJXV6DDpr/LgNa1s+wGnOUs1SeNrcReOHwRbakrU0HGXuMQauCD8JlkaOHFn0tcvgTgpGU2BJMMtCeJXC1HLCy/HFfaTglvUoFdYydyXXKTa/GoNTVqE2xHbKP8eFC/N9JoSX+UoPEGJ99NFH2bm6Qcynn366wRxl0047bau9RhhEJTAlUM1jHtU85jYjfEvrQftdqjuoWN18883HCX/V8fLVpflKZf6feY8yLJUqA5+jia151Ry0zN1pp53CueeeG187yyyzTJhmmmmy34b4+U5rfvZR83OREpTSape/O+CAA2KISlifgkY+0zkoigPj/vOf/4QjjjgidpXoSBzsRQUs68N+B+uX9j3Yd0+PlUpZul/kDwaTJKmzmOD/f3GrOzy5wJlnnpmdaog2UG0tzcnDoEF+IJKjstJPliR/WlJt4r2hGAaa9Se3kypBqddhLavl/0GCUKo7mtNOl0CMdmjMIZVOFwsTqxXVpMOGDQt33313/Jlv81mIQTsG6RjYonJGxTH4l/+eQ5BKWE/rPIJJKj4ZCH3ooYeya4Sw3nrrxTa5BNUgEOM5IQjjsnXXXTfMMccc9b978cUXwyyzzFK0OvWLL76Ig6GXXHJJrCZNmBeNdncJrf4GDhyYnQthiSWWCFdddVUctGyOb775Jg7QUuUIql0vu+yysPLKK8fzah0E3LyO8mFpqi5lPjtJlYHPUcIg8LnpPIyd308//RSefPLJ+HmXEFjm9xfZB33vvfeyc3Wf/csvv3yYbLLJskvKu508Wui/++678cArToNWvFSHzjXXXGGqqaaKlxWibe/7778fPvjgg1iZykFTjInSDYO/40CtUmj7y35EQlBZ+HnO7dLyP7UHBgf05KtWGYt96qmn6tcbCy20UFyK4T5ZZw7k4nOOsVkeH1Wo7OvwuP3eJ0mqZPnv3qAtPgefG5pKqhqldsgNBOu4fdTZlXoN16rO/L87fPjwGAYR+DUWlNZ6OFoudupvu+22uD0bq8aleoGqtu23375dqmg7Eyo4t9tuu/o5QsGg6A477BBfd0OHDo3bOH2pYhDz9NNPj5XJVITw/YXglblJP/zwwzho+Pe//z2ccsopYYEFFoiDrVQyM/BKJTCXpSoU/pbq1/vuuy8OlCYEoddcc01YbLHF4nkGdnv37h0HNBPWkfsp9f5I9QfrWBjQGZq2Lf4PaV9YWO1NdSmV8IUVxZI6Fv+rBEjg/ZLuDpIkSapuhqaSql6pAUNDwTpuH9WqUq/9WtVR//MpKKWitNS8m4R6qSqSlrVqvnKrUAmfqZxkeztvW10lKIHnMccc06CapBTC57POOiu25ANhK+Ek1aR5hJ5bbLHFOCFlU6jSOP7442OQmwI2QtWdd965QVVMU6iconXvtttum11Sx9C0bfA6orKUCtM8q0ulysb7Pwc6gHkjzznnnHhakiRJ1atUaOoooqSqUSoIMDAxMFVt43Xe3KWa8X7QkqW5CO/y82z26NEjDkoWBqYEdgxQUmk3ZsyYOFBpYNpyqZr06quvju0F2a5s3/zcWkiVcDw3zBvLc0XgU6sIJqkqZf4tAstSB2WyHQlHmXs3BaaYfPLJx/k72vyxgP8h5i5r6n+JVsBUllKNyBxm+YrEzz77LM7Hq8rEQQqEz/nAlOePuYpp2WxgKlUuWrAnCy64YHZKkiRJtcgkQVJVKRV2tGTAv1qUeuzVHgxJ4yMfoDZnqWa8lzRnIYwj9Ln00kvHCUoJngj2hgwZYlDaxtiubF8CVIJUAr9CVP/yXDX2nNUC5gs7+OCDwxlnnBE23XTTOIcYrXfBtvnHP/4RjjvuuHD22WeHRRddNF6ezD777GH//fePrXfB9Tm/wgorxPPMj0YFNXOkLrvssrG9bx73xe0fcsgh4YorrojXo7Vu3m+//Vb17zOdEf8rHHjQs2fPBv83zCFMWEpL3nz4LanyjB49OjtVVxkuSZKk2mV7XklVifeKYmptsLHUdoADr1LlaOx/tVb5HtV2aNlLZenll18+zpyLebTwJfjZcMMNa6pK7vfffw+ff/55DPSZY5TXInOUUklKJS/VoMUQar755pvho48+iteff/756ytNE26P39Me94cffsgurTuQgFa6hKmlArZPPvkkvP766/F+ykXoy/ypM800U3ZJHdvzjj/+j2h9TJvmfBtsXiMDBw4seoCCpMrEgS7poAfe+21bL0mSVP2c01RSTWksgKiVgXi3gVT9Gvs/r1W+vzXPO++8EytLCVA5XQqhHm1+aRtr1VznZ2jacqXCUvA/QjvewnbYkioX7epTl4C55547vPXWW/G0JEmSqptzmkqqKY0NmtdCyGBgKtUG/p9bslQz3v9astQqBoiPPvroOEhMK1ECn2JVpYRDzNXIwHJj1amqbKeddlpYc801wwYbbBDuvPPO7FKVg/8B/lcImI899tgGgSntPB977LHYCtvAVOpcmI84caoASZIkGZpKqlqNBQPVPEDe2GOr9rBEUnnyAWpTC3NhUl1Y7UFAPkAtd6k2tONl/kXCnzQHKnPP5tsUMu9b9+7dY3BEhao6l9deey08+OCD4ZFHHqnJeWtborGwlIMOqNZ9+eWXa6qFtVRN7r777uxUiO3oJUmSVNsMTSVVNQb8S6m2Qe+mHk9j20KSCpUTFOTD1caWapXed5u7dAaE5MzJyPPM/G78zAfntPLdc889w+DBg7NL1BnMMcccYamllhpn6datW5h88smzawnlvAdSoc2BBZI6J/6vhw8fHk/Tet5KU0mSJDmnqaSa0NQgdWcf1K/2xyep/VBJeP7558cqwnxIAIICqk7bIyRo6n2tFnX0ezmViX369GnQyhC8Hg4++ODYolSV7fPPPw8//vhjdu5Pf/3rX8N0003nfLX/H+97peYsbc/3QElt79prrw1bb711PE1gev/998fTkiRJqn7OaSqppjU10MzgfGccoC9nvQ1MJTWFYICKQearpOKMwCAfFnREVRXvXS1Zqll6z2/u0lpo08s8mMx7mkfAzuuGtr2cHjt2bPYbVZrpp58+zDnnnOMss802W80HprznWVkq1ZZ8a9611lorOyVJkqRaZmgqqWaUM5je2gPMbaXc9az2AEHS+EkVFl26dImtVkeNGpX9pk5nDAryAWpzlmqWPjOau5TCvKdUK/bq1Su7pA5HZFKJOuuss8bgXeoMDEul2pXvnLDOOutkpyRJklTLbM8rqSY1NhicV2kD6Z11vSVVDlqs0naSikBOF2L/izBs8803HycU07jKfV+uRYRNBk2qVISjtuGVahcHitFhA3RSYP5uSZIk1Q7b80pSTrmhIoPhaekozV0HA1NJxbDjR1UpVYAnn3zyOIHpiiuuGM4555w4aHj11VcbmJaJ99yWLLWAqtP8Z1hTi9QerCyVhFtuuSU7ZZWpJEmS/uTohKSa1dyB6/Yc2G3JfdXSQLyk8lFRylyTLLTjzSMgoNUqAcFjjz0Wdt999zDNNNNkv1VbSu/ZzV2qWf6zr9xFKpdhqaS8hx56KDvlfKaSJEn6k+15JSkzvoOvLR3M7qj7lVS9qCIlLKXtZLEWvFRU7LbbblaT1pDx/aypNn521g7CUdvwSsrjvYD53JMvv/zSg8YkSZJqjO15JakJ41vFw4B0S5aWGt/1lVR9Ro8eHVuiUknVv3//BoEpB6MRDLz88svhzjvvNDCtMekzozlLNSv2eVzOos7DylJJpeRb866xxhoGppIkSarnN39JKlDpg8W1MJgtqXkY/OvRo0fo1q1brDAdO3Zs9psQZp555nDiiSfGuUoJCbp27Zr9Rmpc+rxp7lLNigWp5SxqP4alkpqSb8272mqrZackSZIkQ1NJKqmSBoAraV0kVQaCAFpOEgxssskmYfjw4dlv6qy44orh6quvjmEp85ZaRaH2kv/M4jVIcF+IID9/PZZqVixILWdR+QxLJZUrX2lq5w1JkiTl+U1cksrQ3gO77X1/kjqPd955J+y5554xGOjXr188n0cg8Nhjj8Vlyy23zC6VOgavQVpCE9zn0T6agCuv8LOv3KWaFQtSy1lqiWGppOZgnqr0PsEBZUsuuWQ8LUmSJMHQVJJaoDUHbVvztiRVr2HDhsWKUoKBwYMHNwgGqOQjlEoteKkylSoFg9JUlhKe5l+bBFyFwWlLFPscLWepZsWC1HKWzoQ25Kna3rBUUrnYn0qsMpUkSVIhQ1NJaiXFBmTLWSSpFEIB5ihlrtKePXs2aCcHqiNSMEAoVawNqlQpmE/3/vvvD+uss052SV1wSuX0xx9/nF3Sfop9JpezVLNiQWpTS3vLh6VU2xuWSmqOu+++OzvlfKaVqNjnTDmLJElSa3HPQpIkqcIQClCBN+uss4Y+ffqE0aNHZ7+pQ8tTwqeRI0fGYGDSSSfNfiNVNl6rQ4YMaRCcUjlNAHbyySdnl1S2YkFqOUu1KjZ4Xc7SXIVhaT5oNyyVVA7eN2jPm1hp2nGKfS6wtFSx22KRJElqLvcgJEmSKgiVpcXaTdLidL/99ouhwNVXXx3WWGON7DdS55KC0/xgNYEY85zy+q9WxYLUppZqVmxwu7Fl8sknNyyVNF7yrXlpF8++ldpH4Xt6e+mo+5UkSZ2XewySJEkVYPjw4WHppZeOlaWFocA555wT5ysdOHBgPC91dik4ZaHNdEKr3sLK6lpWLEgtZ6kV77zzTnzPLBwUL7VIqm351rxrrbVWdkptpRLffytxnSRJUmVxL0GSJKkDERAxX2mPHj3CqFGjsktDnJ+UsJQKqt13390WvKpKVJvSajodDEDF6SabbBJ/quWKBanlLNUuP1jenEVS58fnSr7SNN8mXq2rs7x3+h4vSZKKce9AkiSpA1BNSlVdt27dGgziEY4OGDCgPiyVqh3tEWk5nQ4M4EACqgfV/ooFqeUs1S4NrDd3kVQ5mD87TXvAgTq051Xrao33vmKfMeUs48P3bEmSlOdegSRJUjugwmHQoEFxvlIGZmadddY4gJdHSEpYevTRR1tZqprC4PWJJ56YnQvh2muvjRWn+Xl9VbmKDWA3tfz444/ZX1evNBDf3EVS67v88suzUyHss88+2Sm1hpa+dxX7bGip1rgt34MlSRLcG5AkSWpD+bC0X79+cQ6+QrSIGzlyZGzHS1teqRbtt99+Ycstt8zOhXDLLbeE7t27O8dpFTr55JPje2IhDhbZcccd48EjxQbA80s1SwP3zV0kFUdHjzQFQnqf0fhr7ntPe7+Pt/T+fE+VJKm2uRcgSZLUBgrDUtrxFlpyySXDnXfeGRdOS7WONr20p04ITAlOCVDV+Y0YMSI+n/3792/wnkiL5tSW/OKLL66f47YxhYPh5S7VLA30N2eRasH555+fnarr6sF7jlquOe8flfT+29x18X1SkqTa5Ke/JElSK2osLCUIIBBIAzZUl1JlKulPtKceMmRI/aA2LXpp1Ut1ojonnkOCUgJTgtOE90Qq7MeMGROf9/aotM8Pmpe7VLMUCjR3kToLOnzkD7zZfvvts1NqiXL//yv9/bM56+d7niRJtcVPfkmSpFZAKJBaTpYKS6misiWc1LRevXqFxx57LHTt2jW7JMTQLbVXVOdBW8xu3bo1CL1pj8kcti+//HKs+qr0OZzT4Hpzl2qWD1Cbs0jt7ayzzspO1U2HYGePlin3f7izvf+Vu76+h0mSVDv8xJckSRoPVDDsueeeYdZZZx2n5aRhqdRyBKYEp2ussUZ2SV1wqs6B98KePXvGJf++mOZwPvTQQys+LB1faTC+uUs1S8FDcxepJej+MXjw4OxcCLvttlt2Ss1Rzv9gZ3//Knf9fT+SJKn6+WkvSZLUAsOHD48tQ6ksZUCOgbnEsFRqHbToHThwYHaurmqR/zsqu1WZCEgJt6ku5flKaL3L+yJzOOcriDWuNHjf3KWa5QPU5iyqbfn9M96D6GKg5mnq/6ja3n/KeTy+t0iSVN38pJckSWqGSy+9NCy99NKhR48eDebIAhVxzMVoWCq1Hlop0sI14f+O/z+qvFU5mKt06623jlX3tOLNB9u8H9KK1/fFtpUG+5u7VLN8gNqcRdXh/PPPz06FcPDBB2enVK6m/heq+f2jqcfm+4QkSdVrgrFjx/6RnW7gzDPPzE41tO+++2an2s63334bf9KuKf/FZYIJJqj/yZLkT0uSJLUGAhkW5lBk8P+hhx4Ko0ePbtBmMiEI2GeffZwnS2pDzBU8aNCg7FxdFSpViyuuuGJ2iToCB5IQTBCaFqKilOpSn6PqZGgwrmoPoTsTDrChMwEYW+KANqpNVZ6m/r9r6bXe2Lbwf16SpM7rl19+yU7VeeKJJ+L3WkNTSZKk/4+AlIF/2kkSlDaFwIbqN8JSB+Gk9kFAxxzCqd0i3xfOOeccKxjbGV8kr7/++nDttdcWPZCEkJS5A31eVExjAUQtMnRpGwSmqSMI+2t8Vqg8jf2P1urr1W0iSVL1MTSVJEkqgkH/yy+/vMHce41hvlJavBEGsK8iqX3xJaZnz54N2r/ut99+4cQTT/R/sg2lA0sIrosFpWz7Lbfc0qp7tZnGQotaZFBTGp1BmFc5GTlypO9LZWrs/6zWX3NuG0mSqouhqSRJUqapwX8QjrIwyDb11FPH+UqpLnXQTep4/A9TRZSvCqe68eqrr47/t2o9HFDC+2XhHM4J25uqUiq5eI+UKkljIUetqoVwJ9/Onf23+++/P55W4xr7fzEUrOM2kiSpehiaSpKkmtdUVek666wTtt9++1gtJamyUWnap0+fBmEeoR1zaPbq1Su7RC3BtuWgkrPOOisG1IXYzmxj3i8JJKRq01gwUqs6UyDUpUuX+m4EQ4YM8TOhDI295g0DG3JbSZJUHUqFpn4TkCRJVY0B//79+4dZZ501bL311uMEpsxHeuihh4a33nor3HnnnQamUidBcMdgOG15EwbJqUBl3tNSVeQqjZaWBNG8X1KpVRiYpmreL7/8MobTBqaqVgQfLVmqGUFRS5b2RgeCFJimAzzUuMaep2p/XbdEY9ukI17zkiSpdflpLkmSqhJVpcx7OO+884aTTz55nACFqlIG/8eMGRNDF1t6Sp0TBz089thj8QCIZPDgwfF/nwMmxo4dm12qUni/7N69e5wDkArT/DYjdKD17ssvvxy3sweWSKXlA9TmLNUsH6A2Z2mp4cOHZ6fqWvOqcY1t62p/bY6PxrbN+Lx+JUlSx/OTXJIkVQ2rSqXaRAUkoV5+gJzgjwMmevToUbTFbK2jEuvoo4+uf7+kDVFe165dwznnnBPfL/nJeUltIx+gNmepZvkAtTnLQw89lN1CCKuttlp2Ss1V7a+v1uA2kiSpOjmnqSRJ6vScq1RSwhynxx57bGzRmDjX6Z8ISwcNGhTnK00tLPN4n9xnn31iEC2pOjGuoj/VavhV6nVgGNg8bkdJkjqnUnOaGppKkqROicqx888/P7aSLDZ3IVWlO+64Y9htt91svSvVIKooCU/zeE/gAIpabNmY3jNpXVwYlvIeyXsl2yff5liS8kqFQ7WqM4dipZ5Lg76WcXtKktT5GJpKkqSqYFWppHIxtx2tZwsPrCAYpOp08803r/oAtbH3TMLSAQMGxLBUktpCqTCpllVCkFbqeTHkaxm3pyRJnY+hqSRJ6rSsKpXUUrxnEJwSoBaTAlRa0nameTtHjx5d/36YHtt7773XYP7W/HXyDEslVbpSIVQta60ArtS2NeAbP25XSZI6F0NTSZLU6VhVKqm1MMcp7yfMeZoPFvOYx5ODL3hP4btIJWC9+eL20EMPxfXmdEv5nimpGvG+vskmm2TnVKgwtCsW7hnstQ63rSRJnYehqSRJ6hSsKpXU1poKUKeZZppYfbrhhhvGn+3l/383i1WjKSTlJ5eND98zJVUz3iOXXnrpWFmPQw89NJx44onxdHMUC7tqicFe6yj1OnL7SpJUeQxNJUlSRbOqVFJH4EsRB2rwHlQsoGzNAJWw9uuvv473w/0itdTlcn5fLloJE4jynWn55ZePly255JJxfVk4LUnVbtCgQaFfv37xNO+Jb731Vrt2CigVknVGBnuto9hrwm0rSVLlMTSVJEkV6eSTTw5nnXWWVaWSOhShJcEp70epYqkS8N5H22CCUX6ySJLqzDrrrPX7kBdffHGnmau5WLDW0Qz2Wkep59btK0lSZTE0lSRJFYUdkT333LNoZZVVpZI6UlPte9sK338IRVdbbbVYKcppDh6RJBWXD6hqIZTKP97WZqjXeoo9T25fSZIqi6GpJEmqCFQD9O/fP85ZmmdVqaRK1JoBKiEo33F4v1twwQXjZbbUlaSWYZ+SStOk2kOpYkFcazHQa13Fniu3sSRJlcXQVJIkdShaXzLvFK0vOZ0QFBx88MHh0EMPzS6RJEmSGsdcpuxbgoNORo4cGU93VsWCtvZgmNf6Sj2XbmtJkipHqdC0Y/bIJElSTRk8eHCYd955w7HHHtsgMKX97ssvv2xgKkmSpLJRZcr+ZTJgwIDsVOVKBQGllo5giNc23K6SJHVehqaSJKlNMaDF3KX5sLRr167h/vvvD1dffbXz9UmSJKlZTj311DB27Nh4mirTXr16xdMdqVgQml8qjcGeJEnSuAxNJUlSm2JQK2Gu0osvvjhWl66xxhrZpZIkSVJ5OqrKtFgQml86GiFoqUWSJEnlMTSVJEltavvtt48/qQAgLN1xxx3jeUmSJKm52rLKtFgYmpaOViwMzS+SJEkaf4amkiSpTR199NFxIGfIkCFh0kknzS6VJEmSmmd8q0yLhaH5pSMVhqCFS0sVe1zjc3sqT7Ft3NGvMUmS1DQ/rSVJkiRJklTxmqoyzQegxZaOlA9Aiy2SJEnqeIamkiRJkiRJqmhUmQ4aNCg7F8KoUaMqKhRFsTA0LZIkSap8hqaSJElqFZU0aClJkjqf/L5E4TLrrLNm1+o4xcLQ/CJJkqTOzREtSZIkjTcGM/MKz0uSJOVD0GJLRysWhOYXSZIkVTdHsyRJkiRJkjTeigWh+aWjFQtC84skSZJqm6GpJEmS2kQlDI5KkqTWUxiCFi4drVgQml8kSZKkxkwwduzYP7LTDZx55pnZqYb23Xff7FTb+fbbb+PPSSedtMHO9wQTTFD/kyXJn5YkSWqp/79fFG6++ebw5JNPZpeEMP3004eddtqpfh6t33//Pf5+2LBh8fTqq68eunfvHqaYYor4+1rU2CCpA5SSJHUujX2uV4LHHnssrLjiitk5NaXY8+n+Wftw20uSVLl++eWX7FSdJ554IowYMcLQVJIklY+Q8KWXXgpvvvlmdkkIM844Y1h66aXDZJNNll3Sdt54443wwgsvZOf+xMDZLLPMkp1ruW+++SYccMAB4eKLL84uCWH++ecPN954Y1h88cXj+QcffDAceOCB4fnnnw9//PFHmG222cLJJ58ctthii/j7WlRsQChxYEiSpMrS2Od2Ryu23zB8+PDQo0ePeHruuecOb731Vjyt8hR7vt0/ax9ue0mSKlep0LRy95QlSVLF+eijj0L//v3DpptuWr8ce+yx4bPPPsuu0XYYYBg4cGCD+07Lrbfeml2r7T366KPh2WefDb/++mv47bffwrvvvhsvqySs23fffRcD7ssuuyw899xz2W9aX1MDr5U8MCtJUjXis7expSOxP9fYUsz111+fnQphyy23zE5JkiRJrc9RLEmSVDaO9H/ggQeyc+3rnXfeadA2N4/qT4LC9jDXXHOFaaaZJjsXwl//+tdWqXJtLV988UU477zzQp8+fULv3r1Dv379wosvvpj9VpIkdXbFgtD80tGKhaFpaYlbbrklOxXChhtumJ2SJEmSWp+hqSRJKsvnn38ej/T/6aefskvaD4Ns9913X31b4NSyPxk1alTRtr1tYd111w177LFHmG+++cI888wTdtxxx1jtWilGjx4dBg0aFG666aZ4+quvvoptlSVJUudQGIIWLh2tMAgtXFrbxx9/nJ2qm5JBzVPsOamE11G1K7aN2+L/Q5IktS73kiRJUpPGjh0brrnmmg5rQ0tge++999bPez7llFM2qO587733YqhKu9y21qVLl3DQQQeFoUOHhmHDhoVTTz01zntai8odcHNgTpKkP/G52NjS0fIBaLFFkiRJqlaOYEmSpCaNHDky/Pe//41Vix3htddei4HtH3/8Ec/TInf11VevH1ik+pUWvZ988kk83xQqLwlgP/300zhPK3Oy/vjjj/W33xjui2WKKaaI4S2B8s8//5z9tm4i+XS7aSlWncuco/nrsA7FQl/WiXX78ssvY6UF1+Vx8lxwOYOXXOebb76Jv6M9b2FlafodC6fLeZwt5WCqJKnWFYaghUtHywegxZZKMmLEiOxUaDA9giRJktQWDE0lSVKjCPcuuuii8Prrr8f5O6ebbrow8cQTZ79tHwyYEfglSy65ZNhss83CzDPPnF0SwsMPPxxeeuml7FxphI/XXntt6Nu3b+jZs2dYY401wiabbBKOOOKI8PTTT2fXKu3uu++O82nxd2m56667st+GOH/oNttsU/L3yaWXXtrgOvxNaj+cEHBS0Xr00UeHbbfdNqy11lrxumuvvXZsC3zcccfFx/z999/Hild+x+MaM2ZMdgt1TjrppPr74XpcX5IktUyxIDS/dLRiQWh+6Uzo6pGwHyNJkqTKdN1114UTTzwxO9d5GZpKkqSSqKCkLe/tt98eqxPnnnvusNFGG8UKy/ZCRejw4cPrqyOZz3T55ZcP3bt3D3POOWe8DIS7jz32WHauuLfeeisMGDAg7LvvvuGKK66IFbSEwVSxMg8owSlVrY3hfgg3+bu0pLbBoKr07bffLvn7hIrQ/HXeeeedBhWrX3/9dTjjjDPCLrvsEk4//fQ4aEggy3Wff/75+JxccMEF4bnnnosDoFSf8rv3338//Prrr9mt1KFCNd0P12uNAdPmDgpXwiCyJEnlyoeghUtHywegxZZq8tBDD2WnQjxoTa2nEl7L1cptK0mqRYyVMa7W2fkpLkmSSnr88cdjcEfAByoyCSvb0zPPPNOggnSmmWYKyyyzTJhhhhlixWke4SdhYzGEnYSPVM1SbVoM9/Xkk09m5zoOLX8vvvjicPbZZ8fAM6Et3ayzzhq3wSSTTJJdWjnSQG21DdhKkqpPPgQttnSkfABabKkV7NPl2/NaadpytfS6qVQ+B5Kkate/f/+q+LwzNJUkSeOgqpN2uOecc0549dVX42UElVtttVW7tuZlzk5a2+bbza644ophnnnmiRWnq6yySmwZnIwePbrB3KcJO2133HFHGDJkSINqTuZG/de//hWOPPLI+HP22WePc5J2tA8//DCuawp3Gbz95z//Gc4999wYprIwx+zOO+8cpp9++jDZZJPFdr0EwuykEijn7brrrvF3LFyP60uSVM0KQ9DCpSOxX9LYojp0GuFAMtDthEWSJElqS4amkiRpHF999VVsV8v8naCycb/99gvdunWL59sLrWbvvffe+nazk046aWzNy7yqWHTRRcP8888fT4OqzPvuuy+GrXmfffZZDCH5mfCYjjnmmHDKKaeEww47LP486qijYgjZ0X744YcG60pVKQExrZGZ13TdddeN4Sdh7+qrrx6DbH6/0047xd9NNdVU2V/WWXnllePvWLje+Abf5Qw2Fxv07ehBaklS9cgHoMWWjlQYghYuKk++NW+vXr2yU2pNHf2/Uo3cppIkdW5+kkuSpAYIKG+66aY4XyZzcU400USxwpTWvO1ZZQrm68y35p1jjjlCjx494jql8yuttFKsOsXvv/8eHnzwwfDuu+/G8wmVm0888UR9BSqDGeutt16cG2vqqaeOYSw/uWzNNdeM1+lIPL58NSjzpDIH61lnnRVbCKcKVOaWrZSqUQeBJUmtKYWfpZaOVhiE5he1jltuuSU7FcJqq62WnVJL+drsOG57SZI6D0NTSZJUj8D0nnvuifOYMo8Ug5JUKdLetSPCOdqy5dvpUlVKdWnCHJ+rrrpq+Nvf/pZdEsILL7wQRo0alZ2rw5ys+Ra/hI3LLbdcg78DFawLLbRQdq7jzDLLLPFxpXAYb7zxRjjuuOPCxhtvHPbee+9w5ZVXNpjvtLOohIFuSVLHywegxZaOlg9Biy1qW++8805cwMFtzmfadirh/61auC0lSer8/DSXJEn1CBxp+ZrmMZ155pnD1ltvHU+//vrrcSGoo6IzoRXu22+/HX9HZWpreeutt8KTTz6Znavz2muvhd122y1su+22cdluu+3C1VdfXd++F7/99lt4+OGHGwxofv755w3OTzjhhGGKKaaor1BNKmWgljB4r732Cj179mywnrTt/eCDD8K1114b+vbtGw499NDw8ssvjzOHa1sqtn1KDR47qCxJtSt9ppZaOhqfUY0t6lgcOJcwnz37Rhp/vrbbn9tckqTOxdBUkiTVe+WVV2JL3BTCMa/mEUccEf7+97/HI/xZTjzxxPDdd9/F3+Ppp58OW2yxRfxdmgN1fDG4wNykb775ZnZJHc4TkuYXrkeYmEfYSpCbFIajpRC+jh07NjvXsah4Pe2002KIzbadfPLJs9/U4Tm47rrrwplnnlnfrleSpPZSLAjNLx0thZ+lFlW22267LTtla972UAn/s52d21CSpOrgJ7okSapHBWl+IJEQ8dNPPw0fffRR/ULb3vx1aJ+brkPVaWugMvSuu+4K33zzTXZJ81Clev/999ev5/TTTx/++te/xtNgPWnXm6+YBW18qWYdHwS0hSFtYahJyMtjbAy3QTviAw44IM4ve9lll4X99tsvzDPPPPWPhW1/6623xsfbmNYaHG6twSAHlSSp8vFe3djS0fhsa2xR55avNF1nnXWyU2oNpf4/KuH/utr4XiRJUufjHpEkSWp1hJFUrV5yySXhoosuitWrzUF74AcffDA7V2fhhReO83kWW3r06BHb2Ca0CebvU1hJaDr77LPH06CalLCR1rZ5/E1+kK4lmCd1kkkmyc7VGTlyZINAmcf36KOPZufG9f3338d5vNiOBKTzzjtv2GSTTcKxxx4bBgwYEB9PQjVwYaVtoQ8//DA71fqaGgxysEiSKldhEJpfOhqfH40tql4jRoyIB+mBtry055UqWSW8Z0qSpNbhp7okSaq3+uqrh+uvv77RZZ999glTTjll9hchLL744uGcc86Jv+PvwZyiffr0CXvuuWecm3PfffcNjz32WNlzbz7yyCOBqs+EIJLbOu+884ouAwcODMsvv3x27RDvh0rTVDVKYMq65atNaeF7+OGHhyuvvDLcfvvtsc3tySefXD9I11Lc1wwzzJCdqzN06NBw1FFHhZtvvjnOR0r4+eKLL2a/HRfzlh500EHhlFNOietJJel7770Xq2MJQPNzuM4yyyxhqqmmys6FMPXUU48T2g4ZMiRceuml4YYbbohhcWtVBEuSKlthEFq4dKRiQWh+Ue0aNmxYdirEKQrU+kr9j3X0+0JnVGqb+T4mSVLn5N6QJEmqN9dcc4XNNtus0WXZZZcNE088cfYXIcw000yhZ8+e8Xf8Pe64444Y9tE+9pdffokhKIHdTz/9FH/fGAI9Qte8OeaYI86rSoVlsaVr165h1VVXbbBen3zySaxUwHTTTRe23XbbMPfcc8fzoIqTMJMwdrvttgv9+/ePQWY+WG0JQsuVVlopO1eHAPg///lP2HHHHcNuu+0WHnroobjdSmGbUZ17/PHHhw022CBu2y233DL07t07zin71VdfxevxeNdbb73YsjeZc84565+HhNvq27dv2GWXXeJjzoeu5WrtQTQH5SRp/PFe2tjSkfIBaLFFKoX9pGTDDTfMTqm1lfo/7Oj3js6k1LbyPU6SpM7LPSFJktTqJp100uxUnQknnDBMPvnk48z1Wczjjz8+TtvcRRddNMw333zZuXERHtKid7bZZssuqas2pQUurXi531VWWSXsuuuusQo0DXAQnNIKl3a+DG784x//qK+WbSnuq1evXmG55ZYLE000UXZpXRD63Xffhd9++y2GzOuvv372m9JYd9rvjho1KjzxxBPhhRdeiKEyj412xNwGoS+t6xKqcmnlO+2009Zvbx4bLXzT/beWcgeEHDiSpJZJ4WeppaPx/l5qkVqCjh/poDdYadoxKuH9pdK5jSRJqk5+wkuSpFZHaLf22mvHoJQAldPbbLNNmGyyybJrFEdIeM8998Q2tHkEnvkAspglllhinArL559/PjzzzDPxNOux++67x4pPqjep9GSwg8sXWWSR2EaYtrn5atSWWmqppcJZZ50VHzPrRGjM/Sy55JJhv/32C0cffXSYeeaZs2uPi+rZTTfdNKy88srxevw9uI2FFloohq7MbXr66afH9siFgzb8LVWqbLcUqPK33bp1i+tQ2L5XktQxeP9ubOloxcLQ/CK1NuaWZ38Q7JO1xn6ZSmvs/7gS3oMqVWPbxvdGSZI6twn+/85o0cnFmNerGOYka2tUe4DBvfwXRqol0s9UOYH8aUmS1LaYb5OKx9TilcpNgrh8IMpgAdd75ZVX4mmCvnnnnTf77bheffXVWF1K5ee7774bvvzyyzhXJ215+ZxfZpllGlSR0nqXOVLzUmXlN998k10SYji42GKLxerKFJ6C6lLWl98TSHJfCyywQKxYfemll+L8oQkVnVSN0nYXzIFK8Mk6JjfddFPYeOONs3N/+vzzz8Mbb7wR2/OyD8PjoWKW++YxsySF90MrY+YvJUCmQpRtQ3A844wzxvUl9G2slTDPzzvvvBMfC1Wm/C0B7Pzzz99gDtRysO7FNGdQqDVuQ5I6m1LvfZXC92BVmn79+oVBgwbF0+xvMW+92l5j71W+TzTktpIkqTrQES6PDm90PDE0lSRJHe68886LbWZpO5tQFXrqqaeGKaecMrvkT5dddlnYaaedsnN1qOgcMmRIrPIsdPbZZ4d99tknOxfC7LPPHi688MKw1lprZZeUb/DgweHggw+OwSvYX7nrrrvinKrVqtjgUEsGhVrrdiSpUhR7X6skvseqs+EgOw76Avt1THmg9tHY+5nvJXXcRpIkVY9SoWllf8OTJEk1gTlLqRTNo0qVSs1inn322ezUn6hspaqzmMI5UglNqY4tB1Wan376aQxJWadhw4bFyxLWnapPSVL1YYC8saWjMUjf2CJ1JoSlKTDloDTnM21fjb1nVML7XUdrbBv4fitJUvVwr0eSJHU4QkzmJM178cUXYxveQoSXtAcuRPtaWusWYl6swjC1a9eusc1tOQhcDz/88HDYYYfFatX//e9/9RWxDOgxvyhtd6tVaw6SFRtQchBOUkfjfajU0tFS+FlqkaoJ85kmK664Yv287Go/jb2vVMJ7Ykdp7LH7XixJUnVxlEqSJHU45kVl7tF8y33mDH3//fezc38iMM3POZr3/PPPx/A0jwrUwvC1MKBtDO06HnjggfDf//433HfffQ1unwG9rbfeusF8rrXAwSFJnUk+BC22dKQUfpZapFpy2223ZadCWG211bJTam+Nvfd09HtmR2jsMfs+LUlS9TE0lSRJHW7yyScPSy+9dIOKAqo5X3/99excHS575plnwscffxzPTzjhhLHaM3n33XfDmDFjsnN1Ro8eHb744ovsXAhTTz11DGjL8dNPP8W/LQxiud9lllkmVqAusMAC2aVqqVocgJPUelL4WWrpSPkAtNgiqQ6dQfKVpuuss052Sh2hsfenSnhvbQ9NPU7fwyVJqk6OUEmSpIqw/PLLh9lmmy07V6ew3e5XX30VnnrqqfDjjz/G8126dAnzzTdfPA3mHqXaNGEw49VXX41VqwlzkM4999zZucbdddddoV+/fvH+Fl544bDqqquG3r17h9NOOy1ccsklsQoiXx1bbYoNFI3vAJEDTJKaIw1aN7Z0NN7XSi2SyjN48ODw9ddfx9Psp9HNQx2rqfewSnj/bStNPTbf3yVJql6GppIkqSLMO++8Ya655srO1XnrrbdiUJp8+OGHMTRNc4oyqJZvtUtoSiXqb7/9Fs//8MMPcT5TqhdAwLn44ovHdsDl+Pbbb+M6fPbZZzEsvf/++8M111wT5zYlfJ1ooomya0qSWiIffhZbKkE+BC22SBp/l19+eXYqxP0sVYam3uMq6b26NZTzeHzflySpuhmaSpKkijDxxBOHJZdcMjtXh9a4b775ZnYuxNP5lr1UftJqd5JJJonnf/311/Diiy/WV5Z+/vnnDapVac277LLLhimnnDK7pHn++te/xoGUcqpLCVuvu+66OAjYnOWxxx6Lj6OjtfcAWDUNuEn6UxqALrVUgnwAWmyR1LZuueWWMGrUqHiaaRd23HHHeFqVoZz3wUp6T2+JctffzwRJkqqfo1OSJKliUL1JMJlQ4fnyyy9n50IcUEvzizKwwbyihKAzzTRTvAxcJ815ys/8388666xhueWWa5eWuoSfe+21Vxz4a85y8cUX17cfrjStNVDkgJNUPdJAc6mlEvCe09giqWNx0FjCvlB+jntVhnLfLyvpvb8c5a6vnxeSJNUOQ1NJklQxFlpooTDPPPNk5+ra444ePTr88ssvcRk5cmT2mxDnP11ggQVipSlhaPL222/HNr54//33G7T3nX322cP888+fnZMkNSUNKJdaKkEazC61SKpc7OdRaZrstttu2SlVonLfUyvpM6KY5qyfnyOSJNWWCcaOHVs3KViBM888MzvV0L777pudajsMkIK2LGlHhoWqkPQzXyHSHtUikiSp7TEn6d577x1uvPHG7JIQevXqFc4555zYqneLLbaorxzdYIMNwuDBg8Mss8wSdt1113DRRRfFy3HqqaeGAw88MJxyyinhsMMOyy4N4aCDDoqXFSJc/c9//hM++eST7JI6tNh99NFH42nmTmU+1LwZZ5wxDu4R3hYaMWJEuOGGG5pdNbrCCivExznZZJNll7S/UoNIrTlo1B73Iak8pf4fK4HvCVJ169evXxg0aFA8vcYaa8T549U5NPezo6Pfzzvb+kqSpLZFcUbeE088EcfyDE0lSVLF+O2338KJJ54YTjjhhPp5PQkkCVGfffbZsP/++8fK0YkmmigcfvjhMRDl9Nlnnx322WefeH1stdVW4aqrrgo77LBDuOKKK7JLQ7j22mvD5ptvnp370/PPPx8222yz8MYbb2SXlGfeeecNl112WVh55ZWzS/7E+v/888/hjz+K7mqVxONhjtaO3L8pNqjUFgNH7XU/Uq0r9r9WKfyfl2rX2LFjY7eQr7/+Op4fMmRIPFhOnUtLP2Pa4/2/ktdNkiR1rFKhaeV+e5YkSTVnwgknDCuttFKYeeaZs0tCePfdd2OY+dRTT9UPqlHhyXymBIxYeOGFw+STTx5P4/XXXw+vvfZarBRNGmvNy+1wn3PMMUeDpUuXLtk1Qph66qnH+T1VrhNPPHF2jYa4zSmnnDJMNdVUzVo4aMwDwtoWg7TsCN98881xefXVV7PfjB8G2KiIfvrpp8P//ve/eNvDhg0LL774YqvOUztmzJi4/rfffnu8j3vuuSe88sorMaQvB4H+e++9Fx555JH497RFvO+++8I777xTP2dwY/hiQRts5u297bbb6h8n7bM5qMGBxvbHoHBjS0fi9dDYIql2cTBb2rdjP8zAtHNq6ft5a35eFbstlubws0mSJMFKU0mSVFE+++yz2Hr3ySefzC6pa6tLm1xCGhCYEtYQWoKQdNttt43BKgg0afN7ySWXxLmysNFGG4Vzzz23QSCbEGgRshaGTkOHDg3HHntsPE0L4D59+sTTCRWhVJsSqBZinVjncoOshHldu3fvXjKMbWulBpjaYgCpPe8rj2CTyuRrrrkmnme/t2/fvvF0SxHE3nXXXXEAeNSoUTHs57IpppgiLLjggmHNNdcM22yzTWzzXOpxN4X15jVJ5fULL7wQ5+4lwJx22mnjfay33nphu+22i6//YvfBdqUFNm2j+f8hLP7ggw/idbmNJZdcMt4G7aHT/1Ye/ye0xyZkffzxx8Obb74Z14Gglcc511xzxdvo3bt3WHvtteO+vFpHS18z7cHBZUktxf4OBwFhwIAB4eijj46n1blV8mdWMX6OSZJUm2zPK0mSOo3tt98+XHnlldm5EP75z3/GkOb777+P5wlIL7/88nga33zzTQxWmdeUdrgEOFSsEiwxTylVn0f+P/buA0qKKu3D+PUzrTmhKChiVkQETJgxomDAjLAqZsSMrqJiXjFjZjGAKIpZUVcX42LOiAkxkQygGNeEafl87tSdrWl6hhlgmPT8zqkz0z0dKnVPd/3rfe/pp4fevXvHatbK4jm6d+8ef6/qwTzm/7jjjgtff/11dk3lEMxeeumlYbHFFsuumbOKHeiqzoNJc/r5QJBNe+d+/frFy4SQu+++e/x9ZhBm8tmZ/YXxcYu1ZCYEb9euXQzhOUhclf0QhJ20rabtNFU5xdYR+z3jwZ177rkxvCxExSv7MFWlvGYK8Zma6uguXbqEs88+e7oTDBhDmHXGMpZ3MgCPQWjLfsyJC/lqbZWv2OugNvGAsqTZjROM2rZtG3/n2A/dQYqd2Ka6y/9tkiSpNrM9ryRJqjOoJM0j/EyBKdq0aZP9VoJKT+5D4INUEffjjz/Gy7Tz5cBcVYMqleCgV3VNcwon5d1xxx3xAzD7ElWRhIzsM1RZEq7TUvf+++8PP//8c3avGSMgJXS97LLLYstbLrNctFom+E4tpPkwTjtcwloqNKuCeb/mmmvC4MGDYwjPQb6555679DnSfs3+zjIQ4KaTEBMuX3755XG8uBSYMm+LL754fBzmmXn//vvvw9ChQ8NVV1013WO89tprsVU2gSnPT0ts1t8CCyxQui15DNYD64O2wSqR9vfypprGPlXRJEmz2825k9922GEHA9N6qDb+H6mN8yRJkmoXK00lSVKt8+STT8ZxrfJBaUJIQ/Cz7bbbZteUeP3110PXrl1Lx6ck1OGACCHOBhtsEO655544rmlVcEBvZitNCW1HjBgRW7RWxdprrx2rBWn9O6fVhvAmmd0Hs2hrS+Uv24P9gf2IFrUEhzvttFMMA2nRTJh60003xTbJlUFlDC1xqYROqCQ9/PDDY5jPuKN33nln6b5MwHn++eeHE044IV6uDCpDqa4m2AVVq9tss028js/LzC/LktBal8/yVM+yTWmfS2DMc6bH4PXB62XPPfeMQSyhLKEorxc0btw43meLLbaIl0GLaqq5V1tttXg91aw8P+OYPv744+GZZ54pEzhTsTpkyJD4XPVdbXrtFOPBYUm1yeTJk+PwBukz0sMPPxyDUzUcc+r/pv//JElSeWzPK0mS6gwCLIIoPrAU2mijjWIQs+qqq2bXlKDKjnFLCVwL0e530KBBVT5AMyuhKQdpZuZADZ9raipkqur6qU6z8yAXB2UvuOCCcPXVV8dQ77fffgu///579teSdU6YSRjJ50/2FcbVnREe58orrwxnnnlmrG4GlZuMpcu+CMYMJZykyjThwDBBaqqMrgjroVevXvF5knXWWSe2f+YnnnrqqRigMr4o2I7stxdffHGsop00aVLo0aNHDHATgl0CUMJhnoNxShnXldsmtBLu06dPdinE+eA5eKxNN920zLi7VJcecMABcV4Swmmek0rvuq42vTaKmZ2vF0mqbpzUw/8dcALOyJEj4+/SrPy/9X+hJEmqisLQ9I033ojFD7X7278kSWqQCFlatWo13YlRXOb6YiEMrVZTiFSIA3IzcxCG8Rh5PiYq76qC5yOIq+rUEKry5jS2BQdoOSmQsTo7duxYZj1TmUllKBWg1113XVh33XWzv1Tsyy+/jNWVKTDF5ptvHjbccMPsUghNmzYNW2+9dXapxPjx4+OJAZXBWKYvv/xydqkEj0dFcsL+udVWW2WXSg4aUjWaqkp5rueeey7+Dtrqsj7SiQesH8YNXmutteLlhMfIh8t77bVXXIdbbrllmcAUzZo1K7Pc4L5VrbSuKayDiqaaxjataJKkumL48OGlgSn69++f/SbN+P9dRZMkSdKs4NgQDE0lSVKVcLCL0IbxFasLYywyRik/88q7PikWmlI5WBgGVdb2228fzzJjOvDAA7Nr66/acsBpds8HAR/BIhWfTI0aNYrXE4qnak8qLqlu3m233WIAWBlfffVVGDNmTHapJNRv2bJl6eOD61q0aJFdKkE73MqGpgSsU6ZMyS6VIDDNB3mMa8rz5oPMDz74IIa6mDBhQnzOZOmll44nEuSDY15ThfNJVWl6DGy88cZxzLliISJtfam8zeMkgMJwtSblQ9DCqablD/oWmySpPuBEGroWJHRFaNeuXXZJkiRJqjkUaHByuaGpJEmqkoMOOiiGiD179syumf0ImmhvSgtTqhHSxGWuL6xATaggzN+eibFMCyvgKovAh3arTISvDUGxwGZOT9WFysu///3v4fbbb4+XqS6lDS/VnLRepl1tfkzOGSGIHDduXHapZLxdxkRlnNS8fIiK7777LrazrQwCT26fR/VqHqEfYSbV1gnVr6nSNLXtTRhrdYUVVsgu/Q9hah7jsKbHmBHmM1/NipVWWmm6x6xOhUFo4VSTiu3n+UmSGoLLL7+89GQjPlv17ds3/i5JkiTVBttuu62hqSRJqprJkyfHn9XddpN2uFR67rLLLqUTlytqk0twlL8904477hjHdZSef/75GKSz7zLeJuOAHnroobGylAD0vvvuCx9//HF26xmjCjNfXUlYSuvbQlRx5ltK//LLL6Vj+M8Igef333+fXSqxwAILZL/9D6+LfGgKxvlFYfBJBej888+fXfqfwoCT8T0ITmeEcVA5EP7OO+9k15RUeHfo0GG2tpsuFoTmp5pULAjNT5LU0PH5kbGyE8aK53ObJEmSVFtwrMTQVJIkSQ3CZpttFk4//fR45mCPHj3CaqutFjbddNPYkrd9+/bhpJNOipWilVWZQBF86Ka6c2YQrhKyzghVruW1wi0MXctTLPCtCGEg7YMZC/aGG24oHduV8JgKXsZJrYrCELRwqmmFQWh+kiRVjA4l6YQ7WsQfd9xx8XdJkiSpNjE0lSRJUoNAtSeVpf37949VyFRcEvAdf/zx4frrrw+dOnUqWoE5qxjvk6k6VffjFyLIffLJJ8PRRx8dBg0aVBqYUllKKN2nT5/QpEmTeF1SLAjNTzWtWBianyRJM4fx8On0kPB/WJIkSaqNDE0lSZLUYBCUrrzyynEstYRwj+uqK7ijsob2v9WJcU9ntWV2ZVsGsywEpQSmHAhPgSn++OOP8K9//Susu+66cV0bikpSw8b/pl69emWXQujevXto165ddkmSJEmqXQxNJUmSpJnQqFGj7LcSBIb5MU4T2vh+88032aWSVrqVHceNsUq5fd7vv/+e/fY/U6ZMKRNezjXXXKXzlx9PFQSExR6jMNilXW9+GVP4yXVHHnlkeO+99+Iy1xaFIWjhJEma8xjzesyYMfF3Tljq27dv/F2SJEmqjQxNJUmSpJmwxBJLlBmrlLFDx40bN12Q+Pnnn2e/leCgcfPmzbNLFWvatOl0oeknn3yS/VaCQJDr8mOsLr300nFCYWhKRenHH3+cXfqfs846K/utxNtvvx3WWmstK0UlSTNl8uTJ4ZxzzskuhXDGGWdU+qQhSZIkqSYYmkqSJEkzgTBy7bXXzi6VhHpU03z11VfZNSXXjR49OrtUggPG+ftVZPXVV5+uopXnyIeEVIjyHPnq0datW5cemKb1MK1yE4LdrbbaqjQMNRSVJFWHiy66qLR1PP+XjjvuuPi7JEmSVFsZmkqSJEkzgda5bdu2LRM4jhgxIrzyyivZpRDGjh0bnnjiiexSCQ4cU0GaEHo++OCD4brrrgvDhg0rE7pSkUromffYY4+F999/P7sUwsiRI8NTTz2VXSrx6KOPhhVXXDHO26677lq0He+cViwIzU+SpPqDKtMBAwZkl0qqTCVJkqTaztBUkiRVyV/+8pfst+nbeUoNCW1zd95557D88stn14Tw5ZdfxsqaW265Jdxxxx3h5JNPDm+++Wb215KWvp06dSoNWqnA6devXzjssMPiOKH85HKqzOH1tuOOO4b55psvXsbrr78eWrRoUVohusMOO4RJkyZlf605vXv3LjMxjh0BsKGoJDU8hVWmnTt3jr9LkiRJtdlcf36InZb9XsYVV1yR/VbWsccem/1WfRhnCRwkSgeDmOaaa67Sn0xJ/ndJklS9evXqFcOQhCo3DoZJDdHPP/8cjj/++FglmvB5dcEFF4y/8/c0xukCCywQDj/88NCnT5+w5JJLxuveeOON0K1bt+la+NYFc889d1zW8vC+cNddd4VmzZpl10iSGoomTZrEalPce++9hqaSJEmqVX799dfst7KsNJUkSVXSt2/f0L59++xSCOecc072m9TwEIQeffTRYY899oiVp6Cq8ocffogTgSkn+C266KIxHOWEA8YoTScFtmnTplYFpgScF198cfjpp59KK0S/++67WAFbiGX77bffyp1qQ0tgSVLNSIEpDEwlSZJUVxiaSpKkKqETBO1DE8ZgHDVqVHZJanholXvllVfGCtJipk2bFjup3HDDDdk1Nefll1+OIS9h7UILLRSv4zXNMuy3337hH//4R6yGzbfhJjg1AJUkSZIkSfWd7XklSdJM2X333WNgCioIaL0m1Xd8Fq3NKjN26Pfffx8mTJgQPvvsszje3LzzzhuWW265sMIKK4Sllloqu9X/UDX6zjvvhIkTJ2bXVM5iiy0WNtxww1iNK0lqOBjzPt+JpDL/myRJkqQ5qbz2vIamkiRpplBd2rZt2+xSiAHMsssum12S6qb6EIpKklRTCgPTLl26hKFDh2aXJEmSpNrBMU0lSdJs1bp167DDDjtkl0ra9Ep1Qf6kvMKpphGKVjRJklRbFQamfE4cNGhQdkmSJEmq/QxNJUnSTNt7772z30K48847s9+kmlUsDM1PNalYEJqfJEmqiwYMGDBdYMrQDfkxsiVJkqTazva8kiRppn377behSZMmcVxE9O3bN/Tu3Tv+LlWXmg4+K2LwKUmaE2gn9umnn4ZJkyaFL7/8Mvzxxx9xDOllllkmrLTSSnFc6Tn5/5LPg5MnT46/G5hKkiSptnNMU0mSVC169uwZqwsSxzbVrJqTB3lnhsGoJKmm/PTTT2H06NFxWIQXXnghfPTRRzE8JTRdaKGFwoorrhiHUNhrr71Chw4dqj24HD58ePwsOH78+Oyaknk0MJUkSVJtZmgqSZKqBVWmW2+9dXjxxRfj5f79+4cePXrE36ViDEUlSZo5nKjWr1+/8PHHH4dffvklu7YsjpGssMIK4aCDDgpHHXVUWHLJJbO/zH4rr7xymcAU/h+VJElSbVdeaFq7j1hJkqRaj5OcDjvssOySY5uqdo8pCg7mVjRJklRbvfbaa+HDDz+Mgencc88dFlxwwbDwwgvH1rzpf+y0adPCxIkTw2WXXRYee+yxeF11yX8GhCfOSZIkqS6z0lSSJM2ywrFNbdFbv6WDsrWVwackqb469NBDw8CBA8Nqq60Wtthii9iKl2Mn33zzTXj88cfDM888E37++efs1iF06dIlDBkyJAaskiRJkkpYaSpJkqrN4osvHtq3b59dCnGcLdVd+ZPWik01rbAytHCSJKm+WmSRReJ4pbTpveaaa8KRRx4ZDj744HDiiSeG6667Lmy44YbZLUsw5ulXX32VXZIkSZJUEUNTSaqCYuFBeZPU0Oy9997ZbyGcc8458WCeaq9i71tpqmnFgtD8JElSQ0VgSmewLbfcMsw333zZtSWaNWs2XWj6+++/l3YCkSRJklQxj+pLUjlmNUiY1ftLdU3nzp1jezhMnjw59OzZM1xwwQXxsua8Yu9B+akmFQtC85MkSSpu4403jkMgFPtfzlimv/32W3apxDzzzDNduCpJkiSpOI/gS1JOdQcK1f34Uk2iRW/37t2zSyWoOFX1yL+fFJtqUrEgND9JkqTZb8KECeG5557LLpVYaaWVwtJLL51dkiRJklQRj9pLavBqKmSoqeeVqlP//v3DTz/9VFpxSju4UaNGxd9VNfn3iGJTTSoWhOYnSZI0Z02aNClcfvnl4Z133smuCfHzWIcOHcLcc8+dXSNJkiSpIh6pl9Rg1YbgIalN8yLNKg7Q0ao3sdq0uPS6L2+qacXC0DRJkqTagf/L48ePD+eff3644YYb4slrmHfeecPOO+8ctttuu3hZkiRJ0ox5hF5SgzMrgURhcFDRNDNqS1gizaqTTjop+y2EYcOGhREjRmSXGo70ei5vqmnF3rfykyRJqt1++eWX8OSTT4ajjz46DBo0qDQwpbJ02223DX369AlNmjSJ10mSJEmaMY/MS2pQqhpUzEqIMCv3rQ2BijQrWrduXaba9KCDDoqteuuTfABabKpphe9BhZMkSaq7vv766xiUEpgOHz68NDBdeOGFwx577BH+/ve/h5YtW9aKzySSJElSXeGnZ0kNQlVCjOoKFar6uLUleJFmFuObLr744vF32sZ17do1TJ48OV6uC9JrsLyppuXfU4pNkiSp/pk2bVqYMmVKuOiii8Lpp58e3nvvvfDHH3/E6tKmTZuGXr16hSuuuCK0adMmzDXXXNm9JEmSJFWGR+Ml1XuVDTfmZNBQleeqDeGMNDOWXXbZ0K9fv+xSSZvelVdeOR7Mqw3haT4ALTbVtPQ+Ud4kSZIanm+//TZccskl4dprr43VpskWW2wRBgwYEE488cTQuHHj7FpJkiRJVeGReEn1WmWCj5oMICr73LUhwJFmRvfu3eOU0KL38ssvj+Hp4MGDs2urTz4ELZxqWnr9lzdJkiQVevjhh8PAgQPDd999Fy/TjpduHpyo1qlTp3hZkiRJ0szxKLykemtGoUhtCiYqMy+1IeSRZgbjbd17771xnNOE8JRxTme14jQfghabalJ6XZc3SZIkVQWVpbfcckuZCtOOHTuGiy++OLRq1Sq7pmK08n333XfDjTfeGMPXN954I/uLJEmSpLmmTp06Lfu9DMbAKObYY4/Nfqs+//nPf+LPv/zlL2UOfDIeR/qZH5vDcTokFZpRWFLbA4uK5t+wRXUZLXppz8sYp2Dc0x49esTfi5nRa7km+VqUJElzEiehHXnkkeHzzz/Prglhq622ChtttFF2aXoMl7DffvuFJZZYIl4eMWJEOOWUU8KoUaPi+Kjt2rULffv2DRtvvLHHViRJktRg/Prrr9lvZRmaSqp3KgpZ6lLIUV+WQypEW16qTOsCX2uSJKk2oEL0rLPOigEnYWcy99xzV/i9gU4fd911V2jWrFm8zJinl112WeljcN+jjz46nHfeeWHBBReM10mSJEn1XXmhae0t35CkmVCfgsaK5rei5ZRqE/bVwqk2Baa8ziqaJEmSaoOffvopTJkypUxgCsLU3377rdzp999/z25ZgpPT8+aZZ54YluZPRv/ll1/CK6+8Em6++ebS6cEHHyw9wV2qSePGjQt333133C+HDBkS3n///fg6kNRwfPTRR6XvA7Stf++996b7fydJM8uj7pLqDcKY8tTV8KOi+a5oeaU5JR+GFptqWj4ALTZJkiTVBXxumR0HhHfffffQoUOHGJQSoPJ7t27dwgILLJDdIoTvv/8+DB06NHTv3r10Ov3008OkSZOyW0g148svvwznnHNO3CcPPPDAcOGFF4Zvv/02+6ukhuK7774L119/fen/qDPOOCOMGTMm+6skzRrb80qqFyoKZ+pDMFLfl0+1V0X7Xm3g/i9JkhoCqkbfeeedMHHixOyayllsscXChhtuWBqK8tnpk08+Ce+++278fY011ggrr7xy/FtCMEW73vxxoVatWoU77rgj3l6qCVOnTg333XdfPC7JPrr44ovH1tKnnXZamG+++bJbSWoIfv7559h6vlevXuHrr78OSy21VOjZs2ccs7uwo4IklccxTSXVa+UFO/UpUGkIy6g5r7z9qrZw/5YkSZqzDE1VG7344ovh5JNPDs8880y83KlTp3DxxReHNddcM16W1LBQZX7EEUeEe++9N55Y1LRp0zB48ODQvn37ON63JM2IY5pKqrcaSphY3vLU9tBLNY99pLyppu2www7ZbyVoq8O+niZJkiSpruFzbOH4s5p5BCKMq/vmm2/Gy7SX3mmnncKKK64YL0tqeOikwPvAcsstFy/TQv6BBx4IX331VbwsSTPLSlNJdV6x4Kc+hy3FlhcGTA1XeftEbTCj/ZI2W4ytNXz48OyakuD0rLPOyi5JkiRpTppdlaaEhr/88kv45ptv4jipP/74Y7yeYz2LLLJIaNSoUZh//vkrPKbDZ0nuT0UR9//jjz/CvPPOG0MzDpjzOIWtWQnYuD33o4Ujj8F9uC0T96vOKqQffvghPPvss/E511lnnbD00ktX63Gr8ePHx2VNWL8rrbRSXLess8mTJ8efLPMSSywRGjduHOaZZ57s1iXH4NjmbCPmk7a3bBvWcTFs159++ilMmTIlPi5VGnwf4fYLL7xwvD/zUGyZ2TY8F+MRsm2YJ7bJkksuGRZddNFy19Pbb78dunTpEkaPHh0vb7DBBuG2224r01qa5fj4449Lq0Z4bNY9gQrjATO/rCfmgXbVXM/8pufkev7+xRdflN6Glp9MFX3fYv9iPfD4bHsus0+yDlkXFbUOZr7YV1n33JfL7DcLLbRQnHd+Fq4TbvP555/H+UyYV7Y5z8XjsY55PLYz6za91mbGzG5v7sftmU/mBWzjZZddNv7Ofss+kCyzzDKl+ybLyN9ZL0n+7wmPy+3YXgnrgXnKS/PC47F+0j7C+mL78rpgvRcq9vhUM7I+2YdZNh6L+WL+8rgPt2Fb8D4I1hnblfUwq9/hq/r4zCet2blPwmuvefPm8X2Vv7G8rAteG2ybYq8nlpX1+Nlnn8W/Lb/88vE++efjNcDzMHFbtif3Z39mfVe0/OW9n3F71jeteLmO+Wb7Md+MuX3TTTfF2/OecNFFF8VjDJI0I+k9rpChqaQ6jfeEYviQVl81xGVu6Mrb5rXB7NjvDE4lSZJqDw7Cz2poykFyxk0lPKSt6oQJE+JBdnDQnAPem2++edhkk03C2muvXTSwIKThvk888UQYM2ZMPDjOwS2CgSZNmoR111037LbbbnHMVvC5lIPqfKZ85ZVXYsBGuMS8EO5w4H2ttdYKhx56aLVWKFLldMkll4SHH344tonca6+9QsuWLWNYWx3HrzhO969//Su7FMKqq64aLr300hh6PProo+HJJ5+M647QrEWLFuGvf/1r2GKLLWLg8OGHH8btyvoaO3ZsDDZod7vllluGrl27xm2Vx/p/6aWXwnPPPRe3DY/LMTzuR9CywgorhD333DNsvfXWMSBJCK247dNPPx0ee+yx8MEHH8TtyzwQcrB/UTHGNk3j7yY8JwEpbTj53sCxwoMOOihcfvnlZQI0HpvvDzwP2E/222+/sP/++8f9kAo09gnml4CrY8eOcf9ZbbXVYrDDOhwxYkRcPsIjbtOmTZu4vlq3bl00dGTeWA9PPfVU6X5OmMW25r7sm7QR5rHy3+m4zVtvvRXeeOONMHLkyHg/JrYZ800Qtdlmm4VtttkmPk5+OQmU+vfvXxoSgW1GUES4yfZ87bXX4vjHrEvW6XbbbRd23XXXGFZVxcxub15zr7/+enzt0k6ZZcMqq6wS1zvzy2vkvffei9fjgAMOiGNSEsCxjOzXPGeS/3vy6quvxtuxLyW8b+24447ZpRBPGmBe0j7+/vvvl4ZyPBbrh3XNfbicf40We/yTTjop3v7mm2+Oy8Y6Z3888sgj49/Z1wkLeR9i/tkWvKfyuKwzAn9ef7w3sK2ramYfn/ffc889N26TpF27dvF7N49z6623xu1EJyiWkfVU7PXE6/TOO++M72/MB2OI8h7H65J54/2PeUqv8xSO81pnv+a1tPHGG8d5JNwufE8s9n7Gvs1rlzGNed2svvrqcTuz/xEYM++sf35nPrp37x6uvPLKMq8bSSqG/3NFEZoWmy688MKiU7Hbzu7pzw+5cfrzH/G0Pz+oTPvzH1C8/s83v2l/frCY9uc/32l//PFH6fTnB2MnJ6cGOP35FlZ0Knbb+jYVW26mYrd1qv1TsW1Zm6Zi8zy7J/7X//kFrczz/vkFruhtnZycnJycnJycqm/ieMyxxx5b5nNZq1atpr377rtFb184ff3119NuvfXWaRtttNG0BRdcsMzj5KcFFlhgWtu2bacNGTIk3ifdn+M8n3zyybTDDz982rLLLlv0vkyNGzeedu2115be79VXX5124IEHTltkkUWK3p6Jx3vqqadK71MdU379/d///d+01VZbbVr37t2nPfbYY9MmT548249j7bXXXmWWcdVVV5128cUXT1t//fWnzTfffGX+xrTmmmvG9TZs2LBp7du3nzbPPPNMdxvW4d///vdpX375ZenzfPPNN9NuvPHG+PjF7pMmlp11kO7HsTy2zW677TZtscUWK3of1tO666477ZprronfC9J9mT799NO4/tJtl19++Wm33357mdswPfzww9NWWmml0tsttNBCcX844ogjiu5H7H977LHHtBdeeCF+72jUqNG0ueaaq8xtmK/NNtts2r///e/pnm/SpElxfitaH6xH5oHlz993/Pjx8bvPX/7yl6L3Y2LbtWnTZtqDDz5YZp0Ue322bNly2vnnnz9t4403jvOc/xvLxLL1798/HmfNz0dF08xub47j3n///XHei+1/7ANbb731tBVWWKHM9fnH4edWW21V7t/TxGu5cNvecccdZW5z2WWXTWvevHmZ2+Qn1s8SSywx7aSTTpo2duzYMvct9vjHHXfctP3337902RZeeOFpp5xySrw9r+2RI0fGeV1yySWn25+Y2D5NmjSZdskll8T3g/zzzWialccfN27ctF122aXMbTfffPNpp5566rSmTZuWXsdtuG3h64nlPPTQQ6d169YtvnbS9bzXsM05Xv/ee+9NO+SQQ6bbtvmJ+Vt66aWnHXnkkdNee+216d4PC9/PeP+86KKLpjVr1qx0eQv/H73++uvTVl999dL78N730UcflXlcJycnp2JTYS6ZptpbuiJJKtefb+zZb6oL/vxiUOFU09ifKprmBM4Ivffee8uMcXrOOedYbSpJklSH/PHHH7Gi74ILLohVWlRhgco0qkmZ+B1UH40aNSpceOGF8T7cF1T53XXXXbG6kCoxcJ9ll102VotSXUTFHFVEc2VVStznhhtuCHfffXesGgSVgVRepftQKZWeuzpRUUVFHdWwPB/VnLfffns4/vjjw9///vdY9UiLUKqyqgPrbODAgXH8T56jcJmp/qJS8fzzzw8vvPBCXIf5dQnWIeuSqq6E+aZ666OPPoqVhHyPYTuwfploA8uy5x8HVAmzjR966KFYmcbfuR+ti7kf+wTfOWjBy+NT1cjjJ1QL5+eDqk2qQ2eE6hEqR6m8pPqN58l/92L/o1rv7LPPDoMGDYrbhPWQvw3zRSUoFW6pBSqoFGWbUtGb1gfLTgUzldNU6LKcaT3+4x//iI+f8NypvSnfg1gm1gX3Ty2D+RvbkPuyzSpCJeTgwYNjRSXbO7892QeoRKQaj+rByprZ7U1lar9+/eK8pwoebpNe/7xWeWzGn5wTvvjii7j9WSe0o2UdM/+sc+aH9UPl6ZAhQ2IFZXofKg/VpY888kjR6iS2AxWQVAHTRhY8J5W1VExS+cs+xba/5ppr4r4xo+fLm92PTxXpPffcU6ltwT7AtqV6nf23EFWqVH8PHTo0tvUF2531znpO+yTzx3Kwvnn9zOi52XdZDua1vPdMtindCxIqipkkaWYZmkqqV/gA1pDVhgCuIWK9VzTVNF4XFU21RXnBKQc7JEmSVLtxQJuAkIP177zzTunBesJOxqMkOGOi7SshJvgsSttF7pMOchOSDRs2rHToJsJPWmfSDpPghzCV0IB2jIQfIFSi7WQKTDlI36NHj3g77sN07bXXhsMPPzyGPdWJ0Ktbt27huuuui0EpLXGZH0JBwsqDDz449OrVK84vgU55QcDMIpTicWkZSltLWlWyDRK2C21hmWiTSZDLmIC0LibYSNgetJ1NaMfJdk3zS1vTiy++uHT93nLLLXH7tm3bNoZpIDRnPXDfFDJxP56T2xOc7LvvvnGdMV+0ayXATK2cQWjH8iQERIyrOCMEm4Q3tEY+7bTT4jLSVjX//YxxLgnAeO6jjjoqzj/DhuRbwLIMBGWpTSn7LEEq23LcuHFxfRBWsb4Jq1mmyy67LLYQ5bnYJ/mOQ5tk5gmER7Qq5bl4nLQOmWihyrYA8/Xyyy/H+1aE1wyBNG1S2eYnnnhiaNasWZllJTAl9KqsmdnevGY5eYEwPr3+OVmBVqyE09x+jz32iOs3H4xXJ56flrB9+vSJ2ybNP/sZrZt5bYKTDQj2WZcVIZgmZKWtNI9Ly3KCS/YTtjNTCsg5aePMM8+M711MbBdaN4O2tQTd7EOVUR2PT9DJ65wxWtm+TITJxU4u4aQB3sPYxgSULDvvbbx22ZaEpbw3pxNlWK+0lma9E4727t07vv7y+wonI7A86T7FsKycgMOJCJyQwDzy/yM/j7T55USK1EKbQJn/CcWCbUmqDI+uS6qTigVRtSn8mRMa2vLWJPa3iqaaxr5Q0VSXpOCUMVgSDkBMnTo1uyRJkqTaiIPqVJBxYD19BmWcw0MOOSQGJocddlicOCmOQJMwA9yW+xDoECpxoJvKsISD7IRIm2yySdhoo43iz5133jmOb0joB8IvwsKE+xDmbLrppvE+HKzfe++9w9FHHx0rsqoT3w8IhTp06BCDgquuuiqGp+uvv35cH4QUhAtcR0BGIEcIM7vCU56DsToJClnfzEPnzp2zv/4Pocepp54a1+Nxxx0XA+X8GKas03y1FtskH0JQ3cX6ZdxOxkZkeXk+xs4kSAH3//e//x0fC2xz9gfCKipN2X48b36sXALJfGUlwWc+VOF5CSkrg9sy5uKxxx4bjjnmmHDCCSfECuA8Ai+CW9YF88LtGaMzj2VP41qyLCwTy8Y2IwBlXfL4fIfhd8LLXXbZpXScT4IfxtRM+yj7B/NCCEnAzvOxHtlXGSN02223jbcDYWg+vCyGAIllYHxKtgFjUrKO82OYsg4J0iprZrY3wSzjY+bvR2BK9yBCaW7PPs84sSk8q26M50qQzOuN8TjZ51gG1jEnc6QAnvXLvpYP7IthvtnOV199dXwdUwnMSR3cj9A1nbjBtmfdsL+vt956cduyf7F/gOejCjv/flmR6nh8rif4ZJ9PYTIndaTgNY/H472NZaWSmGUneGb78tqgAjWd6ALGVmV/ZL0zj+zvdCDgJAZeM6BilZMWZrTO2Ubs0zfeeGMMZ5nfwvGWOQkh/U8BIXixilhJqgxDU0lSg5cPQItNNY0vMxVN9Q3BKV+GOGMUfLk3OJUkSardCHeoissfqOaAPJ/jqMrigDYT4QsBJhWDCfchNCVcokKJICshpKLFKlVqHJinnSNVbARC6SA5FUZ8hky4D61FqXAixKF6jGCJMCBVI1UGIRdtRl977bWiEyFReRVzPB+fZwlYCDA54M/8EDYtvfTS4d13342BC4EClafPP//8bPm8S8Cwzz77hKZNm8ZwkWrcbbbZpsz6AQES4RfhC+ub27CdEtZxfluyvlNVHp5++ukYhlMtxrIw7zwHj8V3KNYL1az5AJQqNqrauI71R0BKVVgK3cB+NHHixOxSSUvSfGtcKoUrsw2ZV8LyrbbaKm535p/LqYozYX9kfTFfrC/2We6TRwiYqkQJEzk5IFVSMi+sN8IsqhBZLoIqwrW0vgicqMJOoSnbf8stt4zLwrKyHqjspFowtVZOUsVsCsuKIQgmKGc+WAb2u06dOsX1nbAtP/300+zSjFV1ezOfhLupNSt4DF7/hK1sY16vnLRAUJyqxKsbASknUBDoESJSPU1LWl57/My/5nhvmVGARyhJGEh3JMJ+Toag+pHHZvkT1gttutnX2b5MPH5+nbI/UO2Z37/LUx2Pz/bhvYeTWNjvmQhfeexieO1Q2coJASw765brqGbNh7NUrBOM817HY7Gf8Brksbkvz5uwTCxbebgt1fKc3MG6TifQ5KvBQTV9/j2u8H1DkqrC0FRSnVMbQqzazPVTHOulvKmmFYaghVNDxJcezmBNGDOIM7Crcna0JEmS5hwO0NNKNY8wp7CyD8WuJ6wg2CFIItxKB//5PEwQw1h+tOSlyoi2uwRAKbgi+KJyMR8YEGARUlJ9RWjJuKmEpwRYlUU4xP0J1YpNVM1WFGYlzBeBBEECn3FpT0vgwPVpzFPamuYrbGcWIV6+fS3fdwgE80EFCK1SJSQItAqrt/Ko0KMdaELYyTqlkowqQtrMEhimcJEwikAwXQahDhVj+XXINqUKMyFsJTidVYSWfKfIVzSm8DSPCjXWT8LtK1oPbCOCqIRAlcCTSs/8ctGWOL8cnBCQ1gU/CcnZP1l+9osjjjgi7tvsH/wtj+fIV28WIiRlnlMFH9i2+XbLvI7y22JGqrq9mT+q+/InEXB/2hTn54N55LVfmRbLs4rXOm2V77zzzlhxTRXlgQceGCurqXglpE5jg4KQbUZBG69blqkQwWGqqAb7Cds3v08wcRJHHu8f5Z14kVcdj8/7JkFkZU5C4CQQqkQ52SV/DIXH5r04X2XKa4xAN//aA/cj9MyHsrxP5NtvFyIc5f/BjKrL2f/zy8FjGppKmlkeWZdULzTUYKmhLncxKQAtb6pJbKeKJhXHGaX5VmJ8AeQsYca4kiRJUu3CwW9CkzwOmhceOAcHwAsPghOAEnJwkJzqSyqSUnjF9RyUpyUqQQetHv/2t7/FsRNBRR0tWKn+SkEgn7MJraiAoo0koRTBCeFDZYNTlimN+1dsSlWvlcH8ECyzjlJAnL4LECqxPmbH9xZCqcLHKfadiOfMh2zF7pdHZSphGSFjCsEIJQilaFeb2gEz1AbhDn/78ssv4+0SriNIza9DLufb73Kb2REeV3Y9EFznr5vRemDe8hW4bEPaK+eXiYlKt/y+QYjD/sR9qdY89NBDQ9++fWP1NNWCXJ8C78IquhmZ0TzPjJnZ3oXbjeUpFsgxr/kxKasDr3FOtuA1z3sDrWepZmc7sM0ImgtD9cpIFdyF0vZNCJN5fyjcL1K1ccK+U1EgnlTH4/P+mj9hoCJUcTKWaOH25LF5naf3MrBOuX3+/SUhMM2f3MJ2qug9lHXNPjgjhe9nrJ/8PElSVcze/6iSJFUTvlhVNNUkPoxXNGnm8SWcgwkJZ2jvvvvusY1Q/kujJEmSahYHwgvHwuOAeLGAkoCFKY+D3umzPVVKjINI5R3tbQk3ePx0UJzqqQcffDBWnKZKT1o2UvlJ0MM4e8xL/uA8VaZ33313DKwKg4XyMC8c/E8hb+FEgFAsGEhYdsIwuqUwBmAa25ExFmlLSbjAvFL5RovMiiocaxrhCq1WqZKloo1KVdZB+i5GeEJb2QEDBoTRo0fH6wsDFirQGGOSVrLlTYR1+TFOaxu2WVpmEP5ReVhsWfITLX8JjAhIacGbWjtzHW1MTz/99DjGKRXVrN+aVtXtXSy4Le/1T6BVmerKvGKPU97jg9cdFcD3339/rCZl3lgGxjU+77zz4ljDvF8QBFYFj1PsNc++nl9+Tt6gLXGxfSE/UXmZf58qT3U8PstR0ftXHrcrFnTzvp1vr42KtgsnSOS3fXmPm/D3wv2qGLZ3PnwtrLSWpKqY8buOJElzAB+EK5pqUrEgND+penF2MC2qOFiWXH755bHqtLD9kCRJkmoGB6kLxymkOoqpEO0cC8cOJLwglAGf/9dee+1YIcZYoISjVJe2atWq9CA/1W2MT0gIBUIFxhYkmKSylHa3xxxzTHzc9H2C+xC2EqBWBoHDtddeG8dULTYxtmG+1WTCwXuq3KjIIww74IADYljDOIrvvfdeXE4qaQlPCdAYJ5Blq2rV25zEeqd1Mq1kGS+Wil/agzI2Zxpblu9Gb731VtwuhM2FLVi5P+15aV17/fXXF52uvvrqeJJkQuCT/z5I4FKT38EYjzS/zQlmCOzZtsWWJ02MB0pbWr7XMNZrCpU233zzcP7558d9nbF+aUWaH4u0plR1e/P6K6xa5HXGaz2/vVhuXhsVja/Kc6fXecL7SP5ECx6Tytby2mNT6UtomlrasixUmxOUEgbvuOOOsaX37Kp4Zdum9y9wgsD+++9fdF/IT7R1Lgwdi6nux59ZvGcVVt9yojMV+ql1c8K2p+V5fpuxLxW2ap8ZbO/8SdW8TgtP2pCkyjI0lSTNESn8LG+qaXzpKm9SzWvXrl08gznfrnfMmDHxAMXgwYOzayRJklQdONhNZVmqEC2cODjOQXzGu8uHHXxeGzFiRKzsJEhkomVuakmacHCb0JDHoBKJsVE5AM73BMbd23bbbcOJJ54YevbsWdp+FwQi3J4WlAQxzAsH8VdeeeX4ufHkk0+OQVQ+NKDqrLx2lYUIWqiMpPqx2MRn1MKgk3l45plnYpUsVaWErs8991yshKLNZJcuXWKl2yWXXBLHV6Sqti5URFEtm9rt0j6Wz+EMp0GbVsZrTdgX2MaEpiwb2zShNfGoUaPiduUxWL9M/E7oQtjC968UyoEgLh9+EI6wjmsK80qgn7AvERyybISpaZmYqHYm5GWe+Z2ALrVmThj3k4AHvM5oVzxy5Mh4uSZVdXvzOiD8yr8euP8jjzwSlzm9/mkpS/Uny1ke9oX8PgDeS3jPYH3yODwmr7P8uszjvSH/HDxm8+bNS6suuR/7YuHJGzNr1VVXjespYV9++eWX4++0As7v6+l9jon3s8ocD6nux58VnJjSrFmz7FLJeyDv8byPp5MceJ1wwgj7Q378U94jmGYVoXr+fZ11UvjeLEmVZWgqqU4p9mGvoYdaxZa/uj8UF8NzVjTVNNZTRZNqP7740K6XygF+T0499VRb9UqSJFUjggVCPjqAFJsYL5CD84SbBJYJB7Jp70l1F61xmfidxyJoAd8V2rRpEyvuOMhNBRrBDFWYTzzxRKxMIiwhAOHx8p/dCQiYaHVKJWq/fv3iuIUELBywZ/xFghtCloTgMl8VNbsREFPNOnTo0DgfLB8Vq1QSEqBStUeFGAEOwWJd0b9//7iOWTYqJdkmVJOxvfLBVaowJTynM8z6669f+n2Qz+xUZF544YXh2WefjS2KGXOWSkVa0zJObT5MB9XL+aD8ww8/rHR75epAC2WC9FRtStBJm1r2WVows27YZ1955ZVwzz33hOOPPz62sE1YP/nqRipPaRnNumCMXtbN448/nv215lR1exP8t27dukxrZV6rnODKCQR33nlnnPr06ROrq/MtWgsRmBIS5l+nvJbOPffcMGTIkPg+QuUurzHWfzHMTz545X2A+9GpiH2O6nVaIecDvFnBCSO0Ek8njbCO2P7MM0Eh25eTgNnXqbRmX3/66afjbSujuh9/VtCeeuutty6zvgnG2X/oFMD+zTxx4gvvz+k9nNvvuuuusVJ1VvD+zv+A9L7Atmee8u8bklQVhqaSpEpJ4Wd5U01L4Wd5k+oPznDmC2EKTjmr21a9kiRJ1YdKzrvuuise+C42EW7ynYD2uN26dSszrAIBEqER43Yy0TKSKjYQABCO0L6WEBFUCxEAEIAefvjh4bDDDottNRnzk3EIU2DDAfeNNtooVjhxH8InglaqN7kf9+EnJ91RcQUOom+zzTbTtRGdnVKIQ6hGYEhwQFBKcETYxmfY2vD9qaoIzAi9aDN88MEHl65fWgsTWIDtSUC84YYbxsuEaXvuuWcMqlPYw7YnOOUz/SGHHBK3F+1SU+Bd2NKTED7fvpMwnM//NYVgn/CKNrUp9GaeH3vssdh6mH2ZfZZgnP2dYCtfzUj4lT8BlHVH8MV6YL0+8MAD2V9q1sxsb7ZVx44dy4xtnMLKXr16xYm21pwwMaPqal7b+fcRAncqSzlJg/XK+xHhcz6oy2MeaL+bDxkJgNk2rGuWgwB+dp1AQZXnHnvsEUP+9PqmGpQ24Twn6/DQQw+N+zrPzbKk1sGVUd2PPytYh7zvMz5zmjcCTF4TnEzAPkTIzckA6fXNe/EOO+wQK/ZndRuwj3FSTQriaW9Nh4LZ1XpZUsNT9z6lSZKqBR9uK5pqWrEgND+pfHxh4Ysq4zsx0SKtruMLNGNIJZx5TMuoCy64ILtGkiRJswuftwktCB6KTaktIge/CVeoKOKgNcEI9+XzKOMbMvE719FylVCDMT8Zdy8fohA8UgE2bty42NqWsUFpRUmlKX+j3S4BAkFqqvjjMQljaAFJYMB9qPZj/DzuQxtUnmevvfaq9jH+qJxN45US8my11VYxKKvrB/Fpu0n1Lu1jWb9UshGCEoSwPak0pLKS7QqWl/VN1dtqq61Wuj+wTdi2hKSvvfZafAyuY/8prL4lAKENcsI+wHatKYRwtCNluxIIp32J1wDzRtUp+yz7IeEut8+HiISBjGebgiKq5HhdvPrqq3Gd8PdOnTrFv9W0qm5vth2B5D777FPmNcbjpNc/25P1lm/nWgwBHK2186FoanXMWKYtW7YM++23X5n2z3lUBPM8tH5Nrzveqzghg32O+ePxCfRnB/ZtxqPlOyohcmoDTHBJdS7vX1QSs/6Yf9ZfeYFvMdX9+LOKeaKLAN0G0v7O9iLQ5HXAPPEa4fVAAMzJBYS77Acp2J4ZvLdzQnU+yKd9NJWmkjSzDE0lqYEoFoTmp5rGl+eKJlUN64wvJg899FA885TxlPgSw1QfQlNwhnGxVr2MTSNJkqSZw0Fngj8qgSo75YMuQhGqnc4///x4YHy99daL7RfTbako3XTTTcORRx4Zg8Xdd9+9TPBBu92dd945hiZpTEzuRwhCVRuBEyEcbT4JbUAgyvWcRMdzpftQUcrz0wKSsIGgK1/1WB0IY3g+lp1gp7rH1WPdp3XLRBhX+P0uVeTlb5cPqcE6KXys/HZle1AVxjZgW/B31jPbiL+xPTmBsUOHDmUqxwhICLcYx5Xq0sL9gSpSQjcCLB4j394ZPMcGG2xQGsJRXUc4lFpxJsWWMQVLecWWsXB/YN3kb8PjFgbezBOBPycI7LjjjjGk4XsJt+cnITHrhXF4Gcc2YV/lOtYF+y+3ZRkJelhPfJ+hi07++fPzWOz1WWybc5nr87fLb88Zmdntzd95ffJdjZMFeA1yX153hH6MM0xVZD5ULYYqZSpbWVcEyexHPD/zQxBP5WJqCZtfxrRf85P3GV7zbB/2M56T9U8rcNYz1cA8brH7o7L7VMJ24f2M9UIVNctb+H5ENT7zwwkfqUK3smbl8ct7fRfu+0lVl531xv7M+z7bmKr6/GsivX8TZFN9ynbJj42bFM5jsX07j9CYkyg4YQFsY5ab55OkmTXX1KlTizZ/p697MYzBUN1SP3neKHljTBNv5Oln/k29vDd4SfVPsQ9LBmrF10tt43aac77++ut4JjBjh9ASh7Nx8zhgRMVpfcGZq3x5TO15O3fuHNuwSZIk1TbDhw+PIQD4TEZwUttQDUQLVKreKosggurKPCqACLZo88nn0xRycRB96aWXjhVGVEMV4n5UhE2aNClWKdEamO8S3Jb7EhJw/8IQi2NJVLJxP9rxpvvQoYTbEyjUhe9NVfX666/HZU4IDQjd8qEU65/bUfGXsL3YbgnrnIot1mGS367sFzwOVW0ElzwW65OQm3VLKFZseybl7Q/MJ5VpVG+yfYttI6odCaGpdKQyk9sytiWhUbo933moIkytmAlxqHbOj7GJwvVFOEd4kw/++Du3S1gu1gMBWyGq6VhntOBlX+Uyz82yENyUt15Yhx9//HF8LvZV5oMTCgjAaDVKW+uEx+H5Cc2KvT65D38nZEpYv1SIpvWMYq/T8szq9ub2rJOxY8fG35lHXotsE66jGpWq3ITjzYRpPHYeoRjriX2AdZveO/hZmf2a+7COWV88FkEg8866pnqe++fHNc3fv9jjE/zx/IXvP4XYD1l+pvz7EcvHvLO9Z/QYFanq4xd7fef3q0KVfT0Vw2uU+eJ7enpNMG+8JngMXkflvRcXvj6LvZ/lsUwE9GkcYAJTWn1zAo0kzQj/64oxNJVUpxT7YMWHw4am2HqoaQ1xO9RGhIV8SeCLaHlj/dS30BRUl/JlKqmPyyhJkuo+qp3SZzSOeaQD0pLKx3dNxoWlwo6KMsIgxoqlotGKsrqH1sWVDU2l8hDG8r5AxwLeF6iEpQMBY6gS0ErSjJQXmta+o+6SpArVVGDKF9WKJtUOnJH8/PPPlxuY1le0AspXatCG2NBUkiTVFsOGDYttR/Of0WpjlalUG/EdmPbLO+ywQwxMqWR74IEH4tihkhoeKtcZx/T222+PHQl4X6CNM2F8fgxhSZoZhqaSpFLFwtA0adbQBoexRNP08ssvx/ZAeZzh9Nprr5W5He2r8tKYHenvtKSl5U0hujBw1jVjBjUU/fv3jwdSEoNTSZJUGxCUdu3aNYwfPz67JsQxDvnsIqlyaMnLWLmMk8h3HTrr3HrrrTEwIUCR1HDQOvnuu+8Ob7/9djxeteqqq4YDDzwwjqlrR0pJs8rQVJIakMIgtHBS9WH8na233rp0+utf/xo/4OcRkHIgIH+7a665JvtrCc6m3HvvvUv/ToUCY9okjDXCF4Vu3brFVjW9e/fO/lL/0eKO9sQGp5IkqTahdSBj5yUEpoMGDcouSaoMWm9uvPHG4aSTTgrbbrttHIuRk0cZA5E2nZIajjFjxsQ2z+uuu24cv/SYY44Ju+222yyNEytJiaGppDqlWLBXG8f3rE6VCTfzQWh+Us1h/Kp8mxjOiOaDfh7jcha21R09enSZHvuTJk0Kn376aXYphObNm4e11147uxRiWHrPPfeEyy67LOy7774Nbowfg1NJklSb8NluwIAB2aWS8eeHDh0aP7NIqhqC07322ivceOON4c477wwDBw4M7dq1iyeOSmo4GJ6HE5J4H7jtttvCfvvtZ1teSbONoakk1UEGoXXPcsstF9ZZZ53sUgjffvtteOedd0oDUX5ylvRXX30VLycEpJ988kl2KcQ2VPkzqTfYYIOwwAILZJdCWH755UOrVq0aXFiaZ3AqSZJqi1NPPbW0ypSDvJ07d46/S5o5Cy64YDwhlXa9TIsssojtOOsYvr/ynZXAO00rrrii4bcqbaGFFgpNmzYtfR9YeOGFfR+QNNsYmkqSNAc0btw4tG3btkxl9Lhx42J4CsY8ZTxTgnC+LKbbFVak5sfC4nb5IFb/U15w2qtXrzLt8SRJkqoDn99oGTh48ODsmhDOOOOM7DdJargIvS+++OJwxx13lE4MO7Poootmt5AkqeYYmkqSNAdwJuT6669fpmUMY5F+/fXX8ffPPvsshqbgjEnOmMaUKVPCW2+9Ff744494+YMPPog/wdm4a665ZnZJhYoFp5dffnkMr1988cXsGkmSpNmLoLTw8wafR6wylaSSk385qThVCTItvvjiDW7oJUlS7eR/I0n1QkP9cO2XirqF0JRANHnvvffiGKV4//33SwNUxihdZpll4u+07aWN73fffRfb9ObHM23Tpk1Ydtlls0sqJgWn+YOUqfLjggsuyK6RJEmaPYYPHx4OOuig0s4WfBbp27dvePjhh+NlSZIkSbWXR9sl1TmO41kx10/ttcoqq4RmzZpll0L4+eefY4teUE2K+eabL2y++eahRYsW8TII+WjTO2HChNJ2vtxuvfXWa9Bjl1ZWCk4HDRoUz2BOGGNs1KhR2SVJkqRZw+eK3XffPbtUMobpyJEjQ+/evbNrJEmSJNVmhqaSJM0h8847b9hwww2zSyUYo5RKhDfeeCNepnKUMJQpodKUCtMPP/ywtBp1ueWWCxtssEGYe+6542XNGOPkjB49OrRr1y67piQ4lSRJmlV8puvYsWNphWnz5s1jdalDKUiSJEl1h6GppDqpWDVlQ2tVa2veumndddfNfitBIEoYSutd0JZ3nXXWKXOAjYpUwj5umypNGfclH6yqcgil+/fvn10qaaFHq16qeSVJkmYGn88ITCdPnhwv09mCwNRhFCRJkqS6xSPukuqVhh4k2pq39qNF71prrZVdCuHjjz8OjzzySOlBNv7WqFGjWJ2w/PLLx+vwyiuvxPa8CeHrYostll1SVdAqr0ePHtmlEF588cUYnA4ePDi7RpIkqXKoLKUlbzoBKw0LYIWpJEmSVPcYmkpSHWSVad1FW902bdpkl0Icq/Shhx4K33zzTbycWu42adIkhnvJSy+9VDr+KfKPoaqj2pSJA5ugQuSggw4KXbt2La3mlSRJmhE+P4wYMSK7FOIY6u3bt88uSZIkSapLPOouqc4qr6qyvgeK5S2fVaZ1A+3aCEYXWmihePmLL74Ib7/9dvx9gQUWKK1CXWqppULLli1LxyydOHFiGDt2bPydFr75alXNHKpNR44cWSacvv3220OLFi1i9akkSVJFGBudzw5J3759Q5cuXbJLkiRJkuoaQ1NJkuYgQtD1118/NG7cOF7+6aefYrUp1l577ThWKeaff/7QqlWrGLKCcU2//vrr+Hvbtm1Lb6dZQ+u8559/PvTu3Tu7JsRWybTrveCCC7JrJEmSyrr88svLfFbgZKz85wlJkiRJdY+hqaQ6raFVm1plWj8Q1NF+txAhaQpTQYhKVWkeoSuVkUsvvXR2jWYVLXqpDHn44YfDsssum11bUj2Sb7cnSZKEXr16xSnZYYcdYtt/SZIkSXWboamkOq+hBKcGpvUHrXfXXXfd7FIJWvMSmi622GLZNSGsttpqoWnTptmlEo0aNQobbrhhrETV7MUBz9GjR4d27dpl15SMUzZ16tTskiRJasgY97xjx46xyjThZLZ77703uyRJkiSpLptr6tSp07Lfy7jiiiuy38o69thjs9+qz3/+85/4k8oPQoI0zTXXXKU/mZL875IapvICRdSHULG+L19DNG7cuDBhwoTsUgjzzDNPDEnzlaZgvNPUvheEq1Sq5sPVinBwb9SoUdmlEs2bN4+TiqM9L+Oasu5Auz2rRyRJatjGjx8fA9MxY8Zk14TQuXPnMHTo0HjsQpIkSVLd8euvv2a/lWVoKqneqK/BYn1dLqk2Gzx4cKwyTZ588snQvn377JIkSWpIaNe/++67l55QBcYvpb2/JEmSpLqnvNC0/CPxklTHVBQgVhQ81mYGplLN6N69e2zXm9imV5KkhmnAgAGxwjQFppzcTXWpgakkSZJU/xiaSqpX6lNwamAq1axBgwaFxRdfPP5OS75evXrF3yVJUsPA//6ePXuWnji17LLLxu4TXbp0iZclSZIk1S+GppLqnfoQnBqYSjWPA6P9+vXLLpVUmtCeT5Ik1W9UlVJdevnll2fXhNC6devw/PPPh3bt2mXXSJIkSapvDE0l1UszCk5ra3g6o3kzMJXmLNv0SpLUsNBdYpNNNgnDhw/Prgmhc+fOMTBt3rx5do0kSZKk+sjQVFK9NaOAsbYFpzOaHwNTqWbYpleSpIaBjhJt27YNY8aMya4JoXfv3uHee++NY5lKkiRJqt8MTSXVa5UJTms6PK3MPBiYSjWnWJves846K7skSZLqg8GDB8eWvLTmBSHp0KFDQ9++feNlSZIkSfXfXFOnTp2W/V7GFVdckf1W1rHHHpv9Vn3+85//xJ98SUlhAtNcc81V+pMpyf8u1Xfff/99+Oqrr8J3330Xfvzxx7j/L7DAAqFRo0bxwP4888yT3bK4P/74I0yZMiV88cUX4Ycffgjzzz9/WGaZZeJ9aTn5wQcflGk9udpqq4Wll146u1QWt5s0aVKcn19//TU+9xJLLBGWW265sNBCC9Wq1+aMQslkToaTtXGeJJVv9913D8OGDcsuhXDGGWcYnkqSVA8QmNKCP+G7EdWljl8qSZIk1U/kGcUYmkp1xGeffRaeeOKJ8OKLL4Z33qVP6ZQAAKGySURBVHkntoicPHlyfE0QmK6zzjqhU6dOYc8994whaDGErA8++GC46667wuuvvx4fc7HFFgtt2rQJf/3rX0OzZs3C4YcfHsaNG5fdI4SBAweGbt26ZZf+5913341nXj/99NNh9OjRMcwlvF199dXDxhtvHLp06VIrDzKwvqpidgaWNfnckmYdJ4oQnObHODM4lSSpbrvgggvCqaeeml0KoXXr1jEwdfxSSZIkqf4yNJXqONpBnnbaabFd1LRpRV+2YdFFFw377rtvOP3000OTJk2ya0tQEXr11VeHm266KYalhQhM27dvHx577LF424Szrvfff//sUklo8Pjjj4dLL700PP/88+G3337L/vI/vE4ZC+iUU04JO+64Y60b/4f5mxkzE2LOyeeSVP0MTiVJqh/4X8445fnxSwlMn3zyydKxzCVJkiTVT+WFpjN3NF/SHEcL3G+++SYGplR0EnKussoqZVrncsLBLbfcEoPOX375Jbu2BNcRdBYLTDFx4sR4X6pXK/Lcc8+Fo446KlaYpsCUlrzrr79+bMtLSEjg99prr4WTTjopvPzyy/E2tQnzN7MBaFWnqprZeZM0Z3ASCNUnO+ywQ3ZNCOecc46hqSRJdQQhKWOXMuUDU7rkGJhKkiRJDZuhqVRHLLzwwmGTTTYJffv2Dffff3+4++67wx133BEnxt9ZcMEF4+1owfvQQw+FTz75JF7Gm2++GVvy5s+eYJyeHj16hP79+8fKcipCGZO0vCpWENpee+21MWBNt9t6663DkCFD4nTnnXfG9sDg7x999FG87vfff4/X1Ta1KaA0LJXqDoNTSZLqHjr2UFnaokWLMh0j+F7EdyK66BiYSpIkSQ2boalUR3BwngCS6s1tt902VnbSApeWusccc0xYccUVs1uG8MYbb5RWjBJYEqIyBmneYYcdFvr16xfHMKVylN8Zi7QiL7zwQjyYkFBhesIJJ8TAdY011gibbrpp6NmzZ7w+YQzWfLvf2qgmA0vDUqluKi84papfkiTVLrfffntYeeWVw+WXX55dU/K/vHfv3mH06NHxZFJJkiRJMjSV6ghCyUaNGoVPP/00tr7l7GgOzl900UXhqquuClOmTMluGcJPP/1U2oaXlr0cCMi3623VqlXYY4894oGCNEbwqquuGrp161Ym8MyjSpXQ9PPPP8+uCTGo/eGHH2LL3meffTZO48aNCwsttFB2i5LnL68lcG2TAszqDDLnxHNImjOKBaecOJJv9SdJkmoOY5HTladr166x0jTp3Llz/I5EFx+rSyVJkiQlhqZSHUG15tVXXx0OPfTQ0KlTp7DLLrvE30899dQwaNCg8OWXX2a3LPHzzz/Hn9999134+OOP4+9Jy5YtQ5MmTbJLJeaee+6w5pprlhuaEn7SbvePP/7IrimpaCVopUVvmg455JAY7CYcqMgfoKhLCgPOqoacs3p/SbUfwenQoUND8+bN42Xe83bffff4U5Ik1ZxRo0bFzjz5LhCtW7eO45Zy0lP63y1JkiRJiaGpVAcwhujf/va3OF7eo48+Gr744osw33zzxeBztdVWi+PypDFNCzHGKbfP4yA/45cWouK0PAQAjGmax7iltP/NT4Sq+XFRCW+/+uqr7FLdVywILW+S1DBQoUJwynsrqDSloiW1SZckSdVr/PjxYcSIEbH9Lt+ZOJlzk002KdP94bjjjotDjTC8iSRJkiQVY2gq1XK01R0yZEgYNmxYbIULgtLTTjstXHfddeG2224LN9xwQ1hllVXi32YFwWi+kjSPkHWBBRbILpVYbrnlwp577hkOOOCAcqd99tmnzHirklQftWvXLrb4S3jPZuy0Cy64ILtGkiTNTvyPpZL0//7v/+L/XILSXr16xTHGCVBT14d0clO/fv1KT3CSJEmSpGIMTaVajkqlJ554Io5TiqWWWioeDGDq0KFDbDFV0Tg8iyyySAw388aOHTtd9edvv/0WW1gVtvlNFl544dC4cePsUollllkmnHDCCeGyyy4rdzrvvPPCBhtskN1DkuovKli6d++eXSo5EYUW6gMGDMiukSRJs4rqUapI+R/L95eKMPwI1aVdunTJrpEkSZKk8hmaSrUcY5J+8skn2aUQFlpoobDqqquG+eefP17+9ddf45nU+XFE8whUCys9X3755TiWT96bb74Zbr311tjOtxhCU8ZC5fmT0aNHx3FNeY7CiXbBzDetemklLEkNAWNMM04aJ7QknOTy4osvZpckSdLMICDlfyrVpYX/VxmflLa7nMB0xhlnxO86I0eOjN9XCE4lSZIkqTLmmjp16v8GH8y54oorst/KOvbYY7Pfqs9//vOf+JPWObTaSRPjLaaf+bEXKxqHUarr3nvvvdCtW7f4pR+Epbvssks47LDDwhJLLBFeeOGFWNE5bty4MmOJDh48OOy///5xbE1a+HKAYcqUKdlfQ1hjjTVi61xaWRHM0kryqaeemm4szvQ4+OCDD8J+++0XQ9eEx+G6jTfeOFbBEuIS4D799NPh7bffjm2w1l577ezWktQwUGVKm8B0UHfZZZeN7+P8lCRJlfPtt9/GcUpvvvnmOG5pHscLCEh79+6dXSNJkiRJlUOOUYyhqVTLffPNN/F1d8stt2TXlOzziy22WBxjlCCUn4x9mn+h58NODjYcfPDB4b777ouXk/xribB0ySWXDD///HOckvzjgBCUAxO///57dk3J4/B6pQ3w999/H1v/EuAyzurdd98dWrVqld1SkhoODu7SPpA262DcUypfHE9NkqSKpbD0yiuvjL8X4n8q3R2sIpUkSZI0M8oLTW3PK9VyhKMHHHBAWHfddbNrQgwkOXgwadKk0LRp03DUUUfFitHy0C63Z8+e8eBCausLHidVllIpevzxx4ell146Xi5P165d4/hBtAhOeByCVsZKJcTlMQlSqYTNP58kNSS0Chw6dGhpSErVKe+fkiSpOL7jnHXWWfG7zTnnnFMmMKVbQ48ePeIJSIxTamAqSZIkaXabu0+fPmdlv5fx0ksvZb+VRehS3aiYwzzzzFNaCVdsSvK/S/UN+/dKK60UmjVrFg8a0EqXcUcJU7fccstw0kknhY4dO8b2uqmaCZ07dy4TtDKu6eabbx7HF+UxmP744494QIL7cyC/UaNG4YEHHiit9gYhaYsWLbJLJWObUjnFQQpeo/jpp59Kz8xYZpll4t9oIXzooYfGcf3mnXfe+DdJamgIThkL+pFHHomXCU45mWSzzTaLlyVJaujozMB3GapKjzjiiPg/kzb3Cf9L6XYzZMiQ0KlTp3hZkiRJkmYF2UgxtueV6gja4X7++edxvNAffvghvj5WWGGF2BKXv7311luxNW5C0Fls7DxuM3HixNhCl/vRknf55ZcPiy66aLjqqqvCmWeeGUNQEMz+85//DJtuumm8nEd1Ka9V5ocWwulkB0JV7sd88ZiSpJITUG6//fbsUogtBbt3755dkiSp4eBE0PLGKc0jHGXMUv9fSpIkSZrdHNNUUoXGjBkTK0Ofe+657JoQK1lvvPFGz+aWpFlExczuu+8ehg8fHi/zGefee+8NO+ywQ7wsSVJ9l8LS8sYpTQxLJUmSJFU3xzSVGrg777wzHqD/6KOPYrUp444yUSX6yiuvhPPOOy+8/PLL2a1Lqkz32GOP0KRJk+waSdLMIiRlfFNaliOFqKNGjYqXJUmqzwhLi41TCv5HchJR375941ilY8eONTCVJEmSVCOsNJUaiMMOOyzcdNNNYf311w/rrLNOHHsUH3/8cawu5eAEIWrCmKjXX399WGqppbJrJEmzirGnGRc6tSNcfPHFw8iRI63olyTVS4zl3bNnz+lOErKaVJIkSVJNsj2v1MDRenfgwIHZpfLxumvXrl0c25T2vJKk2YvAtG3btqWVNhw4prKm2DjUkiTVRZwkdOqpp4bBgwdn15QwLJUkSZJUG9ieV2rg5plnnuy38lF9Srh6ww03GJhKUjXhgPGTTz4ZT1IBIWrHjh0rHN9NkqS6gP9lZ511VmjRokWZwJTOCrTftfWuJEmSpNrMSlOpgXjnnXfCU089FX/SkpdxTbHIIouEFVdcMay++uph3XXXja17l1hiifg3SVL1GT58eBzXlPFNwXhujD2dwlRJkuoKTgC66KKLYlCa/q8lXbp0Cf369bOjgiRJkqRaw/a8kiRJtQwHlw866KDsUsmB5aFDh2aXJEmq3UaMGBGuvPLKMGzYsOya/1lzzTVD//79Q/v27bNrJEmSJKl2sD2vJElSLUOLQtoVJrfffnuZEFWSpNqIk34Yn3vrrbeeLjBt165dPAFo9OjRBqaSJEmS6hRDU0mSpBrUu3fvcNxxx2WXpq8+lSSpJtFul4rSCy64IHTt2jU0adIk/p8aNWpUdosSnAj0/PPPx4nOCZIkSZJU19ieV5IkqRbgADSBaeIYp5KkmjRgwIDYenfMmDHZNdNbfPHFQ48ePcIxxxzjmKWSJEmS6gzb80qSJNVigwYNilU6yfDhw0PHjh3Dt99+m10jSVL14//O7rvvHnr27FluYNq8efM4Xulnn30W28wbmEqSJEmqDwxNJUmSagmCU9r1JrRDZLw4g1NJ0pzw4osvxrFKi41TSkUpQSntd8eOHRsv2w1BkiRJUn1iaCpJklSLULHDlDBmHAewx48fn10jSdLsxf+YU089NZ6ok/9/QweEn376KQalBKYEpQSokiRJklQfOaapJElSLcT4poxzmtAKkTFOW7dunV0jSdKsuf3228PNN98cW8Ln8V2ckDTfNl6qq6ZNmxZbSfPZatKkSWHuuecO6667bujWrVuYf/75s1uV4LZvvPFGrLb+8ssv42233HLL8OOPP4aXXnopu1UJTjJgDPoFF1wwu6YEjzFx4sRw4403xsdI1l9//bDbbruFxRZbLLtGFZk8eXK48847w/vvvx8vt2rVKnTu3Dkss8wy8fKMDB06NG6z//73v2G99dar1PvZ22+/HTu/MMZZ06ZNw4EHHlhu+3G2M/vFuHHjwnvvvRenKVOmhD/++CMsuuiiYY011ggtW7aMP9lH0rHLn3/+Ofz73/+O77vMW6NGjeJysU96fFOSpDmnvDFN5+7Tp89Z2e9lFH4YTObEWaW//PJL/DnPPPOUBqTFpiT/uyRJUn1AOMrBk/vvvz/8/vvvsUXvHXfcETp06ODYcZKkmcb/kwsuuCB07do13HTTTeHDDz/M/lJizTXXDE8++WTYdttts2ukuu37778Pt956azj//PPDs88+G4PTLbbYIgZpnJif991334WLLrooXHfddeG5556LoSdBJz8vvPDCWHX9yiuvxIkqbI6RLbXUUtm9S3AA7qGHHgp9+vQpvf2bb74ZNttss7DBBhuE+eabL7ulKsLn3xdeeCEWdfBz9OjRMTDl83Hhdivmtttui9tx5MiRYfnll48B94wQfJ555plxiAyeg8/dSyyxRPbX/yHsfOutt+Jn80svvTTcdddd4fHHH4/7zMsvvxy3OdueyyxHkyZNSsNyjmF+/PHHcT974okn4vz99ttvcf+w5bkkSXMOJzoVY3teSZKkWoqzzqkuXXzxxeNlDnRvsskm01UESZI0I/wPOeuss8LKK68czjnnnFjFlUegQGUWwQTBqVQfUA1IMDVw4MAYiFI5uueee4Zddtkl/p5HBeADDzwQ7r777hi08vmLatT27duHjh07ho022qhMWPfqq6/GikGeI+/TTz+Nj0MVIrgPJ8N16tQpLLTQQvE6zRjr/69//WsMuCmqoHX4NddcEwNoQstCHPhkG7Pe+fsKK6wQKzxZ53RsYTsRdPNemD9I+sMPP5ReRwC+9NJLx+t5r+S+FHZ88803ZapRuM8ll1wS30sJdAlBuS7NF/chnCdA5X2XwP6rr76Kf2NZNt1007D//vvHZWRfY5/jREn2QUmSVLMMTSVJkmoxDmJT8ZOC06lTp4bdd989tlSUJKkyLr/88tKwlHAgoXNB7969w9ixY8PDDz8cunTpkv1Fqh8IqjgZ4IMPPoiXCdKoHKUlaqGPPvooViemlrq0gyVcpTKUSsGddtopLLnkkvFv4HaPPvpo6RBTCVWGr732WnYphEUWWSTsuOOOYaWVVsquUWXRIpeQmwpTAsl33nknVnXm38eSzz//PIaqtBZ/+umnY4vcBRZYILZgJjx95plnwoABA8KVV14ZA03wmLQApoqY90CCz1RZymfvCRMmhFtuuSWce+65sW1zCsgJUGn5TEBL5ShVpKuvvnpYa6214jwTjILbE7gyz1SeUnUK5ouTI9nHwL7E86T9VJIk1Rzb80qSJNVyHNTeddddY6s3DhJxwOWee+4JK664omOcSpLK9eKLL8bQhza8nHSTUHXVr1+/MGTIkLDNNtuUnpgj1ScEWwRhV111VQy3CKr22GOPOLZlYYtcPlv94x//iB0+eK3QJvXYY48N22+/fZh33nnjcSeqEMeMGRNbuILAjcrGjTfeOH4m4zY8D+1aqTBM1Yy0XT3mmGNi8KqqYZ0SVDNuKO1wWecEjC1atAirrbZadqsStNSl9fiDDz4YHnvssTgWKqEn1ZuffPJJDM/5Gy3JuT8TQSvteAlOuQ/bjYpWqj/Ztv/617/i/Qg8afHbtm3bGMJSsXrffffFx957773DkUceGcc/5cRGxrolKKdqn7a74HZsf9ozpzFwed9lH6Vamf3v66+/jkHv5ptvXqn2w5IkadaU157X0FSSJKkOoCKC4PSRRx4prYCgjRdnsNM2TpKkhNa7hDRHH310mTa8KSy98cYbPelG9d4XX3wRKwvT8S0qAI844ojS6r68iRMnxnarVJti1VVXDccff3wMytIxJ1q1EnIxdmUKwwjPUphG0Pr666/Hyu7UipWArWfPnnGM4KqOZUqFIic+UF1JAMjEMtE+liA3j+NoBH5UQ6bb8hmRYC4fwBE68hj8nTa3hMAsM+EhBw4JllOVZEL1JVWVhMUEl/xMYSTLVGwcTsJj2ta+/fbbpfPDOmN++Mn9qcZ99913Y9Un1xEYFrZMBiEjQTafgQkXeWyuY53m55XxQ1kWbkPgSTjK9uKxaZnM+iCAZT9g+66//vpxPp566qn4N7YlVffcF6wntgH3IfDk/ZP7LLzwwvG2LNPOO+8cjjrqqLDhhhuGZs2axcdeZZVVYqBLZWuqaAWPQaCaxjZl3lkO2kdPmTIlzivrlBNZ8hXNM8J2I1Qm2E3rmuViXfP4nHDJNmPfZJ3wHFzPvgmWnW3MtmL/4Tbsv+wLbNuKjrmybnntsI+yP1EpS/gLXi8Vhb+sZ9oasw+kfZxwm32Z5y72eqnKfsX/PvZ39itDaElSMeWFpnP9+cGj7OALGQZaL4Yz7apbam3CP2f+saWJf9TpZ/6fdkX/wCVJkuoTDnxwwGXUqFHZNSGcccYZcbwkSVLDxf8HxrymXeiwYcPKtK/kgPJJJ50UW/FKDQUhGycPpJanVAFSBUpVaB5hC1WDhx56aKwwJJDcd999Y+BaGAgSvjEWJUEbgQwITDkZYd111w2XXXZZbOVKEMXxK8K0m2++OYZ0VUV4dfLJJ5cZy54wjjauLVu2zK4pQei03377lVbBEogxTywHv3NQkICJdULoSzUly0JQR1BJS1rCZE60oLoWhE7clgpMwigCLcI9QknWC+txnXXWic9LgQVhYsJzcT3hVkJg3bVr11jNS6DI3whDeX/isagC5gRBQsfC43ysi3322ScGf1h77bXjUBX8TJg3JgLeZ599NrbhTccXCc7YF6j6JbwkeGYiQCT04/2SsI0TSkaOHBmfn9COdcF+QdeXxo0bx4n9g/nmuTipkYCvEMEf88vYtgnLxrFWwtWE21Gleuutt8bfWa/XXXddvG9hMF4eAtzrr78+nHrqqdk1Ic4n+y+PMXjw4Lje2IagTTTBLMd3uR2tjNkm7NMpXGbdbLnllnFMWU7OZF/OY39i+6WqXvYnTurkdrRSZhsSKDMWMK3h89uTgJcKXvYB5onnJJzmMQlamb/11lsvVu6yT6ZwF+XtV8xnWob8frXGGmuEgw8+OI4nzGVJkvL4HFSMlaaSJEl1CAdTOJCSzgRHOkPeilNJalg4gYYD4gSihB20buc6DhgnjFPKgXvGyJYaEkI1Qr90jCkFQIUVbARrBC6MIQ+q/HjdbLrppvFyHsEg1YMEa+l1RmhF+ESAdu2115aGU1QU8pyER4WhU2Uwn1SAEkpxUI+wklCX4I8wKD0m4S1VljfccEMMAbkdY7cSxlEFSxjF50ba0BLOURFI4Md64bY8NuuAiQCYwAqvvvpqHAc5hWIEW2k+WHZCVSr6CGoJ2dZcc83S43MEaKx/AjFuz0TwSKBFMEmQzWNwPVWOBLLMI5WEtDsuDKupjGQZqYxlebld4XogcEtBKKEc74VUfrIdCEX5nbCQoJfbglCR7UZoTMUnQR6PR8jNOiJQJjjdaKON4n6RKmE5Xsnjlhdssq5Y16y3hMfgsWjdm/A4rCMqilkm1gcVrYTtLHNlEPpTZUwr6rSu2Xe4Py3YOZGGbcW2Y2KfomKY27DvEvITzHN9ug3ri23LOiA8JXROePy0P91xxx0xyGTf4XrmhftSscv6p2KVlsT5QJ3nYgxZ1jXbnfum/Yr5IfRm/qhCJWBmfSTF9ituw0kDAwcOnG6/4rXI/PE6yAfskiShvEpT+xNIkiTVMZwpzcG9/AFwDmpZbSpJ9R/j9tHuk2opAg6qizjgXogAgxCI8fgIK6SGhMCE0I9ABgRVVGcWC6IIYvKvIcIxqkaLIVCjai0Fi+A5GJeSAIlxLBNauXbu3LlMC9mqIGgisCIATQiVmNd8JTltTllW/gbCMEK3FGK+8sor4bTTTotVgaltMMtBELbccsvF95J8IJgQPvE8rDuq/wgpaYm7xRZbxHniMVJgx7ixhFwVYR3xfsTz8JxUJOarCGmHS9BIyEeIlkeISviWWtuyrFRPpu0LTiAk0GZc07vvvjsGo1QZEh5zP67r06dPPOmQ2yYE0TzvNddcE8O4nXbaKZx99tmxqpftyX2o3s/fpyLMG0FzvhqScJV9Js1/HtcT3CZsX9bFrGCfYCxrwkQem/F4U7gMAtr+/fvHE24IQNkX2B75sJpQnW3G/5H89iB0Z/0Q0rJ/sH8TXLKvU1nK/xuei6CWqmhC8vz+ymuTiX2Odcw+zn5FWM592Wd5btYh4wzn71sM/xN57bHfs1/xuknhPduM8Jf5SG2DJUmaEUNTSZKkOoiDGganktQwcBA9BaW0aKftIgekCxGSHHfccfFgNgf77UCghoqAhOApBV0EQlQa5oOjhNvlx54kuKnoRANajxKc5seEZCxNWvymgIe/cRtuOyuopGT84XzwSgVfGt8ezD/BaMLJdVTJEhBTdUlgRLva1E6YAI+2pyeccEJsJ8wYrASD+fE2wTKk29EylomgjSCL0Iz3I/C4BGmEhOk5iiHgZBvweDzneeedF3bbbbcy7W3Zbg899FBpuJtHcJsqRME6J/xL2A68L1JdSJjbpk2buA0IQQmwuY5QlOrJfADKfKUKRcJF5mm77baLn7FZh8wLFaMVLVtCxQrrmqrHtAwEeKuvvnoMnYu18iXUZL0khfvjzCB0JETs1q1b3MYM5UH1bH7/pxqWVrlU3/7973+PYTOhZ756lvVLVXUKp1mHhM9Uiab10aJFi7j/8DyE57169YqVnSBAvv/++0vbRoN1ShfD008/PQwaNChWZ7Nf8X+NfSO10SWo5WSANM5wedhnWL98D6L9MUF5/vXLNqHalKpWSZIqw/a8kiRJdRSflRj/iTGYbNUrSfULwchFF10Ux2tjHEYOHlOdk8cJNAQCjNXHwWqqyTp06DBT4ydK9QkhGK2rU4jJCQWMkZhvM5oQcnGiARWHIETacccdy7QUzSOMog0sJzPQSpTPXbw2eS6CJCopqfSkio+2vbOC4JL5opozvf5pPUqQSlgFAiwqOKkuBJWLhx9+eAyK+YxIK1SCQnD8jPcIQjLGO6Vl6VprrRXnd/PNN4+tUFMwSYUpnydZF7ynEO7xN0IvAtPnn38+tmEFx/EIJpkvQjcCQ8I1Wr4mjFtKUNajR4/4vNyWY4zMI0FnCjJZvlTNmsfy56tlmQ/e/1KVJsvGdiHopd0ulY+Ex/zOdifIYxxPljUfQrNM3IfHYZ4IGtn2rD+29WGHHRbHw80HtsUwX8wfASVBY2r5xzrlfZx5LazmBeEgVbPcBwSrtPJlniqDIJP/D1RmJoSjzDdj4rK87BPMD+s6VSSDbU/QSEDM8xHSM8Zp2l+Q2hoTqBOysj+ltsPsn4yVzTijrHvWNVWnBJ0E6WD+qChlPkAwzT7IY3Jb7sO6ZeJ3nj+dFMQ2J8xnPtm+xfYr/kaLYYYv4Xc6MPBazFePs0+xH8/qSQySpPrF9rySJEn1kBWnklR/cKCX9++VV145HvilGis/Jh6owunevXt87+fgNz8JIfLjvkkNHRWWTAmfl1JlaKE0lmRCWJgP1YohACT4SSEsgV8K/Qh+CNm4TTGEoLQ8pQKv2MTfUoAL2pYSOiVUCBKwpUo/fs+3HqWikcCRZWIM0HzbXJaNsDQFh4RrTIR5hIRMCSEioRYB1QsvvBBb1FIZyEkc559/fpnqQRB0Ua1ZHkJVWrESRKbnJMhkfvMBNctOGF2Iec+H3twuv57AMhEQnnjiibFalOdiov0rASIhauE4pMwHbYoPPfTQWNHP84Bgl+CbalVayZaH7cD80t6XClwqbgkKwb5AYMoYuYXPmzB/BIkJAXQKhmcWASTBM6E965rnZv2nKk6wrgiJaVvN70xUbBbut+xHaV/j/xHBaULAS1jP2MFp/6VdbjpZAbwO8yEnISyVoATlnLBw1113xfF4OUmIatV8RSjrkarbVFxTDMtAO222I8tKeMv/z7xi+4okSeUxNJUkSarjygtOaY8lSar98mEp79+FQSkHmAlGea8nHCG4oIpKUs0gYKKNK+NsFqJik6pCblMMISZtSKmMKzbxt3zQSYiVr1Kk+o7ucARrTPyeqlAJPakOJVwkwORx8lUUBFZUFJYXIOdNnDgxtuI94IADQteuXWMF5vHHHx/buBJyFbY7pWIyhWvFUAVYGD5SPUjVar5tLY9DMFyIz7v5tqvlhYsEZzxPPoglROQ6/lYebp+qVkHQSABXXtgJAkUqI9lmhH60gSU8Z9sTUlIBSdVvRe2e2Rb59cJy5Ss9ZwbLS0CaX16eg4A2YX0SruevSxWfxRBg8r8pv20ITPmfld9/DznkkFi5neSXh3XDOKusK6pTCfA5CYiQ+5JLLokV04XLPqP9im3GsiQsc+H+zf0regxJkvIMTSVJkuqBYsEpFUqbbLJJrDKQJNW8fDjKgd00cTCbA8/56pwUlFJ1RhUTY74ZlEq1B69jKhgL0U60sLVsHsERARRhULGJv6WqVRBiUW2axhAFbXGp+GNKYz4SQBJM0raX9xUeK7XsTQgA8yFZeQhhr7zyylhRSuUgASrzxPsSlYm01SVQrAoqOIsFkMx3ofzy5xXetrzbzQkEprS7pbqUCksq/5kfthfBNYEpwWCxltCF5sRyFVvPxa4rD/tlGts0YT6L7cv5oJ7L6X8bFafsU/369YvVy/xvY59IYT4V0FTnSpJUkwxNJUmS6okUnOYPqjOeDy2qBgwYkF0jSZrTZlRJmkebXSpJU1DqGNVS7UQ4VqwFL9We+cq3QoSW3I+Wu8Um/pYPNgm2aD9KcJqqV6nyZJzTV155pbTik1Byq622iq1mwW0Lx2Wl+rSiFrpI1ZO33HJLbI0K2vQSAjJO7K233hpuu+22OO5mVRAq8tiFqCzMt18lRGP8zEKEb/k2xCxfZQLJ6sI4ogSmrCvWKZXAhH+0Ab766qvD9ttvX9rqtyKFYSTbvtjy1zTWd+Hy8Bo46KCD4nqoaNpzzz3jOnrooYdim2eqVQn2aYFMS94hQ4bEKtPrrrsuhvJSXffFF1+ERx99NNx3331x+vLLL7O/VIzb0XKd1wr3Y6zid999t8xYxDPC+8kbb7wRhg8fHh+Dx+IEj8KTHiSVz9BUkiSpHknBKQfc0wE7DlIwRlPHjh3jeFOSpDlj1KhRsVV6CkvzlaSFUlhKBRntCiXNPIK3fFUjYV2xwA608kytb8HnpnylXEWqUqmXUIXKuKB33HFH0Ym/FVaqEn4SiKaxL5m/559/Pjz33HMxdAOVqIwPmuaJz4FpTMuEEJT2qASQ5WEMytdff720TSrrkZbDjM3JSRxUs+bb2FbWBx98MF3lK8/FGKCpvTAI4vJVtQmhQb41LMtXU+Ei801wzJicqSp0lVVWie2LWU+E35XdNwrDYNZ3bay2ZL4KTwhgGbfZZptw7LHHxv915U20lyawIWhO4Q8B7K677hr233//ONYs46nSUri816lU2/FewHsZJy0zHjLtqvfYY4848T5XEd7beE856qijYoX6XnvtFe/HeMicmNC3b9/YWaCi/038L0jtwmmrnh6Dn7zOuP6ZZ57xNSZVgqGpJElSPcQBd85SpX1awtmmtGzjpySpeuSDUir9aZWeD0tTOJrGWEuTYak0+xA65YOnNP5nMQSL+TEQJ0yYUKWqnqoidFpzzTVD69ati078LR9MJVtuuWWsOE1ob/rEE09kl0IckoHPeQnL1KZNm7D88stn14Tw/fffh6uuuiqeYEdFE8vJxO8c6B89enRpiJfCQEJX5ieFrwSGtA1/88034+XKeuqpp2KVIY/NY1CJdffdd8f2v/mD+KwD3icLEfjmtwvLRcA6p7FeqPClgiuFvVRhUk3JCYqE7nQK+PTTT8tM7H/FAg/WBX9PWNepWhj8f6CamDE/Dz300NCnT5+4Lud08EFASrBJIJyw/LQmZixX9je2BxNj1LJcVEMzri5/Y73Qnjdhf+L6FC4TqlJV995778XLUl3CicmM5XvKKafE0JMAtPAkkfLwXnjeeefFkw94T6SylNcLCFMZt5qKbMJTTpYp5scff4ydADhpg5+8P3MdeCwek+uPOeaY8MADD5Sp7pc0PUNTSZKkeoqDbnyxOuOMM7JrSlpEckCHL10VVTxJkiqPdrunnnpqmaC0sAWvlaTSnENFHFNCWJMPbPJoqZoqOEGAla9orC2Yzy222KI0vCSY42A7CNqo1iusUKQqlPvkQ2FOquOzIW1TGb7hH//4R2wfftppp8UWjlQU5tuwEqIS0t14440xLL355ptjgJfaAlcWoecVV1wRK6auvfba+PPCCy8ss10I3Dp06FB0vFTeU1MIgDXWWKNS7W9nN4JbwkDWf96///3vGGged9xxRafrr7++6H5FiEwFWcIY1/m2zwQv/O9gLFB+8v+FgIVwf07j/xgnZBKKJo888kjspEBI9Pjjj8f1QPBzwQUXhBNPPDGMGTMm3o79Kl8ZTEhK4HrnnXfG/Yr1Q6BfG197Unk4EYX3xsMPPzwcfPDB4ZprronjTKcOADPC64D7sP9z8gonSfAeT3cBKq/TezcnIfA+fPHFF5c5ySLhtcd7OuEoJ2fwGLyf8ppLj8H1tO3lvZ6qb0nlMzSVJEmq5zgQRnhKiJpwpikVCVQVSJJmzu233x5PRCEs5QBxYVC67LLLhh49esQDwoal0pxDeNiqVauw4IILxstU+dGWNlXv5BGurr/++tmlkjHlOLBc2xAQbrfddqWBGgflUzUoASKhaT4cBQfMCex22WWXGFqB+3344YcxLGX8zd69e8fwlCpT1g8H2qlQ5YA9eA5CAAKwrl27xha03LaqLWR5/okTJ8bQ729/+1sc95PHSctAELfzzjvH99TC5aCqkir+VLnFYzEeZk2EpoQkVEMSbiTMH5+pqT6lirfYRLVYPvRN2C9TK2RQaZsPjQnGGZOQMJF1RWhLi03uN6exjQiGtt5669L9iW3C/FEFu++++8aJ1qBsZ9o8p/CI/WmDDTYoE+Dwd/5H0oKUIIdgvar7lVST2P/vuuuu8M9//rP0JJaq4EQVxvLlfQWMaUwbdE4wYVxp2vVyIkVCZT7X5/+XMQ98t8+fyMEJMxdddFE8yYX/AfkTg6gMZ54ravUrNXSGppIkSQ0AZ4VTWZA/YM+Z3wSntJF0rFNJmjFCUQ5MUa3PmHsECIUtz/NBKQew+vfvHw+ASZqzqPrOBzCEbsW6bCy66KIxYKXFKgin+MxUGw8ocwIcgWaaV3CQnflv1qxZdk1Z/I2x7LbffvsylX6EfiwjE7/TJpXHZXxXPjfuuOOOMUAFYR0H6Qn3CCoZIy/fKrgyCMw22mij+BzpORMqZXfYYYfYWrJYlSmfUwkJU0tJWvO2bNmyNLibkwrHIE1YRzOaCrEeCFNTdSXrhgA/BdYgqKTKOI8QJR+kzElsd747UMGc3z9YL5ycQHDEduI6Xn9pn2Mbb7vttvF+7LPgNgTJnKhAS2ICV1oAS3VFeh9lX+Y9lHAy3157RjgBIl9tzwkwVJNy4gEnkNDFhPfb9F6XWmKnSn+elyrT/InQvI/wOZT3U05E4YQExsROuA/jMXMSi6Ti5u7Tp89Z2e9l8E+7mPy4WNUlfQjiRc4bTnlTkv9dkiRJxfHZatddd40HrBgDK43DxJcs2gJx0IIqBW4nSfofqrD23nvv2PqMg1WEL+k9NKFShrP6qd7q1KlT0TH5JM05VLTxWqWqErQ3pIpv1VVXjZcTPvdwQJq2ooQ3VA1SHUc1HQfAKzrmxHiNtDls1KhR6URVZ+FzzC4sE1WfPGeqNCJQ69mzZ1y2YmjTyEkehFUEXinI4rGYXw7Sb7zxxuGvf/1rDLX4O60hebwUxHJbTgjhMagSZcw+qpUIodNy8xgbbrhhDPkIz2jRmg8DOHjPfVdYYYW4zpn4nYP5nNRHEEf1aGo/nLA92DY33HBDXGa2FduGk1cI4uY0Pi9TIUllWFr2ykyse06gyVfHciIOYxWm8ILAkEre/Di0VEuvssoqsZqMfXGdddaJgQiBCuuCwIZ9nOrX9Fzcf6eddorbPaENKMd6Wb/chu3JMV62Wx7dafLbtXC+2W78f+M7A/NCeJvaiHJ75pXglzFeCW0233zz+DfmnduyXzGOMFg29gH2O6qemee33norbuf0/Ntss03pSQ2s83S8Ov09v98lc/p1qYaL1yUtqtm/eX888sgj43soLbzzCEGLfS6kojS1sEbnzp1jNXd6H+Q9jpMTeA9MJ/1wYgJtzNmfeT8aOHBgbN1LGIp0YkM6AYWTFHj9P/jgg/EyuC2v03wnKqkh4n9oMXP9+Y9o+lOd/sSLthgGJa5uvJDBGwNvEmniDSj9ZEryv0uSJGnGOGOfg02FFVIcPBk6dKgH+yXpTxygYqw22gwWw0FnDvYfdthhvm9KtQxtTDmYTBhDCMOBZ16rjA2ZKt0SbktYRdtDwlXCnCuvvDJWk1cUzHHAvHBsSdrn5is6ZyfCXFotMoZeCk1p2cu8En7OCAEkgSbhE8sMAi2Wl2CJZU3H2Diozm0IPtNtWS7e9wjrCPrylbvcn1bHhFsEePvss0948803s7+WHE+k4onno2KVE0+oaiVwI2RIrZQLEWQz/inHKZknQuJzzz03hhA1cTyQbcCYgunYZWVR0cy8p4oxtgXtfGlry2MR+hFcE6IWrgtuS+ta9jdux3pOISaVbmxT/p6wDdgPUyUo2F/YZmm/4fgq24ztmVe4XQvnO491wXOzLdM+wmuLeWS7Mo88Tx7zy+0JfnitpX0gjUHM8+dPSqJqj5MXeByKbHi9pWVAfr9L5vTrUg0XoSVBPu+dVL/zemFoHD475tF9pFjXEU4aIfBMGG+a++cx5vHuu+9epm08XUw4eYKKU95DCG4T3kf43JqvRqeilZMSUhtgXs/M40knnWSuogaNLgnFGJpKkiQ1YMOGDYtfmKjESDhwMWjQoHimqyQ1RBww5oATQUT+4DHfUTnoRTUBP+dEJyZJM49KPk5seO6552I1AZU5Q4YMia1iOb6Ux4Frxu1kjDlQ4XbJJZfEqp3agMCQELJbt25xLFBw4JvxlAmD8wFZTasoNCXkqiyWmYpVWlRSYUvAxkl/p59+eplqzLro7bffjusjVX9R9UVbzi233DJellQ3VSU05aQXOkAl/L9ijNP8SQC0i+d9n/fVhBNJGI+a9xE6oeSrVTlRiOfPn+hA4LrHHnvE8fUTxku98MILy1RpSw1NeaGpY5pKkiQ1YASjfBHji1dCQMDZrLT1yZ/JLUn1He9/HOxaeeWV4wGnfGDKeHuMY/fwww/HA1UGplLtR7DGeHCpmo4Q9aGHHoqVaIUIR2kpmqr8OKGM6p3yWrdVN56XcZGpmKPa8t133w133HFHabthrLTSSvFAfHlVmnUd78GEprRbBduTcS8LqyPrGrYt+1Zq4cn2I2Qur8WypPqpsEvJK6+8Et8X0rjAVHLfc889pe+BSfq/ROUo/yfyqOYvrAznpJpUzZ1QHV5eYCQ1dIamkiRJigEAYxjlD0JRZcWYURxglKT6Kh+U0sqsMCzlgBbV94SlFbXplFT7UK1DFQ7tC6mmoc3prbfeGv75z39OF4bSaYMqH8Y+JMTiYDWvfQ5i10RwykFz5pOQkDbBjCN69dVXlx7kZry6/fffP44rWR87sBEG3H777eHRRx+Ny8zYl1SrbrLJJmWqsOoa9iX2KfYtWtQSZnCyIi01bR8rNSx0LiHkTKgmPeaYY2IFKOM49+nTJ46rn9pfF+L/RGVahdM2Oz+esqSKGZpKkiQpomqKdm9UUyUvvvhiaNu2bWzjK0n1SWFVaeEJIikspZUZQYqkuol2sARStLClPeGGG24YKzc52FyISpwjjzwyvua5bZs2bWIVT7HbzgkEh3wWe/zxx8Prr79eOtYjB8A7deoUA+G6HCBWhCCA6v5tt902bosjjjgiVg0Xjkdb17AvsU+1atUqhqWMzcrYhIVVYJLqPzoF8N07VYZyYg9doPh8evjhh4drr702dn4qrBydGVSuSqocQ1NJkiSVosqCairb9Uqqb3j/GjFiRBz/j6qtYi14YVgq1S9UYfJ679evX7jzzjvD0KFDw3HHHVe0pS233XTTTcNVV11VetvddtutRtrfMubqoosuGpZYYokYjDJvVLuvssoq4ZBDDik96aO+atq0aRzLlO3AxDh9XFfXsS+xT7FvsVzsa1TP1sdqYUkV4z3t3HPPDTvuuGMcs7kQ1aGc8LPaaqtl15RYeOGFs98qh8/AhZ93JZXP0FSSJEnTSe168+Os0K6XqlMqHiSprqCtWYsWLeKBalqOcxCelo/FWvD+97//NSyV6ilCqfxUkarctrpQUbnNNtuEv/3tb6Fbt26xqpSD5xdddFH8nEa7WoLV2ogD/dttt10cIzZNVFbm21BWRm3YDtWhvi6XpKrhPbxly5axHe95550X3zcJSPncSgUqJ/pxkgxtvBPC1WbNmsXfCU8bN24cf09oAc7n2Tza+9JhIeF9hxbvNXFCkFQXzDV16tSitdlXXHFF9ltZjB9Q3VIvbs6g480jTbyg08/8hwo/YEiSJFUPQoWDDjpouva8HKw744wzHN9PUq1GJRbVpOUhLOW9zJBUUm2Wb6tYV46BFbaC9NidpIag2GfPJ598MrbirQhjN9OSnZ+8X6ZxSJ955plw8MEHhwkTJsTbEZjee++98WRmxkClewrt2xNafl922WWxg1RCp5WOHTuWdo0ihOUEHNqeSw1ZGie+kJWmkiRJKhdftvhSRgVW/osXZ71adSqpNho1alRsJ57a7+YxdjNjx/Xv3z9W01tVKqku4AB6muqK/DzXpfmWpJpASLrUUkuF5ZZbLiy77LJhySWXjCHqfffdFyZNmhRvw3vpxhtvHJZffvl4mduvscYa8fdkzJgx4YsvvsgulSBczQ+zw+O3bt06uySpkKGpJEmSZohQYfTo0bFNUMIXMsZgotVl/kuYJNUE2vASlHJCB+3Ex48fn/0lxPcuWpMRlBKYEpwSoEqSJEk14bfffguffPJJ+Pnnn7Nr/ofPrbfddlsc/zhVw9FSt3PnzqFRo0bxMic1t2nTJiywwALxMl577bXw1FNPZZdC+Prrr8MjjzySXSpBC+B11lknuySpkKGpJEmSKoUzUh9++GGrTiXVOrRC69mzZ5mgNOnSpUusmLeduCRJkmoLwlK+Wx933HFh4MCB4cEHHwz/+te/4nXHHHNMOP/888M333wTb0uVKWPz77jjjnH4Qswzzzyx7e6aa64ZL+P3338P11xzTTyZkM+/ffr0ie2BEz4P77zzznE8VEnFGZpKkiSpSqw6lVQbEJAOHjw4juWUb8PLCR5UknKA6L///W88Q9/AVJIkSbUJYz9PnDgx3HjjjTE43W+//cK+++4bjj322HDTTTeFzz77LN6OkHT99dcPRx55ZFh00UXjdclaa60Vdt111zD33HNn14Tw9ttvhxNPPDEceOCBMYz9z3/+E68nZOU7fKdOneJlScUZmkqSJKnKKqo65QzYYtVekjSreG/h5Aza8DIddNBB4fbbb8/+WtKGl3FKacHbvn377FpJkiSpdqI69Mcff4zhJhO///HHH7G6lJCUalKGnthoo42ye/wPgSonNR9yyCFxjFNw0iDtfRkTlRbAWHDBBcNOO+0UTj/99NIxUSUVZ2gqSZKkmZaqTvPhBG16adc7bNiw7BpJmjUEoxwwIijl5IxiJ2YQmNqGV5IkSXXB/PPPHzbbbLOwzTbbhBVXXDHMN9988Xp+8pmXitBzzz03XHXVVXEsfipFi1lhhRVC3759w3nnnRfb93IZBKoEqVtssUU4+eSTwyWXXBJat25d2t5XUnFzTZ06dVr2exlXXHFF9ltZlIdXt1QyzpddXsRp4uyK9JMpyf8uSZKkmsGYgvkWmaBF5hlnnBErUyWpsr799tt4Rv11110XL0+ePDn+zOP7IidscCCInxxMkiRJkmrKe++9F6c8hrFp1KhRdqksKkFpw8vE+KVUnRKOcnsqQhs3blym9W5FuO/nn38eJkyYEL788suYmSyyyCKhWbNmMUidd955s1tKwq+//pr9VpahqSRJkmabESNGxPEF8wEHn+kYo4WzXyWpIiksvfLKK+PvxVBRethhh4XOnTtn10iSJEmSVHnlhabWYkuSJGm2odpr5MiRZdr1Tp06NbbT5AzbMWPGZNdKUlkDBgyIrcioWC8MTKlW7927dxyvlPGUDUwlSZIkSbOboakkSZJmK8KNJ598Mo4tyJgpCWOdEpwOHjw4u0ZSQ0c4ynilVKj37NmzTFjavHnzMGjQoDjRsoxqda6TJEmSJKk62J5XkiRJ1YrqsV69esWK06RLly6hf//+YfHFF8+ukdRQjBo1KgwfPjw88MAD8WSKQgSjjIXcvXv37BpJkiRJkmYfxzSVJElSjaEtL5VkhCUJFalUo7Zr1y67RlJ9NH78+Dje8dNPPx3D0vyYx4UYr5T3Bb4LSpIkSZJUHRzTVJIkSTVmzTXXDM8//3wckzAhOKFdL2Eq1aiOdyrVHwSlp556ahyjlOmggw6KrbmLBaa8Pxx33HFxrFImA1NJkiRJUk2w0lSSJElzFJVmBCjFwhOqTw877LBw1llnZddIqksYn/Tmm2+Or/Py8D2PitLtt98+/nScUkmSJEnSnGR7XkmSJNUa3377bawwLS9YoWXvoEGDYgWapNqJcYoZk5TpzTffjC14y2u92759+7DFFlvEn0ySJEmSJNUUQ1NJkiTVOoxxmsY65CdhasJnwf79+4fu3btn10iqSfmxSQlKZ9RSmypSKsc7d+6cXSNJkiRJUs0zNJUkSVKtx9imvXr1ihVsCcHL0KFDw+KLL55dI2lO4USGyy+/PLbcJTSdEVpsc6IDYaltdyVJkiRJtZGhqSRJkuoEqtdo3UsVakIQQ7teAlRJs1dhm11+ViYgBa20W7duHVq1ahV/clmSJEmSpNrM0FSSJEl1BiHOOeecEy644ILsmhLHHXdc6Nu3b/ycKM1pVa26rAt4LeUruyvCbfNjkxqQSpIkSZLqovJC0//LfkqSJEm1BuEM4ejDDz8cq0wTAqu2bdvGSjhpdho8eHBYeeWVy5y0WTgtueSSMcyvL4EpKhOY0maXSu+ffvopviZ79+5tYCpJkiRJqnesNJUkSVKtRnUf7XqHDx+eXVOC4Oakk05yrFPNFILPESNGhKeffjr+rE9B6Mywza4kSZIkqaGwPa8kSZLqNCoBe/XqFUPUhCrUfv36hS5dumTXSOVjnFxa6w4bNmymQ1KqLs8444zQvXv37BpJkiRJklSX2J5XkiRJdRoh1ejRo8MOO+yQXRPC5MmTYxXq1ltvHcaMGZNdK/0P4eipp54aW+/S2pkWz+UFpoTvtKD973//W+40duxYA1NJkiRJkuohQ1NJkiTVGVSWMqbi0KFDy4x1SnvVFi1axHAsX4mqhuv2228PHTt2jGHpBRdcMF1QSlcbAnjGzn3++edjIMp+xfWSJEmSJKnhsT2vJEmS6iTC0YsuuigGYnm27G2YKtN6l32jc+fOYe+99w7t27fPrpUkSZIkSQ2JY5pKkiSpXqItb8+ePWO1aR6hWP/+/cOaa66ZXaP6hnD0uuuui1Wl5QWlIEDff//9y7R2liRJkiRJDZNjmkqSJKleIhR98skny23Z26tXrzj2qeqPGbXeBftC79694xik7BsGppIkSZIkqSKGppIkSaoXqCYcPXp0DMryLr/88hiuGZ7WbbTfZRs2adIkdO3aNQwfPjz7SwlC0h49esQAnfFJP/vsszheafPmzbNbSJIkSZIklc/2vJIkSap3ymvZy+dLgrWTTjqpTFWqaqfKtN+19a4kSZIkSaoK2/NKkiSpwUgte++9997QunXr7NoQpk6dauVpHTCj9ru23pUkSZIkSbOblaaSJEmq94YNGxbOOeec2OI1z8rTmkeQ/eKLL8bpzTffjNXBxcJstk/nzp3D3nvvHdq3b59dK0mSJEmSVDXlVZoamkqSJKnBaAjh6W+//RY+/fTTGDx+9dVX8YvA3HPPHRZffPHQrFmz0LRp0zDvvPNmt645AwYMCFdeeWVspVwR2+9KkiRJkqTZydBUkiRJylQUnp5xxhmx9Wtd9P7774fBgweHl156KUyYMCF89tlnsZJznnnmCcsss0xYY401wjbbbBODyJVWWqnGPkefddZZcf2Xh+C6e/fu4bDDDgvNmzfPrpUkSZIkSZp1hqaSJElSgfLC0759+9bJ4JSxQAkby/vwj4UWWihWbbLchKh8vp5Tvv322/i8jCub165duzj2bKtWreJPLkuSJEmSJFWH8o6bzLkjJJIkSVItwxiZI0eODPfee28M65KKqiBrMz70M80///xhscUWC0sssURsy8vl5McffwwPPPBAuOiii2L73jmBULpXr15h5ZVXLhOYEt7+9NNP4fnnnw/9+/ePLZINTCVJkiRJUk0wNJUkSVKDR3hKcEfbWqSfdc3CCy8c2rdvH04++eQwaNCgcNttt4WbbropHHPMMaFJkybZrUrGPX3ooYfChx9+mF0ze40fPz5Wvfbs2TMGpW3bto1hKZWmCYEpYTXdZSRJkiRJkmqa7XklSZKkemLy5Mnhjz/+CMstt1yZtrtUc5577rnhsssuK9OC5o477gh77bVXdmnGhg8fHoNQQtGZxRiljBtLG2FJkiRJkqQ5zfa8kiRJUj237LLLhqZNm5YJTLHggguGNddcM45nmjfvvPNmv1XOzAamzBetd5988skwduxYA1NJkiRJklTrGJpKkiRJ9dwvv/wSPv300zB16tTsmhCWWWaZsPzyy2eXKuewww7LfqsYHWNov9u3b9/Y9vizzz6LY5bSOliSJEmSJKk2MjSVJEmS6qnff/89TJo0Kdx9991xfNMUms4///xhjz32iOONVkXv3r3Df//73xlOtAN++OGH4+3btWuX3VuSJEmSJKn2ckxTSZIkqR756quvwlVXXRUmTpwYQ9MpU6aEUaNGhc8//zx+bqZFb4cOHeIYp7TslSRJkiTVjC+++CJ+X/vxxx/j5c033zw0atQo/p73+uuvz9RQKc2bNw9t2rTJLpVFDjNu3Lh4ou3PP/8c5ptvvji0ymqrrRYWXXTR7FZS/VTemKaGppIkSVI9Qli62267xS/Vhfjyu++++4YDDjggfnn2c7QkSZIkzVnTpk2LIenbb78dBgwYEO6///7w3Xffxb89+eSTRYc1OfTQQ8PAgQOzS5V38MEHh+uvvz67VOK3334LL7zwQhgyZEh45ZVXwkcffRTnhzxmpZVWCptssknYf//9w8YbbxzmmWee7F5S/VJeaGp7XkmSJKmB4EvBq6++GlvnUnlKK11JkiRJ0pwxefLk+H3slFNOCfvtt18cRiUFpnMC4ejgwYPDEUccEX+++eabpVWuDOfy7rvvxuuPOeaY8MADD4Rffvkl/k1qKAxNJUmSpHqEs4Np6bTzzjvHaauttgqNGzeOf5swYUL8gn7aaaeF448/Pl6WJEmSJFWv77//Ptx4443h8MMPj9Wf11xzTazwpOqzMviet/DCC1c4LbDAArFTZ8LvK6ywQnapxOOPPx7OPvvsGI7+8ccf8TYM4bLYYouF+eefP96G69944434vZGTbqWGxPa8kiRJUj3COKZ8nuaLLn766afw1ltvhTvvvDMMGzYs/PDDD/H6ueeeO45r2rt373hZkiRJklQ9Pvnkk3DYYYeFRx55JLbnLU957XmfeeaZ8P7772eXpkcXoeeffz7cdddd8TsgVl999diCd4MNNoiXqWjt3r17bAecrL322qFnz55h+eWXj/e/4YYbwldffRX/Ru5y9NFHh0svvTR+f5TqE9vzSpIkSQ0AY84sueSSYemll47TiiuuGDp16hQuuOCCsNFGG2W3Kjl7mC/ekiRJkqTqRajJdzACU8LIpZZaKiy33HLZX2eMbkJUqJY38Z2PalZa7GLRRRcNBx10UGjZsmW8zPNSZfriiy/Gy+C7Y48ePWKrXroUUVlKp6KE+zz77LNh4sSJ2TVS/WdoKkmSJNVzfClfdtllQ5MmTbJrSqQzkGe3jz/+OHauOeuss0qnmg5ox40bF/r37x/OP//88Nhjj4Wff/45+0vdw/q97rrrwnnnnRceffTRSrf0kiRJklRz5ptvvlj92blz53DRRReFPfbYI/vLrGMYln/9618xnEXr1q1D165dY8teMG7piBEjwpQpU+JlrLPOOmVCUlr8dujQIbtU4rPPPouteqWGwtBUkiRJqge++OKL8MEHH8T2vIX44vz666+HkSNHZteU4EtxHmc+M7YNY+0MHDhwpr8ccybyVVddFc4555zS6emnn87+OucRmPbq1SucfPLJ4YwzzgiHHHJIbFNVF73zzjuxrdff/va3cOaZZ4YjjzwyDB48uPSMckmSJEm1D5Wlxx9/fBg0aFD8vnXggQfGDkGzw6RJk8Jtt91WemIoFaS77rprbLmbfPvtt+HDDz8sDVVBa15Ors0j1F1kkUWySyG26n3vvfcqbCks1SeGppIkSVI9MHbs2Bik0VrpH//4R3jwwQfjmcb8ZAwa2i7xZTeh+jSNbZNQDUoLJ8a0IYw79thj47g2df0L8ksvvRSee+65eHY1wTCVmozvWhsxrgrhN2MdMeZQoVGjRsW/0XqLAx4fffRR3MZff/11dgtJkiRJtc1CCy0Utt5667DJJpvE1rmzC11n7rnnnniSbNK2bduwww47ZJdKEJpOmDAhu1SiadOmZQJSMG8M85Lw+J9++qknaarBMDSVJEmS6gHCwLfffjtWHRKe7rfffmHfffeNP6lIpMo0VaH+3//9X1h//fXjuDV5//znP8PLL78cfvnllxjeMX7NXXfdVadb2WKZZZaZ7mBA48aNs99qhzFjxoRLLrkkbq8999wztusqFppyNnp+Weaee+54UOMvf/lLdo0kSZKkhoKTKG+99dYYioJuQnvttVdYZZVV4uWEky5ptZs3//zzh3nnnTe7VIJwl+9PeQzrwvdDqSEwNJUkSZLqAVowMRGe8qX2P//5T+nEWcFUi1JdypnDHTt2DJdffnkcwyavMHjj8RZccMF4v7psww03DH/961/jl3/GEeLs7oMPPjj7a+3A2eEnnXRSDKnfeuut0oMehVgWKoAZn5bts/nmm8d2vbOrtZckSZKkuoMuNK+99lp2KYS11lor7LbbbvF7Tx4nxvLdcEa4X+EJp1JDYmgqSZIk1QMrrbRS2H///cM222wTf88HoJwt3KJFi7D77ruH888/P4432q5duxi65fH3Dh06xKCU+/N7t27dwgILLJDdom7ibOvjjjsutrF97LHHwk033RQ22mij7K91C2MhnXDCCeH+++8Pjz/+eLj++utj1bAkSZKkhuWLL76I33FSRyHQAnjllVfOLs0cxy9VQ2ZoKkmSJNUDVFHSlpcQbejQobFykXE7mfj9lltuCf37949jnq644opFq0dbt24dBgwYEG/PdNlll8WwtT5YYokl4hiuVGbSqqqwDVVdsthii4X11lsvbLHFFnFZaNErSZIkqeH473//G0+ipEtNwneerbbaKrs0c+hSVF7XG6khmOvPF0HR0wauuOKK7LeyaAVV3VKZOGe3M95Smjiwk37mD/LU9XZhkiRJUl1CC2DGzuFLOq2gxo4dG8fDWW211WJ1Ki2devbsGa9Pzj333HDaaadll/6HL+Q8xnPPPRfeeOON8PXXX8dAkzCQkHOzzTabLhj8/PPPw+mnnx4++OCD7JoQWw7znA899FB44IEH4lnXnTp1CoceemicDyps82P40J6Xlr3clnA4oaqWdre77rprme8ZP/74YwydH3744eyakvFF+/btG9ZYY40wefLkMHr06PDuu+/GdcPE9xrWy/LLLx9Dzm233TY0b968NLDNL8fEiRPDuHHj4vWgOrZly5bx/jjllFPC9ttvH0aNGhWOP/74eF1ywAEHhO7du8dlIfTOj0HL97fOnTtnl/7n0ksvjWPYJlQnn3XWWaFZs2bxMgdhJk2aFJ555pk4zi1jrvK4tHcmSKfFMRPrwO9jkiRJUtXx+fucc87JLpV48sknQ/v27bNL5fvyyy9jN53bbruttDKU7z98H2jatGm8nPfqq6+GnXfeOX4HSfh+dvbZZ8fMJeH7Bh2Ixo8fHy/zWZ9hRJjPunziqVSovHF6rTSVJEmSVGkEpi+88EI48sgjw1FHHRVuvPHG8NRTT4VHH300XHPNNeHwww8Pd955Z7lfQPIISAnv9tlnn3jA4L777ouPRRh77bXXhkMOOSQ+D8/H8yaMx0PQym3T9Pbbb8fnPfroo2OlbTrr+rfffgvfffddeOmll8rcfsKECfGxCCdHjhxZev3w4cPjshCS5nFwgdZX+cdgnggRcdFFF8Wxg3h+xotNt+WxBg0aFMPL/fbbLzz//PPx9sgvRz4wxQ8//BBefPHF0ucilAUhc7ouTemABtXGH374YZm/PfHEE/FveTx24bKwjrh/wjohhCZcZnlYL9yO+1144YWxFXSfPn1Kn1uSJEnSnMNJjQw9kgJTTv7khNP8Z/o8xilt0qRJdqnEJ598Mt04p3zfSN89wNAtnFhpYKqGwtBUkiRJUqVReUgAOGLEiOyasqhOvOOOO8qcwVwMlZWcsXzllVfG8BRUqC633HKxrVQ625nn4fmodqwIVZ5UjE6ZMiW7pnJWX331sOmmm2aXShBkshx5VKu+/vrr2aWSsJXxY9NBCf72/fffx985YEEFJhPLBMYZYhmouH3//ffjdbPbuuuuG9Zcc83sUgmqd7/66qvsUgnm9eOPP84uleBsdjr9UGFKWHviiSfGqt1UtUo4TMUs4+OCkJXAnACV3yVJkiTNOZzkmP/uw2d1xjMtL9xcaqmlYoecPIJXOvTkcR0tepNll102DuMiNRSGppIkSZIqhS/PN9xwQwzdUuUn4Sbtc7t06RK6desWv4hTpUmFZ0WoCr355ptLg0a+xFOl+Y9//CMOFcJZ0uB5eD4Cuooek3CQatOq4iAAoWkKN8Hj5FsLgzZV+epTxoUlNM23DebM7QMPPDC2AqY6k4nAN39GN1WzjDNLiMrYpLQPPuOMM+IBjjzmiza8/I2JQHRGCGtpmZvH2eP5cY5Yn1S7fvrpp9k1JfNNK2QQFjP/zz77bAxQQbBMJTDj5Z588smly0M1MWPf3n///WUqgSVJkiRVH75L5DvYgNB0rbXWyi5Nb/HFFw9t2rSJ3xmS1PUm4WRWOuXkMQTLOuusk12S6j9DU0mSJEmVQuDH2KN5jNN50003xYpRQkLG0Nliiy3KjItTiCpHgja+7IPb0taXcHCXXXaJY40y1mcaXxNUP1ZUoUlox3ih5513XnjkkUfCvffeG/bYY48ZtpGaZ555wo477hjH9EyoriSETZhPxgDKY4xSwsSEsJQK2379+oVjjjkmLgMT4wQRJqdQlsfmrHDaXhGa9ujRIwaSW221Vfx7QsUtgSt/Y6pMaAoCYALXhBCUdZfWNVWnHBxJ7ZMZo4jAloMhoJKY1sYpMF155ZXDxRdfHI444og4Xu0JJ5wQx05i3sGBFcZ5LaxmlSRJklQ9+D713nvvZZdKEGzSDac8fO/p2LFjmc40fEdgiBW+w/H9ieE3GFM1oRMN46BW9LhSfWNoKkmSJGmG+EJNoJavUOQsZca9pLqxUaNGsVp0yy23jGOd8nt5GF/0gw8+yC6VVFXutNNOcZydhBAv3z6KtlG0iioPbXLPPvvsGOptt912oXPnzjEMZQyeGeEAQ8uWLbNLJQiIU2UrrYQLn5tgmAMPCWN8ElimMPHLL7+MFauvvPJKrKbNh7dUsaaWxLNbYbthxk1lfTM/YPsxTwltdwls0/YiFE8teUEF6g477BDmn3/+eJltvvHGG5fenjGUaI2cHl+SJElS9XrzzTenGw5l7bXXzn4rH5WofE/Kd8vhOwtDc3AS6MCBA0vHOOW7Dt8DOnXqFC9LDYWhqSRJkqQZojXthAkTSisWwRfzwjE0QVVkvtoxj4pQQrZ8ZSJjYlJVSXiXJtr95qs7aQ1MdWZ5CFg5CzrfZreyCDQJQfM++uijOIGQ8bPPPou/g+Wm0jSPMPK2226LLXU5g5sQeJ999gkHH3xwGDJkSPjpp5+yW4a4HPlxgmYnwmuWJX82OJWlBL8g/M2PZ0rImloDU31aGA7Tpnf77bcvs22opM2vD7Yf4awkSZKk6sX3KYbfyJ+0yAmO+c455aHDzwEHHBAOOeSQ0pMg6TDDdxVO9EwnjXLiKd9n6P5D21+pITE0lSRJkjRDhKZTpkzJLpVYYoklYsumQnxpz1dh5vE4BIz5MTC5jmCS8XTSREvZb775JrtFCD/88EOYPHlydml6tOZlnJ6ZRQhKtWrCPBLaUnXJeEH5gxJU1uYPSowbNy62suIABOOxDh8+PLz88svh3XffjWEly0dF5pzAWePt27cPK6ywQnZNybimKQxlvlLrXbRt2zaOzwq2b36dg/WQ3y5MjDGbD31pAZzGppUkSZJUfTgBk8/2+ZNZGVKD4T0qg+8Jffv2jcOa0JknfW8gUCVI5QTM3r17h0suuSS0bt26wmFXpPrIPV6SJEnSDBG05b+YV4SKxXwomscYmoVfvKkOpWK1TZs25U5Ur1bU8ndGY5fOyCqrrBI222yz7FJJ9WRqI0xImFBBS5uq1EqYilkOKDCeKeuH0JKDFrS3Ovfcc8O1114bjjzyyDKth6sbVbeF7YapNqXV1qhRo7JrStY7laMJ24Xtk8c6L7Y98hPtjSvTBlmSJEnS/+y7775h2LBhZabCz/GFFlpoodj5JX+ff/zjH/Ek0srg8z4nvx500EHhuuuui91y0uPcddddYdCgQeHkk0+O32kKvxtIDYGhqSRJkqQZYizLwtCS6kIC0kJUJ6axcAoRrtFCNo/Ll156abjvvvsqnDioUF1SW1sOQoCQmKCRitc33ngjXgcOHjBuazqAQDUpgWmqvORM7WuuuSaGpaeddlo49NBDw0YbbTTLoW5VEIbmA2AQ/DJOK9smIezk7PGEdVAYfrKsxbZF4TSjgzuSJEmSyuJkx1122aXMVPhdqRCdfjbccMMy98l/j6ksOgM1bdo0dtHhMWjHS8cavu/Mye8uUm1jaCpJkiRphvgSTsunfJUoY+kQxOWrSqm85Azl/JiXeVRiUlW65JJLZteE2PqWcTb50t6sWbMyEyEkISCB7WKLLZbdY/ZLbW15zoSw9N///neZ1rOEkfl5Z76//vrr7FKIy7D55puXtiemrTCBZXkhcnkYV6iwHXJV0G44P64srY2HDh0aW+mCAyGMZcr8JlzHgZu88ePHx+VnOxRuG+7LQRt+L9amWZIkSZKkusTQVJIkSdIMpTOa89WmjNXZr1+/cO+994YPP/wwVl1eeeWVYciQIUUrUBNCRc5gTrgtLaXuv//++JgJgeOjjz4ajj322DB69Ojs2uqz1lprhRYtWmSXQhzP9JlnnskulVTb5tvZIj8+KAglGQOVVr2//fZbXKbUurcihaEj45DeeuutcZ0yturYsWOzv1QO7YY33XTT7FIIn3/+eXjiiSdK1y+BJ2MYFZ6Rzlnq+fFo33777XDGGWfEqts8wuKbb745VghLkiRJklQfGJpKkiRJqhQqMWnflEe1KWPq7LnnnmHvvfcOV1xxRQzmKhr/hsBu9913jyFkwuMcffTRsS3UX//619ClS5c4duhhhx0W7rnnnjJhanWh0pJ2tPlq2nzF7Prrrx9WX3317FIJqiwZEyiZMGFC6NGjR9hnn33CbrvtFk499dRYSVs4jmuhlVZaqcz6YHkHDhwY12m3bt3CK6+8kv2lcmjrxfZKY6lSLZpfFkLVfGvehEpawtQUnBJoP/jgg2G//fYLHTt2DPvvv3/Ydddd47KdeOKJVZ4vSZIkSZJqK0NTSZIkSZVCEEeI2aRJk+yakkpLqhjffPPN8M4774Rp06bF4DHfwrYQrXAJ37p27VpmDFGqNJ966qnYRvbOO++MFZtUNBZWc1YnqmlpRVuIFsHbbLNNmXa2oNUwIWMKRWlVTFUo43w+/PDDscJ0++23n+EYQ7TTLQykCTpZpx988EH45Zdfsmsrh3W83XbbhebNm2fXlMU2WnzxxbNL/8PtqSxt165ddk2Iy/Dee++F4cOHh1tuuSWGqCNHjgzffPNN3N6SJEmSJNUHhqaSJEmSKo3qRVrp7rLLLmH55ZcvrUikopHxMKk+pJ3ujMYfZXzUc889N5x99tlh4403jo+Vr7Tkd8bkpBqSoJZKzDmBCkzaBxdWylJR2qFDhxie5hEk9+7dO+y7775l1gfLTxB65plnhp133jlWsVaEMPb000+PlbYsd3qcBRdcMAaZFYXQ5aEFcps2bbJL/0NlLBWl5WGdX3bZZaFnz55hnXXWCcsss0zp/BAOs61XXHHFGPJSYSxJkiRJUn0w19SpU4ueGkxbrWI4AFLd/vOf/8SfjOvDl/I0ceAi/cwfxKio9ZckSZKk2e/rr78OL7/8cnjjjTfi2J+EfrSvXXvttWPlKeOcUomYUKVJGFnMF198EV5//fVYzcjjgpCQYK5ly5YxyMz77rvvwm233RYmT56cXRNC27ZtY5BbDNWqVZmf5557Lo7/ma9wJRClbXDh2KNJ4fpg3qnm5CfVov/617/i9WDZaN/buHHjeDmPalseZ8yYMfH2hLKsgw022CBWq44fPz4MHjw4u3UJgmymYqjWZVzYvNQeOT8+bXkYU5XxZBmzlvkhPGW+U3vfmQlzJUmSJEmqSQxFU4yhqSRJkiRJkiRJkqQGobzQ1Pa8kiRJkiRJkiRJkho0Q1NJkiRJkiRJkiRJDZqhqSRJkiRJkiRJkqQGzdBUkiRJkiRJkiRJUoNmaCpJkiRJkiRJkiSpQTM0lSRJkiRJkiRJktSgTReaTps2Lfz+++9x+vXXX8PUqVNLp3SZv3E7SZIkSZIkSZIkSarrYmhKAPrLL7+E//znP3H68ccfYzD63//+N94o4TK34+/ptlyWJEmSJEmSJEmSpLpqru+//37azz//XFo5Os8884T55psvTJkyJcw999xhhRVWiNfj448/Do0bNw6//fZbrDolWMVcc80VFlhggTDvvPPGy7OKMBZ/+ctfwv/93/+VTjxP+smU5H+XJEmSJEmSJEmSpGLIOIuZ6/PPP49p6fzzzx8WWmihGJRWFqHpTz/9VFptSmi64IILxt9nhaGpJEmSJEmSJEmSpNmt3ND0yy+/nLbooovGCtOZRXhK0PnHH3/EUHPhhReepSDT0FSSJEmqffgsjsJhPKQ5ge+b48ePD6NGjYr7IN8XW7VqFVZcccXsFiW+++678Mknn8Tphx9+iNfxHbV58+Zh+eWXjycLzyq+A/P4EydODF999VW8vPjii4flllsurLLKKrETUx7z9OKLL8bvunx/ZT7WW2+92datCd988014/fXX4/yA9bLuuuvGE6QTOkwx3M6ECRNiJynWDydOL7XUUmGllVaK8z8rxwYK8XyfffZZeOutt8L3338ft8NGG20UllxyyewWJevy3XffDWPGjImXuU3btm1jl6u6guWcNGlSXP+cWM46bdGiRVhttdXKnJhOly/W+6effhq3F/s0+2OTJk3i+ufYzOw8vsHjf/jhh3HdclCI52nTpk2Zk92ZJ+abeUKjRo3C+uuvHxZZZJF4WZIkSaqPyg1N//wQPW12fCjnSwJfBGndy8GUWfmAbWgqSZIk1S58Ds8zONWc9s4774Rzzz033H333XH/69ixYzjvvPNiMEg4NG7cuPDvf/87/POf/wwfffRRmdCU76cpRDzwwANjKEQ4V1U8DwHgvffeGx555JEyoeliiy0WQylCwd133z1svfXWpeEUAdnf/va3cNttt4WpU6eGNddcM1x11VVhiy22mC0hJY85YMCAcMkll8SQkhD0ggsuCF27di0NcPme/fzzz4ebb745LgPzzvrhtU1QtvLKK4f27duH/fbbLwa/sxLosj4+//zz8PTTT4cbb7wxvPTSSzE0XX311cOQIUPCBhtskN2y5LYPPfRQOP7442OYy7Y67LDDwqmnnhqD6LqAZe3bt29cVtbp2muvHa644oqw5ZZbxuMVX3zxRdw3//Wvf8V1n0JT9mP2EfabddZZJ+y5556hQ4cOcbln5TgH3cAIZ3kt3HrrreHtt9+O1+28885xv2vWrFl2y5LQ9Oqrrw7nn39+PKZDcH7mmWfG/YBjMpIkSVJ9VF5oOvdZf8p+nyV8oOcDNaEpXyT58D+zX7JSu1++PPK45U1J/ndJkiRJs1dhYIqzzz47HliX5gS+I15//fXhzjvvjJWShEonnnhiaej45Zdfxn1y4MCBsWqOkIr7cHIvE78TbFFxN3r06BgSrrXWWlX6Lsl3XCoi+/TpE4PbsWPHxnlJJxDwHMwHj08wRqUk1YN8L+a7MhWFb775Zgw1Cad4bqr+ZjUYZPneeOONGHpRVcj62G677cLRRx9dWtHJvN11113xNk899VSYPHly6UEC7s9yEOQxf/yNqtymTZvGv1cFASiPQ1h67bXXhkGDBsV5I9QFYS6Bcv6xU2hLyE0wzrwwDwSPrL+qDCFUEzgGQoB+zTXXhClTpsTt/Ne//jXsu+++cbsTVt9www3h4osvDi+88ELc/lSjst7T/b/++uvwwQcfxCpqQlT2zXyFcGWxndkvH3744dC/f/9w++23xxMI2C5YY4014skGBPwJ+yf7Cfs2Jx4QbhP8pmpfj7dIkiSpPiLHLGb6ox+ziA/ffKnhg3/6YC5JkiRJUlURSDLR2pYAjlCKkGf77bePVXOpEo5qz1deeSUGUoRRBFfLLLNMDH3yw8cQFFL1eOGFF4b33nuvNLiqDEI9gi8CqW+//TZex2NTPUnIxXPxXZjnIHxMASV4/k033TQccMABMRTj+/J9990Xqy75fVYQMBIWjxw5Mq4rgkaqaVMwyXWEdVRCEsrxfASVzC8Vr7SQ5Xs864Iwl0C4X79+8XGrgsD40ksvDfvss084+OCD4/YihCvvYEQeYSr3IURmPmjDTKUm26g2Y14J4qnyZZ7ZzlQxd+vWrbSSmQCS9c7fOUZC5S8hMeufwDydlMLfCL0vu+yy8OSTT1Zp3wThKNW6rH8Cc/YvThRIoX5F2AcOPfTQuM9w++eeey4uU2r1LEmSJDUUsz005UtC+nLA2ZOSJEmS6q5iVaZJRX+TZgcq8JgefPDB0jEXCZsKq+USAqlNNtkkHHHEEYGmSuecc07o0aNHaNmyZXaLkqCLalBC1sqe6Mt9qB6lvW0KoRh/skuXLmHw4MFh6NCh4ZRTTomVfOD2BH6PPfZYaWhIwEv7W4JKvjcTUFKhSJg2s5iXl19+OTzxxBPxOQltN99881glmPC9nMpPnicFcVSSnnHGGbF1K4ErYW4aYofQ95lnnoktXdPtK4MgmbCPgJttVhWsD4I7KmSpsGS5qBjm8SoTutYUKjsfffTRWE0LAnHa67J+CxH2Uz170EEHhdNPPz3um4Sc7dq1K+3SxfqmbTLrP1XnVhZjqvI6YV6qeiyG6mTCXuaFbcE+MGLEiLgNJEmSpIak3KMc47+aGu55/ctw1oPjw17XjQ773zgmnPPPCeHWlz8Pk7779c8P89kNi5hvvvnixAd+vkRIkiRJklRVVEgyPfDAA6Xh2WabbRbDR8KdhN8JRlMQSJUnYSnVc4x7ysS4kQmhEKEmrWArI4VZtFoFz0flKC2CCZoYK5VKSVqyJoReVP/R7hTch1B1l112iYErj0l1KMtW2fkoRFBJYMtYoKBic7fddovBcsJjM75lCog5yZn5POSQQ2JlJ+uT8I4xNRMqDKkSZT1VFkFneg7C2+WXX77M2JkzQmjLuknBM/Nwzz33xHU4OxBSM6Yo+xO/VyUQLg/zxjwyPimoON5xxx1jpXMe+94JJ5wQK4up4qUSlH3ztNNOi9W5BJYJ65DHrWrwnF//BM+M4bvsssvGy5VBlWnnzp3jmKagzS9Vx1QQS5IkSQ3FdKHpr79PC/e+/mU45vYPw6nDxoZ/PP1ZePCtL8M9r08J/Z/+NJz5zwnhyKEfhEdGfx1+/LX8Mz7Tl4SqfMmSJEmSVHtUppLUalNVFwKgZ599Nk6pVSwVeVRS0no3j6rTo446KgZRBHX5cTC5D4EqIV6STvCtShUjj5mCWn6usMIKZcYjpcq1MKTi9ZHuAyr6qIRNt2MeqKakjerMoJ0rlYWpxW+LFi3isuaXn+fPv06phmTeU3UjGNMyX7mb7pOf98qgmpZKWsI3Km9po1wVK6+8cmjdunU8CRtUuxIspzBwVlB9ef/994devXqFq6++OlYOz8pJ3uw7zBvbgP2JdU6FL8uQX2+s77333jscc8wxoVWrVmXWO+uY27PO8jiOMjPLTBhPEM6Yqr179y4ThM8I88x9V1111fg7y0dldVo+SZIkqSEoc4SDwPSiRyeGs/85Pjw25pvwwRc/hyk//Bav//m3/4Yvvv8tjJ3ycxj+7tfhhHs+Cre9/EX45qfiH+T5MsiXBs529AO2JEmSJKkqCEpTaMq4kCAQ3WijjUrHMk2ojtt4441j+FcMIVTh2KGEnHxvrQxCJMKtJZZYIl7mOy6hG9V4fOcF80vIlxCoUkGY2t6Cx6Eacb311ouXeZx33nmntL1rVbBMtMJlHsDybLjhhqVjmSZUljLvKayjypK2q1Sp8vyEY1TdpvbHzCPtZQlf8wHfjLANqPS944474nim++2333Th9owQMG611ValAS7bndbCqcJ3VrCsPB5j2tIal2CxT58+M115yvpj7M9Uibn00kvHQDy/vcE+QzUyQTnrthDhaGF4y/5dlXUP9qtrr702rv+rrroqtrBOQydVFhWxLAP7EqhQZn3ZQUySJEkNRZnQ9IE3vwx3vjolvDPpp/DL7yVf/IqZ+tt/w7t/3uayJz8Joz7+Ifz+R/EvF7SEQVXO3pUkSZJU86pSQVqV20qVxRicaUoITamSrArCUkJJ2s0mBFIEg4Xha3kIuxiPkjE3uS8BGwEp4RTjlhJeXnfddWHYsGGltyfcpVVr4euDEI3HSmjDOmrUqOxS5RHavfvuu6UViTwulab5KlMQgNHOmOfkb4SttKkdMGBADKQZk5PleP/99+PtCdp22mmn+FjFQr7yEBayzFQ3FgaHlcX80Z6XNsNg2dh2s6NFLNWrtKwlkOVxCavZZjNbeTplypS4/pNGjRqF1VdfPbtUOQTurPc333wzu+Z/rY3zVcyVQWjLdqZStLL7dSHux/ZLx3JoMU3AXtXxVSVJkqS6qvTbG2OY3vTC5+GDKT+H/1byDMv3P/853Pj85DDh6+IfoNNZu4amkiRJUt3HAf5UVSdVJ4LODz74ILatTa1rCSupmEyBWmUQjj311FPhmmuuiSEjCDFpAUub3xQOVQaVggRs3bt3j1WVVC3efvvtsWJxn332ieOoMrYo87fXXnuFvn37Fm2PSjUl7VhTsMjjEL5VdVxTxvwk6EsIA9N4oHkEn7SNpbpym222icEY47OeeeaZoWvXrnF5GAeWdc76PfXUU2Mr2ZkNPmcF88q6Te1qCae/+OKL0mraWUGoTAvn66+/Phx00EFxWdk/ZqbylPdB1mEab5V9iqCzKoE+j8F2J7BNgTXLz3x16NAh7idzGsdwCF1ThTD7BFXIjmsqSZKkhqI0NH1h7H/CmM8rrjAt9Md/p4WH3/k6fPrtr6HY14l0hms681WSJElS7TczlaNWm2p2orLts88+KxPUEyJRaVrZfY2KypdffjlcdNFF8WdCC99ddtklrLTSStk1lUOgxfMTrhFCMh8Ea4SXtDElYEqh16677horO8trsUpVYr6V8DfffBODusriebkPgSJ4Xh6TasNimI8tttgijq3Jbbg980tLXiomWccEyBtssEFcN7RprSkLLbRQmbFhCZPTmLazguMTBLJsm7PPPjtccsklsYXwaqutFtdnVSpPWV+TJk0q/TthI/tGZSs8uf/o0aPDFVdcESt92VfB/almpq1zTWFc1Pz6J9Q3NJUkSVJDUfpt881Pfih3fNKKfPPjb+GjKT+Hn36dvpo0fZlNX3IlSZIk1U35z/R+vld1I4wqDGoIlAi9ZoT9k+pUWs727NkzPP7446XtRQkqjz322FhpWF6gWZ6ffvoptuI999xzwzPPPBM7KvGdlwpPHpfgjPCNVrt///vfw4033lhu2ETVYxq3E1TBVmXcTp6HsPPnn3+OlwlBWTdpLMq8dNv+/fvHdUJQynW0q2W+qShlOVi+f/7zn+GUU04JTzzxRI2d/MwyEAAnhKYpHE5YV1RAEnQWmz755JNyO16x3QmFCU8vu+yyWGXLNt1ss81icPzKK6/EylMCVcZoZXsWrgsem3kieAaBLEEj67QirHe29V133RX3zZtuuil8//338W+0Re7SpUs4/vjjyw2/5wTmI7/+CU05MUCSJElqCEpD04+mTA0//FL1NrpUmI778s/7TjU0lSRJkuq69Bl+ZszKfaXZhZapV155ZawkZNzRpGnTprEVLYFp48aNs2srh7CLatWLL744jBgxIoZ2hHu0+KUysXfv3qFjx46xNS9B2pgxY2IgxxinxcI7qvkIp5KqhqZVQeh49913l1ZPMj+0XyWgO/nkk2PLWsYiJUzktsOHD4/LyTKw3HMa65VQOSHMJfTNo6XuIYccEtsiF5sIhyvT7pjnWm+99WKAyfY66aSTQsuWLeNys+/QynfIkCGlweasIkQfOHBgrHRlHNwUujJ+6R577BHbIlMBTQheU6joLlz/jLsrSZIkNQSlRzXm/vO3mf1Y/n9/3rHYh/oUlnrwRJIkSaq7ip0EWd6JkX72V02hGpAqwaOPPjoGYFSbsp8SjG288cZxXFPG8aQis6qhFIHmtddeGytMeR6qSmnTSzvX008/PZx44onhhhtuCH/7299iIEroxjiVAwYMiGOzFqIyMQ1nAx6zvMrIWcF8vP7663HeU7tjwmPGLWV9ML9UWTLv22+/fQxOaRXLOLA333xzlVoGzy68h7B+E9ZLal+bpEpTWtwWmyqqNC3EOqESmXCwvHa8s4rnYH6pXKWKlUCabc76Ztzb1C64VatWNf4eWmz9p3BXkiRJqu9KP42v3GiBsPD8//vSVhUrLV38vulAigdOJEmSpNrPz+2qywgpL7/88lgJmtrx0nqWCj7a5e6www7x8swYP358ePPNN0vDI4LRnXfeOY5fmlBlSrVpfqzUDz/8MM5XYcUmj5MPomjrWtV2wZVB4PXqq6/GMVfBa3yttdYKO+64Yxw7NF236qqrxutYLhDoUVlbE21Zmed8eEmAR/A9u/E8tCp+4IEHQt++fWPYfumll8YKU56TcUV79OgR2/TO7H6TUGFKcH3nnXeWVq3SbppxZglR999//7j/1GSFaVJs/dO2WJIkSWoISo+KrN54wbDoAlUPTRdbYJ6wwhLzh7/MO/0BFj5sI3+WoiRJkqS6I50IWUx5fzN81awiPCr8HknwSJhXDBWRtOS9//77S6sSCTRpm0vVafv27Wc43mRFCL3yLUoJvBiTNF8tyjxzXQojQfXipEmTpquUZH7zLV8LxzitDJ47H7IRwhaGs7xGqbrMh2AEo/l5BI9FaJeCWx6HZS5vTNbqxDrLh7W0iy0c45N2wrTOveOOO4pOtLnNtz9O2H+ouH3yySdDnz59QteuXcOBBx4Y9x3GQuW5CMPZZ4YOHRqrcFu3bl30mAbXpfXP+uL4R+H6B8tz2223xfFLv/nmm3gd6/rII48MVPvyfFXd9tWJtsb5fZ19hfmVJEmSGoLSoxnbrLl4WKvxgmG+eap2gKPzukuFlZb6S2zRWyh9oc1/kZQkSZJU+xh0qjYh4CwMkqge/eKLL7JL/0MwOGrUqPDII4/EgAqEX4xdevDBB8+WCj4q7fLVdoxBOm7cuDJhKKEZrXipXkx4XRE6FX4nJjD94Ycfsksl81uVakoel6A1hZysA9ZNWv6E5c4/P7ej6pTWxXk///xzrKTNjwPK8jJfcxoBb74tMAE1Y37mLb/88mHXXXcNe+21V9EpjdGax+M+/fTTsUXzscceGwPLZ599Nm6LZZddNoaXtMllPFcqP1dZZZVyj2Wk9Z/CVLY967SwjS0h6tixY2M1K/sMmK9OnTrF0JQK39r23su+ULj+iwXQkiRJUn1U+um8yeLzhUM2Wy4GoJW11nILhn03aBya/nnfYtLZrIamkiRJUu1V3kH78ipJ88q7TW0LAlS3ENbR5pZQKgVTBHq0u00djRICnn/9619hwoQJ2TUlwRQB5hVXXBFOO+20otNDDz1UGjISblGlStC6zz77hC5duoRBgwaVVoOuttpqoWXLlqXfbQmWqE4cOHBgeOutt+J4lbRePe+880pb4YJq1xYtWpSpVOS5mNfJkyfHy7xWmjVrFpZZZpl4ubKovuR+CVWhVFHm8bzt2rULjRs3zq4Jsf0s7YofffTROLYmY55effXVsRIyBbncb7311othIgiCqdpl3TAdddRRcZmrA+HiRx99lF0qqcIlXJxVVE8OHjw4bjPGPcXaa68djjvuuLitGdeV7c9zzSjAZv2suOKKpRW7nDDOPOdDZxCq//vf/47rOFWhsm+yraiUZTzcYvsm85mqUsFjM/5sWv8nnHBCmXU0uzCP7JecEABCd/ZLllWSJM15nBTHZ7b77rsvTpXtAsJnErpoPPbYY/F+Dz74YHjxxRfDlClTslvMGGPIv/HGG2H48OHxMfjs/Nprr8Xrpfqs9EjG//35YXibNZcIR2zRJKy69ALxckXWaLxgOGHbFcKGzRcpWp3Klwa+zPIFcFbP6pUkSZIkNRyEk82bN49hXwr8+H5Jq9nCg0WEpikESwg777rrrnDVVVcVnQgJn3vuudKxTwmLCLdo7cr97rnnnhiypZC0UaNGYZdddglNmzaNl7k9lZm0b6W9K9PJJ58cKxfTiQRU53Xo0CEGrnkEtYyRmk4yJngjXK1q+2DCRMYnTVgPVDXm8V28TZs2Yfvtty+tvCTw5eAXlY7MN9W4jOVJG+EU7LGcO+20U2mFJyHvvffeG9cNEyFgdXzP5/k5OJgCcJ6Ddd+kSZN4eVbw2GwbKmgJwBmvlOU+9dRTw7bbbhvXZ2WXidsxT+yjSPOdrzIGlafvvvtuXOcJv9MeuNh+maYHH3ywNLAHJwCwT6b1z0HQ6jgxheM4EydOLD0YSjjMvjmrY7pKkqTK43MFJ7IRcp500knxhCnG6Gfi5LeK8L+cz6hnnXVW6N69ezwRkPvRiaNbt27xZLF//vOfZT5nFOLzC905OEnrgAMOiPdNj0E3Dq5/5plnSruMSvVNmU/Zi/xl7tB1w2XCVV1WDbu2WipeLrTAvP8Xum6wTLh871XC7q0bxTFNi0ln7M7KuDGSJEmSqtesVJkmVpuqOqy++uphzTXXjFMKs6iMZErhHvjuma/uBPsk13PAqbyJKsD0OIREPG4Kt6jipNIyVRwSnnKg6JRTTonzQ/DGgSKq8kaOHBkPahHocpCJ2xKoEUoeffTR0wVOhJPPP/98dimE5ZZbLmy88cbZpcoj5GMeaZ8KxgFlPvLjl4JqUdrRcpCL+eJ1yXJSqfjSSy/F1sYE0awLHmuDDTaIFZDbbbddDFq5ngrfFAiyfOuss061VB+yTlmG1IaZ5998882rXIVbDMcmqLql/e6tt94aq4JZRto3p3C8KthurP/0PkeV76uvvlpm30whZL6NM38nrC+2T6aJv6fH4ef7779f2lKZIJNxVlOAPztRlULwn47nsO+y/muiTbMkSQ0Rny0ffvjh+Jlzv/32i+Oi59vmz8iwYcPiZz5OEKQqNHWu4LMInSTojNKzZ8/YZSOdPJjHZwE6XhxxxBHxZ374Bm7PyWBcz/jxDD9Q+LlTqg+mO4rRaOF5w1arLxHO323lcP8RLcOArquHY7dqGnp3aBau++vq4b4eLcPZOzcP7VdfPCy+4Dx/fnnN7pjDi5AXDF9s8+O+SJIkSZJUGUsuuWRYd91145TCS8I9qhzzlXsEpPlQambwuISOCeNZMuUrD6m63HfffWPY1rVr11itSOCWQrNFF100tnZlvMo+ffrEg0mpEjFJARgBLXh8QlgC4qoiPKO97AorrBAvE9hSfUB4m8dzsCwcfKOqcptttonzSRDG3wgMCYmpSGW5zj///LDnnnuWrnO+2xOYpgNrhLVsk+r4rk9g+PLLL8efYJ0STKY2uLOC7cfy0YKX9ZYqb2cWlcStWrUqHXuXA5rsm2nsUrC98+H8zGBfz69/Km8JravjBHWehxA9vZ7Yt9jPZ3VdSZKkilH5eeONN4bDDz88dgFh7HVOcCscL708fNZgyIiLLrooBp0pzOTzHJ/d0ue61Lnl8ssvD0888cR0J78+/vjjcYx3wtHURZTPYXzeSZ/9uJ62vQwpwAljUn0z158vjHI/vfOHH3/5I3z38+9h7v+bKyw8/9xhwfn+r8LWvbxAOYOBFw8vKL7IVVVqBcNZrrww08QXuvSTKcn/LkmSJKly+GxdTHmVozMyux9PojUYevXqFSs6seWWW4bLLrssVtuBsIrqxKqOr0RQSXtbwqcRI0bElmVUgXJAiINVjIdaXgUiQRYtdqkGoI0v+zgBHxWRjMXKgaVi31O5H23WOChGNR9BHgetaLs2MyEk4SJjjXLGP49HkHfJJZfECoNUgZrH93UCYg6WURnJffjOznwQkFG9mA6qJVQ4clCMigQQmF533XWxIrUiVFlywC0FxGD+NtpooxiI/397dwIu53j/f/xOfmm1P/+Lpmn9SNVWElstKarWBEWIii2IWkqCKGlSscUeSrlEEJJq0EUaEkEliC2K2rdaY699jSC1FRF/79vc4zlPZs6WOefMOfN+XddcmZkz88yzDfM8n+f7vfOYN1ok77///rHNMOt+u+22i5USlWjP2xKo2KCimPHCOAdCK9tx48bFYJr550QnVcWpcraxqA4mLCbYJshk/6ctL/sU651xWQl+68O+RoibKoTBeiQcL1U5yvZiuxL4E/yy/9DCj6Cd7SZJkloOv834DXT99dfXe7EVLf579+5dePQ18hh+r/EbIQWtDHFBxSidNu677774myp1ruC4Lf3OSt0r+E1NS1/G+U/4vUFl6tJLLx1/0zAGfLrQkN8ldFVhuIPmdO2Q2lq5C2/rDU2bgy8XH8aViM1t4WJoKkmSJLU8fluXsjAhZ6lpGpqqudJJGVqqEgayL1EVSVBIy9ly+3BTMM1JkybFCkSCI04wcYU9J64qiRNgVPExjiiVAKD1KWEkYVtzMO8zZsyIY0tRwcr6YOxV1hfVpZXAeJqccOMkHdNnTKszzzyz4u1hOZdw2mmnxRNvnOwjgGY8rsGDB1ftiTiqPwkaR40aFcNzzmEQolLVWyoYbg6qhwcNGhQrcDnPwthkrCMqTiuFfZNxZEeMGBHb+vG4Z8+e8URqnz59POciSVILo50/v3m4EIv/7/I7ggv7uKAvq1xoyoWGDCUxe/bs+Dh/8RN5y3HHHRfGjx9fDFW54I+LshiugP/3M379wQcfXGdIAC5U5LcNuFiP38tTp06Nj9GrV684DS4alNqbcqFp5/quXGgKppMCUw6kHPNCkiRJql7lwqaWCDgrEWypNnHCiBtVoFSWsi9RKXnppZfGcTYrcTxLtSVVowSmYKzKhqoom4OTWBMnTgyzZs2K883JJSpa8y18m4L1sdFGG8W2s5wc4/vLmJSMMZWWZ2FRJcmJPHDyjvFXKxUIJlRpUmXKSThO5FF1279//9CvX7+qrlxgPrfffvuw1VZbxROLtMJj3d91110V2TfZnpy4pCoYVAFvsMEGC4yTu7CoSuVEKRXXfCaVx1Qrr7feegamkiS1En5n0QmF30C02eVCtcZi/NIUmIKx5xluIXWL4LcDv1myF70RpD7++OPxPuOW8jsgOw2GA+DiqYRp8Zsni98otOqVOpLOlG4v7MEU72c6KTC1dYskSZJUm1oidFXtIrDhxrifBKe0LSWMovpu+vTpxbEvFxatabk6f8CAAbGSL40TWinMMy3Nrrvuunj8TPhFRegWW2yx0BcVUCXASTVarxHcUfFItWAlQmXeTxhLu9m0fjbccMP4XCURhF9++eXh5ZdfjtubKke2A9u7mjGvtKtj30yVvQTwLAvLVAlckL7lllsW1z/budLjmdJCmX2GC+HZh6iA5oRtJcaSlSRJDWOc/OHDh8cOJAzjQGeSplyk9tRTTxXufYXOKQxDkfCbZdVVV12gUwXjpoLW/Px2zB7L0Zo3/1uMUDd78RZdYfjsSlwsJlWLzlxFQJk3P+hTaXZj8XquPuD9TIcvFYEpX0JJkiRJ1alcSNOSgefCBkOqbbQlpfJt6NCh8ap3qjTvuOOOilzZzjHs3nvvHSZPnhwrWBlztJKtT0G1IIEpy7H66qvHAIxlqUQoyPE3J8VoCcvV/wTMVA7wee+//37hVc3DtBlbk1ZurB/GTqUKt5LH/Fx8TWUDJ+0IHgnsWBbCWQK8akclLFUY7DdU4a600kpxTFb2z3ItvxqL/24yTcYPY/3TCpgxZSu5/tlXbrjhhngBAvtO375947JwUtRzO5IktQ4uVNpss81iRwkuiGsqfntkcVFXfpx6hrjIdwdN3UQITWnVn0VVar67BfPGdBLyIcZPZ8gCqaPoNGfOnC+4IiBdDcAVixw0vvPOu+HDTouGtVZcKj6P5194MfzfEt+P7YsISdMBAD/kuRqiUi15HdNUkiRJajn8ps6rdGDaGp+h2sIxKyd0uGiX+wRqjHvZtWvXwiuqFyeS0gkljl854dS9e/eS35PmYtqsG47X02cQylZ78Mh/F7gYO1Vmck6CFsntqYMV+yOhI+ufk4dsV4J3zpNUchu3BOb3jTfeiOdh2G84r8P6p/WwJElqO4ztzrjpWaXGNCXbYUiDe+65p/BMiENATJgwofDoa3TymDJlSuFRCJtuumkcIoGhBbhwKuUyYAxU5iGLalQuZLz77rsLz4Q4zinjrS+++OKFZ6T2odwFjp25ioHWQ/wwZvwN2rFwMDfw9Gmh1zE3hs67/bV42/P3U+IXg17VvI7X836uXKhUYCpJkiSp5bTlCfxqDw9U3Qh0CEhpLUa7MFq4tofAFFwQTBUl8838cwxd6e8Dn0EFbvYz2kOlJuuBFnLMNzcqNdvbkD/sm1RiUJ3JMlD5SxVGe/hvHtXPnBNK+w1j7BqYSpLUfmSL2xpSblx0cp5sYFoOF7eVm4bUUcRf8PzA5wc9P/BXXHHFeHD1xPxlv/z1XHeckic+WSpeKcnfOZDh9Vw9yfslSZIktU8tUQFqVakkSZIkVY9KjD1aiWlI1WyByx65EpWrOj/65vdC+H//F0LXZYu3d7/1wxiu8nfG7ZAkSZLUflRD1ZPVppIkSZLU+t59993CveZhOAiGy5A6Ms9YSJIkSTWsJStCrTaVJEmSpJZDZ9D80ImMWZ43b968OP5pFuOYgyI5hkvI+vzzzxc4nmPs/DQOPVIHU4duVEdiaCpJkiTVgGqq8LTaVJIkSZIW3qKLLhqD06yXXnppgXFO33rrrfDBBx8UHn2FsczBOKXdu3eP95NXXnllgXFOqTJ94403Co9CDEuXWWaZOEa61FF4tkKSJEmqYQSYLXmTWhItwk499dSw6667Fm9HH310nSvgJUmSpI5stdVWK9z7CgHp008/XXj01Tikjz76aJg9e3bhmRCHX0zvI3Tt2bNnvJ88+eSTcTpZPMfv72TJJZcMa621VuGR1DF0+nInLzlyb7ff/jN8+HmXwqOvLLHIp+Gl0zctPGo56QqGb33rW3VOuFDunf7llmTvS5IkSaqrWsNL2/dWzjvvvBPuu+++OleDc5zEiZCVVlopdOlS99gOr776arj//vvrXIW+xBJLhHXXXbfeFlucdHn22WfDrFmzFriCvbG6du0afvazn8Ur4xcGV8sTlM6YMaPwTAjrrbdemDx5clh22WULz7Q99vUXXnghnqxinbE9VlhhhfDaa6/VueKf51n/P/jBD0oe5z7//PPhoYceiu3VwMmulVdeOfTo0aPkNlZdrDdOIHLCj5Zz7Oec6KOyojnnFTiR+MADDxS3Ifs122/xxRePjyVJkprrhBNOCKNGjSo8+srNN98cevfuXXj0tSlTpoQ99tgj/r4Bv3FGjBgRDjvssPh7m2OFo446KvzpT38q/o7kGIH3rbnmmvG5MWPGxM/8+OOP49/5bXneeeeFwYMHx8dMY9CgQeHvf/97fIytt946ToP2vlJ7U+5YtmxoOnDsHeGKZ+ueXNlz1RAmHPCzwqOWY2gqSZIkVY6hacdHAHrSSSeFCy+8sHiyhO2+ww47hNNPPz0sv/zy8bmE1lpnnnlmOO2004pjHnFy5cgjjwxDhw4Niy22WHyuFE6qjBs3Lp7E4eRJc6yzzjox2MzPV1O1dmjKPstnstwEb48//njo27dvWHXVLw+W6/Hvf/87jBw5Mlx11VXx4HyjjTYKRxxxRLj44ovDZZddVvwusA04oTVs2LAFAmWOk0855ZR4QittM8LVs846K/ziF7+wLVojsO/OnDkzrt+nnnoqnuDbZ599YnVyfhyvhnDxAN833kvVBuclBg4cGL9vaXwwSZKk5mpKaPrcc8/F3zR33nln/I0Cfo8ceOCB8Xf3rbfeGiZMmBDefffd+Ddyl+HDh8ffnSnw5HftXnvtFf71r3/Fx1hjjTXiNLiw8qabbgqTJk2qk92MHj06DBkyJD6W2ptyoWnZsycX7P/TsPvKX4TFuswL3/nGZ/H+2fusW/irJEmSJKla0BqLgDQb1hDEUX3KyZMsTqQQGF1//fXF8I3Ah+CP8I0xjVQalZ4ExoRuhxxySBg7dmwMrOvD1frXXHNNPNH0ySefhO9+97thp512Cn369ImBK48T2p1xUis7VhTYZgSvt99+e51tRlUjIbGBaeNQMbH++uvH/ZxQ+sMPPwzTp08Pt9xyS3G9NhYnHflupQsHOOFIGM5JRUmSpNbEuKJUhH7/+98vPBPC66+/Hoex2H333cPZZ59dDExBx5d99923ToXoKqusEvr37x87mSSPPfZYrFj91a9+FS8WS4Epv6moMt12223jY6kjKRua/u8iXcKfhmwQ3hq9cXjjjE3ifZ6TJEmS1L5UY0WnVaaVxckNAhsq3bJVoq+88kqYOnVqnTE+586dGy666KJ4EiQhbN1vv/1iO9/GdPIhpCN04kRL9pYP76h2/fa3v73A66iorNYK6PrQipUK3WnTpsUr+lmX9e3LVP3eddddcX0TrnGC6ec//3nYcccd43rhPtUCab0xLa7uv+GGG4oVwyBMJeTObjOqTAcMGBD/VePROpcqCgJn9vUXX3wxtp6juiJVZjSEbcO+QNjKffZlWtuxLbMnGiVJkloDvyW5KI+L+ghO0+9sfkMSdHLhHqgO3WCDDWIQ+qMf/Sg+l/CevffeO7bgZYxT8Nv0o48+Cu+//36d7jT9+vULxx57bFh66aXjc1JH0v6OUiVJkiQ1GQe81XRT5XECY7vttqvTKpZ1TQjHOJiEO4RCjKtJ2JPGK+IEySabbBK23HLLRgU+KSDihAonZtLtoIMOis9nx9b8zne+UzyBk73tsssu9bYA7iho5Xv11VfHMWDBmJdUl6ZqxO9973thm222KZ6YAlUAd9xxR53Wx4ydSQUqlZFgHdNqjarJdFJMjUfr5q222ip+Z0AYfeONNxZPKDaE7w5hONsFTIfvkCcOJUlSW+GCRn5nn3vuufECPcbP/+Y3vxn/RmcTLhhjGI4//vGP8Xd/KT/84Q/jcBC/+93v4m9WHoPfm/xe5fcOw3mcccYZcVx4f4eqIyo7pmlbckxTSZIkSWo6wpy//OUvcXwiqiDBMRRjHJ144okxbGPs0/Hjx8cAlWOpFVdcMZ48oVJ1YarkGBOGkyjnn39+MZBdeeWV4+ONN944Pm4uwqw5c+bEEJJxKTlW5MQN80/LscaOacoyc7U8x5xcMc+0mMYiiywSA16C3GzoC15Du1zWJ9WenERK7c2omuWk0YYbbhgfE4Jmx8b8xz/+EQ444IAYmvI5tDCjqjGdgALtfQ8//PA4z+mCAsI3XsfJKt43ceLEcNhhhxUrhps7linLz7wT9mUrWVmXzDeflcX6prVbGu+H/aN79+4LBN6sI9Yp64iKBpaD17J+qOzk3+y0mQ/2EbYBn5GtfmDabIv8dgDz/uabbxbnnc+gSpr38LlpH+HzOXHICcL8Z4PPp7KUMbposcvfCaHZVzkB2BAuROAigXvvvTdOiwpt3kurO6ZF4J1dxywLLbTTfLIdmU8wn+w3VB7n51OSJNUuhtPglkWVKL8bGsLvJbpp8JuD32n8HuI3E218+e3REN6TnQbHE0yD9/M7tim/P6VqVW5MU0NTSZIkSeogCHBeeOGFGNQR2KXQhvBy9OjRMUw69NBDw9NPPx2f56QJ4xmdfPLJCz2WaaVDU5Ylje05c+bM2LKW8JGwiYCPaW6xxRZx3q+77rr4OpQLTQnmnnzyyTgtqm1ZBxx7ErxR+UmVLJWbXEHPyah0nEn4xbpjXFJeT4iY1ivHp5w4SiefaGlGuAk+j/Gjjj/++HifasQjjjgiBtrZQJBp5UNRQtxf//rX4eijj47rlff89a9/jduP+dp+++3jtLPha2PwWVRUUkGQrWTdeeed4+fnT6Jde+214bTTTothJAhMR40aFX7605/G+WAbsX6ouuT2yCOPxG1G+zZCQNq+ESjTNppgltcTfD788MOx+vmJJ56IY7UyDabHdiCApG0xIT4hY/Z4n1bTY8aMKV4QQCDLull99dXjct18881xu3Kib/nll48nFqm+7tGjxwIXBLAfsX65gIDX81ksKxXU+ddmsQ0mTJgQjjnmmLhemD++Q4TpqYJ40qRJscojndsgvGU+qQIneGd8W/ZlpsU6SmOCcTIzu7ySJEmSWka50PR/vvyhf0LhftVIV5lyIMkBQ7lbkr0vSZIkSbWKYyOCJFpxMebie++9F5+noo+Aj1CLcIvwjMcEjwSdXDW+sJgmYRCfSwgFwkdCq1JVn/VhWgSbI0eOjIHoOeecE+6///44RisB2/PPPx9b2M6aNSu8/PLLdQJAqjBp/0u1IgjquFKe8JbA75JLLomVgkxr9uzZ8W8Ed6wXgllCN8aCotqTdURAd8UVV8RAjhCM6SXc5+9Mh9saa6xRbHfGfFHBSzAIQrwhQ4aUHD+KsI0QkXFSmSZhGtNde+2143SoOk3bkvn6zW9+U6xqbAo+i+mznPfcc09xvlnfm266aZ3KBSpyCWqnTJkS1zmvI1jedddd4z7GSQZaBh933HFx+7B+mH/WJ68lXKaak8ebbbZZDLp5D4E2wT0B6IMPPhi3JdNP25X5IvBn+VdZZZX4WQnb/NJLL43rhM8g+CTIZR7Hjh0b1yGhLdOiMoP54zn2P24sf8J3hO3JNPl+cB6C5Sfkra8C47XXXotVvkwXBJ20wqNSNW0PPveyyy4rzifrku2WwlRCY+aTdUOQf9ttt8V9mLZ5VHFIkiRJalkcA5Vi02lJkiRJHRZBGOFFU28Eau0VwRBVeptvvnkxxCEQItRiLNN0kSqVdVQYrrTSSvFxtSDUY/2PGzcujgfKjVArj2pGglQqa+vDewmrCNUI8codHIOg7qqrrootdwmzCC+bg2Wg7W5qqcZ2oD3rcsstFx/nEdZRNZsCQt5POzTCQypjCQHBhcULO5Yp4R2Votm2as8880wMjrPLSxUlAXJaX1SO0rqWQJnnCMepzKQ1cgp0G8L7CAqZNstIRS3TI1Bl2dP+ymsuvvjiOG22czmEkYSvVMRyP4/33n333XFaTDOPSuhUHYoU8pbD/PMaLj4AFalUxhJu1xdgM2/sx1wAUGo+CW/5O/+9Yr1IkiRJahtVH5py4FHfwYckSZIklUMrTyrjmnJjjEyClvaMaktaxdKWNB1PvfTSSzHIA1V2W221Vdhhhx1iGFZNqEakcvDyyy+P4z9yA4EhARVVir///e/D4MGD43LWF4LyN4LHP/zhD7FCkFCQsJHwkjEpmQ6VkqwL2ueCUJlWr1SmUv3XtWvXWElIheTw4cPrtDHmPbR45W/c9txzz/g8lbYEkakCloCS1qxMqxT+vs0228R2sml7ffjhhzFII8RN64BwcY899ojBZ3Oxvan8pPI1IbRjfM7UVpn1ROBLRW7C6wniCTrZl04//fRYUZnaWvF8r169YhUsYSptk6n4pYVwtt0tw/AQvjKOK5Wsad0xFi+v5+8Eh4SX06dPL+6zpfDZVLcyLu+IESPi9qSal6rStB4JTmmJS/icD2CpUmVfSPPHchHCl9unCIenTZsWq2jBhQf9+vVrcHsQlD722GMxrGZsYVr7En5n1wvLefvtt5e8QECSJElS66i60LSpV1UaqEqSJElSXRwn0UqVkKtUKEr41r9//zrtWKsFQSNBZ7Z6keVZYYUVYjDG2JCM90nYSfBZLogEYRWBWbZymGXn/QRX/Pvb3/42jvFJkJiqLwk9adtKpSXrj7CLQI9/CQcTXk9VL3/jxjoHoRufmQJFwjHCQ8LqUlg+/s5YngRxCa19CfI4TuY1tG9lzNZslWhzUGFJAJ3GVmU+CUjTOidcpPUx44+C1xH60lqYebnzzjvjhQUphGR+aO9LaEmIzHYZOnRoDE8JUakmBdMhGOZ5xnfdcccdQ+/eveM4sozpSSBMkJmw/lOVbSmsEwJT2jjTZprteeyxx4b9998/jiOasFy0/U1V1gnbg/We1gPLQ9vcchXGqX1wWm4CV9okN7Q92P4EyoxvO2zYsBi+s9/lw1aCfUNTSZIkqe1UXWiaDk6a22pIkiRJkhKq9whtmnIj7Km2lrXNQfBXrmKOvxEoVmMr0GeffTZWaWaDK0IpQkkqYwnDGHOSKlMqOwkSCc9KoXrvvvvuK1ZqMh3GWN1rr71iu1ymQ0jJWKRU5qZwj/WSArLmYL1TKZnCNUIz2sDWF64RxhIcEsKlCkTCzDQ+LAEdy8ty5zG/tBampTDtY/M3AlACubQ/pLFm07ivPE9laWonTHBHaJxaybKO+vbtGwNqqlKpiMy2sSWEJczu06dPnDbrlbE5mWeeSy1wCSlZPrYZy0VLYNYx1bQXXnhhHGuVcUoTAnTC53L7MZW+7BdUCqf9gu262267xW2aziuwHgmg84EkYSmvT+ubeWK50jrPInClXTDrmPXNexm/lmUvt/8lrAv2XapLqVRmPbJeCFKz+GwqjCVJkiS1japLJtNBZUMHHZIkSZLUkJ122ilWvjXlRtXaKqusUphC+0TIRFhIm9nUcjWL6j3Gbq2v9WlbmT179gJjZBJQ/fjHP46hWBYBFMFcuQpOqgZTtSSYDiEXIVYWoRmVrCk0BQFbasPaWqiyJABMY5smhK1UtBI4lrrAmICZIHPQoEElW05TwTl+/PhiIMd6ILDLXhxAqMpYnUyL6laqPFN4SGteWuoyH4Sz+fVCFWrPnj2L4WM5hI1sD9runnTSSbHFMmE1FytQhUm73rfffrvw6q9eT3BbrvKTVr58V/PV1Kw/wuW0rpgOy07gm8V66NatW/F1nI9g/yv1eexLVNemIHmppZYKG2644QL7Uinsn2zb7PrhudQSOuHzywXEkiRJklpe1YWm6aCMgxaDU0mSJEkLg1CNyrem3sqFcO0FlZrjxo2LlXwERoQ1BFu0IgXBzD//+c8wadKkGIJVE0KzfGjKsSHhVD6U43m2VakgEVQqZqsLeT1BVanXE7xlW+MSnJWqOGxJVJtSHU0L3iwqNQcMGFAn1M1iG7MdqRSlqrTULVtpynogMKUdcGo3TIXngw8+GNc/gTtje4JgkXCQNri8j9cRLGYRUpZqA51H9S4VqQcccEA499xz4z744osvxiCSQJb1X181bh7zRrvlUvsF0+HfhO2ZDyTzr2M9ElzybxbP3XXXXXG98DfeQ5th2jVnP6M+5fZRSZIkSdWjqn61cwCTrugsdeDR2IMRSZIkSQJBBxWVTb1lx8Bsb2gjSrtTxp1MCIIJ3ajWTAETQdUVV1wRx7JsrwiwqKQtV51HJWJjA3AC0tTGFxx/5sO4lsZnEowydmgW7VyzbWQrgXVD6EfFZEILW9ojE76msJl9hxA3VVQyj/kAkOP4fNCYR/B43XXXhcsvvzzMmTMnPkeI/8tf/jJWeJ9xxhnx32WWWSb+rTH4zFJVoTzHfpGdJ9ZdPpDl73xf0utYLtZL/twDgTTj7KYLDAiJGQM3tTeWJEmS1DFUVWia2txwgJIOUtL9/EGLJEmSJDVkzJgxJduV1nfbfffdYxvO9ojwkLCU8SFTm1OCoE022SQMHDgwLh9tQkFQRDvWCRMm1GmJ2tYI6fJhFCEY7VEZmzKLSlJCPgK5UggaCRwT1g8VlPmWxUyflrRUYyZUPZYaPzSPaWbDOXD8ShVk9jiWUDb/ulLYXrw3i+fyQWUWgSDtey+44IIwefLkBW5UFB944IF12hszbz/5yU9iy98UJlIJyriiVFSyTvjM1VdfPVZVpmVhvbBes3gfLXvrWz62H9NOgSnbZdiwYeGcc86J7XkJ9ZkfQsvGYrtTTZ3f/swL+0UK01kOqnUZ9zSL99GqOr2O9c7r8uH0ww8/HG655Zbi56y55pph4403XmA7SZIkSWrfqiY0zV4Fmg4usweYkiRJkqT6EUwRkhEMpuMrAsjtt98+VvARfq277rrxeRBCUkF32223LRA88f4333wz3HTTTeHKK68M999/f6zKqwSqGO+9995Y6XrzzTfH8DPNL5WW+dCUeWM+sxXAzDvjeDL2ZrmwjgCM9q3p2JLp3HHHHTFQy2KcTZYz2xaY+aClcX0I2wjd8m18CekI6FKoxusIC1uq3S/Lx/ZlO++yyy4L3Bjbl+2er7plPW+66aaxjTU4Lr/11ltjO1+kalSC7IT3MMZpNlh86KGHwrRp0+qMHwuWm32IC6Sp0mT/TPhMKmpTW1/WDZWu+da/9WGcUvbdbOjPPsoyZL8DLAdjn+YDWeaPfS9Vq7JMVJFmA2qmRxvhNP4v7YwJTFnfnrOQJEmSOpb/OeaYY04o3G8zHKCkNkgcnHCgwr8pOC13Q/pXkiRJkvIISahe23LLLZt0IxTp1q1bYSrtA+EOlYZUmTLuJAjtGCNz6NChMaSiSpCQilApvYbgieBojTXWqNOqlbEmGX/y1FNPDRMnTozhJkFgjx49FmhzCgIogscHHnigGA4Stm233XZh2WWXjY/B55199tnh2GOPjfN7zTXXxLCSz2ceCaWodHzuueeKYRb/Us3IPDFt7hPknnfeebHSMIvqUIJCwj2WlbCOsTr53BQEP/nkk/ExgSeB30UXXRT+9re/FVvSEi4SQFJ1nNrSgs+nxex//vOf+JhlZt6ZLtNk2iussEL8GyHbzJkzY2DIcevSSy8dW7oypmp92I5UNd5zzz2FZ0IMfvv3719n+1QCx92sI7YZy5ZCzrRvEAyy7zD+aTr2Zt1wn22UqkY5nqfNM2E065CKXdbrpZdeGqZPnx7DZz5rxowZsaIXhN58P6l85j033nhjOOuss+J2T5i3rbfeOla7cp6A7cg+ls4fML9Mj3VN4Mt7aa99/vnn16kaZjxWqlnTuKwJ+z3fF8YABt/5/fbbr/g6tiutiqmGZT/juZ49e8Zppe1cChcEEPKn+aTCt2/fvsX1AP7G+nj00UfjY7C++b6UG7tWkiRJUmVwLFFKm1eacmCTDsg4AElhaXqc7kuSJElSUxGADhkypEk32pjmx5SsdincYbxIgqCEAHGHHXYotiUlRKUdKxWnKfjkvVSRMg5qtpKUII3Ai+pBDigJjaZOnVpn+s3x8ssvh6uvvjoGn0yXKkGCyMcffzz+nXklKCMozOK4kfk5/PDDY2hF62WqTOs7ZmR5Cat69+5dXF6WkQrVE088MRxyyCFhxIgRMRROVaZMj2CMVsb54JzgM1u5yvwzbu5xxx0XjjjiiBhGg4CPfSi1BiboJZhLY2JWC5aDQJtqUtYP+0K2CxRBNiF5CvoSLkRgv0oVwbyeAJX9Y+TIkeHggw8Ohx56aBg7dmwMT6nwZbsyhmnC50yZMiV+3/bff//4PrZntoK1MVinBKXsF7T75TOpMk0IZvnvAOP55peDylduaXn5vuQrk/luEIiDwJjxXVdeeeX4WJIkSVLH0mahKQeXXJ2bbQHFAUwKTdNBCtLj7E2SJEmSGkLVIpV9Tb01Nbhpa1QHUi1JJV6qziQw3HbbbUOfPn3qhEVUse25556xqi0hMGTcS9qQtlQL2cYimCKQ22effWJoyS0dA1KdR1UhVZFUKlJFu9pqq8W/lcL7qJIk1KT6NE2LZaQNLOEaLX+pOgUVgZtvvnk45ZRT4jiwqb1uQgUiFZ/ZSkBCWMbQTNWO4DNYv7169YqPCeUIixkbs9pQSUuouNxyyxWe+QpVv1Rc58cvBWEpFaiEzixn+r6kdZHWa6rcZX1Qdcy6y4awBJ6E84TYnBugujc/H/WhEpXAl2WgspSq01T5C1rtsi8dcMABCwTgvIaK0NTymXliWgTjCfsIFxOkymK2O/scFduSJEmSOp5WDU05MKU1EQcc6aA0yYal3CRJkiRJDSMkpXUubW6zgSetXAlN82ERx1vrrLNOrL7MHnsRODHGaBpTkmpCWoVSLUkoRjvSnXfeuVi12lxUG/br1684LiZhGpWl2fCT5wYPHhwrSrlRHUtQx3EjlYMEoQS/w4cPj9WB9WEZqRw95phj4usJAqmuJFAHwShjnzLm57777htGjRoV2+iWakFMSEfLXgJdpknImp5nnrKBH+udSs30OaxXWthmq3mrBctCmJm9WIDtRFVlqQsIWKcEiFSJHn300XH7sT254ABsJ5af6k7C57QPEUgTtLL/EWgyHd5DuMzz+XbIDWFfIBSlQnzNNdcsbg9CTT6bClZaTBN253Fegu2RKoyZn7XWWqtOIPrYY4/FW/perb322vGWD9MlSZIkdQyd3nrrra8uwWwjXN3JAVWpGwdQ6d/8LcnelyRJkqRawzEV4Q/tblOVKQgCCb0I9PJ4D6/nfdn3EBjxHkIuXsOYn4y5SMUgIRpBVAoB85jOI488Etv4pvFhqFYkICMEzWJ6TzzxRKzyIwwlrOIz88d3KayiipPWrQRdVKJSDUhIybzcfffdscVqQqhLyJoCvCyWidfyuVQmUq1KAMZ7CFIZX5PpN4SLgFlOpkPbYNYx80SwnA3dqPylypF/+WyCWcbbJOArdyxLxSWtitM4myDQ472p3W+lUQVLwMi4omxH1gHBMBW3DYXkLBctm9mfqHjmQmmO45lXgnsqUdkWaXlZPgL6NP5pCpwJXVmvjJWagkzmg32DafD+CRMmhCOPPDK2jAbzxvi4VLCyLZgmn882YHsyzVL7K/NMW2WWedasWTHQ3WKLLcK5555bbM3NvDHu7vjx4+M8sw1YH4MGDSoZqGcxH4StqbMW80DYyj6SXQ/sF2mMV/A94fvC90aSJElSy+FYsJRWDU3TwTgHKBwocMsHpNlbei69lhvSv8jelyRJkiSpWhC8nXzyyWHcuHExECR4O/7442NYVyrUbSvXX399OOigg2LwCcK70aNHh912263BgLA1lQtNGX+2KdWfhO9nnXVWOOOMM2LoTcBLQErATYjLOQsuAOAxLXw570B4e8EFF8TwU5IkSVL7Vi407cyYK5W+Mc5M9saHcxUloWk+MM3ez4al+ZskSZIkSe0JrWYHDhwYK1851iWsmzx5cqwkbStU7xI6EugS5FLBe8kllxQrHjn+Xn/99WMb42oKTCslVZmyHVh+wta+ffvGNr+0+wXnMWbOnBmroUHAzbivVMRKkiRJ6ri+PG6rW91ZiRsHWaWez9+yr0vhaP6WpPulnpMkSZIkqdpwzMp4oYzVSbtkAjvatk6bNi0Gdm2BwHTixImxQvO8886LY7hee+21xZbKVG8SItJKtiOaM2dOuPLKK2N7ZbYPQSjbJ9s6l2CZwHibbbYJu+yyS6xkZRzeaqoOliRJklR5nV599dUWa8+bDjiyoWj+cTY8zf6bvY/0XJK9L0mSJElStaLClLFMp0yZErszMUbnyJEjYwUq42m2Jsb+HDZsWLjiiisKz3yN9sH77rtvOOyww8KSSy5ZeLZ6LGx7XrpgzZgxI7bmnT17dhxPd/DgwWHAgAElx/6VJEmS1DGVHdP09ddfb9PQlFtDj5G9j+x9SZIkSZKqFRWm7733XnjzzTdjRSfHvISShHatfWxbLjRddNFFw4477hhDSapjmcdqs7ChKUMGUWn69ttvx/tUky611FKxjbLnGCRJkqTaUTY0feutt1osNEUKOxt7MzCVJEmSJKll0BaY9sCXXXZZeO6552LY2KNHj7D55pvHdrTdu3cvvLL6TJ06NYwZMybMnTs3PqYy9qijjorthFu7YleSJElS+1U2NJ0zZ06LhqZIV6im8LOxt+x7svKPJUmSJElSw6h6/eijj2LF5QcffBCP16m07NatW9W3qKXCNFXrgqCUStHFFlvM8wSSJEmSGq1saPrlQUerhKb5EDR7K/V89rm8Us9JkiRJkiRJkiRJUn3KhqZz585ttfa86XH6t9Tfsvez/yb5x5IkSZIkSZIkSZLUGGVD0/fff7/FQtNs8FkqBM227S31L8rdlyRJkiRJkiRJkqSmKBuafvTRRy3enpews1T4We75pL6/SZIkSZIkSZIkSVJTlA1NP/744zYNTbP/Ins/KfWcJEmSJEmSJEmSJDVF2dD0k08+aZXQNKtcSGpgKkmSJEmSJEmSJKmllA1Nv/xD1YSmeQamkiRJkiRJkiRJkiqlbGj62WeftXpoinKBqEGpJEmSJEmSJEmSpJZQNjSdN29ei4emWVaWSpIkSZIkSZIkSWoLZUPTzz//vFVD0zyDUkmSJEmSJEmSJEmtoWxoOn/+/DYNTSVJkiRJkiRJkiSpNZQLTTsX/pUkSZIkSZIkSZKkmmRoKkmSJEmSJEmSJKmmGZpKkiRJkiRJkiRJqmmGppIkSZIkSZIkSZJqmqGpJEmSJEmSJEmSpJpmaCpJkiRJkiRJkiSpphmaSpIkSZIkSZIkSapphqaSJEmSJEmSJEmSapqhqSRJkiRJkiRJkqSaZmgqSZIkSZIkSZIkqaYZmkqSJEmSJEmSJEmqaYamkiRJkiRJkiRJkmqaoakkSZIkSZIkSZKkmmZoKkmSJEmSJEmSJKmmGZpKkiRJkiRJkiRJqmmGppIkSZIkSZIkSZJqmqGpJEmSJEmSJEmSpJpmaCpJkiRJkiRJkiSpphmaSpIkSZIkSZIkSapphqaSJEmSJEmSJEmSapqhqSRJkiRJkiRJkqSaZmgqSZIkSZIkSZIkqaYZmkqSJEmSJEmSJEmqaZ3mz5//ReG+JEmSJEmSJEmSJHVYn376aeFeCHPnzg3PPPNMvG9oKkmSJEmSJEmSJKkmZEPTP//5zzE4he15JUmSJEmSJEmSJNU0Q1NJkiRJkiRJkiRJNad3796Fe4amkiRJkiRJkiRJkmrQcsstF9Zdd91439BUkiRJkiRJkiRJUk3q1atXWHzxxUOn+fPnf1F4TpIkSZIkSZIkSZI6rE8//bRw72uvvfaaoakkSZIkSZIkSZKk2lAqNIXteSVJkiRJkiRJkiTVNENTSZIkSZIkSZIkSTWhc+fS8aihqSRJkiRJkiRJkqSa0KlTp8K9ugxNJUmSJEmSJEmSJNUEQ1NJkiRJkiRJkiRJNY32vKVa9BqaSpIkSZIkSZIkSaoZXbp0Kdz7mqGpJEmSJEmSJEmSpJryjW98o3DvK53mz5//ReG+JEmSJEmSJEmSJNWMefPmhfnz5xuaSpIkSZIkSZIkSapdX3zxRej03//+19BUkiRJkiRJkiRJUrvWqVOn4q1z587x38YyNJUkSZIkSZIkSZLU4RCcdunSpfCofp0L/0qSJEmSJEmSJElSh8FYpZ999llsv1u/EP4/kY90rAtZelEAAAAASUVORK5CYII=)"
      ],
      "metadata": {
        "id": "69yoO8EKgB8b"
      }
    },
    {
      "cell_type": "code",
      "source": [
        "np.random.random(5)*2 -1"
      ],
      "metadata": {
        "colab": {
          "base_uri": "https://localhost:8080/"
        },
        "id": "mJr7u7flgC61",
        "outputId": "17848478-f7e7-4fe6-d4a1-aa4b210122ce"
      },
      "execution_count": null,
      "outputs": [
        {
          "output_type": "execute_result",
          "data": {
            "text/plain": [
              "array([ 0.55575219,  0.36145571,  0.30821126, -0.69835965, -0.5942586 ])"
            ]
          },
          "metadata": {},
          "execution_count": 9
        }
      ]
    },
    {
      "cell_type": "code",
      "source": [
        "# step1:\n",
        "#initiate Randome weights.\n",
        "np.random.seed(101)\n",
        "W = np.random.random((X.shape[1] , Y.shape[1]))*2 -1\n",
        "W"
      ],
      "metadata": {
        "colab": {
          "base_uri": "https://localhost:8080/"
        },
        "id": "sUqJOQiMgaxF",
        "outputId": "761eebfb-9cbc-4477-c60b-de5c58860018"
      },
      "execution_count": null,
      "outputs": [
        {
          "output_type": "execute_result",
          "data": {
            "text/plain": [
              "array([[0.03279726],\n",
              "       [0.14133517]])"
            ]
          },
          "metadata": {},
          "execution_count": 8
        }
      ]
    },
    {
      "cell_type": "code",
      "source": [
        "# train the model."
      ],
      "metadata": {
        "id": "VCVrf0J8hShq"
      },
      "execution_count": null,
      "outputs": []
    },
    {
      "cell_type": "code",
      "source": [
        "convergence = 0.0000001\n",
        "pe = 0\n",
        "flag=0\n",
        "for i in range(40000):\n",
        "   # prediction\n",
        "   ycap = X.dot(W) # (8,2)(2,1)->(8,1)\n",
        "   # loss--mse\n",
        "   ce = ((Y-ycap)**2).mean()\n",
        "   if i%100 == 0:\n",
        "     print(\"Current Loss \", ce)\n",
        "   # derivative\n",
        "   delta =  X.T.dot(Y-ycap)/Y.shape[0]\n",
        "   # adjust weights.\n",
        "   W += delta * 0.002\n",
        "   if np.abs(ce-pe) <= convergence:\n",
        "      print(\"Training completed after \", i+1, \" iterations \")\n",
        "      flag=1\n",
        "      break\n",
        "   pe = ce\n",
        "if flag==0:\n",
        "   print(\"Training not completed, run more iterations.\")\n",
        "\n",
        "# convergence --> neglectable error difference between current and previous."
      ],
      "metadata": {
        "colab": {
          "base_uri": "https://localhost:8080/"
        },
        "id": "mKAY3UnUhUv0",
        "outputId": "1352a3b5-2776-403f-eccf-ba5fe193969f"
      },
      "execution_count": null,
      "outputs": [
        {
          "output_type": "stream",
          "name": "stdout",
          "text": [
            "Current Loss  3.019081832222748\n",
            "Current Loss  3.017603926203935\n",
            "Current Loss  3.016153148926611\n",
            "Current Loss  3.0147290024101223\n",
            "Current Loss  3.0133309978148324\n",
            "Current Loss  3.0119586552743494\n",
            "Current Loss  3.010611503730825\n",
            "Current Loss  3.0092890807732244\n",
            "Current Loss  3.0079909324786236\n",
            "Current Loss  3.0067166132563936\n",
            "Current Loss  3.0054656856952917\n",
            "Current Loss  3.0042377204132475\n",
            "Current Loss  3.003032295910023\n",
            "Current Loss  3.001848998422518\n",
            "Current Loss  3.0006874217827986\n",
            "Current Loss  2.9995471672785623\n",
            "Current Loss  2.9984278435163914\n",
            "Current Loss  2.9973290662873584\n",
            "Current Loss  2.9962504584351346\n",
            "Current Loss  2.9951916497265785\n",
            "Current Loss  2.994152276724612\n",
            "Current Loss  2.993131982663491\n",
            "Current Loss  2.992130417326262\n",
            "Current Loss  2.991147236924758\n",
            "Current Loss  2.990182103981335\n",
            "Current Loss  2.9892346872132363\n",
            "Current Loss  2.988304661418738\n",
            "Current Loss  2.987391707365648\n",
            "Current Loss  2.9864955116816203\n",
            "Current Loss  2.985615766746635\n",
            "Current Loss  2.9847521705874183\n",
            "Current Loss  2.9839044267737966\n",
            "Current Loss  2.9830722443168955\n",
            "Current Loss  2.9822553375693257\n",
            "Current Loss  2.9814534261270498\n",
            "Current Loss  2.980666234733248\n",
            "Current Loss  2.9798934931837024\n",
            "Current Loss  2.9791349362341872\n",
            "Current Loss  2.9783903035092987\n",
            "Current Loss  2.9776593394131528\n",
            "Current Loss  2.9769417930416586\n",
            "Current Loss  2.9762374180963262\n",
            "Current Loss  2.975545972799812\n",
            "Current Loss  2.9748672198128636\n",
            "Current Loss  2.974200926152877\n",
            "Current Loss  2.9735468631139446\n",
            "Current Loss  2.9729048061883026\n",
            "Current Loss  2.9722745349893174\n",
            "Current Loss  2.971655833175794\n",
            "Current Loss  2.971048488377771\n",
            "Current Loss  2.970452292123567\n",
            "Current Loss  2.9698670397682876\n",
            "Current Loss  2.969292530423483\n",
            "Current Loss  2.96872856688827\n",
            "Current Loss  2.968174955581664\n",
            "Current Loss  2.967631506476067\n",
            "Current Loss  2.967098033032052\n",
            "Current Loss  2.9665743521343613\n",
            "Current Loss  2.9660602840290364\n",
            "Current Loss  2.9655556522617155\n",
            "Current Loss  2.9650602836170727\n",
            "Current Loss  2.9645740080593708\n",
            "Current Loss  2.9640966586740434\n",
            "Current Loss  2.9636280716104837\n",
            "Current Loss  2.9631680860257497\n",
            "Current Loss  2.9627165440293384\n",
            "Current Loss  2.96227329062905\n",
            "Current Loss  2.9618381736777306\n",
            "Current Loss  2.961411043821081\n",
            "Current Loss  2.9609917544463915\n",
            "Current Loss  2.960580161632164\n",
            "Current Loss  2.9601761240988065\n",
            "Current Loss  2.9597795031600502\n",
            "Current Loss  2.9593901626753736\n",
            "Current Loss  2.9590079690033106\n",
            "Current Loss  2.958632790955493\n",
            "Current Loss  2.9582644997517367\n",
            "Current Loss  2.9579029689757257\n",
            "Current Loss  2.957548074531693\n",
            "Current Loss  2.9571996946017634\n",
            "Current Loss  2.9568577096042317\n",
            "Current Loss  2.9565220021524032\n",
            "Current Loss  2.9561924570143985\n",
            "Current Loss  2.9558689610735236\n",
            "Current Loss  2.955551403289494\n",
            "Current Loss  2.955239674660339\n",
            "Current Loss  2.9549336681848537\n",
            "Current Loss  2.9546332788260696\n",
            "Current Loss  2.954338403475056\n",
            "Current Loss  2.954048940915552\n",
            "Current Loss  2.953764791789277\n",
            "Current Loss  2.9534858585617867\n",
            "Current Loss  2.9532120454889674\n",
            "Current Loss  2.9529432585842468\n",
            "Current Loss  2.952679405586245\n",
            "Current Loss  2.9524203959271897\n",
            "Current Loss  2.9521661407017583\n",
            "Current Loss  2.9519165526366296\n",
            "Current Loss  2.951671546060451\n",
            "Current Loss  2.9514310368744825\n",
            "Current Loss  2.951194942523721\n",
            "Current Loss  2.950963181968574\n",
            "Current Loss  2.9507356756570053\n",
            "Current Loss  2.9505123454972564\n",
            "Current Loss  2.950293114831049\n",
            "Current Loss  2.950077908407237\n",
            "Current Loss  2.9498666523560204\n",
            "Current Loss  2.9496592741635643\n",
            "Current Loss  2.9494557026471213\n",
            "Current Loss  2.9492558679305425\n",
            "Current Loss  2.94905970142041\n",
            "Current Loss  2.948867135782373\n",
            "Current Loss  2.948678104918098\n",
            "Current Loss  2.948492543942561\n",
            "Current Loss  2.9483103891617786\n",
            "Current Loss  2.948131578050961\n",
            "Current Loss  2.9479560492330066\n",
            "Current Loss  2.9477837424575197\n",
            "Current Loss  2.947614598580007\n",
            "Current Loss  2.947448559541687\n",
            "Current Loss  2.9472855683495034\n",
            "Current Loss  2.9471255690565696\n",
            "Current Loss  2.94696850674299\n",
            "Current Loss  2.9468143274969716\n",
            "Current Loss  2.946662978396337\n",
            "Current Loss  2.9465144074903815\n",
            "Current Loss  2.9463685637819967\n",
            "Current Loss  2.9462253972101933\n",
            "Current Loss  2.9460848586328927\n",
            "Current Loss  2.945946899810129\n",
            "Current Loss  2.945811473387377\n",
            "Current Loss  2.945678532879416\n",
            "Current Loss  2.945548032654264\n",
            "Current Loss  2.9454199279176225\n",
            "Current Loss  2.9452941746974055\n",
            "Current Loss  2.9451707298287038\n",
            "Current Loss  2.945049550938971\n",
            "Current Loss  2.94493059643341\n",
            "Current Loss  2.9448138254807805\n",
            "Current Loss  2.9446991979993533\n",
            "Current Loss  2.944586674643145\n",
            "Current Loss  2.9444762167883898\n",
            "Current Loss  2.9443677865203424\n",
            "Current Loss  2.9442613466201903\n",
            "Current Loss  2.944156860552361\n",
            "Current Loss  2.9440542924519004\n",
            "Current Loss  2.943953607112219\n",
            "Current Loss  2.9438547699729694\n",
            "Current Loss  2.943757747108224\n",
            "Current Loss  2.943662505214793\n",
            "Current Loss  2.9435690116007875\n",
            "Current Loss  2.943477234174453\n",
            "Current Loss  2.943387141433101\n",
            "Current Loss  2.9432987024523127\n",
            "Current Loss  2.943211886875332\n",
            "Current Loss  2.943126664902619\n",
            "Current Loss  2.9430430072816485\n",
            "Current Loss  2.9429608852968903\n",
            "Current Loss  2.942880270759856\n",
            "Current Loss  2.942801135999564\n",
            "Current Loss  2.9427234538529135\n",
            "Current Loss  2.9426471976554485\n",
            "Current Loss  2.9425723412321436\n",
            "Current Loss  2.9424988588884817\n",
            "Current Loss  2.94242672540155\n",
            "Current Loss  2.94235591601149\n",
            "Current Loss  2.9422864064128955\n",
            "Current Loss  2.9422181727465415\n",
            "Current Loss  2.9421511915911513\n",
            "Current Loss  2.9420854399553864\n",
            "Current Loss  2.9420208952699425\n",
            "Current Loss  2.941957535379758\n",
            "Current Loss  2.9418953385365314\n",
            "Current Loss  2.9418342833911355\n",
            "Current Loss  2.941774348986318\n",
            "Current Loss  2.9417155147495477\n",
            "Current Loss  2.941657760485909\n",
            "Current Loss  2.941601066371203\n",
            "Current Loss  2.941545412945113\n",
            "Current Loss  2.941490781104577\n",
            "Current Loss  2.941437152097132\n",
            "Current Loss  2.9413845075145844\n",
            "Current Loss  2.941332829286636\n",
            "Current Loss  2.9412820996746785\n",
            "Current Loss  2.941232301265727\n",
            "Current Loss  2.9411834169664393\n",
            "Current Loss  2.941135429997214\n",
            "Current Loss  2.941088323886496\n",
            "Current Loss  2.9410420824650525\n",
            "Current Loss  2.940996689860498\n",
            "Current Loss  2.940952130491764\n",
            "Current Loss  2.940908389063806\n",
            "Current Loss  2.940865450562341\n",
            "Current Loss  2.9408233002486717\n",
            "Current Loss  2.9407819236546757\n",
            "Current Loss  2.9407413065778147\n",
            "Current Loss  2.9407014350762113\n",
            "Current Loss  2.940662295463955\n",
            "Current Loss  2.9406238743063264\n",
            "Current Loss  2.9405861584152273\n",
            "Current Loss  2.940549134844641\n",
            "Current Loss  2.940512790886214\n",
            "Current Loss  2.9404771140648114\n",
            "Current Loss  2.9404420921343677\n",
            "Current Loss  2.9404077130735375\n",
            "Current Loss  2.940373965081707\n",
            "Current Loss  2.9403408365748325\n",
            "Current Loss  2.940308316181514\n",
            "Current Loss  2.9402763927391145\n",
            "Current Loss  2.9402450552898785\n",
            "Current Loss  2.940214293077183\n",
            "Current Loss  2.940184095541884\n",
            "Current Loss  2.940154452318646\n",
            "Current Loss  2.9401253532323954\n",
            "Current Loss  2.940096788294852\n",
            "Current Loss  2.9400687477010794\n",
            "Current Loss  2.9400412218261156\n",
            "Current Loss  2.9400142012216657\n",
            "Current Loss  2.9399876766128923\n",
            "Current Loss  2.9399616388951904\n",
            "Current Loss  2.9399360791311033\n",
            "Current Loss  2.939910988547215\n",
            "Current Loss  2.9398863585311465\n",
            "Current Loss  2.939862180628623\n",
            "Current Loss  2.9398384465405814\n",
            "Current Loss  2.939815148120247\n",
            "Current Loss  2.93979227737041\n",
            "Current Loss  2.9397698264406937\n",
            "Current Loss  2.939747787624781\n",
            "Current Loss  2.93972615335782\n",
            "Current Loss  2.9397049162138273\n",
            "Current Loss  2.939684068903153\n",
            "Current Loss  2.9396636042699233\n",
            "Current Loss  2.9396435152896307\n",
            "Current Loss  2.939623795066722\n",
            "Current Loss  2.939604436832207\n",
            "Current Loss  2.939585433941361\n",
            "Current Loss  2.939566779871407\n",
            "Current Loss  2.9395484682193436\n",
            "Current Loss  2.939530492699668\n",
            "Current Loss  2.9395128471422565\n",
            "Current Loss  2.9394955254902606\n",
            "Current Loss  2.9394785217980144\n",
            "Current Loss  2.9394618302289794\n",
            "Current Loss  2.939445445053745\n",
            "Current Loss  2.9394293606481066\n",
            "Current Loss  2.9394135714910616\n",
            "Current Loss  2.9393980721629824\n",
            "Current Loss  2.9393828573436998\n",
            "Current Loss  2.939367921810706\n",
            "Current Loss  2.9393532604373838\n",
            "Current Loss  2.9393388681911916\n",
            "Current Loss  2.9393247401319718\n",
            "Current Loss  2.939310871410263\n",
            "Current Loss  2.939297257265615\n",
            "Current Loss  2.9392838930249563\n",
            "Current Loss  2.9392707741009967\n",
            "Current Loss  2.939257895990649\n",
            "Current Loss  2.939245254273513\n",
            "Current Loss  2.9392328446102844\n",
            "Current Loss  2.939220662741347\n",
            "Current Loss  2.9392087044852477\n",
            "Current Loss  2.9391969657373163\n",
            "Current Loss  2.9391854424682227\n",
            "Current Loss  2.9391741307225647\n",
            "Current Loss  2.939163026617609\n",
            "Current Loss  2.9391521263418428\n",
            "Current Loss  2.939141426153749\n",
            "Current Loss  2.939130922380463\n",
            "Current Loss  2.939120611416567\n",
            "Current Loss  2.9391104897228\n",
            "Training completed after  27017  iterations \n"
          ]
        }
      ]
    },
    {
      "cell_type": "code",
      "source": [
        "W"
      ],
      "metadata": {
        "colab": {
          "base_uri": "https://localhost:8080/"
        },
        "id": "njznSyw5iRdC",
        "outputId": "47c199e7-371e-4327-c604-80ca6e126cd4"
      },
      "execution_count": null,
      "outputs": [
        {
          "output_type": "execute_result",
          "data": {
            "text/plain": [
              "array([[5.79025655],\n",
              "       [1.88538251]])"
            ]
          },
          "metadata": {},
          "execution_count": 13
        }
      ]
    },
    {
      "cell_type": "code",
      "source": [],
      "metadata": {
        "id": "nGBriAl32AkW"
      },
      "execution_count": null,
      "outputs": []
    },
    {
      "cell_type": "code",
      "source": [
        "def rsquare(y, ycap):\n",
        "   # 1- rss/tss\n",
        "   rss = ((y-ycap)**2).sum()\n",
        "   tss = ((y-y.mean())**2).sum()\n",
        "   return 1- (rss/tss)\n"
      ],
      "metadata": {
        "id": "Vzah52MakQM9"
      },
      "execution_count": null,
      "outputs": []
    },
    {
      "cell_type": "code",
      "source": [
        "ycap = X.dot(W)\n",
        "ycap"
      ],
      "metadata": {
        "colab": {
          "base_uri": "https://localhost:8080/"
        },
        "id": "Kh5h_3jDlSgw",
        "outputId": "1048b281-98d8-4976-a084-461527e04e2a"
      },
      "execution_count": null,
      "outputs": [
        {
          "output_type": "execute_result",
          "data": {
            "text/plain": [
              "array([[43.49790674],\n",
              "       [62.35173183],\n",
              "       [52.92481928],\n",
              "       [47.26867176],\n",
              "       [81.20555692],\n",
              "       [66.12249685],\n",
              "       [71.77864437],\n",
              "       [54.81020179]])"
            ]
          },
          "metadata": {},
          "execution_count": 15
        }
      ]
    },
    {
      "cell_type": "code",
      "source": [
        "rsquare(Y, ycap)"
      ],
      "metadata": {
        "colab": {
          "base_uri": "https://localhost:8080/"
        },
        "id": "txYj2iVFlYpH",
        "outputId": "b6fa15c1-ebf3-4589-9d8b-c9b12267f10c"
      },
      "execution_count": null,
      "outputs": [
        {
          "output_type": "execute_result",
          "data": {
            "text/plain": [
              "0.9797651718581281"
            ]
          },
          "metadata": {},
          "execution_count": 16
        }
      ]
    },
    {
      "cell_type": "code",
      "source": [
        "###################################"
      ],
      "metadata": {
        "id": "rbL3H-26lcaM"
      },
      "execution_count": null,
      "outputs": []
    },
    {
      "cell_type": "code",
      "source": [
        "def predict(x, w):\n",
        "   return x.dot(w)\n",
        "def mse(y, ycap):\n",
        "   return ((y-ycap)**2).mean()\n",
        "def rsquare(y, ycap):\n",
        "  rss = ((y-ycap)**2).sum()\n",
        "  tss = ((y-y.mean())**2).sum()\n",
        "  return 1- (rss/tss)\n",
        "def derivative(x, y, ycap):\n",
        "  return  x.T.dot(y-ycap)/y.shape[0]"
      ],
      "metadata": {
        "id": "lHtduaq5haGz"
      },
      "execution_count": null,
      "outputs": []
    },
    {
      "cell_type": "code",
      "source": [
        "np.random.seed(101)\n",
        "W = np.random.random((X.shape[1],Y.shape[1])) *2 - 1\n",
        "W"
      ],
      "metadata": {
        "colab": {
          "base_uri": "https://localhost:8080/"
        },
        "id": "uuoAQzvPmWam",
        "outputId": "bc22a81a-98ef-4497-8cf0-4413f363493b"
      },
      "execution_count": null,
      "outputs": [
        {
          "output_type": "execute_result",
          "data": {
            "text/plain": [
              "array([[0.03279726],\n",
              "       [0.14133517]])"
            ]
          },
          "metadata": {},
          "execution_count": 17
        }
      ]
    },
    {
      "cell_type": "code",
      "source": [
        "convergence = 0.0000000001\n",
        "pe = 0\n",
        "flag=0\n",
        "for i in range(50000):\n",
        "   ycap = predict(X , W)\n",
        "   ce = mse(Y, ycap)\n",
        "   if i%100 ==0:\n",
        "     print(\"Current Error after \", i+1 , \" iterations  \", ce)\n",
        "   delta = derivative(X, Y, ycap)\n",
        "   W += delta * 0.001\n",
        "   if np.abs(ce-pe) <= convergence:\n",
        "      print(\"Training Completed after \", i+1, \" iterations \")\n",
        "      flag=1\n",
        "      break\n",
        "   pe = ce\n",
        "if flag==0:\n",
        "   print(\" training not completed , run few more iterations\")\n"
      ],
      "metadata": {
        "colab": {
          "base_uri": "https://localhost:8080/"
        },
        "id": "OmNHwkcUmnJ0",
        "outputId": "2001989d-9476-4e2a-fddc-d0fefdabaf5e"
      },
      "execution_count": null,
      "outputs": [
        {
          "output_type": "stream",
          "name": "stdout",
          "text": [
            "Current Error after  1  iterations   2.9385746014975522\n",
            "Current Error after  101  iterations   2.9385745517566857\n",
            "Current Error after  201  iterations   2.9385745024744545\n",
            "Current Error after  301  iterations   2.9385744536466194\n",
            "Current Error after  401  iterations   2.938574405269003\n",
            "Current Error after  501  iterations   2.938574357337444\n",
            "Current Error after  601  iterations   2.9385743098478283\n",
            "Current Error after  701  iterations   2.9385742627960916\n",
            "Current Error after  801  iterations   2.938574216178194\n",
            "Current Error after  901  iterations   2.9385741699901198\n",
            "Current Error after  1001  iterations   2.938574124227929\n",
            "Current Error after  1101  iterations   2.938574078887682\n",
            "Current Error after  1201  iterations   2.938574033965488\n",
            "Current Error after  1301  iterations   2.938573989457502\n",
            "Current Error after  1401  iterations   2.9385739453598925\n",
            "Current Error after  1501  iterations   2.938573901668873\n",
            "Current Error after  1601  iterations   2.9385738583807086\n",
            "Current Error after  1701  iterations   2.938573815491676\n",
            "Current Error after  1801  iterations   2.9385737729980956\n",
            "Current Error after  1901  iterations   2.938573730896325\n",
            "Current Error after  2001  iterations   2.93857368918276\n",
            "Current Error after  2101  iterations   2.9385736478537927\n",
            "Current Error after  2201  iterations   2.938573606905912\n",
            "Current Error after  2301  iterations   2.938573566335571\n",
            "Current Error after  2401  iterations   2.938573526139322\n",
            "Current Error after  2501  iterations   2.9385734863136803\n",
            "Current Error after  2601  iterations   2.938573446855246\n",
            "Current Error after  2701  iterations   2.938573407760651\n",
            "Current Error after  2801  iterations   2.9385733690265177\n",
            "Current Error after  2901  iterations   2.93857333064953\n",
            "Current Error after  3001  iterations   2.9385732926263834\n",
            "Current Error after  3101  iterations   2.938573254953842\n",
            "Current Error after  3201  iterations   2.938573217628644\n",
            "Current Error after  3301  iterations   2.9385731806475963\n",
            "Current Error after  3401  iterations   2.938573144007539\n",
            "Current Error after  3501  iterations   2.9385731077053077\n",
            "Current Error after  3601  iterations   2.93857307173781\n",
            "Current Error after  3701  iterations   2.9385730361019444\n",
            "Current Error after  3801  iterations   2.9385730007946522\n",
            "Current Error after  3901  iterations   2.9385729658128996\n",
            "Current Error after  4001  iterations   2.9385729311537023\n",
            "Current Error after  4101  iterations   2.938572896814072\n",
            "Current Error after  4201  iterations   2.9385728627910694\n",
            "Current Error after  4301  iterations   2.9385728290817648\n",
            "Current Error after  4401  iterations   2.9385727956832843\n",
            "Current Error after  4501  iterations   2.938572762592748\n",
            "Current Error after  4601  iterations   2.938572729807312\n",
            "Current Error after  4701  iterations   2.9385726973241697\n",
            "Current Error after  4801  iterations   2.9385726651405575\n",
            "Current Error after  4901  iterations   2.938572633253669\n",
            "Current Error after  5001  iterations   2.9385726016608005\n",
            "Current Error after  5101  iterations   2.938572570359221\n",
            "Current Error after  5201  iterations   2.9385725393462687\n",
            "Current Error after  5301  iterations   2.93857250861926\n",
            "Current Error after  5401  iterations   2.93857247817557\n",
            "Current Error after  5501  iterations   2.938572448012574\n",
            "Current Error after  5601  iterations   2.9385724181277046\n",
            "Current Error after  5701  iterations   2.9385723885183777\n",
            "Current Error after  5801  iterations   2.9385723591820576\n",
            "Current Error after  5901  iterations   2.9385723301162363\n",
            "Current Error after  6001  iterations   2.9385723013184246\n",
            "Current Error after  6101  iterations   2.9385722727861214\n",
            "Current Error after  6201  iterations   2.938572244516912\n",
            "Current Error after  6301  iterations   2.938572216508332\n",
            "Current Error after  6401  iterations   2.9385721887580245\n",
            "Current Error after  6501  iterations   2.9385721612635822\n",
            "Current Error after  6601  iterations   2.9385721340226434\n",
            "Current Error after  6701  iterations   2.938572107032879\n",
            "Current Error after  6801  iterations   2.938572080291972\n",
            "Current Error after  6901  iterations   2.938572053797628\n",
            "Current Error after  7001  iterations   2.9385720275475653\n",
            "Current Error after  7101  iterations   2.9385720015395576\n",
            "Current Error after  7201  iterations   2.9385719757713415\n",
            "Current Error after  7301  iterations   2.9385719502407124\n",
            "Current Error after  7401  iterations   2.938571924945497\n",
            "Current Error after  7501  iterations   2.938571899883498\n",
            "Current Error after  7601  iterations   2.9385718750525998\n",
            "Current Error after  7701  iterations   2.938571850450643\n",
            "Current Error after  7801  iterations   2.938571826075534\n",
            "Current Error after  7901  iterations   2.9385718019251543\n",
            "Current Error after  8001  iterations   2.938571777997473\n",
            "Current Error after  8101  iterations   2.9385717542903924\n",
            "Current Error after  8201  iterations   2.9385717308019172\n",
            "Current Error after  8301  iterations   2.9385717075300146\n",
            "Current Error after  8401  iterations   2.9385716844726795\n",
            "Current Error after  8501  iterations   2.938571661627944\n",
            "Current Error after  8601  iterations   2.938571638993842\n",
            "Current Error after  8701  iterations   2.9385716165684475\n",
            "Current Error after  8801  iterations   2.938571594349826\n",
            "Current Error after  8901  iterations   2.9385715723360533\n",
            "Current Error after  9001  iterations   2.9385715505252676\n",
            "Current Error after  9101  iterations   2.9385715289155847\n",
            "Current Error after  9201  iterations   2.938571507505146\n",
            "Current Error after  9301  iterations   2.9385714862921244\n",
            "Current Error after  9401  iterations   2.9385714652746935\n",
            "Current Error after  9501  iterations   2.9385714444510542\n",
            "Current Error after  9601  iterations   2.9385714238194205\n",
            "Current Error after  9701  iterations   2.938571403378007\n",
            "Current Error after  9801  iterations   2.938571383125076\n",
            "Current Error after  9901  iterations   2.938571363058893\n",
            "Current Error after  10001  iterations   2.9385713431777303\n",
            "Current Error after  10101  iterations   2.9385713234798594\n",
            "Current Error after  10201  iterations   2.9385713039636228\n",
            "Current Error after  10301  iterations   2.9385712846273364\n",
            "Current Error after  10401  iterations   2.9385712654693457\n",
            "Current Error after  10501  iterations   2.9385712464879905\n",
            "Current Error after  10601  iterations   2.938571227681643\n",
            "Current Error after  10701  iterations   2.938571209048699\n",
            "Current Error after  10801  iterations   2.938571190587572\n",
            "Current Error after  10901  iterations   2.938571172296659\n",
            "Current Error after  11001  iterations   2.9385711541743893\n",
            "Current Error after  11101  iterations   2.9385711362192186\n",
            "Current Error after  11201  iterations   2.938571118429601\n",
            "Current Error after  11301  iterations   2.938571100804002\n",
            "Current Error after  11401  iterations   2.9385710833409404\n",
            "Current Error after  11501  iterations   2.9385710660388735\n",
            "Current Error after  11601  iterations   2.938571048896344\n",
            "Current Error after  11701  iterations   2.9385710319118776\n",
            "Current Error after  11801  iterations   2.9385710150840234\n",
            "Current Error after  11901  iterations   2.9385709984113157\n",
            "Current Error after  12001  iterations   2.9385709818923504\n",
            "Current Error after  12101  iterations   2.93857096552568\n",
            "Current Error after  12201  iterations   2.938570949309933\n",
            "Current Error after  12301  iterations   2.938570933243685\n",
            "Current Error after  12401  iterations   2.9385709173255794\n",
            "Current Error after  12501  iterations   2.938570901554246\n",
            "Current Error after  12601  iterations   2.938570885928338\n",
            "Current Error after  12701  iterations   2.9385708704465032\n",
            "Current Error after  12801  iterations   2.9385708551074132\n",
            "Current Error after  12901  iterations   2.938570839909765\n",
            "Current Error after  13001  iterations   2.9385708248522295\n",
            "Current Error after  13101  iterations   2.9385708099335472\n",
            "Current Error after  13201  iterations   2.9385707951523994\n",
            "Current Error after  13301  iterations   2.938570780507562\n",
            "Current Error after  13401  iterations   2.938570765997749\n",
            "Current Error after  13501  iterations   2.938570751621712\n",
            "Current Error after  13601  iterations   2.938570737378248\n",
            "Current Error after  13701  iterations   2.9385707232661007\n",
            "Current Error after  13801  iterations   2.9385707092840603\n",
            "Current Error after  13901  iterations   2.9385706954309603\n",
            "Current Error after  14001  iterations   2.938570681705591\n",
            "Current Error after  14101  iterations   2.938570668106772\n",
            "Current Error after  14201  iterations   2.938570654633338\n",
            "Current Error after  14301  iterations   2.938570641284137\n",
            "Current Error after  14401  iterations   2.938570628058007\n",
            "Current Error after  14501  iterations   2.9385706149538393\n",
            "Current Error after  14601  iterations   2.938570601970499\n",
            "Current Error after  14701  iterations   2.9385705891068667\n",
            "Current Error after  14801  iterations   2.938570576361848\n",
            "Current Error after  14901  iterations   2.938570563734325\n",
            "Current Error after  15001  iterations   2.938570551223253\n",
            "Current Error after  15101  iterations   2.938570538827542\n",
            "Current Error after  15201  iterations   2.9385705265460986\n",
            "Current Error after  15301  iterations   2.9385705143779113\n",
            "Current Error after  15401  iterations   2.9385705023219177\n",
            "Current Error after  15501  iterations   2.9385704903770855\n",
            "Current Error after  15601  iterations   2.938570478542389\n",
            "Current Error after  15701  iterations   2.9385704668168158\n",
            "Current Error after  15801  iterations   2.9385704551993546\n",
            "Current Error after  15901  iterations   2.9385704436890205\n",
            "Current Error after  16001  iterations   2.938570432284791\n",
            "Current Error after  16101  iterations   2.9385704209857346\n",
            "Current Error after  16201  iterations   2.938570409790861\n",
            "Current Error after  16301  iterations   2.938570398699196\n",
            "Current Error after  16401  iterations   2.9385703877098144\n",
            "Current Error after  16501  iterations   2.938570376821738\n",
            "Current Error after  16601  iterations   2.938570366034079\n",
            "Current Error after  16701  iterations   2.938570355345872\n",
            "Current Error after  16801  iterations   2.938570344756214\n",
            "Current Error after  16901  iterations   2.9385703342642016\n",
            "Current Error after  17001  iterations   2.9385703238689276\n",
            "Current Error after  17101  iterations   2.9385703135695014\n",
            "Current Error after  17201  iterations   2.9385703033650477\n",
            "Current Error after  17301  iterations   2.9385702932546773\n",
            "Training Completed after  17371  iterations \n"
          ]
        }
      ]
    },
    {
      "cell_type": "code",
      "source": [
        "W"
      ],
      "metadata": {
        "colab": {
          "base_uri": "https://localhost:8080/"
        },
        "id": "lkiTZRhtgs-J",
        "outputId": "064016fb-8349-445f-9dbd-7bb2a1005592"
      },
      "execution_count": null,
      "outputs": [
        {
          "output_type": "execute_result",
          "data": {
            "text/plain": [
              "array([[5.89330905],\n",
              "       [1.88196409]])"
            ]
          },
          "metadata": {},
          "execution_count": 27
        }
      ]
    },
    {
      "cell_type": "code",
      "source": [
        "ycap = predict(X, W)\n",
        "rsquare(Y, ycap)*100"
      ],
      "metadata": {
        "colab": {
          "base_uri": "https://localhost:8080/"
        },
        "id": "g0wohC8LoMDA",
        "outputId": "0d5c835c-f7c1-45b4-e939-863d841f90b9"
      },
      "execution_count": null,
      "outputs": [
        {
          "output_type": "execute_result",
          "data": {
            "text/plain": [
              "97.97688792693084"
            ]
          },
          "metadata": {},
          "execution_count": 29
        }
      ]
    },
    {
      "cell_type": "code",
      "source": [
        "# ML --> is an appraoch to train models with  data and algo(optimizer)\n",
        "# in above example --> algo is \"Gradient Descent Algorithm \" (optimizer)\n",
        "# these optimizers act as \"brain \" to the model.\n"
      ],
      "metadata": {
        "id": "HIpt78choVd9"
      },
      "execution_count": null,
      "outputs": []
    },
    {
      "cell_type": "code",
      "source": [],
      "metadata": {
        "id": "FClol8T53YUk"
      },
      "execution_count": null,
      "outputs": []
    }
  ]
}