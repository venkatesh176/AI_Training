{
  "nbformat": 4,
  "nbformat_minor": 0,
  "metadata": {
    "colab": {
      "provenance": [],
      "include_colab_link": true
    },
    "kernelspec": {
      "name": "python3",
      "display_name": "Python 3"
    },
    "language_info": {
      "name": "python"
    }
  },
  "cells": [
    {
      "cell_type": "markdown",
      "metadata": {
        "id": "view-in-github",
        "colab_type": "text"
      },
      "source": [
        "<a href=\"https://colab.research.google.com/github/venkatesh176/AI_Training/blob/main/kfold_logistic_regression.ipynb\" target=\"_parent\"><img src=\"https://colab.research.google.com/assets/colab-badge.svg\" alt=\"Open In Colab\"/></a>"
      ]
    },
    {
      "cell_type": "code",
      "execution_count": null,
      "metadata": {
        "colab": {
          "base_uri": "https://localhost:8080/"
        },
        "id": "ocS4iKCaBAg3",
        "outputId": "820aade0-4b81-419f-8702-55c3e1291508"
      },
      "outputs": [
        {
          "output_type": "stream",
          "name": "stdout",
          "text": [
            "Cross-Validation Accuracy Scores: [1.  0.9 1.  1.  1. ]\n",
            "Average Accuracy Score: 0.9800000000000001\n"
          ]
        }
      ],
      "source": [
        "import numpy as np\n",
        "from sklearn.model_selection import cross_val_score, KFold\n",
        "from sklearn.linear_model import LogisticRegression\n",
        "from sklearn.datasets import make_classification\n",
        "\n",
        "# Step 1: Create synthetic classification data (minimum 50 samples)\n",
        "X, y = make_classification(n_samples=50, n_features=4, n_classes=2, random_state=42)\n",
        "\n",
        "# Step 2: Define the Logistic Regression model\n",
        "model = LogisticRegression()\n",
        "\n",
        "# Step 3: Set up 5-fold cross-validation\n",
        "kf = KFold(n_splits=5, shuffle=True, random_state=42)\n",
        "\n",
        "# Step 4: Perform cross-validation\n",
        "scores = cross_val_score(model, X, y, cv=kf, scoring='accuracy')\n",
        "\n",
        "# Step 5: Print the results\n",
        "print(\"Cross-Validation Accuracy Scores:\", scores)\n",
        "print(\"Average Accuracy Score:\", np.mean(scores))\n"
      ]
    },
    {
      "cell_type": "code",
      "source": [],
      "metadata": {
        "id": "EzG6cgkzRnT9"
      },
      "execution_count": null,
      "outputs": []
    }
  ]
}