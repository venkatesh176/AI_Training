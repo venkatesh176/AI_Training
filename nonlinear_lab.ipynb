{
  "nbformat": 4,
  "nbformat_minor": 0,
  "metadata": {
    "colab": {
      "provenance": [],
      "include_colab_link": true
    },
    "kernelspec": {
      "name": "python3",
      "display_name": "Python 3"
    },
    "language_info": {
      "name": "python"
    }
  },
  "cells": [
    {
      "cell_type": "markdown",
      "metadata": {
        "id": "view-in-github",
        "colab_type": "text"
      },
      "source": [
        "<a href=\"https://colab.research.google.com/github/venkatesh176/AI_Training/blob/main/nonlinear_lab.ipynb\" target=\"_parent\"><img src=\"https://colab.research.google.com/assets/colab-badge.svg\" alt=\"Open In Colab\"/></a>"
      ]
    },
    {
      "cell_type": "code",
      "execution_count": null,
      "metadata": {
        "colab": {
          "base_uri": "https://localhost:8080/"
        },
        "id": "xh3nSXND44Ql",
        "outputId": "7926fdb9-6c72-4c1d-c2ec-d23b5a638bde"
      },
      "outputs": [
        {
          "output_type": "execute_result",
          "data": {
            "text/plain": [
              "14"
            ]
          },
          "metadata": {},
          "execution_count": 2
        }
      ],
      "source": [
        "age = [20, 21, 24, 25, 26, 28, 30, 32, 35, 40, 42, 45, 48, 50 ]\n",
        "len(age)"
      ]
    },
    {
      "cell_type": "code",
      "source": [
        "h1 = age[:7]\n",
        "print(h1)"
      ],
      "metadata": {
        "colab": {
          "base_uri": "https://localhost:8080/"
        },
        "id": "G-o4M81L5Qok",
        "outputId": "ce2ed88e-17a7-42a6-fed2-b301381e44fd"
      },
      "execution_count": null,
      "outputs": [
        {
          "output_type": "stream",
          "name": "stdout",
          "text": [
            "[20, 21, 24, 25, 26, 28, 30]\n"
          ]
        }
      ]
    },
    {
      "cell_type": "code",
      "source": [
        "h2 = age[7:]\n",
        "h2"
      ],
      "metadata": {
        "colab": {
          "base_uri": "https://localhost:8080/"
        },
        "id": "F1gWs59q5jx6",
        "outputId": "87743023-4489-4406-dd44-9b5067f9d5cc"
      },
      "execution_count": null,
      "outputs": [
        {
          "output_type": "execute_result",
          "data": {
            "text/plain": [
              "[32, 35, 40, 42, 45, 48, 50]"
            ]
          },
          "metadata": {},
          "execution_count": 4
        }
      ]
    },
    {
      "cell_type": "code",
      "source": [
        "import numpy as np\n",
        "H1 = np.array(h1)\n",
        "income1 = 2* H1 + 50\n",
        "income1"
      ],
      "metadata": {
        "colab": {
          "base_uri": "https://localhost:8080/"
        },
        "id": "NLKdn5aG5nms",
        "outputId": "20bb8889-38c7-4771-db9e-0a9924eaf0ff"
      },
      "execution_count": null,
      "outputs": [
        {
          "output_type": "execute_result",
          "data": {
            "text/plain": [
              "array([ 90,  92,  98, 100, 102, 106, 110])"
            ]
          },
          "metadata": {},
          "execution_count": 9
        }
      ]
    },
    {
      "cell_type": "code",
      "source": [
        "np.c_[H1, income1]"
      ],
      "metadata": {
        "colab": {
          "base_uri": "https://localhost:8080/"
        },
        "id": "_RXG0ByJ5507",
        "outputId": "9028735f-8971-4fd1-dcbe-f45c29cf6f81"
      },
      "execution_count": null,
      "outputs": [
        {
          "output_type": "execute_result",
          "data": {
            "text/plain": [
              "array([[20, 43],\n",
              "       [21, 45],\n",
              "       [24, 51],\n",
              "       [25, 53],\n",
              "       [26, 55],\n",
              "       [28, 59],\n",
              "       [30, 63]])"
            ]
          },
          "metadata": {},
          "execution_count": 6
        }
      ]
    },
    {
      "cell_type": "code",
      "source": [
        "H2 = np.array(h2)\n",
        "income2 = 50 -   H2\n",
        "np.c_[H2, income2]"
      ],
      "metadata": {
        "colab": {
          "base_uri": "https://localhost:8080/"
        },
        "id": "3Nd9FJKp6Bol",
        "outputId": "e8a27194-e868-434b-c210-b11b5a772dad"
      },
      "execution_count": null,
      "outputs": [
        {
          "output_type": "execute_result",
          "data": {
            "text/plain": [
              "array([[32, 18],\n",
              "       [35, 15],\n",
              "       [40, 10],\n",
              "       [42,  8],\n",
              "       [45,  5],\n",
              "       [48,  2],\n",
              "       [50,  0]])"
            ]
          },
          "metadata": {},
          "execution_count": 10
        }
      ]
    },
    {
      "cell_type": "code",
      "source": [
        "age"
      ],
      "metadata": {
        "colab": {
          "base_uri": "https://localhost:8080/"
        },
        "id": "fgZ1NfPq6UFI",
        "outputId": "2d1324af-a3f3-496d-9103-76e35e9ea06f"
      },
      "execution_count": null,
      "outputs": [
        {
          "output_type": "execute_result",
          "data": {
            "text/plain": [
              "[20, 21, 24, 25, 26, 28, 30, 32, 35, 40, 42, 45, 48, 50]"
            ]
          },
          "metadata": {},
          "execution_count": 11
        }
      ]
    },
    {
      "cell_type": "code",
      "source": [
        "income = np.concatenate((income1, income2))\n",
        "income"
      ],
      "metadata": {
        "colab": {
          "base_uri": "https://localhost:8080/"
        },
        "id": "xStOri6G6me0",
        "outputId": "db8cfafd-dedb-4d62-d30d-a0dd0c001424"
      },
      "execution_count": null,
      "outputs": [
        {
          "output_type": "execute_result",
          "data": {
            "text/plain": [
              "array([ 90,  92,  98, 100, 102, 106, 110,  18,  15,  10,   8,   5,   2,\n",
              "         0])"
            ]
          },
          "metadata": {},
          "execution_count": 12
        }
      ]
    },
    {
      "cell_type": "code",
      "source": [
        "np.c_[age, income]"
      ],
      "metadata": {
        "colab": {
          "base_uri": "https://localhost:8080/"
        },
        "id": "gMa3OYXj6t3K",
        "outputId": "2f570d11-8571-44dc-f43f-b57b104da813"
      },
      "execution_count": null,
      "outputs": [
        {
          "output_type": "execute_result",
          "data": {
            "text/plain": [
              "array([[ 20,  90],\n",
              "       [ 21,  92],\n",
              "       [ 24,  98],\n",
              "       [ 25, 100],\n",
              "       [ 26, 102],\n",
              "       [ 28, 106],\n",
              "       [ 30, 110],\n",
              "       [ 32,  18],\n",
              "       [ 35,  15],\n",
              "       [ 40,  10],\n",
              "       [ 42,   8],\n",
              "       [ 45,   5],\n",
              "       [ 48,   2],\n",
              "       [ 50,   0]])"
            ]
          },
          "metadata": {},
          "execution_count": 13
        }
      ]
    },
    {
      "cell_type": "code",
      "source": [
        "# feature matrix.\n",
        "# degree 1 . (linear regression)\n",
        "ones = np.ones(len(age))\n",
        "X1 = np.c_[ones, age]\n",
        "X1.shape"
      ],
      "metadata": {
        "colab": {
          "base_uri": "https://localhost:8080/"
        },
        "id": "7hwQCkJo64IW",
        "outputId": "18142da3-7747-4ecb-e21f-1c19630a43ea"
      },
      "execution_count": null,
      "outputs": [
        {
          "output_type": "execute_result",
          "data": {
            "text/plain": [
              "(14, 2)"
            ]
          },
          "metadata": {},
          "execution_count": 14
        }
      ]
    },
    {
      "cell_type": "code",
      "source": [
        "Y = np.c_[income]"
      ],
      "metadata": {
        "id": "X8-fV9OE7Imq"
      },
      "execution_count": null,
      "outputs": []
    },
    {
      "cell_type": "code",
      "source": [
        "from numpy.linalg import inv\n",
        "def weights(x, y):\n",
        "   return inv(x.T.dot(x)).dot(x.T.dot(y))"
      ],
      "metadata": {
        "id": "jXxCHXCB7NRb"
      },
      "execution_count": null,
      "outputs": []
    },
    {
      "cell_type": "code",
      "source": [
        "W1 = weights(X1, Y)"
      ],
      "metadata": {
        "id": "uJva6ee38l3V"
      },
      "execution_count": null,
      "outputs": []
    },
    {
      "cell_type": "code",
      "source": [
        "ycap1 = X1.dot(W1)\n",
        "np.c_[Y, ycap1]"
      ],
      "metadata": {
        "colab": {
          "base_uri": "https://localhost:8080/"
        },
        "id": "S34nsaFG7igT",
        "outputId": "d4bbfa40-b34b-4e3e-fda7-6b49b3df54a1"
      },
      "execution_count": null,
      "outputs": [
        {
          "output_type": "execute_result",
          "data": {
            "text/plain": [
              "array([[ 90.        , 108.84308682],\n",
              "       [ 92.        , 104.71511254],\n",
              "       [ 98.        ,  92.33118971],\n",
              "       [100.        ,  88.20321543],\n",
              "       [102.        ,  84.07524116],\n",
              "       [106.        ,  75.8192926 ],\n",
              "       [110.        ,  67.56334405],\n",
              "       [ 18.        ,  59.3073955 ],\n",
              "       [ 15.        ,  46.92347267],\n",
              "       [ 10.        ,  26.28360129],\n",
              "       [  8.        ,  18.02765273],\n",
              "       [  5.        ,   5.6437299 ],\n",
              "       [  2.        ,  -6.74019293],\n",
              "       [  0.        , -14.99614148]])"
            ]
          },
          "metadata": {},
          "execution_count": 23
        }
      ]
    },
    {
      "cell_type": "code",
      "source": [
        "def rscore(y, ycap):\n",
        "   rss =  ((y-ycap)**2).sum()\n",
        "   tss =  ((y-y.mean())**2).sum()\n",
        "   return 1 - rss/tss\n"
      ],
      "metadata": {
        "id": "jf5xXooo7rWc"
      },
      "execution_count": null,
      "outputs": []
    },
    {
      "cell_type": "code",
      "source": [
        "rscore(Y, ycap1)"
      ],
      "metadata": {
        "colab": {
          "base_uri": "https://localhost:8080/"
        },
        "id": "EGtfVJxu8BDp",
        "outputId": "083d9963-9775-4206-ebc7-57ded0ea796a"
      },
      "execution_count": null,
      "outputs": [
        {
          "output_type": "execute_result",
          "data": {
            "text/plain": [
              "0.7614871075388379"
            ]
          },
          "metadata": {},
          "execution_count": 25
        }
      ]
    },
    {
      "cell_type": "code",
      "source": [
        "# experiment with non linear 2nd degree.\n",
        "age = np.array(age)\n",
        "age2 = age**2\n",
        "X2 = np.c_[ones, age, age2]\n",
        "X2.shape"
      ],
      "metadata": {
        "colab": {
          "base_uri": "https://localhost:8080/"
        },
        "id": "S56qOgX-8FPH",
        "outputId": "9586cf56-d4dd-43ab-aafd-f8aa4c3c1329"
      },
      "execution_count": null,
      "outputs": [
        {
          "output_type": "execute_result",
          "data": {
            "text/plain": [
              "(14, 3)"
            ]
          },
          "metadata": {},
          "execution_count": 20
        }
      ]
    },
    {
      "cell_type": "code",
      "source": [
        "W2 = weights(X2, Y)\n",
        "W2"
      ],
      "metadata": {
        "colab": {
          "base_uri": "https://localhost:8080/"
        },
        "id": "espFBNvX8YmN",
        "outputId": "3ced3ea3-afda-4f84-8077-aa41a6432503"
      },
      "execution_count": null,
      "outputs": [
        {
          "output_type": "execute_result",
          "data": {
            "text/plain": [
              "array([[ 2.28087596e+02],\n",
              "       [-6.41414596e+00],\n",
              "       [ 3.27574012e-02]])"
            ]
          },
          "metadata": {},
          "execution_count": 26
        }
      ]
    },
    {
      "cell_type": "code",
      "source": [
        "ycap2 = X2.dot(W2)\n",
        "np.c_[Y , ycap2]"
      ],
      "metadata": {
        "colab": {
          "base_uri": "https://localhost:8080/"
        },
        "id": "tQUTC4qX8zOa",
        "outputId": "60e1eada-a9e1-4edf-b776-2e78be7a09cf"
      },
      "execution_count": null,
      "outputs": [
        {
          "output_type": "execute_result",
          "data": {
            "text/plain": [
              "array([[ 90.        , 112.9076378 ],\n",
              "       [ 92.        , 107.83654529],\n",
              "       [ 98.        ,  93.01635657],\n",
              "       [100.        ,  88.20732328],\n",
              "       [102.        ,  83.46380478],\n",
              "       [106.        ,  74.17331219],\n",
              "       [110.        ,  65.14487881],\n",
              "       [ 18.        ,  56.37850465],\n",
              "       [ 15.        ,  43.72030441],\n",
              "       [ 10.        ,  23.93360007],\n",
              "       [  8.        ,  16.47752195],\n",
              "       [  5.        ,   5.78476579],\n",
              "       [  2.        ,  -4.31835715],\n",
              "       [  0.        , -10.72619843]])"
            ]
          },
          "metadata": {},
          "execution_count": 27
        }
      ]
    },
    {
      "cell_type": "code",
      "source": [
        "rscore(Y, ycap2)"
      ],
      "metadata": {
        "colab": {
          "base_uri": "https://localhost:8080/"
        },
        "id": "wkQg73Rs88US",
        "outputId": "93e6b82f-a7a7-4a49-afbf-632cf51591c4"
      },
      "execution_count": null,
      "outputs": [
        {
          "output_type": "execute_result",
          "data": {
            "text/plain": [
              "0.7643888429555852"
            ]
          },
          "metadata": {},
          "execution_count": 28
        }
      ]
    },
    {
      "cell_type": "code",
      "source": [
        "age3 = age**3\n",
        "X3 = np.c_[ones, age, age2, age3]\n",
        "W3 = weights(X3, Y)\n",
        "W3"
      ],
      "metadata": {
        "colab": {
          "base_uri": "https://localhost:8080/"
        },
        "id": "M-Jn5fE99I1f",
        "outputId": "fb0b4e0e-fb9d-4801-bae4-1261ecc8a5ba"
      },
      "execution_count": null,
      "outputs": [
        {
          "output_type": "execute_result",
          "data": {
            "text/plain": [
              "array([[-5.21317118e+02],\n",
              "       [ 6.47863101e+01],\n",
              "       [-2.11654640e+00],\n",
              "       [ 2.06752580e-02]])"
            ]
          },
          "metadata": {},
          "execution_count": 29
        }
      ]
    },
    {
      "cell_type": "code",
      "source": [
        "ycap3 = X3.dot(W3)\n",
        "rscore(Y, ycap3)"
      ],
      "metadata": {
        "colab": {
          "base_uri": "https://localhost:8080/"
        },
        "id": "sMejTuRG9YJP",
        "outputId": "2511fbea-a892-4be5-d85c-f193b732a13f"
      },
      "execution_count": null,
      "outputs": [
        {
          "output_type": "execute_result",
          "data": {
            "text/plain": [
              "0.8461795949995257"
            ]
          },
          "metadata": {},
          "execution_count": 30
        }
      ]
    },
    {
      "cell_type": "code",
      "source": [
        "age4 = age**4\n",
        "X4 = np.c_[ones, age, age2, age3, age4]\n",
        "W4 = weights(X4, Y)\n",
        "ycap4 = X4.dot(W4)\n",
        "rscore(Y , ycap4)"
      ],
      "metadata": {
        "colab": {
          "base_uri": "https://localhost:8080/"
        },
        "id": "Y0rd0p319hPw",
        "outputId": "e8771fce-1711-4fec-d6a9-debe6978038c"
      },
      "execution_count": null,
      "outputs": [
        {
          "output_type": "execute_result",
          "data": {
            "text/plain": [
              "0.8838541203827508"
            ]
          },
          "metadata": {},
          "execution_count": 31
        }
      ]
    },
    {
      "cell_type": "code",
      "source": [
        "age5 = age**5\n",
        "X5 = np.c_[ones, age, age2, age3, age4, age5]\n",
        "W5 = weights(X5, Y)\n",
        "ycap5 = X5.dot(W5)\n",
        "rscore(Y, ycap5)"
      ],
      "metadata": {
        "colab": {
          "base_uri": "https://localhost:8080/"
        },
        "id": "oXnkJznE-A38",
        "outputId": "8f7d0767-f347-42f4-c6dc-e74cbf320439"
      },
      "execution_count": null,
      "outputs": [
        {
          "output_type": "execute_result",
          "data": {
            "text/plain": [
              "0.8890582928574597"
            ]
          },
          "metadata": {},
          "execution_count": 32
        }
      ]
    },
    {
      "cell_type": "code",
      "source": [
        "age6 = age**6\n",
        "X6 = np.c_[ones, age, age2, age3, age4, age5, age6]\n",
        "W6 = weights(X6, Y)\n",
        "ycap6 = X6.dot(W6)\n",
        "rscore(Y, ycap6)"
      ],
      "metadata": {
        "colab": {
          "base_uri": "https://localhost:8080/"
        },
        "id": "N6Hf1axn-WEH",
        "outputId": "540e52c7-e061-426d-eaba-8e43f3c4c350"
      },
      "execution_count": null,
      "outputs": [
        {
          "output_type": "execute_result",
          "data": {
            "text/plain": [
              "0.9230590808197886"
            ]
          },
          "metadata": {},
          "execution_count": 33
        }
      ]
    },
    {
      "cell_type": "code",
      "source": [
        "age7 = age**7\n",
        "X7 = np.c_[ones, age, age2, age3, age4, age5, age6, age7]\n",
        "W7 = weights(X7, Y)\n",
        "ycap7 = X7.dot(W7)\n",
        "rscore(Y, ycap7)"
      ],
      "metadata": {
        "colab": {
          "base_uri": "https://localhost:8080/"
        },
        "id": "pDHCg_rN-nba",
        "outputId": "af8a0a45-be8f-4fce-f1f0-39eca233412e"
      },
      "execution_count": null,
      "outputs": [
        {
          "output_type": "execute_result",
          "data": {
            "text/plain": [
              "0.9230835901069528"
            ]
          },
          "metadata": {},
          "execution_count": 34
        }
      ]
    },
    {
      "cell_type": "code",
      "source": [
        "age8 = age**8\n",
        "X8 = np.c_[ones, age, age2, age3, age4, age5, age6, age7, age8]\n",
        "W8 = weights(X8, Y)\n",
        "ycap8 = X8.dot(W8)\n",
        "rscore(Y, ycap8)"
      ],
      "metadata": {
        "colab": {
          "base_uri": "https://localhost:8080/"
        },
        "id": "Fnz6EP2W-yaX",
        "outputId": "a60bdfba-5892-4a0c-c721-9acc021be93e"
      },
      "execution_count": null,
      "outputs": [
        {
          "output_type": "execute_result",
          "data": {
            "text/plain": [
              "0.9408042784038468"
            ]
          },
          "metadata": {},
          "execution_count": 56
        }
      ]
    },
    {
      "cell_type": "code",
      "source": [
        "age9 = age**9\n",
        "X9 = np.c_[ones, age, age2, age3, age4, age5, age6, age7, age8, age9]\n",
        "W9 = weights(X9, Y)\n",
        "ycap9 = X9.dot(W9)\n",
        "rscore(Y, ycap9)"
      ],
      "metadata": {
        "colab": {
          "base_uri": "https://localhost:8080/"
        },
        "id": "UbTloUsH_ALo",
        "outputId": "b0f34d2a-0085-40c3-9e8a-a7c8789bed29"
      },
      "execution_count": null,
      "outputs": [
        {
          "output_type": "execute_result",
          "data": {
            "text/plain": [
              "0.9076942780036065"
            ]
          },
          "metadata": {},
          "execution_count": 36
        }
      ]
    },
    {
      "cell_type": "code",
      "source": [
        "# among all experiments , 8th degree model gave high accuracy.\n",
        "# W8 is model fit.\n",
        "print(W8)"
      ],
      "metadata": {
        "colab": {
          "base_uri": "https://localhost:8080/"
        },
        "id": "enrFiN59_RV7",
        "outputId": "fb4fe5d6-6725-450c-ce91-d80231e1c09f"
      },
      "execution_count": null,
      "outputs": [
        {
          "output_type": "stream",
          "name": "stdout",
          "text": [
            "[[-6.03977271e+05]\n",
            " [ 1.56651113e+05]\n",
            " [-1.74573181e+04]\n",
            " [ 1.09168060e+03]\n",
            " [-4.19005422e+01]\n",
            " [ 1.01109450e+00]\n",
            " [-1.49887834e-02]\n",
            " [ 1.24898040e-04]\n",
            " [-4.48277927e-07]]\n"
          ]
        }
      ]
    },
    {
      "cell_type": "code",
      "source": [
        "# new data.\n",
        "new_age = [24, 35, 40, 21]\n",
        "a = np.array(new_age)\n",
        "a2 = a**2\n",
        "a3 = a**3\n",
        "a4 = a**4\n",
        "a5 = a**5\n",
        "a6 = a**6\n",
        "a7 = a**7\n",
        "a8 = a**8"
      ],
      "metadata": {
        "id": "96oRjygs_oIU"
      },
      "execution_count": null,
      "outputs": []
    },
    {
      "cell_type": "code",
      "source": [
        "o = np.ones(len(new_age))\n",
        "P = np.c_[o, a, a2, a3, a4, a5, a6, a7, a8]\n",
        "P.shape"
      ],
      "metadata": {
        "colab": {
          "base_uri": "https://localhost:8080/"
        },
        "id": "RdGazntqAJcW",
        "outputId": "a3813c89-4705-4721-c9eb-055ddf102e69"
      },
      "execution_count": null,
      "outputs": [
        {
          "output_type": "execute_result",
          "data": {
            "text/plain": [
              "(4, 9)"
            ]
          },
          "metadata": {},
          "execution_count": 39
        }
      ]
    },
    {
      "cell_type": "code",
      "source": [
        "new_income = P.dot(W8)\n",
        "new_income"
      ],
      "metadata": {
        "colab": {
          "base_uri": "https://localhost:8080/"
        },
        "id": "ylPNlinoAZ4I",
        "outputId": "8ec611a1-f64c-43d7-87af-60148f299f0d"
      },
      "execution_count": null,
      "outputs": [
        {
          "output_type": "execute_result",
          "data": {
            "text/plain": [
              "array([[93.71208342],\n",
              "       [ 1.41734618],\n",
              "       [ 9.59493183],\n",
              "       [93.02317124]])"
            ]
          },
          "metadata": {},
          "execution_count": 40
        }
      ]
    },
    {
      "cell_type": "code",
      "source": [
        "np.c_[new_age, new_income]"
      ],
      "metadata": {
        "colab": {
          "base_uri": "https://localhost:8080/"
        },
        "id": "1EeYyco4AlW_",
        "outputId": "ee0b5fbd-1964-4a04-c5e5-b0eb52b61c09"
      },
      "execution_count": null,
      "outputs": [
        {
          "output_type": "execute_result",
          "data": {
            "text/plain": [
              "array([[24.        , 93.71208342],\n",
              "       [35.        ,  1.41734618],\n",
              "       [40.        ,  9.59493183],\n",
              "       [21.        , 93.02317124]])"
            ]
          },
          "metadata": {},
          "execution_count": 41
        }
      ]
    },
    {
      "cell_type": "code",
      "source": [
        "np.c_[age, income]"
      ],
      "metadata": {
        "colab": {
          "base_uri": "https://localhost:8080/"
        },
        "id": "s1885afIAqK9",
        "outputId": "52c7b87c-5760-46b8-eda9-1f8b9d70aee6"
      },
      "execution_count": null,
      "outputs": [
        {
          "output_type": "execute_result",
          "data": {
            "text/plain": [
              "array([[ 20,  90],\n",
              "       [ 21,  92],\n",
              "       [ 24,  98],\n",
              "       [ 25, 100],\n",
              "       [ 26, 102],\n",
              "       [ 28, 106],\n",
              "       [ 30, 110],\n",
              "       [ 32,  18],\n",
              "       [ 35,  15],\n",
              "       [ 40,  10],\n",
              "       [ 42,   8],\n",
              "       [ 45,   5],\n",
              "       [ 48,   2],\n",
              "       [ 50,   0]])"
            ]
          },
          "metadata": {},
          "execution_count": 42
        }
      ]
    },
    {
      "cell_type": "code",
      "source": [
        "X8.shape"
      ],
      "metadata": {
        "colab": {
          "base_uri": "https://localhost:8080/"
        },
        "id": "xCt16MYCA-Ii",
        "outputId": "4b2250d9-6779-4f9d-a02b-beb57fef5582"
      },
      "execution_count": null,
      "outputs": [
        {
          "output_type": "execute_result",
          "data": {
            "text/plain": [
              "(14, 9)"
            ]
          },
          "metadata": {},
          "execution_count": 58
        }
      ]
    },
    {
      "cell_type": "code",
      "source": [],
      "metadata": {
        "colab": {
          "base_uri": "https://localhost:8080/"
        },
        "id": "3SQWlMcAC3ND",
        "outputId": "1859b9d5-4a47-4300-d64d-2d0b98102176"
      },
      "execution_count": null,
      "outputs": [
        {
          "output_type": "execute_result",
          "data": {
            "text/plain": [
              "9.757257895159535"
            ]
          },
          "metadata": {},
          "execution_count": 61
        }
      ]
    },
    {
      "cell_type": "code",
      "source": [
        "def scale(x):\n",
        "   return (x-x.mean())/x.std()\n",
        "\n",
        "X8_scale = np.copy(X8)\n"
      ],
      "metadata": {
        "id": "nOdWjBlkBDsJ"
      },
      "execution_count": null,
      "outputs": []
    },
    {
      "cell_type": "code",
      "source": [],
      "metadata": {
        "colab": {
          "base_uri": "https://localhost:8080/"
        },
        "id": "zwznl34uDCRM",
        "outputId": "5daff7ec-b61c-481a-cc17-84b173d520bb"
      },
      "execution_count": null,
      "outputs": [
        {
          "output_type": "execute_result",
          "data": {
            "text/plain": [
              "685.1857784720929"
            ]
          },
          "metadata": {},
          "execution_count": 64
        }
      ]
    },
    {
      "cell_type": "code",
      "source": [
        "for c in range(X8.shape[1]):\n",
        "  if c!=0:\n",
        "      X8_scale[:, c] = scale(X8_scale[:, c])\n"
      ],
      "metadata": {
        "id": "ARvIqRLvBPhY"
      },
      "execution_count": null,
      "outputs": []
    },
    {
      "cell_type": "code",
      "source": [
        "for c in range(X8_scale.shape[1]):\n",
        "  if c!=0:\n",
        "     print(X8_scale[:, c].std())"
      ],
      "metadata": {
        "colab": {
          "base_uri": "https://localhost:8080/"
        },
        "id": "ibH5vMDUBn9H",
        "outputId": "d5670689-568a-4b29-ae9a-125f156eae6c"
      },
      "execution_count": null,
      "outputs": [
        {
          "output_type": "stream",
          "name": "stdout",
          "text": [
            "0.9999999999999999\n",
            "1.0\n",
            "0.9999999999999999\n",
            "1.0\n",
            "0.9999999999999999\n",
            "1.0\n",
            "1.0\n",
            "1.0\n"
          ]
        }
      ]
    },
    {
      "cell_type": "code",
      "source": [
        "Y_original= np.copy(Y)\n",
        "Y = scale(Y)\n",
        "Y"
      ],
      "metadata": {
        "colab": {
          "base_uri": "https://localhost:8080/"
        },
        "id": "KYiToriVFCda",
        "outputId": "b777ce32-481c-4f3d-8d43-b8e277b40a9f"
      },
      "execution_count": null,
      "outputs": [
        {
          "output_type": "execute_result",
          "data": {
            "text/plain": [
              "array([[ 0.77995404],\n",
              "       [ 0.82328482],\n",
              "       [ 0.95327716],\n",
              "       [ 0.99660794],\n",
              "       [ 1.03993872],\n",
              "       [ 1.12660028],\n",
              "       [ 1.21326184],\n",
              "       [-0.77995404],\n",
              "       [-0.84495021],\n",
              "       [-0.95327716],\n",
              "       [-0.99660794],\n",
              "       [-1.06160411],\n",
              "       [-1.12660028],\n",
              "       [-1.16993106]])"
            ]
          },
          "metadata": {},
          "execution_count": 73
        }
      ]
    },
    {
      "cell_type": "code",
      "source": [
        "Y.std()"
      ],
      "metadata": {
        "colab": {
          "base_uri": "https://localhost:8080/"
        },
        "id": "xUi5CtMFFL6E",
        "outputId": "e27bc4b7-cc00-48e9-9d43-d817ed6ef9b8"
      },
      "execution_count": null,
      "outputs": [
        {
          "output_type": "execute_result",
          "data": {
            "text/plain": [
              "1.0000000000000002"
            ]
          },
          "metadata": {},
          "execution_count": 74
        }
      ]
    },
    {
      "cell_type": "code",
      "source": [
        "X = np.copy(X8_scale)\n",
        "# W = random weights.\n",
        "np.random.seed(101)\n",
        "W = np.random.random((X8.shape[1], Y.shape[1]))*2 - 1\n",
        "W.shape"
      ],
      "metadata": {
        "colab": {
          "base_uri": "https://localhost:8080/"
        },
        "id": "rDm3bH5GDhGn",
        "outputId": "1a3a976e-e7fc-4cf8-b45c-faff3ac92ea2"
      },
      "execution_count": null,
      "outputs": [
        {
          "output_type": "execute_result",
          "data": {
            "text/plain": [
              "(9, 1)"
            ]
          },
          "metadata": {},
          "execution_count": 75
        }
      ]
    },
    {
      "cell_type": "code",
      "source": [
        "conv = 0.0000001\n",
        "flag=0\n",
        "pe = 0\n",
        "for i in range(100000):\n",
        "   ycap = X.dot(W)\n",
        "   ce = ((Y-ycap)**2).mean()\n",
        "   if i%1000==0:\n",
        "     print(\" current error after \" , i+1 , \" iterations \", ce)\n",
        "   delta = X.T.dot(Y-ycap)/Y.size\n",
        "   W += delta * 0.002\n",
        "   if np.abs(ce-pe) <=conv:\n",
        "      print(\"Training Completed after \", i+1, \" iterations \")\n",
        "      flag=1\n",
        "      break\n",
        "   pe=ce\n",
        "if flag==0:\n",
        "   print(\"Training not completed  \")\n"
      ],
      "metadata": {
        "colab": {
          "base_uri": "https://localhost:8080/"
        },
        "id": "oFpGD72cD0SJ",
        "outputId": "fc5bf9ca-9b22-4923-adf5-8e623983ca41"
      },
      "execution_count": null,
      "outputs": [
        {
          "output_type": "stream",
          "name": "stdout",
          "text": [
            " current error after  1  iterations  1.6713725195220799\n",
            " current error after  1001  iterations  0.1986136209534206\n",
            " current error after  2001  iterations  0.1977623056979792\n",
            " current error after  3001  iterations  0.19731255613735826\n",
            " current error after  4001  iterations  0.19700766159041033\n",
            " current error after  5001  iterations  0.19675899652321285\n",
            " current error after  6001  iterations  0.1965337894379958\n",
            " current error after  7001  iterations  0.196319846322849\n",
            " current error after  8001  iterations  0.19611259595616679\n",
            " current error after  9001  iterations  0.19591029237157104\n",
            " current error after  10001  iterations  0.1957122374252999\n",
            " current error after  11001  iterations  0.19551812224991474\n",
            " current error after  12001  iterations  0.19532778324608174\n",
            " current error after  13001  iterations  0.19514111165778525\n",
            " current error after  14001  iterations  0.19495802004940874\n",
            " current error after  15001  iterations  0.1947784298649362\n",
            " current error after  16001  iterations  0.19460226679834133\n",
            " current error after  17001  iterations  0.19442945905838274\n",
            " current error after  18001  iterations  0.19425993670616812\n",
            " current error after  19001  iterations  0.19409363139057775\n",
            " current error after  20001  iterations  0.19393047623148937\n",
            " current error after  21001  iterations  0.19377040575815374\n",
            " current error after  22001  iterations  0.19361335586838233\n",
            " current error after  23001  iterations  0.19345926379582282\n",
            " current error after  24001  iterations  0.1933080680805952\n",
            " current error after  25001  iterations  0.1931597085415317\n",
            " current error after  26001  iterations  0.19301412624936326\n",
            " current error after  27001  iterations  0.19287126350059922\n",
            " current error after  28001  iterations  0.19273106379200114\n",
            " current error after  29001  iterations  0.19259347179560585\n",
            " current error after  30001  iterations  0.19245843333427595\n",
            " current error after  31001  iterations  0.1923258953577604\n",
            " current error after  32001  iterations  0.1921958059192544\n",
            " current error after  33001  iterations  0.1920681141524476\n",
            " current error after  34001  iterations  0.191942770249049\n",
            " current error after  35001  iterations  0.19181972543678\n",
            " current error after  36001  iterations  0.1916989319578253\n",
            " current error after  37001  iterations  0.1915803430477315\n",
            " current error after  38001  iterations  0.19146391291474493\n",
            " current error after  39001  iterations  0.19134959671957935\n",
            " current error after  40001  iterations  0.19123735055560445\n",
            " current error after  41001  iterations  0.19112713142944607\n",
            " current error after  42001  iterations  0.19101889724199053\n",
            " current error after  43001  iterations  0.1909126067697835\n",
            " current error after  44001  iterations  0.19080821964681652\n",
            " current error after  45001  iterations  0.1907056963466913\n",
            "Training Completed after  45889  iterations \n"
          ]
        }
      ]
    },
    {
      "cell_type": "code",
      "source": [
        "ycap_ml = X.dot(W)\n",
        "rscore(Y, ycap_ml)"
      ],
      "metadata": {
        "colab": {
          "base_uri": "https://localhost:8080/"
        },
        "id": "TQyQklR0Bq8r",
        "outputId": "9bb77f7e-c796-4a99-927c-0cc120efba97"
      },
      "execution_count": null,
      "outputs": [
        {
          "output_type": "execute_result",
          "data": {
            "text/plain": [
              "0.8093839132028385"
            ]
          },
          "metadata": {},
          "execution_count": 78
        }
      ]
    },
    {
      "cell_type": "code",
      "source": [],
      "metadata": {
        "id": "MMcW27xiB3qc"
      },
      "execution_count": null,
      "outputs": []
    }
  ]
}