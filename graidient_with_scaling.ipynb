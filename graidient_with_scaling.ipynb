{
  "nbformat": 4,
  "nbformat_minor": 0,
  "metadata": {
    "colab": {
      "provenance": [],
      "include_colab_link": true
    },
    "kernelspec": {
      "name": "python3",
      "display_name": "Python 3"
    },
    "language_info": {
      "name": "python"
    }
  },
  "cells": [
    {
      "cell_type": "markdown",
      "metadata": {
        "id": "view-in-github",
        "colab_type": "text"
      },
      "source": [
        "<a href=\"https://colab.research.google.com/github/venkatesh176/Python_8AM/blob/main/graidient_with_scaling.ipynb\" target=\"_parent\"><img src=\"https://colab.research.google.com/assets/colab-badge.svg\" alt=\"Open In Colab\"/></a>"
      ]
    },
    {
      "cell_type": "code",
      "execution_count": null,
      "metadata": {
        "colab": {
          "base_uri": "https://localhost:8080/"
        },
        "id": "gCCGVzvw3czq",
        "outputId": "1713e350-664f-4812-92ad-af17d5b14c91"
      },
      "outputs": [
        {
          "output_type": "execute_result",
          "data": {
            "text/plain": [
              "10"
            ]
          },
          "metadata": {},
          "execution_count": 1
        }
      ],
      "source": [
        "# age , wgt, hgt are input variables.\n",
        "# cholestral is target variable.\n",
        "age = [25, 23, 34, 40, 20, 35, 23, 26, 30, 50]\n",
        "len(age)"
      ]
    },
    {
      "cell_type": "code",
      "source": [
        "wgt = [50, 48, 70, 79, 45, 71, 48, 55, 59, 98]\n",
        "hgt = [5.1, 5.2, 5.6, 5.9, 5.3, 6.0, 5.9, 5.5, 5.4, 5.9]\n"
      ],
      "metadata": {
        "id": "3n-e215_3tyW"
      },
      "execution_count": null,
      "outputs": []
    },
    {
      "cell_type": "code",
      "source": [
        "import numpy as np\n",
        "age = np.array(age)\n",
        "wgt = np.array(wgt)\n",
        "hgt = np.array(hgt)\n",
        "chol = 5 + 2 * age + 3* wgt - 1.5 * hgt\n",
        "chol\n"
      ],
      "metadata": {
        "colab": {
          "base_uri": "https://localhost:8080/"
        },
        "id": "uAWAZcfE4Gv6",
        "outputId": "848c988e-24a6-4efa-dd33-207a9e57be9e"
      },
      "execution_count": null,
      "outputs": [
        {
          "output_type": "execute_result",
          "data": {
            "text/plain": [
              "array([197.35, 187.2 , 274.6 , 313.15, 172.05, 279.  , 186.15, 213.75,\n",
              "       233.9 , 390.15])"
            ]
          },
          "metadata": {},
          "execution_count": 3
        }
      ]
    },
    {
      "cell_type": "code",
      "source": [
        "# step1 : feature matrix.\n",
        "ones = np.ones(len(age))\n",
        "X = np.c_[ones, age, wgt, hgt]\n",
        "X.shape"
      ],
      "metadata": {
        "colab": {
          "base_uri": "https://localhost:8080/"
        },
        "id": "Wf6S4xWJ4gK-",
        "outputId": "5c077f27-1395-4de0-e908-fc79cf33676d"
      },
      "execution_count": null,
      "outputs": [
        {
          "output_type": "execute_result",
          "data": {
            "text/plain": [
              "(10, 4)"
            ]
          },
          "metadata": {},
          "execution_count": 6
        }
      ]
    },
    {
      "cell_type": "code",
      "source": [
        "X"
      ],
      "metadata": {
        "colab": {
          "base_uri": "https://localhost:8080/"
        },
        "id": "CJXMnBo84wn6",
        "outputId": "7d0b89e2-7caa-4874-bb8d-e071448e68b7"
      },
      "execution_count": null,
      "outputs": [
        {
          "output_type": "execute_result",
          "data": {
            "text/plain": [
              "array([[ 1. , 25. , 50. ,  5.1],\n",
              "       [ 1. , 23. , 48. ,  5.2],\n",
              "       [ 1. , 34. , 70. ,  5.6],\n",
              "       [ 1. , 40. , 79. ,  5.9],\n",
              "       [ 1. , 20. , 45. ,  5.3],\n",
              "       [ 1. , 35. , 71. ,  6. ],\n",
              "       [ 1. , 23. , 48. ,  5.9],\n",
              "       [ 1. , 26. , 55. ,  5.5],\n",
              "       [ 1. , 30. , 59. ,  5.4],\n",
              "       [ 1. , 50. , 98. ,  5.9]])"
            ]
          },
          "metadata": {},
          "execution_count": 7
        }
      ]
    },
    {
      "cell_type": "code",
      "source": [
        "# step2 : label matrix\n",
        "Y = np.c_[chol]\n",
        "Y.shape"
      ],
      "metadata": {
        "colab": {
          "base_uri": "https://localhost:8080/"
        },
        "id": "ijNx_0Kc4zMr",
        "outputId": "fb824168-45c5-4370-e282-33d9831ea839"
      },
      "execution_count": null,
      "outputs": [
        {
          "output_type": "execute_result",
          "data": {
            "text/plain": [
              "(10, 1)"
            ]
          },
          "metadata": {},
          "execution_count": 8
        }
      ]
    },
    {
      "cell_type": "code",
      "source": [
        "Y"
      ],
      "metadata": {
        "colab": {
          "base_uri": "https://localhost:8080/"
        },
        "id": "CFXxxcZG4-6J",
        "outputId": "656b42b8-6099-4a05-c3dc-1439d72a74ea"
      },
      "execution_count": null,
      "outputs": [
        {
          "output_type": "execute_result",
          "data": {
            "text/plain": [
              "array([[197.35],\n",
              "       [187.2 ],\n",
              "       [274.6 ],\n",
              "       [313.15],\n",
              "       [172.05],\n",
              "       [279.  ],\n",
              "       [186.15],\n",
              "       [213.75],\n",
              "       [233.9 ],\n",
              "       [390.15]])"
            ]
          },
          "metadata": {},
          "execution_count": 9
        }
      ]
    },
    {
      "cell_type": "code",
      "source": [
        "# Random weights.\n",
        "np.random.seed(101)\n",
        "W = np.random.random((X.shape[1], Y.shape[1])) *2 - 1\n",
        "W.shape"
      ],
      "metadata": {
        "colab": {
          "base_uri": "https://localhost:8080/"
        },
        "id": "JWhU9RUw5An-",
        "outputId": "6232d114-327d-4b51-b6c6-0ee99fd19115"
      },
      "execution_count": null,
      "outputs": [
        {
          "output_type": "execute_result",
          "data": {
            "text/plain": [
              "(4, 1)"
            ]
          },
          "metadata": {},
          "execution_count": 14
        }
      ]
    },
    {
      "cell_type": "code",
      "source": [
        "W"
      ],
      "metadata": {
        "colab": {
          "base_uri": "https://localhost:8080/"
        },
        "id": "Ldfy4Nuz5bUg",
        "outputId": "75833f33-c7f3-4114-c8fa-5a6b1ff842e4"
      },
      "execution_count": null,
      "outputs": [
        {
          "output_type": "execute_result",
          "data": {
            "text/plain": [
              "array([[ 0.03279726],\n",
              "       [ 0.14133517],\n",
              "       [-0.94305155],\n",
              "       [-0.65695669]])"
            ]
          },
          "metadata": {},
          "execution_count": 11
        }
      ]
    },
    {
      "cell_type": "code",
      "source": [
        "def predict(x, w):\n",
        "   return x.dot(w)\n",
        "\n",
        "def mse(y, ycap):\n",
        "   return ((y-ycap)**2).mean()\n",
        "\n",
        "def derivative(x, y, ycap):\n",
        "    return   x.T.dot(y-ycap)/y.size\n",
        "\n",
        "def rsquare(y, ycap):\n",
        "   rss = ((y-ycap)**2).sum()\n",
        "   tss = ((y-y.mean())**2).sum()\n",
        "   return 1 - (rss/tss)\n"
      ],
      "metadata": {
        "id": "hDwxbtKo5c87"
      },
      "execution_count": null,
      "outputs": []
    },
    {
      "cell_type": "code",
      "source": [
        "# train model\n",
        "convergence = 0.0000000001\n",
        "pe=0\n",
        "flag=0\n",
        "alpha = 0.002\n",
        "for i in range(5):\n",
        "   ycap = predict(X, W)\n",
        "   ce = mse(Y, ycap)\n",
        "   print(ce)\n",
        "   '''\n",
        "   if i%1000==0:\n",
        "     print(\"Current Error after \", i+1 , \" iterations \", ce)\n",
        "   '''\n",
        "   delta = derivative(X, Y, ycap)\n",
        "   W += delta * alpha\n",
        "   if np.abs(pe-ce) <= convergence:\n",
        "      print(\" Training Completed after \", i+1 , \" iterations \")\n",
        "      flag=1\n",
        "      break\n",
        "   pe=ce\n",
        "if flag==0:\n",
        "  print(\" Training not completed , run more iterations \")\n"
      ],
      "metadata": {
        "colab": {
          "base_uri": "https://localhost:8080/"
        },
        "id": "J1LAEBVy6IP0",
        "outputId": "eb18fd5f-abdc-49c0-ee72-8da5e182efb4"
      },
      "execution_count": null,
      "outputs": [
        {
          "output_type": "stream",
          "name": "stdout",
          "text": [
            "512823708675016.2\n",
            "4.504638473848561e+16\n",
            "3.9568700582320154e+18\n",
            "3.475710814225796e+20\n",
            "3.053061001837375e+22\n",
            " Training not completed , run more iterations \n"
          ]
        }
      ]
    },
    {
      "cell_type": "code",
      "source": [
        "# in above trials of 5 iterations.\n",
        "# loss keep on increasing .\n",
        "# its the indication, the data needs scaling."
      ],
      "metadata": {
        "id": "REEqGdAX4m_B"
      },
      "execution_count": null,
      "outputs": []
    },
    {
      "cell_type": "code",
      "source": [
        "for c in range(X.shape[1]):\n",
        "   if c!=0:\n",
        "      print(X[:,c].std())\n",
        "\n",
        "#  variance of each input variable  is different\n",
        "\n"
      ],
      "metadata": {
        "colab": {
          "base_uri": "https://localhost:8080/"
        },
        "id": "kHzlbtxd8PpS",
        "outputId": "b2dba221-5d59-42a0-d2c7-6787868137f9"
      },
      "execution_count": null,
      "outputs": [
        {
          "output_type": "stream",
          "name": "stdout",
          "text": [
            "8.811356308764276\n",
            "16.161992451427516\n",
            "0.3124099870362663\n"
          ]
        }
      ]
    },
    {
      "cell_type": "code",
      "source": [],
      "metadata": {
        "id": "5mKxaGqw9Hn-"
      },
      "execution_count": null,
      "outputs": []
    },
    {
      "cell_type": "code",
      "source": [
        "# scaling.\n",
        "def scale(x):\n",
        "   return (x-x.mean())/x.std()\n",
        "\n",
        "\n"
      ],
      "metadata": {
        "id": "PYjU92JK85sP"
      },
      "execution_count": null,
      "outputs": []
    },
    {
      "cell_type": "code",
      "source": [
        "X_scale = np.copy(X)\n",
        "for c in range(X_scale.shape[1]):\n",
        "  if c!=0:\n",
        "      X_scale[:, c] = scale(X_scale[:, c])\n",
        "X_scale"
      ],
      "metadata": {
        "colab": {
          "base_uri": "https://localhost:8080/"
        },
        "id": "Lr-GOpAI8qE2",
        "outputId": "153e7b94-5e0e-4cea-cc3b-137814d3ecdc"
      },
      "execution_count": null,
      "outputs": [
        {
          "output_type": "execute_result",
          "data": {
            "text/plain": [
              "array([[ 1.        , -0.63554347, -0.76104478, -1.53644256],\n",
              "       [ 1.        , -0.86252329, -0.8847919 , -1.21635036],\n",
              "       [ 1.        ,  0.38586568,  0.47642641,  0.06401844],\n",
              "       [ 1.        ,  1.06680512,  1.03328844,  1.02429504],\n",
              "       [ 1.        , -1.202993  , -1.07041258, -0.89625816],\n",
              "       [ 1.        ,  0.49935559,  0.53829997,  1.34438724],\n",
              "       [ 1.        , -0.86252329, -0.8847919 ,  1.02429504],\n",
              "       [ 1.        , -0.52205357, -0.45167698, -0.25607376],\n",
              "       [ 1.        , -0.06809394, -0.20418275, -0.57616596],\n",
              "       [ 1.        ,  2.20170418,  2.20888607,  1.02429504]])"
            ]
          },
          "metadata": {},
          "execution_count": 19
        }
      ]
    },
    {
      "cell_type": "code",
      "source": [
        "for c in range(X_scale.shape[1]):\n",
        "   if c!=0:\n",
        "     print(X_scale[:,c].std())"
      ],
      "metadata": {
        "colab": {
          "base_uri": "https://localhost:8080/"
        },
        "id": "92lcLjgH-DEy",
        "outputId": "a22b2f05-9304-464d-d9de-970ff9a708c4"
      },
      "execution_count": null,
      "outputs": [
        {
          "output_type": "stream",
          "name": "stdout",
          "text": [
            "1.0\n",
            "1.0\n",
            "1.0\n"
          ]
        }
      ]
    },
    {
      "cell_type": "code",
      "source": [
        "# after scaling ,\n",
        "# each variable's  stadard deviation is close to 1 or equal to 1.\n",
        "# sd ~=1\n"
      ],
      "metadata": {
        "id": "Wqnuv5kR-RuT"
      },
      "execution_count": null,
      "outputs": []
    },
    {
      "cell_type": "code",
      "source": [
        "Y_scale = np.copy(Y)\n",
        "Y_scale = scale(Y_scale)\n",
        "Y_scale[:,0].std()"
      ],
      "metadata": {
        "colab": {
          "base_uri": "https://localhost:8080/"
        },
        "id": "PvGrxtyL-qUR",
        "outputId": "9a5859df-881f-4d3d-db36-7364a074d7eb"
      },
      "execution_count": null,
      "outputs": [
        {
          "output_type": "execute_result",
          "data": {
            "text/plain": [
              "1.0"
            ]
          },
          "metadata": {},
          "execution_count": 21
        }
      ]
    },
    {
      "cell_type": "code",
      "source": [
        "X"
      ],
      "metadata": {
        "colab": {
          "base_uri": "https://localhost:8080/"
        },
        "id": "azrjeit_-9Gu",
        "outputId": "01cdbca7-9e96-4ca7-ef2e-cfdfecc5ed1f"
      },
      "execution_count": null,
      "outputs": [
        {
          "output_type": "execute_result",
          "data": {
            "text/plain": [
              "array([[ 1. , 25. , 50. ,  5.1],\n",
              "       [ 1. , 23. , 48. ,  5.2],\n",
              "       [ 1. , 34. , 70. ,  5.6],\n",
              "       [ 1. , 40. , 79. ,  5.9],\n",
              "       [ 1. , 20. , 45. ,  5.3],\n",
              "       [ 1. , 35. , 71. ,  6. ],\n",
              "       [ 1. , 23. , 48. ,  5.9],\n",
              "       [ 1. , 26. , 55. ,  5.5],\n",
              "       [ 1. , 30. , 59. ,  5.4],\n",
              "       [ 1. , 50. , 98. ,  5.9]])"
            ]
          },
          "metadata": {},
          "execution_count": 22
        }
      ]
    },
    {
      "cell_type": "code",
      "source": [
        "X_scale"
      ],
      "metadata": {
        "colab": {
          "base_uri": "https://localhost:8080/"
        },
        "id": "9mv9Nlgy_AHP",
        "outputId": "0368b187-38d5-4856-ecce-0c813cf7c81a"
      },
      "execution_count": null,
      "outputs": [
        {
          "output_type": "execute_result",
          "data": {
            "text/plain": [
              "array([[ 1.        , -0.63554347, -0.76104478, -1.53644256],\n",
              "       [ 1.        , -0.86252329, -0.8847919 , -1.21635036],\n",
              "       [ 1.        ,  0.38586568,  0.47642641,  0.06401844],\n",
              "       [ 1.        ,  1.06680512,  1.03328844,  1.02429504],\n",
              "       [ 1.        , -1.202993  , -1.07041258, -0.89625816],\n",
              "       [ 1.        ,  0.49935559,  0.53829997,  1.34438724],\n",
              "       [ 1.        , -0.86252329, -0.8847919 ,  1.02429504],\n",
              "       [ 1.        , -0.52205357, -0.45167698, -0.25607376],\n",
              "       [ 1.        , -0.06809394, -0.20418275, -0.57616596],\n",
              "       [ 1.        ,  2.20170418,  2.20888607,  1.02429504]])"
            ]
          },
          "metadata": {},
          "execution_count": 23
        }
      ]
    },
    {
      "cell_type": "code",
      "source": [
        "Y"
      ],
      "metadata": {
        "colab": {
          "base_uri": "https://localhost:8080/"
        },
        "id": "faQ9xvNv9oDr",
        "outputId": "5306b767-cc8b-49a5-b05b-1155687d3882"
      },
      "execution_count": null,
      "outputs": [
        {
          "output_type": "execute_result",
          "data": {
            "text/plain": [
              "array([[197.35],\n",
              "       [187.2 ],\n",
              "       [274.6 ],\n",
              "       [313.15],\n",
              "       [172.05],\n",
              "       [279.  ],\n",
              "       [186.15],\n",
              "       [213.75],\n",
              "       [233.9 ],\n",
              "       [390.15]])"
            ]
          },
          "metadata": {},
          "execution_count": 24
        }
      ]
    },
    {
      "cell_type": "code",
      "source": [
        "Y_scale"
      ],
      "metadata": {
        "colab": {
          "base_uri": "https://localhost:8080/"
        },
        "id": "RqhTEsgN_DlO",
        "outputId": "eb908ffd-ca57-4bd4-9f7a-d4c3738d42c1"
      },
      "execution_count": null,
      "outputs": [
        {
          "output_type": "execute_result",
          "data": {
            "text/plain": [
              "array([[-0.72052578],\n",
              "       [-0.87488071],\n",
              "       [ 0.45424451],\n",
              "       [ 1.0404891 ],\n",
              "       [-1.10527255],\n",
              "       [ 0.52115699],\n",
              "       [-0.89084846],\n",
              "       [-0.47112471],\n",
              "       [-0.16469595],\n",
              "       [ 2.21145754]])"
            ]
          },
          "metadata": {},
          "execution_count": 25
        }
      ]
    },
    {
      "cell_type": "code",
      "source": [
        "np.random.seed(101)\n",
        "W = np.random.random((X.shape[1], Y.shape[1])) * 2-1\n",
        "W.shape"
      ],
      "metadata": {
        "colab": {
          "base_uri": "https://localhost:8080/"
        },
        "id": "-1VCO7Zv_du5",
        "outputId": "54137610-e58c-4ad6-f88f-d8e8742d40fc"
      },
      "execution_count": null,
      "outputs": [
        {
          "output_type": "execute_result",
          "data": {
            "text/plain": [
              "(4, 1)"
            ]
          },
          "metadata": {},
          "execution_count": 29
        }
      ]
    },
    {
      "cell_type": "code",
      "source": [
        "W"
      ],
      "metadata": {
        "colab": {
          "base_uri": "https://localhost:8080/"
        },
        "id": "Ee2uxa3__ooe",
        "outputId": "760c709e-aee0-4e1c-d864-4408888f9dd6"
      },
      "execution_count": null,
      "outputs": [
        {
          "output_type": "execute_result",
          "data": {
            "text/plain": [
              "array([[ 0.03279726],\n",
              "       [ 0.14133517],\n",
              "       [-0.94305155],\n",
              "       [-0.65695669]])"
            ]
          },
          "metadata": {},
          "execution_count": 27
        }
      ]
    },
    {
      "cell_type": "code",
      "source": [
        "# train model\n",
        "convergence = 0.0000000001\n",
        "pe=0\n",
        "flag=0\n",
        "alpha = 0.002\n",
        "for i in range(1000000):\n",
        "   ycap = predict(X_scale, W)\n",
        "   ce = mse(Y_scale, ycap)\n",
        "   if i%1000==0:\n",
        "     print(\"Current Error after \", i+1 , \" iterations \", ce)\n",
        "   delta = derivative(X_scale, Y_scale, ycap)\n",
        "   W += delta * alpha\n",
        "   if np.abs(pe-ce) <= convergence:\n",
        "      print(\" Training Completed after \", i+1 , \" iterations \")\n",
        "      flag=1\n",
        "      break\n",
        "   pe=ce\n",
        "if flag==0:\n",
        "  print(\" Training not completed , run more iterations \")\n"
      ],
      "metadata": {
        "colab": {
          "base_uri": "https://localhost:8080/"
        },
        "id": "VqukKFf8_FbG",
        "outputId": "ca7b816e-94a9-4967-9f5c-52990be6dfc0"
      },
      "execution_count": null,
      "outputs": [
        {
          "output_type": "stream",
          "name": "stdout",
          "text": [
            "Current Error after  1  iterations  0.0003004877312402257\n",
            "Current Error after  1001  iterations  0.00029668822539332393\n",
            "Current Error after  2001  iterations  0.0002929367622555905\n",
            "Current Error after  3001  iterations  0.0002892327343527908\n",
            "Current Error after  4001  iterations  0.00028557554189188\n",
            "Current Error after  5001  iterations  0.0002819645926638615\n",
            "Current Error after  6001  iterations  0.00027839930194792015\n",
            "Current Error after  7001  iterations  0.00027487909241670836\n",
            "Current Error after  8001  iterations  0.00027140339404287513\n",
            "Current Error after  9001  iterations  0.0002679716440067637\n",
            "Current Error after  10001  iterations  0.0002645832866052638\n",
            "Current Error after  11001  iterations  0.000261237773161835\n",
            "Current Error after  12001  iterations  0.00025793456193766364\n",
            "Current Error after  13001  iterations  0.00025467311804391255\n",
            "Current Error after  14001  iterations  0.0002514529133551451\n",
            "Current Error after  15001  iterations  0.00024827342642378444\n",
            "Current Error after  16001  iterations  0.0002451341423956696\n",
            "Current Error after  17001  iterations  0.0002420345529266967\n",
            "Current Error after  18001  iterations  0.00023897415610050335\n",
            "Current Error after  19001  iterations  0.00023595245634718963\n",
            "Current Error after  20001  iterations  0.00023296896436306814\n",
            "Current Error after  21001  iterations  0.00023002319703143564\n",
            "Current Error after  22001  iterations  0.00022711467734433643\n",
            "Current Error after  23001  iterations  0.0002242429343253271\n",
            "Current Error after  24001  iterations  0.00022140750295320945\n",
            "Current Error after  25001  iterations  0.00021860792408672343\n",
            "Current Error after  26001  iterations  0.0002158437443902078\n",
            "Current Error after  27001  iterations  0.0002131145162601839\n",
            "Current Error after  28001  iterations  0.00021041979775288019\n",
            "Current Error after  29001  iterations  0.00020775915251266888\n",
            "Current Error after  30001  iterations  0.00020513214970140076\n",
            "Current Error after  31001  iterations  0.00020253836392864914\n",
            "Current Error after  32001  iterations  0.00019997737518280987\n",
            "Current Error after  33001  iterations  0.00019744876876310905\n",
            "Current Error after  34001  iterations  0.00019495213521244023\n",
            "Current Error after  35001  iterations  0.00019248707025105945\n",
            "Current Error after  36001  iterations  0.00019005317471112087\n",
            "Current Error after  37001  iterations  0.000187650054472047\n",
            "Current Error after  38001  iterations  0.0001852773203966977\n",
            "Current Error after  39001  iterations  0.00018293458826836728\n",
            "Current Error after  40001  iterations  0.0001806214787285613\n",
            "Current Error after  41001  iterations  0.00017833761721557488\n",
            "Current Error after  42001  iterations  0.00017608263390382243\n",
            "Current Error after  43001  iterations  0.0001738561636439746\n",
            "Current Error after  44001  iterations  0.00017165784590381496\n",
            "Current Error after  45001  iterations  0.00016948732470986797\n",
            "Current Error after  46001  iterations  0.00016734424858974627\n",
            "Current Error after  47001  iterations  0.00016522827051524045\n",
            "Current Error after  48001  iterations  0.0001631390478461343\n",
            "Current Error after  49001  iterations  0.00016107624227470192\n",
            "Current Error after  50001  iterations  0.00015903951977094678\n",
            "Current Error after  51001  iterations  0.00015702855052849766\n",
            "Current Error after  52001  iterations  0.00015504300891120505\n",
            "Current Error after  53001  iterations  0.00015308257340041794\n",
            "Current Error after  54001  iterations  0.00015114692654291418\n",
            "Current Error after  55001  iterations  0.0001492357548994974\n",
            "Current Error after  56001  iterations  0.00014734874899424081\n",
            "Current Error after  57001  iterations  0.00014548560326437362\n",
            "Current Error after  58001  iterations  0.00014364601601080579\n",
            "Current Error after  59001  iterations  0.00014182968934926764\n",
            "Current Error after  60001  iterations  0.00014003632916207389\n",
            "Current Error after  61001  iterations  0.00013826564505049912\n",
            "Current Error after  62001  iterations  0.00013651735028775673\n",
            "Current Error after  63001  iterations  0.00013479116177256772\n",
            "Current Error after  64001  iterations  0.00013308679998331113\n",
            "Current Error after  65001  iterations  0.00013140398893277458\n",
            "Current Error after  66001  iterations  0.00012974245612344752\n",
            "Current Error after  67001  iterations  0.00012810193250340762\n",
            "Current Error after  68001  iterations  0.00012648215242274573\n",
            "Current Error after  69001  iterations  0.0001248828535905601\n",
            "Current Error after  70001  iterations  0.00012330377703246892\n",
            "Current Error after  71001  iterations  0.00012174466704868792\n",
            "Current Error after  72001  iterations  0.00012020527117261803\n",
            "Current Error after  73001  iterations  0.00011868534012996527\n",
            "Current Error after  74001  iterations  0.00011718462779836795\n",
            "Current Error after  75001  iterations  0.00011570289116756239\n",
            "Current Error after  76001  iterations  0.00011423989030000616\n",
            "Current Error after  77001  iterations  0.00011279538829204438\n",
            "Current Error after  78001  iterations  0.00011136915123554393\n",
            "Current Error after  79001  iterations  0.00010996094818000598\n",
            "Current Error after  80001  iterations  0.00010857055109518573\n",
            "Current Error after  81001  iterations  0.00010719773483415217\n",
            "Current Error after  82001  iterations  0.00010584227709683931\n",
            "Current Error after  83001  iterations  0.00010450395839404541\n",
            "Current Error after  84001  iterations  0.00010318256201189133\n",
            "Current Error after  85001  iterations  0.00010187787397672606\n",
            "Current Error after  86001  iterations  0.00010058968302048496\n",
            "Current Error after  87001  iterations  9.931778054647527e-05\n",
            "Current Error after  88001  iterations  9.806196059558973e-05\n",
            "Current Error after  89001  iterations  9.682201981297132e-05\n",
            "Current Error after  90001  iterations  9.55977574150697e-05\n",
            "Current Error after  91001  iterations  9.438897515713793e-05\n",
            "Current Error after  92001  iterations  9.319547730112754e-05\n",
            "Current Error after  93001  iterations  9.201707058399227e-05\n",
            "Current Error after  94001  iterations  9.085356418639136e-05\n",
            "Current Error after  95001  iterations  8.970476970179367e-05\n",
            "Current Error after  96001  iterations  8.857050110596754e-05\n",
            "Current Error after  97001  iterations  8.7450574726858e-05\n",
            "Current Error after  98001  iterations  8.634480921483982e-05\n",
            "Current Error after  99001  iterations  8.525302551336473e-05\n",
            "Current Error after  100001  iterations  8.417504682995139e-05\n",
            "Current Error after  101001  iterations  8.311069860756846e-05\n",
            "Current Error after  102001  iterations  8.205980849636177e-05\n",
            "Current Error after  103001  iterations  8.102220632574856e-05\n",
            "Current Error after  104001  iterations  7.999772407686239e-05\n",
            "Current Error after  105001  iterations  7.898619585534487e-05\n",
            "Current Error after  106001  iterations  7.798745786448532e-05\n",
            "Current Error after  107001  iterations  7.70013483786899e-05\n",
            "Current Error after  108001  iterations  7.602770771730034e-05\n",
            "Current Error after  109001  iterations  7.506637821873354e-05\n",
            "Current Error after  110001  iterations  7.411720421495585e-05\n",
            "Current Error after  111001  iterations  7.318003200626556e-05\n",
            "Current Error after  112001  iterations  7.225470983641754e-05\n",
            "Current Error after  113001  iterations  7.134108786803802e-05\n",
            "Current Error after  114001  iterations  7.043901815836866e-05\n",
            "Current Error after  115001  iterations  6.95483546353084e-05\n",
            "Current Error after  116001  iterations  6.866895307375766e-05\n",
            "Current Error after  117001  iterations  6.780067107226747e-05\n",
            "Current Error after  118001  iterations  6.694336802997978e-05\n",
            "Current Error after  119001  iterations  6.6096905123852e-05\n",
            "Current Error after  120001  iterations  6.526114528619282e-05\n",
            "Current Error after  121001  iterations  6.44359531824512e-05\n",
            "Current Error after  122001  iterations  6.362119518931406e-05\n",
            "Current Error after  123001  iterations  6.281673937306222e-05\n",
            "Current Error after  124001  iterations  6.202245546820545e-05\n",
            "Current Error after  125001  iterations  6.123821485639038e-05\n",
            "Current Error after  126001  iterations  6.046389054557515e-05\n",
            "Current Error after  127001  iterations  5.9699357149465396e-05\n",
            "Current Error after  128001  iterations  5.894449086720798e-05\n",
            "Current Error after  129001  iterations  5.8199169463341203e-05\n",
            "Current Error after  130001  iterations  5.746327224801105e-05\n",
            "Current Error after  131001  iterations  5.673668005741718e-05\n",
            "Current Error after  132001  iterations  5.6019275234524245e-05\n",
            "Current Error after  133001  iterations  5.531094161000602e-05\n",
            "Current Error after  134001  iterations  5.461156448343357e-05\n",
            "Current Error after  135001  iterations  5.3921030604707077e-05\n",
            "Current Error after  136001  iterations  5.323922815570909e-05\n",
            "Current Error after  137001  iterations  5.256604673220414e-05\n",
            "Current Error after  138001  iterations  5.1901377325957985e-05\n",
            "Current Error after  139001  iterations  5.1245112307090204e-05\n",
            "Current Error after  140001  iterations  5.059714540663747e-05\n",
            "Current Error after  141001  iterations  4.995737169935263e-05\n",
            "Current Error after  142001  iterations  4.932568758671408e-05\n",
            "Current Error after  143001  iterations  4.8701990780143414e-05\n",
            "Current Error after  144001  iterations  4.808618028444952e-05\n",
            "Current Error after  145001  iterations  4.7478156381470505e-05\n",
            "Current Error after  146001  iterations  4.687782061392755e-05\n",
            "Current Error after  147001  iterations  4.628507576947878e-05\n",
            "Current Error after  148001  iterations  4.569982586498208e-05\n",
            "Current Error after  149001  iterations  4.512197613095187e-05\n",
            "Current Error after  150001  iterations  4.455143299621003e-05\n",
            "Current Error after  151001  iterations  4.398810407273456e-05\n",
            "Current Error after  152001  iterations  4.343189814070282e-05\n",
            "Current Error after  153001  iterations  4.288272513371717e-05\n",
            "Current Error after  154001  iterations  4.2340496124218515e-05\n",
            "Current Error after  155001  iterations  4.1805123309092406e-05\n",
            "Current Error after  156001  iterations  4.1276519995447914e-05\n",
            "Current Error after  157001  iterations  4.075460058657518e-05\n",
            "Current Error after  158001  iterations  4.023928056808989e-05\n",
            "Current Error after  159001  iterations  3.973047649425203e-05\n",
            "Current Error after  160001  iterations  3.922810597443951e-05\n",
            "Current Error after  161001  iterations  3.8732087659822924e-05\n",
            "Current Error after  162001  iterations  3.8242341230180136e-05\n",
            "Current Error after  163001  iterations  3.775878738089866e-05\n",
            "Current Error after  164001  iterations  3.7281347810125764e-05\n",
            "Current Error after  165001  iterations  3.680994520609813e-05\n",
            "Current Error after  166001  iterations  3.634450323461579e-05\n",
            "Current Error after  167001  iterations  3.5884946526683404e-05\n",
            "Current Error after  168001  iterations  3.5431200666307084e-05\n",
            "Current Error after  169001  iterations  3.498319217844367e-05\n",
            "Current Error after  170001  iterations  3.4540848517101753e-05\n",
            "Current Error after  171001  iterations  3.410409805359367e-05\n",
            "Current Error after  172001  iterations  3.36728700649397e-05\n",
            "Current Error after  173001  iterations  3.3247094722413055e-05\n",
            "Current Error after  174001  iterations  3.282670308023577e-05\n",
            "Current Error after  175001  iterations  3.241162706440975e-05\n",
            "Current Error after  176001  iterations  3.200179946169625e-05\n",
            "Current Error after  177001  iterations  3.159715390873356e-05\n",
            "Current Error after  178001  iterations  3.119762488128863e-05\n",
            "Current Error after  179001  iterations  3.080314768364534e-05\n",
            "Current Error after  180001  iterations  3.0413658438131487e-05\n",
            "Current Error after  181001  iterations  3.0029094074773484e-05\n",
            "Current Error after  182001  iterations  2.964939232108292e-05\n",
            "Current Error after  183001  iterations  2.9274491691975344e-05\n",
            "Current Error after  184001  iterations  2.890433147981121e-05\n",
            "Current Error after  185001  iterations  2.8538851744565255e-05\n",
            "Current Error after  186001  iterations  2.817799330412403e-05\n",
            "Current Error after  187001  iterations  2.782169772469641e-05\n",
            "Current Error after  188001  iterations  2.74699073113596e-05\n",
            "Current Error after  189001  iterations  2.712256509870894e-05\n",
            "Current Error after  190001  iterations  2.6779614841638752e-05\n",
            "Current Error after  191001  iterations  2.6441001006229164e-05\n",
            "Current Error after  192001  iterations  2.6106668760761328e-05\n",
            "Current Error after  193001  iterations  2.5776563966830618e-05\n",
            "Current Error after  194001  iterations  2.5450633170585358e-05\n",
            "Current Error after  195001  iterations  2.5128823594068257e-05\n",
            "Current Error after  196001  iterations  2.4811083126671037e-05\n",
            "Current Error after  197001  iterations  2.4497360316695405e-05\n",
            "Current Error after  198001  iterations  2.4187604363024155e-05\n",
            "Current Error after  199001  iterations  2.3881765106890042e-05\n",
            "Current Error after  200001  iterations  2.3579793023758893e-05\n",
            "Current Error after  201001  iterations  2.32816392153065e-05\n",
            "Current Error after  202001  iterations  2.2987255401502283e-05\n",
            "Current Error after  203001  iterations  2.2696593912788958e-05\n",
            "Current Error after  204001  iterations  2.2409607682368162e-05\n",
            "Current Error after  205001  iterations  2.21262502385723e-05\n",
            "Current Error after  206001  iterations  2.18464756973481e-05\n",
            "Current Error after  207001  iterations  2.157023875481583e-05\n",
            "Current Error after  208001  iterations  2.129749467994325e-05\n",
            "Current Error after  209001  iterations  2.1028199307294406e-05\n",
            "Current Error after  210001  iterations  2.0762309029883872e-05\n",
            "Current Error after  211001  iterations  2.0499780792112837e-05\n",
            "Current Error after  212001  iterations  2.024057208279703e-05\n",
            "Current Error after  213001  iterations  1.9984640928284757e-05\n",
            "Current Error after  214001  iterations  1.9731945885655173e-05\n",
            "Current Error after  215001  iterations  1.9482446036015256e-05\n",
            "Current Error after  216001  iterations  1.923610097786449e-05\n",
            "Current Error after  217001  iterations  1.8992870820562155e-05\n",
            "Current Error after  218001  iterations  1.875271617786096e-05\n",
            "Current Error after  219001  iterations  1.8515598161531403e-05\n",
            "Current Error after  220001  iterations  1.828147837506527e-05\n",
            "Current Error after  221001  iterations  1.805031890745782e-05\n",
            "Current Error after  222001  iterations  1.7822082327068776e-05\n",
            "Current Error after  223001  iterations  1.759673167555955e-05\n",
            "Current Error after  224001  iterations  1.7374230461910467e-05\n",
            "Current Error after  225001  iterations  1.7154542656511386e-05\n",
            "Current Error after  226001  iterations  1.6937632685327777e-05\n",
            "Current Error after  227001  iterations  1.6723465424139742e-05\n",
            "Current Error after  228001  iterations  1.651200619285183e-05\n",
            "Current Error after  229001  iterations  1.6303220749882478e-05\n",
            "Current Error after  230001  iterations  1.6097075286615885e-05\n",
            "Current Error after  231001  iterations  1.5893536421927228e-05\n",
            "Current Error after  232001  iterations  1.569257119677863e-05\n",
            "Current Error after  233001  iterations  1.5494147068881813e-05\n",
            "Current Error after  234001  iterations  1.5298231907427525e-05\n",
            "Current Error after  235001  iterations  1.5104793987883932e-05\n",
            "Current Error after  236001  iterations  1.491380198685872e-05\n",
            "Current Error after  237001  iterations  1.4725224977026158e-05\n",
            "Current Error after  238001  iterations  1.453903242212091e-05\n",
            "Current Error after  239001  iterations  1.4355194171992623e-05\n",
            "Current Error after  240001  iterations  1.417368045772273e-05\n",
            "Current Error after  241001  iterations  1.3994461886805121e-05\n",
            "Current Error after  242001  iterations  1.381750943838541e-05\n",
            "Current Error after  243001  iterations  1.364279445856186e-05\n",
            "Current Error after  244001  iterations  1.3470288655747313e-05\n",
            "Current Error after  245001  iterations  1.3299964096086543e-05\n",
            "Current Error after  246001  iterations  1.3131793198931232e-05\n",
            "Current Error after  247001  iterations  1.2965748732377495e-05\n",
            "Current Error after  248001  iterations  1.2801803808853101e-05\n",
            "Current Error after  249001  iterations  1.263993188076506e-05\n",
            "Current Error after  250001  iterations  1.2480106736200045e-05\n",
            "Current Error after  251001  iterations  1.2322302494680825e-05\n",
            "Current Error after  252001  iterations  1.2166493602974212e-05\n",
            "Current Error after  253001  iterations  1.201265483095492e-05\n",
            "Current Error after  254001  iterations  1.1860761267518136e-05\n",
            "Current Error after  255001  iterations  1.1710788316547278e-05\n",
            "Current Error after  256001  iterations  1.156271169292943e-05\n",
            "Current Error after  257001  iterations  1.1416507418625232e-05\n",
            "Current Error after  258001  iterations  1.127215181878383e-05\n",
            "Current Error after  259001  iterations  1.112962151790936e-05\n",
            "Current Error after  260001  iterations  1.0988893436078833e-05\n",
            "Current Error after  261001  iterations  1.084994478520042e-05\n",
            "Current Error after  262001  iterations  1.0712753065326303e-05\n",
            "Current Error after  263001  iterations  1.0577296061007877e-05\n",
            "Current Error after  264001  iterations  1.0443551837700901e-05\n",
            "Current Error after  265001  iterations  1.0311498738207993e-05\n",
            "Current Error after  266001  iterations  1.0181115379178608e-05\n",
            "Current Error after  267001  iterations  1.0052380647642395e-05\n",
            "Current Error after  268001  iterations  9.925273697591301e-06\n",
            "Current Error after  269001  iterations  9.799773946601586e-06\n",
            "Current Error after  270001  iterations  9.675861072506444e-06\n",
            "Current Error after  271001  iterations  9.553515010099274e-06\n",
            "Current Error after  272001  iterations  9.432715947889777e-06\n",
            "Current Error after  273001  iterations  9.313444324890785e-06\n",
            "Current Error after  274001  iterations  9.195680827456098e-06\n",
            "Current Error after  275001  iterations  9.079406386147434e-06\n",
            "Current Error after  276001  iterations  8.96460217265033e-06\n",
            "Current Error after  277001  iterations  8.851249596724449e-06\n",
            "Current Error after  278001  iterations  8.739330303193517e-06\n",
            "Current Error after  279001  iterations  8.628826168972025e-06\n",
            "Current Error after  280001  iterations  8.519719300130485e-06\n",
            "Current Error after  281001  iterations  8.411992028999867e-06\n",
            "Current Error after  282001  iterations  8.305626911307683e-06\n",
            "Current Error after  283001  iterations  8.200606723357393e-06\n",
            "Current Error after  284001  iterations  8.09691445923409e-06\n",
            "Current Error after  285001  iterations  7.994533328055049e-06\n",
            "Current Error after  286001  iterations  7.893446751249225e-06\n",
            " Training Completed after  286351  iterations \n"
          ]
        }
      ]
    },
    {
      "cell_type": "code",
      "source": [
        "W"
      ],
      "metadata": {
        "colab": {
          "base_uri": "https://localhost:8080/"
        },
        "id": "r39Ov-1FA8TV",
        "outputId": "7ade6c5b-1e83-409f-89b5-4c79b8e4cbff"
      },
      "execution_count": null,
      "outputs": [
        {
          "output_type": "execute_result",
          "data": {
            "text/plain": [
              "array([[-3.88581437e-16],\n",
              "       [ 3.02787154e-01],\n",
              "       [ 7.01867939e-01],\n",
              "       [-6.07955720e-03]])"
            ]
          },
          "metadata": {},
          "execution_count": 33
        }
      ]
    },
    {
      "cell_type": "code",
      "source": [
        "ycap = predict(X_scale, W)\n",
        "ycap"
      ],
      "metadata": {
        "colab": {
          "base_uri": "https://localhost:8080/"
        },
        "id": "MPHJ6CYECHgb",
        "outputId": "13cf0941-8af5-4bd7-a648-eea9ddee233e"
      },
      "execution_count": null,
      "outputs": [
        {
          "output_type": "execute_result",
          "data": {
            "text/plain": [
              "array([[-0.71724644],\n",
              "       [-0.87477317],\n",
              "       [ 0.45083439],\n",
              "       [ 1.04201965],\n",
              "       [-1.11009025],\n",
              "       [ 0.52084067],\n",
              "       [-0.8883953 ],\n",
              "       [-0.47353189],\n",
              "       [-0.16042446],\n",
              "       [ 2.2107668 ]])"
            ]
          },
          "metadata": {},
          "execution_count": 34
        }
      ]
    },
    {
      "cell_type": "code",
      "source": [
        "rsquare(Y_scale, ycap)"
      ],
      "metadata": {
        "colab": {
          "base_uri": "https://localhost:8080/"
        },
        "id": "-ah8jXl5CL7X",
        "outputId": "cb208757-4cb4-4239-c179-3b183ba8fc74"
      },
      "execution_count": null,
      "outputs": [
        {
          "output_type": "execute_result",
          "data": {
            "text/plain": [
              "0.9999921417307455"
            ]
          },
          "metadata": {},
          "execution_count": 35
        }
      ]
    },
    {
      "cell_type": "code",
      "source": [
        "# unscale.\n",
        "def unscale(scaled, original):\n",
        "   return scaled*original.std() + original.mean()\n"
      ],
      "metadata": {
        "id": "_ld4_zWlCRqQ"
      },
      "execution_count": null,
      "outputs": []
    },
    {
      "cell_type": "code",
      "source": [
        "ycap_unscaled = unscale(ycap, Y)\n",
        "ycap_unscaled\n"
      ],
      "metadata": {
        "colab": {
          "base_uri": "https://localhost:8080/"
        },
        "id": "WwWJBwhdC5Id",
        "outputId": "b7b59ac4-563b-4438-a1cd-9fe1251b7674"
      },
      "execution_count": null,
      "outputs": [
        {
          "output_type": "execute_result",
          "data": {
            "text/plain": [
              "array([[197.56564101],\n",
              "       [187.20707162],\n",
              "       [274.37575872],\n",
              "       [313.2506454 ],\n",
              "       [171.73320023],\n",
              "       [278.97919909],\n",
              "       [186.31131378],\n",
              "       [213.59170931],\n",
              "       [234.18088268],\n",
              "       [390.10457817]])"
            ]
          },
          "metadata": {},
          "execution_count": 37
        }
      ]
    },
    {
      "cell_type": "code",
      "source": [
        "np.c_[Y, ycap_unscaled]"
      ],
      "metadata": {
        "colab": {
          "base_uri": "https://localhost:8080/"
        },
        "id": "-9DWNohLDGfB",
        "outputId": "97f9aef7-35b6-4a4e-82a0-22bfc463edfd"
      },
      "execution_count": null,
      "outputs": [
        {
          "output_type": "execute_result",
          "data": {
            "text/plain": [
              "array([[197.35      , 197.56564101],\n",
              "       [187.2       , 187.20707162],\n",
              "       [274.6       , 274.37575872],\n",
              "       [313.15      , 313.2506454 ],\n",
              "       [172.05      , 171.73320023],\n",
              "       [279.        , 278.97919909],\n",
              "       [186.15      , 186.31131378],\n",
              "       [213.75      , 213.59170931],\n",
              "       [233.9       , 234.18088268],\n",
              "       [390.15      , 390.10457817]])"
            ]
          },
          "metadata": {},
          "execution_count": 38
        }
      ]
    },
    {
      "cell_type": "code",
      "source": [
        "\n",
        "new_age = [35, 30, 25, 20, 34]\n",
        "new_wgt = [69, 61, 48, 42, 70]\n",
        "new_hgt = [6.0, 5.6, 5.4, 5.8, 5.5]\n",
        "a = np.array(new_age)\n",
        "wt = np.array(new_wgt)\n",
        "h = np.array(new_hgt)\n",
        "\n",
        "ascale = scale(a)\n",
        "wtscale= scale(wt)\n",
        "hscale = scale(h)\n",
        "one = np.ones(len(a))\n",
        "P = np.c_[one, ascale, wtscale, hscale]\n",
        "P"
      ],
      "metadata": {
        "colab": {
          "base_uri": "https://localhost:8080/"
        },
        "id": "hDYIuKWdDMW7",
        "outputId": "655abc4d-4624-49b8-e06a-bc4042561f15"
      },
      "execution_count": null,
      "outputs": [
        {
          "output_type": "execute_result",
          "data": {
            "text/plain": [
              "array([[ 1.        ,  1.10014883,  0.97995789,  1.57841037],\n",
              "       [ 1.        ,  0.21293203,  0.26726124, -0.27854301],\n",
              "       [ 1.        , -0.67428477, -0.89087081, -1.2070197 ],\n",
              "       [ 1.        , -1.56150157, -1.42539329,  0.64993368],\n",
              "       [ 1.        ,  0.92270547,  1.06904497, -0.74278135]])"
            ]
          },
          "metadata": {},
          "execution_count": 40
        }
      ]
    },
    {
      "cell_type": "code",
      "source": [
        "new_ycap = predict(P, W)\n",
        "new_ycap"
      ],
      "metadata": {
        "colab": {
          "base_uri": "https://localhost:8080/"
        },
        "id": "-HdePqj0Eai5",
        "outputId": "fff4419c-ed9a-4664-f5c4-33d772e741ab"
      },
      "execution_count": null,
      "outputs": [
        {
          "output_type": "execute_result",
          "data": {
            "text/plain": [
              "array([[ 1.01131592],\n",
              "       [ 0.2537486 ],\n",
              "       [-0.82210028],\n",
              "       [-1.47719178],\n",
              "       [ 1.03422753]])"
            ]
          },
          "metadata": {},
          "execution_count": 41
        }
      ]
    },
    {
      "cell_type": "code",
      "source": [
        "cholestrals_new = unscale(new_ycap, Y)\n",
        "cholestrals_new"
      ],
      "metadata": {
        "colab": {
          "base_uri": "https://localhost:8080/"
        },
        "id": "vb7jXhSsEjkI",
        "outputId": "056bed53-1f87-4463-8d73-d5d5fef80541"
      },
      "execution_count": null,
      "outputs": [
        {
          "output_type": "execute_result",
          "data": {
            "text/plain": [
              "array([[311.23164352],\n",
              "       [261.41588277],\n",
              "       [190.67071102],\n",
              "       [147.59350792],\n",
              "       [312.73825478]])"
            ]
          },
          "metadata": {},
          "execution_count": 42
        }
      ]
    },
    {
      "cell_type": "code",
      "source": [
        "Y"
      ],
      "metadata": {
        "colab": {
          "base_uri": "https://localhost:8080/"
        },
        "id": "DphQLC-NEILE",
        "outputId": "b58ebfb5-f898-4cca-84a0-ac390d054fbd"
      },
      "execution_count": null,
      "outputs": [
        {
          "output_type": "execute_result",
          "data": {
            "text/plain": [
              "array([[197.35],\n",
              "       [187.2 ],\n",
              "       [274.6 ],\n",
              "       [313.15],\n",
              "       [172.05],\n",
              "       [279.  ],\n",
              "       [186.15],\n",
              "       [213.75],\n",
              "       [233.9 ],\n",
              "       [390.15]])"
            ]
          },
          "metadata": {},
          "execution_count": 43
        }
      ]
    },
    {
      "cell_type": "markdown",
      "source": [
        "\n",
        "\n",
        "```\n",
        "Learning Summary:\n",
        " 1. Task: based on age,weight, height predict cholestral level.\n",
        " 2. train model with out scaling.\n",
        " 3. what to do if Loss increased.\n",
        " 4. Scaling features and labels.\n",
        " 5. what happens after scaling.\n",
        " 6. create scale function\n",
        " 7. apply scale function on feature and label matrix.\n",
        " 8. train model with scaled features and labels.\n",
        " 9. quality check of trained model.\n",
        " 10. apply predictions.\n",
        " 11. how to unscale scaled predictions.\n",
        "\n",
        "```\n",
        "\n"
      ],
      "metadata": {
        "id": "h43gqmUeL102"
      }
    },
    {
      "cell_type": "code",
      "source": [],
      "metadata": {
        "id": "noEBYF0wMrNd"
      },
      "execution_count": null,
      "outputs": []
    },
    {
      "cell_type": "code",
      "source": [],
      "metadata": {
        "id": "TIliErv_MACE"
      },
      "execution_count": null,
      "outputs": []
    }
  ]
}