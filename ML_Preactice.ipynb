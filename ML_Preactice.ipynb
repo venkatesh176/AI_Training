{
  "nbformat": 4,
  "nbformat_minor": 0,
  "metadata": {
    "colab": {
      "provenance": [],
      "authorship_tag": "ABX9TyOnzETMHPSvRn/tC6MvbRIX",
      "include_colab_link": true
    },
    "kernelspec": {
      "name": "python3",
      "display_name": "Python 3"
    },
    "language_info": {
      "name": "python"
    }
  },
  "cells": [
    {
      "cell_type": "markdown",
      "metadata": {
        "id": "view-in-github",
        "colab_type": "text"
      },
      "source": [
        "<a href=\"https://colab.research.google.com/github/venkatesh176/AI_Training/blob/main/ML_Preactice.ipynb\" target=\"_parent\"><img src=\"https://colab.research.google.com/assets/colab-badge.svg\" alt=\"Open In Colab\"/></a>"
      ]
    },
    {
      "cell_type": "code",
      "execution_count": 3,
      "metadata": {
        "id": "jBlAE6IO15xh"
      },
      "outputs": [],
      "source": [
        "import numpy as np\n",
        "import pandas as pd"
      ]
    },
    {
      "cell_type": "code",
      "source": [
        "df = pd.read_csv(\"sample_data/PatientData.txt\", sep = '\\t')\n",
        "df.info()"
      ],
      "metadata": {
        "colab": {
          "base_uri": "https://localhost:8080/"
        },
        "id": "o6ukZdlj2Ic_",
        "outputId": "1eb5dc74-6d66-4b87-b040-8fab65b93974"
      },
      "execution_count": 8,
      "outputs": [
        {
          "output_type": "stream",
          "name": "stdout",
          "text": [
            "<class 'pandas.core.frame.DataFrame'>\n",
            "RangeIndex: 20 entries, 0 to 19\n",
            "Data columns (total 6 columns):\n",
            " #   Column           Non-Null Count  Dtype  \n",
            "---  ------           --------------  -----  \n",
            " 0   Age              20 non-null     int64  \n",
            " 1   BMI              20 non-null     float64\n",
            " 2   Blood Pressure   20 non-null     int64  \n",
            " 3   Glucose Level    20 non-null     int64  \n",
            " 4   Insulin Level    20 non-null     int64  \n",
            " 5   Diabetic Status  20 non-null     object \n",
            "dtypes: float64(1), int64(4), object(1)\n",
            "memory usage: 1.1+ KB\n"
          ]
        }
      ]
    },
    {
      "cell_type": "code",
      "source": [
        "\n",
        "df1 = df.copy()\n",
        "df1.head()\n",
        "op = df[\"Diabetic Status\"]\n",
        "ip = df.drop([\"Diabetic Status\"], axis=1)\n",
        "y = np.where(op =='Yes',1,0)\n",
        "ones = np.ones(len(ip))\n",
        "X = np.c_[ones,ip]\n",
        "y = np.c_[y]\n",
        "X.shape\n",
        "y.ndim\n"
      ],
      "metadata": {
        "colab": {
          "base_uri": "https://localhost:8080/"
        },
        "id": "L_aqn2kB5HM0",
        "outputId": "25262328-f404-46c9-ae60-c2988d22fe95"
      },
      "execution_count": 30,
      "outputs": [
        {
          "output_type": "execute_result",
          "data": {
            "text/plain": [
              "2"
            ]
          },
          "metadata": {},
          "execution_count": 30
        }
      ]
    },
    {
      "cell_type": "code",
      "source": [
        "def pred(x,w):\n",
        "  return 1/(1+np.exp(-x.dot(w)))\n",
        "\n",
        "def mse(y,ycap):\n",
        "  return ((y-ycap)**2).mean()\n",
        "\n",
        "def scale(x):\n",
        "  return (x-x.mean())/x.std()\n",
        "\n",
        "def scaledMatrix(x):\n",
        "  for i in range(x.shape[1]):\n",
        "    if i!=0:\n",
        "      x[:,i] = scale(x[:,i])\n",
        "  return x\n",
        "\n",
        "X_original = X.copy()\n",
        "X_scale = scaledMatrix(X)\n",
        "\n",
        "for i in range(X_scale.shape[1]):\n",
        "  if i!=0:\n",
        "    print(X_scale[:,i].std())\n"
      ],
      "metadata": {
        "colab": {
          "base_uri": "https://localhost:8080/"
        },
        "id": "AH3vir1R8T6c",
        "outputId": "65b555f2-2a96-46fe-b55e-aef17708edc8"
      },
      "execution_count": 52,
      "outputs": [
        {
          "output_type": "stream",
          "name": "stdout",
          "text": [
            "0.9999999999999998\n",
            "0.9999999999999998\n",
            "1.0\n",
            "1.0\n",
            "1.0\n"
          ]
        }
      ]
    },
    {
      "cell_type": "code",
      "source": [
        "np.random.seed(101)\n",
        "w = np.random.random((X.shape[1], y.shape[1]))*2-1\n",
        "w"
      ],
      "metadata": {
        "colab": {
          "base_uri": "https://localhost:8080/"
        },
        "id": "XeBjJtDK-RRz",
        "outputId": "7907d759-1e13-492b-e44a-63c34cb54a71"
      },
      "execution_count": 53,
      "outputs": [
        {
          "output_type": "execute_result",
          "data": {
            "text/plain": [
              "array([[ 0.03279726],\n",
              "       [ 0.14133517],\n",
              "       [-0.94305155],\n",
              "       [-0.65695669],\n",
              "       [ 0.37055396],\n",
              "       [ 0.66779373]])"
            ]
          },
          "metadata": {},
          "execution_count": 53
        }
      ]
    },
    {
      "cell_type": "code",
      "source": [
        "conv = 0.00000001\n",
        "flag = 0\n",
        "pe = 0\n",
        "alpha = 0.002\n",
        "\n",
        "for i in range(1000000):\n",
        "  ycap = pred(X_scale,w)\n",
        "  ce = mse(y,ycap)\n",
        "  e = y-ycap\n",
        "  deri = e* ycap * (1-ycap)\n",
        "  delta = X.T.dot(deri)\n",
        "  w+= delta * alpha\n",
        "  if 1%100 == 0:\n",
        "      print(f\"Training is not complete at {i+1} and error {ce}\")\n",
        "\n",
        "  if np.abs(pe-ce)<=conv:\n",
        "    flag =1\n",
        "    break\n",
        "  pe=ce\n",
        "\n",
        "if(flag == 1):\n",
        "  print(f\"Training complete at {i+1} error {ce}\")\n",
        "\n"
      ],
      "metadata": {
        "colab": {
          "base_uri": "https://localhost:8080/"
        },
        "id": "3P7o1hAV6QIS",
        "outputId": "2a78ecbe-7913-42a9-9b1d-26f037109aa2"
      },
      "execution_count": 54,
      "outputs": [
        {
          "output_type": "stream",
          "name": "stdout",
          "text": [
            "Training complete at 115051 error 0.001150716796194547\n"
          ]
        }
      ]
    },
    {
      "cell_type": "code",
      "source": [
        "ycap = pred(X_scale,w)\n",
        "ycap = np.where(ycap > 0.5,1,0)\n",
        "ycap\n",
        "np.c_[y,ycap]"
      ],
      "metadata": {
        "colab": {
          "base_uri": "https://localhost:8080/"
        },
        "id": "jwTF-CY2DnYv",
        "outputId": "6b1fcca8-cfbb-4234-9d7d-08731a9f6f5e"
      },
      "execution_count": 55,
      "outputs": [
        {
          "output_type": "execute_result",
          "data": {
            "text/plain": [
              "array([[1, 1],\n",
              "       [1, 1],\n",
              "       [0, 0],\n",
              "       [1, 1],\n",
              "       [1, 1],\n",
              "       [0, 0],\n",
              "       [0, 0],\n",
              "       [1, 1],\n",
              "       [0, 0],\n",
              "       [1, 1],\n",
              "       [0, 0],\n",
              "       [1, 1],\n",
              "       [0, 0],\n",
              "       [1, 1],\n",
              "       [0, 0],\n",
              "       [1, 1],\n",
              "       [0, 0],\n",
              "       [1, 1],\n",
              "       [0, 0],\n",
              "       [1, 1]])"
            ]
          },
          "metadata": {},
          "execution_count": 55
        }
      ]
    },
    {
      "cell_type": "code",
      "source": [
        "pnct = np.where(y==ycap)[0]\n",
        "total = len(pnct)\n",
        "acc = total/y.size\n",
        "acc\n"
      ],
      "metadata": {
        "colab": {
          "base_uri": "https://localhost:8080/"
        },
        "id": "upISNajkGtEN",
        "outputId": "51942e10-8e1d-42d8-932b-751598684958"
      },
      "execution_count": 65,
      "outputs": [
        {
          "output_type": "execute_result",
          "data": {
            "text/plain": [
              "1.0"
            ]
          },
          "metadata": {},
          "execution_count": 65
        }
      ]
    }
  ]
}