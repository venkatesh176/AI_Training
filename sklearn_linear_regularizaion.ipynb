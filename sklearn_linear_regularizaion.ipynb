{
  "nbformat": 4,
  "nbformat_minor": 0,
  "metadata": {
    "colab": {
      "provenance": [],
      "include_colab_link": true
    },
    "kernelspec": {
      "name": "python3",
      "display_name": "Python 3"
    },
    "language_info": {
      "name": "python"
    }
  },
  "cells": [
    {
      "cell_type": "markdown",
      "metadata": {
        "id": "view-in-github",
        "colab_type": "text"
      },
      "source": [
        "<a href=\"https://colab.research.google.com/github/venkatesh176/AI_Training/blob/main/sklearn_linear_regularizaion.ipynb\" target=\"_parent\"><img src=\"https://colab.research.google.com/assets/colab-badge.svg\" alt=\"Open In Colab\"/></a>"
      ]
    },
    {
      "cell_type": "code",
      "source": [],
      "metadata": {
        "id": "BS-Jwf-zDUkQ"
      },
      "execution_count": null,
      "outputs": []
    },
    {
      "cell_type": "markdown",
      "source": [
        "\n",
        "\n",
        "```\n",
        "in sklearn,\n",
        "\n",
        "to build a model,\n",
        "\n",
        "4 steps we need to follow.\n",
        "\n",
        "1. import model class\n",
        "2. create model object\n",
        "3. train model\n",
        "4. evalutate the model\n",
        "\n",
        "ex: Linear regression  with sklearn .\n",
        "\n",
        "from sklearn.linear_model import LinearRegression\n",
        "\n",
        "from sklearn.metrics import mean_squared_error, r2_score\n",
        "\n",
        "model = LinearRegression(max_iter=10000) # 100 iterations by default.\n",
        "\n",
        "model.fit(X_train, Y_train)\n",
        "\n",
        "slopes = model.coeffs_\n",
        "bias = model.intercept_\n",
        "\n",
        "ycap = model.predict(X_test)\n",
        "\n",
        "rs = r2_score(Y_test, ycap)\n",
        "print(rs)\n",
        "#0.94\n",
        "\n",
        "# random forest.\n",
        "\n",
        "from sklearn.ensemble import RandomForestClassifier\n",
        "\n",
        "model = RandomForestClassier(n_estimators = 10)\n",
        "\n",
        "model.fit(x_train, y_train)\n",
        "\n",
        "ycap = model.predict(x_test)\n",
        "\n",
        "acc = r2_score(y_test, ycap) * 100\n",
        "\n",
        "\n",
        "\n",
        "```\n",
        "\n"
      ],
      "metadata": {
        "id": "wrLNEUkrDVhM"
      }
    },
    {
      "cell_type": "code",
      "source": [],
      "metadata": {
        "id": "q8aMMnZzDX6i"
      },
      "execution_count": null,
      "outputs": []
    },
    {
      "cell_type": "code",
      "source": [
        "import pandas as pd\n",
        "from sklearn.model_selection import train_test_split\n",
        "from sklearn.linear_model import LinearRegression\n",
        "from sklearn.metrics import mean_squared_error, r2_score\n",
        "\n",
        "# Step 1: Load the data into a DataFrame\n",
        "df = pd.read_csv('/content/profiles_income.txt')\n",
        "# Step 2: Prepare features and target\n",
        "X = df[['age', 'experience']]  # Features: age and experience\n"
      ],
      "metadata": {
        "id": "IGC7uHHd9UYv"
      },
      "execution_count": null,
      "outputs": []
    },
    {
      "cell_type": "code",
      "source": [
        "X.head()"
      ],
      "metadata": {
        "colab": {
          "base_uri": "https://localhost:8080/",
          "height": 206
        },
        "id": "MkPf62xjD5tl",
        "outputId": "152627cc-e621-4b2d-93d7-1a1d4140f334"
      },
      "execution_count": null,
      "outputs": [
        {
          "output_type": "execute_result",
          "data": {
            "text/plain": [
              "   age  experience\n",
              "0   58           4\n",
              "1   48          18\n",
              "2   34           8\n",
              "3   27           4\n",
              "4   40           2"
            ],
            "text/html": [
              "\n",
              "  <div id=\"df-5d2d03f6-93c8-41a1-8411-fc6f660f95d7\" class=\"colab-df-container\">\n",
              "    <div>\n",
              "<style scoped>\n",
              "    .dataframe tbody tr th:only-of-type {\n",
              "        vertical-align: middle;\n",
              "    }\n",
              "\n",
              "    .dataframe tbody tr th {\n",
              "        vertical-align: top;\n",
              "    }\n",
              "\n",
              "    .dataframe thead th {\n",
              "        text-align: right;\n",
              "    }\n",
              "</style>\n",
              "<table border=\"1\" class=\"dataframe\">\n",
              "  <thead>\n",
              "    <tr style=\"text-align: right;\">\n",
              "      <th></th>\n",
              "      <th>age</th>\n",
              "      <th>experience</th>\n",
              "    </tr>\n",
              "  </thead>\n",
              "  <tbody>\n",
              "    <tr>\n",
              "      <th>0</th>\n",
              "      <td>58</td>\n",
              "      <td>4</td>\n",
              "    </tr>\n",
              "    <tr>\n",
              "      <th>1</th>\n",
              "      <td>48</td>\n",
              "      <td>18</td>\n",
              "    </tr>\n",
              "    <tr>\n",
              "      <th>2</th>\n",
              "      <td>34</td>\n",
              "      <td>8</td>\n",
              "    </tr>\n",
              "    <tr>\n",
              "      <th>3</th>\n",
              "      <td>27</td>\n",
              "      <td>4</td>\n",
              "    </tr>\n",
              "    <tr>\n",
              "      <th>4</th>\n",
              "      <td>40</td>\n",
              "      <td>2</td>\n",
              "    </tr>\n",
              "  </tbody>\n",
              "</table>\n",
              "</div>\n",
              "    <div class=\"colab-df-buttons\">\n",
              "\n",
              "  <div class=\"colab-df-container\">\n",
              "    <button class=\"colab-df-convert\" onclick=\"convertToInteractive('df-5d2d03f6-93c8-41a1-8411-fc6f660f95d7')\"\n",
              "            title=\"Convert this dataframe to an interactive table.\"\n",
              "            style=\"display:none;\">\n",
              "\n",
              "  <svg xmlns=\"http://www.w3.org/2000/svg\" height=\"24px\" viewBox=\"0 -960 960 960\">\n",
              "    <path d=\"M120-120v-720h720v720H120Zm60-500h600v-160H180v160Zm220 220h160v-160H400v160Zm0 220h160v-160H400v160ZM180-400h160v-160H180v160Zm440 0h160v-160H620v160ZM180-180h160v-160H180v160Zm440 0h160v-160H620v160Z\"/>\n",
              "  </svg>\n",
              "    </button>\n",
              "\n",
              "  <style>\n",
              "    .colab-df-container {\n",
              "      display:flex;\n",
              "      gap: 12px;\n",
              "    }\n",
              "\n",
              "    .colab-df-convert {\n",
              "      background-color: #E8F0FE;\n",
              "      border: none;\n",
              "      border-radius: 50%;\n",
              "      cursor: pointer;\n",
              "      display: none;\n",
              "      fill: #1967D2;\n",
              "      height: 32px;\n",
              "      padding: 0 0 0 0;\n",
              "      width: 32px;\n",
              "    }\n",
              "\n",
              "    .colab-df-convert:hover {\n",
              "      background-color: #E2EBFA;\n",
              "      box-shadow: 0px 1px 2px rgba(60, 64, 67, 0.3), 0px 1px 3px 1px rgba(60, 64, 67, 0.15);\n",
              "      fill: #174EA6;\n",
              "    }\n",
              "\n",
              "    .colab-df-buttons div {\n",
              "      margin-bottom: 4px;\n",
              "    }\n",
              "\n",
              "    [theme=dark] .colab-df-convert {\n",
              "      background-color: #3B4455;\n",
              "      fill: #D2E3FC;\n",
              "    }\n",
              "\n",
              "    [theme=dark] .colab-df-convert:hover {\n",
              "      background-color: #434B5C;\n",
              "      box-shadow: 0px 1px 3px 1px rgba(0, 0, 0, 0.15);\n",
              "      filter: drop-shadow(0px 1px 2px rgba(0, 0, 0, 0.3));\n",
              "      fill: #FFFFFF;\n",
              "    }\n",
              "  </style>\n",
              "\n",
              "    <script>\n",
              "      const buttonEl =\n",
              "        document.querySelector('#df-5d2d03f6-93c8-41a1-8411-fc6f660f95d7 button.colab-df-convert');\n",
              "      buttonEl.style.display =\n",
              "        google.colab.kernel.accessAllowed ? 'block' : 'none';\n",
              "\n",
              "      async function convertToInteractive(key) {\n",
              "        const element = document.querySelector('#df-5d2d03f6-93c8-41a1-8411-fc6f660f95d7');\n",
              "        const dataTable =\n",
              "          await google.colab.kernel.invokeFunction('convertToInteractive',\n",
              "                                                    [key], {});\n",
              "        if (!dataTable) return;\n",
              "\n",
              "        const docLinkHtml = 'Like what you see? Visit the ' +\n",
              "          '<a target=\"_blank\" href=https://colab.research.google.com/notebooks/data_table.ipynb>data table notebook</a>'\n",
              "          + ' to learn more about interactive tables.';\n",
              "        element.innerHTML = '';\n",
              "        dataTable['output_type'] = 'display_data';\n",
              "        await google.colab.output.renderOutput(dataTable, element);\n",
              "        const docLink = document.createElement('div');\n",
              "        docLink.innerHTML = docLinkHtml;\n",
              "        element.appendChild(docLink);\n",
              "      }\n",
              "    </script>\n",
              "  </div>\n",
              "\n",
              "\n",
              "<div id=\"df-ae5359e1-b5db-4dad-90f2-a6a0d5966dae\">\n",
              "  <button class=\"colab-df-quickchart\" onclick=\"quickchart('df-ae5359e1-b5db-4dad-90f2-a6a0d5966dae')\"\n",
              "            title=\"Suggest charts\"\n",
              "            style=\"display:none;\">\n",
              "\n",
              "<svg xmlns=\"http://www.w3.org/2000/svg\" height=\"24px\"viewBox=\"0 0 24 24\"\n",
              "     width=\"24px\">\n",
              "    <g>\n",
              "        <path d=\"M19 3H5c-1.1 0-2 .9-2 2v14c0 1.1.9 2 2 2h14c1.1 0 2-.9 2-2V5c0-1.1-.9-2-2-2zM9 17H7v-7h2v7zm4 0h-2V7h2v10zm4 0h-2v-4h2v4z\"/>\n",
              "    </g>\n",
              "</svg>\n",
              "  </button>\n",
              "\n",
              "<style>\n",
              "  .colab-df-quickchart {\n",
              "      --bg-color: #E8F0FE;\n",
              "      --fill-color: #1967D2;\n",
              "      --hover-bg-color: #E2EBFA;\n",
              "      --hover-fill-color: #174EA6;\n",
              "      --disabled-fill-color: #AAA;\n",
              "      --disabled-bg-color: #DDD;\n",
              "  }\n",
              "\n",
              "  [theme=dark] .colab-df-quickchart {\n",
              "      --bg-color: #3B4455;\n",
              "      --fill-color: #D2E3FC;\n",
              "      --hover-bg-color: #434B5C;\n",
              "      --hover-fill-color: #FFFFFF;\n",
              "      --disabled-bg-color: #3B4455;\n",
              "      --disabled-fill-color: #666;\n",
              "  }\n",
              "\n",
              "  .colab-df-quickchart {\n",
              "    background-color: var(--bg-color);\n",
              "    border: none;\n",
              "    border-radius: 50%;\n",
              "    cursor: pointer;\n",
              "    display: none;\n",
              "    fill: var(--fill-color);\n",
              "    height: 32px;\n",
              "    padding: 0;\n",
              "    width: 32px;\n",
              "  }\n",
              "\n",
              "  .colab-df-quickchart:hover {\n",
              "    background-color: var(--hover-bg-color);\n",
              "    box-shadow: 0 1px 2px rgba(60, 64, 67, 0.3), 0 1px 3px 1px rgba(60, 64, 67, 0.15);\n",
              "    fill: var(--button-hover-fill-color);\n",
              "  }\n",
              "\n",
              "  .colab-df-quickchart-complete:disabled,\n",
              "  .colab-df-quickchart-complete:disabled:hover {\n",
              "    background-color: var(--disabled-bg-color);\n",
              "    fill: var(--disabled-fill-color);\n",
              "    box-shadow: none;\n",
              "  }\n",
              "\n",
              "  .colab-df-spinner {\n",
              "    border: 2px solid var(--fill-color);\n",
              "    border-color: transparent;\n",
              "    border-bottom-color: var(--fill-color);\n",
              "    animation:\n",
              "      spin 1s steps(1) infinite;\n",
              "  }\n",
              "\n",
              "  @keyframes spin {\n",
              "    0% {\n",
              "      border-color: transparent;\n",
              "      border-bottom-color: var(--fill-color);\n",
              "      border-left-color: var(--fill-color);\n",
              "    }\n",
              "    20% {\n",
              "      border-color: transparent;\n",
              "      border-left-color: var(--fill-color);\n",
              "      border-top-color: var(--fill-color);\n",
              "    }\n",
              "    30% {\n",
              "      border-color: transparent;\n",
              "      border-left-color: var(--fill-color);\n",
              "      border-top-color: var(--fill-color);\n",
              "      border-right-color: var(--fill-color);\n",
              "    }\n",
              "    40% {\n",
              "      border-color: transparent;\n",
              "      border-right-color: var(--fill-color);\n",
              "      border-top-color: var(--fill-color);\n",
              "    }\n",
              "    60% {\n",
              "      border-color: transparent;\n",
              "      border-right-color: var(--fill-color);\n",
              "    }\n",
              "    80% {\n",
              "      border-color: transparent;\n",
              "      border-right-color: var(--fill-color);\n",
              "      border-bottom-color: var(--fill-color);\n",
              "    }\n",
              "    90% {\n",
              "      border-color: transparent;\n",
              "      border-bottom-color: var(--fill-color);\n",
              "    }\n",
              "  }\n",
              "</style>\n",
              "\n",
              "  <script>\n",
              "    async function quickchart(key) {\n",
              "      const quickchartButtonEl =\n",
              "        document.querySelector('#' + key + ' button');\n",
              "      quickchartButtonEl.disabled = true;  // To prevent multiple clicks.\n",
              "      quickchartButtonEl.classList.add('colab-df-spinner');\n",
              "      try {\n",
              "        const charts = await google.colab.kernel.invokeFunction(\n",
              "            'suggestCharts', [key], {});\n",
              "      } catch (error) {\n",
              "        console.error('Error during call to suggestCharts:', error);\n",
              "      }\n",
              "      quickchartButtonEl.classList.remove('colab-df-spinner');\n",
              "      quickchartButtonEl.classList.add('colab-df-quickchart-complete');\n",
              "    }\n",
              "    (() => {\n",
              "      let quickchartButtonEl =\n",
              "        document.querySelector('#df-ae5359e1-b5db-4dad-90f2-a6a0d5966dae button');\n",
              "      quickchartButtonEl.style.display =\n",
              "        google.colab.kernel.accessAllowed ? 'block' : 'none';\n",
              "    })();\n",
              "  </script>\n",
              "</div>\n",
              "\n",
              "    </div>\n",
              "  </div>\n"
            ],
            "application/vnd.google.colaboratory.intrinsic+json": {
              "type": "dataframe",
              "variable_name": "X",
              "summary": "{\n  \"name\": \"X\",\n  \"rows\": 50,\n  \"fields\": [\n    {\n      \"column\": \"age\",\n      \"properties\": {\n        \"dtype\": \"number\",\n        \"std\": 11,\n        \"min\": 21,\n        \"max\": 59,\n        \"num_unique_values\": 32,\n        \"samples\": [\n          39,\n          57,\n          28\n        ],\n        \"semantic_type\": \"\",\n        \"description\": \"\"\n      }\n    },\n    {\n      \"column\": \"experience\",\n      \"properties\": {\n        \"dtype\": \"number\",\n        \"std\": 8,\n        \"min\": 1,\n        \"max\": 29,\n        \"num_unique_values\": 22,\n        \"samples\": [\n          4,\n          23,\n          26\n        ],\n        \"semantic_type\": \"\",\n        \"description\": \"\"\n      }\n    }\n  ]\n}"
            }
          },
          "metadata": {},
          "execution_count": 3
        }
      ]
    },
    {
      "cell_type": "code",
      "source": [
        "y = df['income']              # Target: income\n",
        "y.head()"
      ],
      "metadata": {
        "colab": {
          "base_uri": "https://localhost:8080/",
          "height": 241
        },
        "id": "-FRWwl1REB0z",
        "outputId": "66744eb5-8830-4ff0-8fd8-a9adb0248567"
      },
      "execution_count": null,
      "outputs": [
        {
          "output_type": "execute_result",
          "data": {
            "text/plain": [
              "0    136.18\n",
              "1    150.47\n",
              "2     99.38\n",
              "3     77.52\n",
              "4     92.06\n",
              "Name: income, dtype: float64"
            ],
            "text/html": [
              "<div>\n",
              "<style scoped>\n",
              "    .dataframe tbody tr th:only-of-type {\n",
              "        vertical-align: middle;\n",
              "    }\n",
              "\n",
              "    .dataframe tbody tr th {\n",
              "        vertical-align: top;\n",
              "    }\n",
              "\n",
              "    .dataframe thead th {\n",
              "        text-align: right;\n",
              "    }\n",
              "</style>\n",
              "<table border=\"1\" class=\"dataframe\">\n",
              "  <thead>\n",
              "    <tr style=\"text-align: right;\">\n",
              "      <th></th>\n",
              "      <th>income</th>\n",
              "    </tr>\n",
              "  </thead>\n",
              "  <tbody>\n",
              "    <tr>\n",
              "      <th>0</th>\n",
              "      <td>136.18</td>\n",
              "    </tr>\n",
              "    <tr>\n",
              "      <th>1</th>\n",
              "      <td>150.47</td>\n",
              "    </tr>\n",
              "    <tr>\n",
              "      <th>2</th>\n",
              "      <td>99.38</td>\n",
              "    </tr>\n",
              "    <tr>\n",
              "      <th>3</th>\n",
              "      <td>77.52</td>\n",
              "    </tr>\n",
              "    <tr>\n",
              "      <th>4</th>\n",
              "      <td>92.06</td>\n",
              "    </tr>\n",
              "  </tbody>\n",
              "</table>\n",
              "</div><br><label><b>dtype:</b> float64</label>"
            ]
          },
          "metadata": {},
          "execution_count": 4
        }
      ]
    },
    {
      "cell_type": "code",
      "source": [
        "y.count()"
      ],
      "metadata": {
        "colab": {
          "base_uri": "https://localhost:8080/"
        },
        "id": "SJbNu4GqETbI",
        "outputId": "cbf82bd4-0cdc-4d95-f11c-2c70b0b03efe"
      },
      "execution_count": null,
      "outputs": [
        {
          "output_type": "execute_result",
          "data": {
            "text/plain": [
              "np.int64(50)"
            ]
          },
          "metadata": {},
          "execution_count": 5
        }
      ]
    },
    {
      "cell_type": "code",
      "source": [
        "\n",
        "# Step 3: Split the data into training and test sets\n",
        "X_train, X_test, y_train, y_test = train_test_split(X, y, test_size=0.2, random_state=42)\n",
        "\n"
      ],
      "metadata": {
        "id": "raQVDVLeEM1r"
      },
      "execution_count": null,
      "outputs": []
    },
    {
      "cell_type": "code",
      "source": [
        "X_train.count()"
      ],
      "metadata": {
        "colab": {
          "base_uri": "https://localhost:8080/",
          "height": 147
        },
        "id": "oPvBWbRCEmye",
        "outputId": "1152a1bf-de3a-452c-e394-eed663c6c184"
      },
      "execution_count": null,
      "outputs": [
        {
          "output_type": "execute_result",
          "data": {
            "text/plain": [
              "age           40\n",
              "experience    40\n",
              "dtype: int64"
            ],
            "text/html": [
              "<div>\n",
              "<style scoped>\n",
              "    .dataframe tbody tr th:only-of-type {\n",
              "        vertical-align: middle;\n",
              "    }\n",
              "\n",
              "    .dataframe tbody tr th {\n",
              "        vertical-align: top;\n",
              "    }\n",
              "\n",
              "    .dataframe thead th {\n",
              "        text-align: right;\n",
              "    }\n",
              "</style>\n",
              "<table border=\"1\" class=\"dataframe\">\n",
              "  <thead>\n",
              "    <tr style=\"text-align: right;\">\n",
              "      <th></th>\n",
              "      <th>0</th>\n",
              "    </tr>\n",
              "  </thead>\n",
              "  <tbody>\n",
              "    <tr>\n",
              "      <th>age</th>\n",
              "      <td>40</td>\n",
              "    </tr>\n",
              "    <tr>\n",
              "      <th>experience</th>\n",
              "      <td>40</td>\n",
              "    </tr>\n",
              "  </tbody>\n",
              "</table>\n",
              "</div><br><label><b>dtype:</b> int64</label>"
            ]
          },
          "metadata": {},
          "execution_count": 8
        }
      ]
    },
    {
      "cell_type": "code",
      "source": [
        "X_test.count()"
      ],
      "metadata": {
        "colab": {
          "base_uri": "https://localhost:8080/",
          "height": 147
        },
        "id": "8pCaicqPEtBK",
        "outputId": "1f85ed68-d86f-4513-a383-5cd22bc336a0"
      },
      "execution_count": null,
      "outputs": [
        {
          "output_type": "execute_result",
          "data": {
            "text/plain": [
              "age           10\n",
              "experience    10\n",
              "dtype: int64"
            ],
            "text/html": [
              "<div>\n",
              "<style scoped>\n",
              "    .dataframe tbody tr th:only-of-type {\n",
              "        vertical-align: middle;\n",
              "    }\n",
              "\n",
              "    .dataframe tbody tr th {\n",
              "        vertical-align: top;\n",
              "    }\n",
              "\n",
              "    .dataframe thead th {\n",
              "        text-align: right;\n",
              "    }\n",
              "</style>\n",
              "<table border=\"1\" class=\"dataframe\">\n",
              "  <thead>\n",
              "    <tr style=\"text-align: right;\">\n",
              "      <th></th>\n",
              "      <th>0</th>\n",
              "    </tr>\n",
              "  </thead>\n",
              "  <tbody>\n",
              "    <tr>\n",
              "      <th>age</th>\n",
              "      <td>10</td>\n",
              "    </tr>\n",
              "    <tr>\n",
              "      <th>experience</th>\n",
              "      <td>10</td>\n",
              "    </tr>\n",
              "  </tbody>\n",
              "</table>\n",
              "</div><br><label><b>dtype:</b> int64</label>"
            ]
          },
          "metadata": {},
          "execution_count": 9
        }
      ]
    },
    {
      "cell_type": "code",
      "source": [
        "\n",
        "# Step 4: Train the regression model\n",
        "model = LinearRegression()\n",
        "model.fit(X_train, y_train)\n",
        "\n"
      ],
      "metadata": {
        "colab": {
          "base_uri": "https://localhost:8080/",
          "height": 80
        },
        "id": "Askx_7dVEw0u",
        "outputId": "5ca86fdc-f0ca-4ad1-cd24-6a1bd70ea884"
      },
      "execution_count": null,
      "outputs": [
        {
          "output_type": "execute_result",
          "data": {
            "text/plain": [
              "LinearRegression()"
            ],
            "text/html": [
              "<style>#sk-container-id-1 {\n",
              "  /* Definition of color scheme common for light and dark mode */\n",
              "  --sklearn-color-text: #000;\n",
              "  --sklearn-color-text-muted: #666;\n",
              "  --sklearn-color-line: gray;\n",
              "  /* Definition of color scheme for unfitted estimators */\n",
              "  --sklearn-color-unfitted-level-0: #fff5e6;\n",
              "  --sklearn-color-unfitted-level-1: #f6e4d2;\n",
              "  --sklearn-color-unfitted-level-2: #ffe0b3;\n",
              "  --sklearn-color-unfitted-level-3: chocolate;\n",
              "  /* Definition of color scheme for fitted estimators */\n",
              "  --sklearn-color-fitted-level-0: #f0f8ff;\n",
              "  --sklearn-color-fitted-level-1: #d4ebff;\n",
              "  --sklearn-color-fitted-level-2: #b3dbfd;\n",
              "  --sklearn-color-fitted-level-3: cornflowerblue;\n",
              "\n",
              "  /* Specific color for light theme */\n",
              "  --sklearn-color-text-on-default-background: var(--sg-text-color, var(--theme-code-foreground, var(--jp-content-font-color1, black)));\n",
              "  --sklearn-color-background: var(--sg-background-color, var(--theme-background, var(--jp-layout-color0, white)));\n",
              "  --sklearn-color-border-box: var(--sg-text-color, var(--theme-code-foreground, var(--jp-content-font-color1, black)));\n",
              "  --sklearn-color-icon: #696969;\n",
              "\n",
              "  @media (prefers-color-scheme: dark) {\n",
              "    /* Redefinition of color scheme for dark theme */\n",
              "    --sklearn-color-text-on-default-background: var(--sg-text-color, var(--theme-code-foreground, var(--jp-content-font-color1, white)));\n",
              "    --sklearn-color-background: var(--sg-background-color, var(--theme-background, var(--jp-layout-color0, #111)));\n",
              "    --sklearn-color-border-box: var(--sg-text-color, var(--theme-code-foreground, var(--jp-content-font-color1, white)));\n",
              "    --sklearn-color-icon: #878787;\n",
              "  }\n",
              "}\n",
              "\n",
              "#sk-container-id-1 {\n",
              "  color: var(--sklearn-color-text);\n",
              "}\n",
              "\n",
              "#sk-container-id-1 pre {\n",
              "  padding: 0;\n",
              "}\n",
              "\n",
              "#sk-container-id-1 input.sk-hidden--visually {\n",
              "  border: 0;\n",
              "  clip: rect(1px 1px 1px 1px);\n",
              "  clip: rect(1px, 1px, 1px, 1px);\n",
              "  height: 1px;\n",
              "  margin: -1px;\n",
              "  overflow: hidden;\n",
              "  padding: 0;\n",
              "  position: absolute;\n",
              "  width: 1px;\n",
              "}\n",
              "\n",
              "#sk-container-id-1 div.sk-dashed-wrapped {\n",
              "  border: 1px dashed var(--sklearn-color-line);\n",
              "  margin: 0 0.4em 0.5em 0.4em;\n",
              "  box-sizing: border-box;\n",
              "  padding-bottom: 0.4em;\n",
              "  background-color: var(--sklearn-color-background);\n",
              "}\n",
              "\n",
              "#sk-container-id-1 div.sk-container {\n",
              "  /* jupyter's `normalize.less` sets `[hidden] { display: none; }`\n",
              "     but bootstrap.min.css set `[hidden] { display: none !important; }`\n",
              "     so we also need the `!important` here to be able to override the\n",
              "     default hidden behavior on the sphinx rendered scikit-learn.org.\n",
              "     See: https://github.com/scikit-learn/scikit-learn/issues/21755 */\n",
              "  display: inline-block !important;\n",
              "  position: relative;\n",
              "}\n",
              "\n",
              "#sk-container-id-1 div.sk-text-repr-fallback {\n",
              "  display: none;\n",
              "}\n",
              "\n",
              "div.sk-parallel-item,\n",
              "div.sk-serial,\n",
              "div.sk-item {\n",
              "  /* draw centered vertical line to link estimators */\n",
              "  background-image: linear-gradient(var(--sklearn-color-text-on-default-background), var(--sklearn-color-text-on-default-background));\n",
              "  background-size: 2px 100%;\n",
              "  background-repeat: no-repeat;\n",
              "  background-position: center center;\n",
              "}\n",
              "\n",
              "/* Parallel-specific style estimator block */\n",
              "\n",
              "#sk-container-id-1 div.sk-parallel-item::after {\n",
              "  content: \"\";\n",
              "  width: 100%;\n",
              "  border-bottom: 2px solid var(--sklearn-color-text-on-default-background);\n",
              "  flex-grow: 1;\n",
              "}\n",
              "\n",
              "#sk-container-id-1 div.sk-parallel {\n",
              "  display: flex;\n",
              "  align-items: stretch;\n",
              "  justify-content: center;\n",
              "  background-color: var(--sklearn-color-background);\n",
              "  position: relative;\n",
              "}\n",
              "\n",
              "#sk-container-id-1 div.sk-parallel-item {\n",
              "  display: flex;\n",
              "  flex-direction: column;\n",
              "}\n",
              "\n",
              "#sk-container-id-1 div.sk-parallel-item:first-child::after {\n",
              "  align-self: flex-end;\n",
              "  width: 50%;\n",
              "}\n",
              "\n",
              "#sk-container-id-1 div.sk-parallel-item:last-child::after {\n",
              "  align-self: flex-start;\n",
              "  width: 50%;\n",
              "}\n",
              "\n",
              "#sk-container-id-1 div.sk-parallel-item:only-child::after {\n",
              "  width: 0;\n",
              "}\n",
              "\n",
              "/* Serial-specific style estimator block */\n",
              "\n",
              "#sk-container-id-1 div.sk-serial {\n",
              "  display: flex;\n",
              "  flex-direction: column;\n",
              "  align-items: center;\n",
              "  background-color: var(--sklearn-color-background);\n",
              "  padding-right: 1em;\n",
              "  padding-left: 1em;\n",
              "}\n",
              "\n",
              "\n",
              "/* Toggleable style: style used for estimator/Pipeline/ColumnTransformer box that is\n",
              "clickable and can be expanded/collapsed.\n",
              "- Pipeline and ColumnTransformer use this feature and define the default style\n",
              "- Estimators will overwrite some part of the style using the `sk-estimator` class\n",
              "*/\n",
              "\n",
              "/* Pipeline and ColumnTransformer style (default) */\n",
              "\n",
              "#sk-container-id-1 div.sk-toggleable {\n",
              "  /* Default theme specific background. It is overwritten whether we have a\n",
              "  specific estimator or a Pipeline/ColumnTransformer */\n",
              "  background-color: var(--sklearn-color-background);\n",
              "}\n",
              "\n",
              "/* Toggleable label */\n",
              "#sk-container-id-1 label.sk-toggleable__label {\n",
              "  cursor: pointer;\n",
              "  display: flex;\n",
              "  width: 100%;\n",
              "  margin-bottom: 0;\n",
              "  padding: 0.5em;\n",
              "  box-sizing: border-box;\n",
              "  text-align: center;\n",
              "  align-items: start;\n",
              "  justify-content: space-between;\n",
              "  gap: 0.5em;\n",
              "}\n",
              "\n",
              "#sk-container-id-1 label.sk-toggleable__label .caption {\n",
              "  font-size: 0.6rem;\n",
              "  font-weight: lighter;\n",
              "  color: var(--sklearn-color-text-muted);\n",
              "}\n",
              "\n",
              "#sk-container-id-1 label.sk-toggleable__label-arrow:before {\n",
              "  /* Arrow on the left of the label */\n",
              "  content: \"▸\";\n",
              "  float: left;\n",
              "  margin-right: 0.25em;\n",
              "  color: var(--sklearn-color-icon);\n",
              "}\n",
              "\n",
              "#sk-container-id-1 label.sk-toggleable__label-arrow:hover:before {\n",
              "  color: var(--sklearn-color-text);\n",
              "}\n",
              "\n",
              "/* Toggleable content - dropdown */\n",
              "\n",
              "#sk-container-id-1 div.sk-toggleable__content {\n",
              "  max-height: 0;\n",
              "  max-width: 0;\n",
              "  overflow: hidden;\n",
              "  text-align: left;\n",
              "  /* unfitted */\n",
              "  background-color: var(--sklearn-color-unfitted-level-0);\n",
              "}\n",
              "\n",
              "#sk-container-id-1 div.sk-toggleable__content.fitted {\n",
              "  /* fitted */\n",
              "  background-color: var(--sklearn-color-fitted-level-0);\n",
              "}\n",
              "\n",
              "#sk-container-id-1 div.sk-toggleable__content pre {\n",
              "  margin: 0.2em;\n",
              "  border-radius: 0.25em;\n",
              "  color: var(--sklearn-color-text);\n",
              "  /* unfitted */\n",
              "  background-color: var(--sklearn-color-unfitted-level-0);\n",
              "}\n",
              "\n",
              "#sk-container-id-1 div.sk-toggleable__content.fitted pre {\n",
              "  /* unfitted */\n",
              "  background-color: var(--sklearn-color-fitted-level-0);\n",
              "}\n",
              "\n",
              "#sk-container-id-1 input.sk-toggleable__control:checked~div.sk-toggleable__content {\n",
              "  /* Expand drop-down */\n",
              "  max-height: 200px;\n",
              "  max-width: 100%;\n",
              "  overflow: auto;\n",
              "}\n",
              "\n",
              "#sk-container-id-1 input.sk-toggleable__control:checked~label.sk-toggleable__label-arrow:before {\n",
              "  content: \"▾\";\n",
              "}\n",
              "\n",
              "/* Pipeline/ColumnTransformer-specific style */\n",
              "\n",
              "#sk-container-id-1 div.sk-label input.sk-toggleable__control:checked~label.sk-toggleable__label {\n",
              "  color: var(--sklearn-color-text);\n",
              "  background-color: var(--sklearn-color-unfitted-level-2);\n",
              "}\n",
              "\n",
              "#sk-container-id-1 div.sk-label.fitted input.sk-toggleable__control:checked~label.sk-toggleable__label {\n",
              "  background-color: var(--sklearn-color-fitted-level-2);\n",
              "}\n",
              "\n",
              "/* Estimator-specific style */\n",
              "\n",
              "/* Colorize estimator box */\n",
              "#sk-container-id-1 div.sk-estimator input.sk-toggleable__control:checked~label.sk-toggleable__label {\n",
              "  /* unfitted */\n",
              "  background-color: var(--sklearn-color-unfitted-level-2);\n",
              "}\n",
              "\n",
              "#sk-container-id-1 div.sk-estimator.fitted input.sk-toggleable__control:checked~label.sk-toggleable__label {\n",
              "  /* fitted */\n",
              "  background-color: var(--sklearn-color-fitted-level-2);\n",
              "}\n",
              "\n",
              "#sk-container-id-1 div.sk-label label.sk-toggleable__label,\n",
              "#sk-container-id-1 div.sk-label label {\n",
              "  /* The background is the default theme color */\n",
              "  color: var(--sklearn-color-text-on-default-background);\n",
              "}\n",
              "\n",
              "/* On hover, darken the color of the background */\n",
              "#sk-container-id-1 div.sk-label:hover label.sk-toggleable__label {\n",
              "  color: var(--sklearn-color-text);\n",
              "  background-color: var(--sklearn-color-unfitted-level-2);\n",
              "}\n",
              "\n",
              "/* Label box, darken color on hover, fitted */\n",
              "#sk-container-id-1 div.sk-label.fitted:hover label.sk-toggleable__label.fitted {\n",
              "  color: var(--sklearn-color-text);\n",
              "  background-color: var(--sklearn-color-fitted-level-2);\n",
              "}\n",
              "\n",
              "/* Estimator label */\n",
              "\n",
              "#sk-container-id-1 div.sk-label label {\n",
              "  font-family: monospace;\n",
              "  font-weight: bold;\n",
              "  display: inline-block;\n",
              "  line-height: 1.2em;\n",
              "}\n",
              "\n",
              "#sk-container-id-1 div.sk-label-container {\n",
              "  text-align: center;\n",
              "}\n",
              "\n",
              "/* Estimator-specific */\n",
              "#sk-container-id-1 div.sk-estimator {\n",
              "  font-family: monospace;\n",
              "  border: 1px dotted var(--sklearn-color-border-box);\n",
              "  border-radius: 0.25em;\n",
              "  box-sizing: border-box;\n",
              "  margin-bottom: 0.5em;\n",
              "  /* unfitted */\n",
              "  background-color: var(--sklearn-color-unfitted-level-0);\n",
              "}\n",
              "\n",
              "#sk-container-id-1 div.sk-estimator.fitted {\n",
              "  /* fitted */\n",
              "  background-color: var(--sklearn-color-fitted-level-0);\n",
              "}\n",
              "\n",
              "/* on hover */\n",
              "#sk-container-id-1 div.sk-estimator:hover {\n",
              "  /* unfitted */\n",
              "  background-color: var(--sklearn-color-unfitted-level-2);\n",
              "}\n",
              "\n",
              "#sk-container-id-1 div.sk-estimator.fitted:hover {\n",
              "  /* fitted */\n",
              "  background-color: var(--sklearn-color-fitted-level-2);\n",
              "}\n",
              "\n",
              "/* Specification for estimator info (e.g. \"i\" and \"?\") */\n",
              "\n",
              "/* Common style for \"i\" and \"?\" */\n",
              "\n",
              ".sk-estimator-doc-link,\n",
              "a:link.sk-estimator-doc-link,\n",
              "a:visited.sk-estimator-doc-link {\n",
              "  float: right;\n",
              "  font-size: smaller;\n",
              "  line-height: 1em;\n",
              "  font-family: monospace;\n",
              "  background-color: var(--sklearn-color-background);\n",
              "  border-radius: 1em;\n",
              "  height: 1em;\n",
              "  width: 1em;\n",
              "  text-decoration: none !important;\n",
              "  margin-left: 0.5em;\n",
              "  text-align: center;\n",
              "  /* unfitted */\n",
              "  border: var(--sklearn-color-unfitted-level-1) 1pt solid;\n",
              "  color: var(--sklearn-color-unfitted-level-1);\n",
              "}\n",
              "\n",
              ".sk-estimator-doc-link.fitted,\n",
              "a:link.sk-estimator-doc-link.fitted,\n",
              "a:visited.sk-estimator-doc-link.fitted {\n",
              "  /* fitted */\n",
              "  border: var(--sklearn-color-fitted-level-1) 1pt solid;\n",
              "  color: var(--sklearn-color-fitted-level-1);\n",
              "}\n",
              "\n",
              "/* On hover */\n",
              "div.sk-estimator:hover .sk-estimator-doc-link:hover,\n",
              ".sk-estimator-doc-link:hover,\n",
              "div.sk-label-container:hover .sk-estimator-doc-link:hover,\n",
              ".sk-estimator-doc-link:hover {\n",
              "  /* unfitted */\n",
              "  background-color: var(--sklearn-color-unfitted-level-3);\n",
              "  color: var(--sklearn-color-background);\n",
              "  text-decoration: none;\n",
              "}\n",
              "\n",
              "div.sk-estimator.fitted:hover .sk-estimator-doc-link.fitted:hover,\n",
              ".sk-estimator-doc-link.fitted:hover,\n",
              "div.sk-label-container:hover .sk-estimator-doc-link.fitted:hover,\n",
              ".sk-estimator-doc-link.fitted:hover {\n",
              "  /* fitted */\n",
              "  background-color: var(--sklearn-color-fitted-level-3);\n",
              "  color: var(--sklearn-color-background);\n",
              "  text-decoration: none;\n",
              "}\n",
              "\n",
              "/* Span, style for the box shown on hovering the info icon */\n",
              ".sk-estimator-doc-link span {\n",
              "  display: none;\n",
              "  z-index: 9999;\n",
              "  position: relative;\n",
              "  font-weight: normal;\n",
              "  right: .2ex;\n",
              "  padding: .5ex;\n",
              "  margin: .5ex;\n",
              "  width: min-content;\n",
              "  min-width: 20ex;\n",
              "  max-width: 50ex;\n",
              "  color: var(--sklearn-color-text);\n",
              "  box-shadow: 2pt 2pt 4pt #999;\n",
              "  /* unfitted */\n",
              "  background: var(--sklearn-color-unfitted-level-0);\n",
              "  border: .5pt solid var(--sklearn-color-unfitted-level-3);\n",
              "}\n",
              "\n",
              ".sk-estimator-doc-link.fitted span {\n",
              "  /* fitted */\n",
              "  background: var(--sklearn-color-fitted-level-0);\n",
              "  border: var(--sklearn-color-fitted-level-3);\n",
              "}\n",
              "\n",
              ".sk-estimator-doc-link:hover span {\n",
              "  display: block;\n",
              "}\n",
              "\n",
              "/* \"?\"-specific style due to the `<a>` HTML tag */\n",
              "\n",
              "#sk-container-id-1 a.estimator_doc_link {\n",
              "  float: right;\n",
              "  font-size: 1rem;\n",
              "  line-height: 1em;\n",
              "  font-family: monospace;\n",
              "  background-color: var(--sklearn-color-background);\n",
              "  border-radius: 1rem;\n",
              "  height: 1rem;\n",
              "  width: 1rem;\n",
              "  text-decoration: none;\n",
              "  /* unfitted */\n",
              "  color: var(--sklearn-color-unfitted-level-1);\n",
              "  border: var(--sklearn-color-unfitted-level-1) 1pt solid;\n",
              "}\n",
              "\n",
              "#sk-container-id-1 a.estimator_doc_link.fitted {\n",
              "  /* fitted */\n",
              "  border: var(--sklearn-color-fitted-level-1) 1pt solid;\n",
              "  color: var(--sklearn-color-fitted-level-1);\n",
              "}\n",
              "\n",
              "/* On hover */\n",
              "#sk-container-id-1 a.estimator_doc_link:hover {\n",
              "  /* unfitted */\n",
              "  background-color: var(--sklearn-color-unfitted-level-3);\n",
              "  color: var(--sklearn-color-background);\n",
              "  text-decoration: none;\n",
              "}\n",
              "\n",
              "#sk-container-id-1 a.estimator_doc_link.fitted:hover {\n",
              "  /* fitted */\n",
              "  background-color: var(--sklearn-color-fitted-level-3);\n",
              "}\n",
              "</style><div id=\"sk-container-id-1\" class=\"sk-top-container\"><div class=\"sk-text-repr-fallback\"><pre>LinearRegression()</pre><b>In a Jupyter environment, please rerun this cell to show the HTML representation or trust the notebook. <br />On GitHub, the HTML representation is unable to render, please try loading this page with nbviewer.org.</b></div><div class=\"sk-container\" hidden><div class=\"sk-item\"><div class=\"sk-estimator fitted sk-toggleable\"><input class=\"sk-toggleable__control sk-hidden--visually\" id=\"sk-estimator-id-1\" type=\"checkbox\" checked><label for=\"sk-estimator-id-1\" class=\"sk-toggleable__label fitted sk-toggleable__label-arrow\"><div><div>LinearRegression</div></div><div><a class=\"sk-estimator-doc-link fitted\" rel=\"noreferrer\" target=\"_blank\" href=\"https://scikit-learn.org/1.6/modules/generated/sklearn.linear_model.LinearRegression.html\">?<span>Documentation for LinearRegression</span></a><span class=\"sk-estimator-doc-link fitted\">i<span>Fitted</span></span></div></label><div class=\"sk-toggleable__content fitted\"><pre>LinearRegression()</pre></div> </div></div></div></div>"
            ]
          },
          "metadata": {},
          "execution_count": 11
        }
      ]
    },
    {
      "cell_type": "code",
      "source": [
        "model.coef_"
      ],
      "metadata": {
        "colab": {
          "base_uri": "https://localhost:8080/"
        },
        "id": "2M-UdSTXE-01",
        "outputId": "be6c203f-ebdf-4cf2-94b2-7cbd49f0e309"
      },
      "execution_count": null,
      "outputs": [
        {
          "output_type": "execute_result",
          "data": {
            "text/plain": [
              "array([2.04438283, 2.89395021])"
            ]
          },
          "metadata": {},
          "execution_count": 15
        }
      ]
    },
    {
      "cell_type": "code",
      "source": [
        "model.intercept_"
      ],
      "metadata": {
        "colab": {
          "base_uri": "https://localhost:8080/"
        },
        "id": "9Gc7EqhfFOFJ",
        "outputId": "628f6db7-bd43-4ba2-cd7d-f873db31e6a0"
      },
      "execution_count": null,
      "outputs": [
        {
          "output_type": "execute_result",
          "data": {
            "text/plain": [
              "np.float64(6.420592979796282)"
            ]
          },
          "metadata": {},
          "execution_count": 16
        }
      ]
    },
    {
      "cell_type": "code",
      "source": [
        "# Step 5: Make predictions and evaluate the model\n",
        "y_pred = model.predict(X_test)\n",
        "\n",
        "mse = mean_squared_error(y_test, y_pred)\n",
        "r2 = r2_score(y_test, y_pred)\n",
        "\n",
        "print(\"Mean Squared Error:\", mse)\n",
        "print(\"R-squared:\", r2)\n"
      ],
      "metadata": {
        "colab": {
          "base_uri": "https://localhost:8080/"
        },
        "id": "bjs0DiCGFbCr",
        "outputId": "9b887523-39bf-4328-ba95-50afa657c88b"
      },
      "execution_count": null,
      "outputs": [
        {
          "output_type": "stream",
          "name": "stdout",
          "text": [
            "Mean Squared Error: 46.32575690552355\n",
            "R-squared: 0.9489569582911224\n"
          ]
        }
      ]
    },
    {
      "cell_type": "code",
      "source": [
        "from sklearn.preprocessing import PolynomialFeatures\n",
        "from sklearn.pipeline import Pipeline\n",
        "\n",
        "# Create a pipeline with polynomial features and linear regression\n",
        "pipeline = Pipeline([\n",
        "    ('poly', PolynomialFeatures(degree=2)),  # Adding squared terms\n",
        "    ('model', LinearRegression())\n",
        "])\n",
        "\n",
        "# Train the pipeline\n",
        "pipeline.fit(X_train, y_train)\n",
        "\n",
        "# Predict and evaluate\n",
        "y_pred_poly = pipeline.predict(X_test)\n",
        "mse_poly = mean_squared_error(y_test, y_pred_poly)\n",
        "r2_poly = r2_score(y_test, y_pred_poly)\n",
        "\n",
        "print(\"Polynomial Regression MSE:\", mse_poly)\n",
        "print(\"Polynomial Regression R-squared:\", r2_poly)\n"
      ],
      "metadata": {
        "colab": {
          "base_uri": "https://localhost:8080/"
        },
        "id": "Okn3XugwDLl8",
        "outputId": "f5ed1ada-eb81-473f-dc27-8eee77040894"
      },
      "execution_count": null,
      "outputs": [
        {
          "output_type": "stream",
          "name": "stdout",
          "text": [
            "Polynomial Regression MSE: 48.03137490349168\n",
            "Polynomial Regression R-squared: 0.9470776596800442\n"
          ]
        }
      ]
    },
    {
      "cell_type": "code",
      "source": [
        "from sklearn.preprocessing import PolynomialFeatures\n",
        "from sklearn.pipeline import Pipeline\n",
        "\n",
        "# Create a pipeline with polynomial features and linear regression\n",
        "pipeline = Pipeline([\n",
        "    ('poly', PolynomialFeatures(degree=3)),  # Adding cubed terms\n",
        "    ('model', LinearRegression())\n",
        "])\n",
        "\n",
        "# Train the pipeline\n",
        "pipeline.fit(X_train, y_train)\n",
        "\n",
        "# Predict and evaluate\n",
        "y_pred_poly = pipeline.predict(X_test)\n",
        "mse_poly = mean_squared_error(y_test, y_pred_poly)\n",
        "r3_poly = r2_score(y_test, y_pred_poly)\n",
        "\n",
        "print(\"Polynomial Regression MSE:\", mse_poly)\n",
        "print(\"Polynomial Regression R-squared:\", r3_poly)\n"
      ],
      "metadata": {
        "colab": {
          "base_uri": "https://localhost:8080/"
        },
        "id": "zuBcScUSDNyq",
        "outputId": "bd71563f-98e7-41ea-a49a-47423e5a6fa8"
      },
      "execution_count": null,
      "outputs": [
        {
          "output_type": "stream",
          "name": "stdout",
          "text": [
            "Polynomial Regression MSE: 48.557372039198064\n",
            "Polynomial Regression R-squared: 0.9464981010170014\n"
          ]
        }
      ]
    },
    {
      "cell_type": "code",
      "source": [
        "from sklearn.preprocessing import PolynomialFeatures\n",
        "from sklearn.pipeline import Pipeline\n",
        "\n",
        "# Create a pipeline with polynomial features and linear regression\n",
        "pipeline = Pipeline([\n",
        "    ('poly', PolynomialFeatures(degree=4)),  # Adding squared terms\n",
        "    ('model', LinearRegression())\n",
        "])\n",
        "\n",
        "# Train the pipeline\n",
        "pipeline.fit(X_train, y_train)\n",
        "\n",
        "# Predict and evaluate\n",
        "y_pred_poly = pipeline.predict(X_test)\n",
        "mse_poly = mean_squared_error(y_test, y_pred_poly)\n",
        "r4_poly = r2_score(y_test, y_pred_poly)\n",
        "\n",
        "print(\"Polynomial Regression MSE:\", mse_poly)\n",
        "print(\"Polynomial Regression R-squared:\", r4_poly)\n"
      ],
      "metadata": {
        "colab": {
          "base_uri": "https://localhost:8080/"
        },
        "id": "YR8SaLuIDcc-",
        "outputId": "6a6de752-2e1c-412a-9bcb-ec4b343ee090"
      },
      "execution_count": null,
      "outputs": [
        {
          "output_type": "stream",
          "name": "stdout",
          "text": [
            "Polynomial Regression MSE: 74.3672504306717\n",
            "Polynomial Regression R-squared: 0.9180600400496701\n"
          ]
        }
      ]
    },
    {
      "cell_type": "markdown",
      "source": [
        "\n",
        "\n",
        "```\n",
        "with Linear :\n",
        "\n",
        "Mean Squared Error: 46.32575690552355\n",
        "R-squared: 0.9489569582911224\n",
        "Coefficients: [2.04438283 2.89395021]\n",
        "Intercept: 6.420592979796282\n",
        "\n",
        "with poly degree 2:\n",
        "\n",
        "Polynomial Regression MSE: 48.03137490349168\n",
        "Polynomial Regression R-squared: 0.9470776596800442\n",
        "\n",
        "with poly degree 3:\n",
        "\n",
        "Polynomial Regression MSE: 48.557372039198064\n",
        "Polynomial Regression R-squared: 0.9464981010170014\n",
        "\n",
        "with poly degree 4:\n",
        "\n",
        "Polynomial Regression MSE: 74.3672504306717\n",
        "Polynomial Regression R-squared: 0.9180600400496701\n",
        "\n",
        "\n",
        "```\n",
        "\n"
      ],
      "metadata": {
        "id": "FluXkpOQGq8k"
      }
    },
    {
      "cell_type": "markdown",
      "source": [
        "\n",
        "\n",
        "```\n",
        "A degree-4 polynomial regression seems to have slightly reduced the model's performance compared to your earlier linear model, as indicated by the increase in MSE and decrease in R-squared. This outcome suggests that the higher-degree polynomial model might be overfitting the data—capturing noise rather than the underlying trends.\n",
        "```\n",
        "\n"
      ],
      "metadata": {
        "id": "3Q1WLCjEHNl9"
      }
    },
    {
      "cell_type": "markdown",
      "source": [
        "\n",
        "\n",
        "```\n",
        "A degree-4 polynomial regression seems to have\n",
        " slightly reduced the model's performance\n",
        " compared to your earlier linear model, as\n",
        "  indicated by the increase in MSE and\n",
        "   decrease in R-squared.\n",
        "   This outcome suggests that the higher-degree polynomial model might be\n",
        "    overfitting the data—capturing noise\n",
        "     rather than the underlying trends.\n",
        "```\n",
        "\n"
      ],
      "metadata": {
        "id": "dKEt2o5ZHSXN"
      }
    },
    {
      "cell_type": "code",
      "source": [
        "from sklearn.preprocessing import StandardScaler\n",
        "scaler = StandardScaler()\n",
        "X_train_scaled = scaler.fit_transform(X_train)\n",
        "X_test_scaled = scaler.transform(X_test)\n",
        "# Use scaled features when creating polynomial features\n"
      ],
      "metadata": {
        "id": "ObFjKVeHHgpX"
      },
      "execution_count": null,
      "outputs": []
    },
    {
      "cell_type": "code",
      "source": [
        "from sklearn.linear_model import LinearRegression\n",
        "from sklearn.metrics import mean_squared_error, r2_score\n",
        "\n",
        "# Step 1: Train the Linear Regression Model with Scaled Features\n",
        "model = LinearRegression()\n",
        "model.fit(X_train_scaled, y_train)\n",
        "\n",
        "# Step 2: Make Predictions\n",
        "y_pred = model.predict(X_test_scaled)\n",
        "\n",
        "# Step 3: Evaluate the Model\n",
        "mse = mean_squared_error(y_test, y_pred)\n",
        "r2 = r2_score(y_test, y_pred)\n",
        "\n",
        "print(\"Mean Squared Error (Scaled Features):\", mse)\n",
        "print(\"R-squared (Scaled Features):\", r2)\n"
      ],
      "metadata": {
        "colab": {
          "base_uri": "https://localhost:8080/"
        },
        "id": "Qr7XwLbAITxd",
        "outputId": "ea01ab82-2600-441f-ee5c-882135a85969"
      },
      "execution_count": null,
      "outputs": [
        {
          "output_type": "stream",
          "name": "stdout",
          "text": [
            "Mean Squared Error (Scaled Features): 46.32575690552325\n",
            "R-squared (Scaled Features): 0.9489569582911227\n"
          ]
        }
      ]
    },
    {
      "cell_type": "code",
      "source": [
        "from sklearn.preprocessing import PolynomialFeatures\n",
        "from sklearn.pipeline import Pipeline\n",
        "from sklearn.linear_model import LinearRegression\n",
        "from sklearn.metrics import mean_squared_error, r2_score\n",
        "\n",
        "# Step 1: Create a Pipeline for Polynomial Regression\n",
        "poly_model = Pipeline([\n",
        "    ('poly', PolynomialFeatures(degree=2)),  # Polynomial degree = 2\n",
        "    ('model', LinearRegression())  # Linear Regression on the polynomial features\n",
        "])\n",
        "\n",
        "# Step 2: Train the Model with Scaled Features\n",
        "poly_model.fit(X_train_scaled, y_train)\n",
        "\n",
        "# Step 3: Make Predictions\n",
        "y_pred_poly = poly_model.predict(X_test_scaled)\n",
        "\n",
        "# Step 4: Evaluate the Model\n",
        "mse_poly = mean_squared_error(y_test, y_pred_poly)\n",
        "r2_poly = r2_score(y_test, y_pred_poly)\n",
        "\n",
        "print(\"Polynomial Regression (Degree 2) MSE:\", mse_poly)\n",
        "print(\"Polynomial Regression (Degree 2) R-squared:\", r2_poly)\n"
      ],
      "metadata": {
        "colab": {
          "base_uri": "https://localhost:8080/"
        },
        "id": "QdGYwYeyHPxn",
        "outputId": "ac7fd56d-e576-4720-b065-7d748e0611c8"
      },
      "execution_count": null,
      "outputs": [
        {
          "output_type": "stream",
          "name": "stdout",
          "text": [
            "Polynomial Regression (Degree 2) MSE: 48.03137490349567\n",
            "Polynomial Regression (Degree 2) R-squared: 0.9470776596800398\n"
          ]
        }
      ]
    },
    {
      "cell_type": "code",
      "source": [
        "from sklearn.preprocessing import PolynomialFeatures\n",
        "from sklearn.pipeline import Pipeline\n",
        "from sklearn.linear_model import LinearRegression\n",
        "from sklearn.metrics import mean_squared_error, r2_score\n",
        "\n",
        "# Step 1: Create a Pipeline for Polynomial Regression\n",
        "poly_model = Pipeline([\n",
        "    ('poly', PolynomialFeatures(degree=3)),  # Polynomial degree = 2\n",
        "    ('model', LinearRegression())  # Linear Regression on the polynomial features\n",
        "])\n",
        "\n",
        "# Step 2: Train the Model with Scaled Features\n",
        "poly_model.fit(X_train_scaled, y_train)\n",
        "\n",
        "# Step 3: Make Predictions\n",
        "y_pred_poly = poly_model.predict(X_test_scaled)\n",
        "\n",
        "# Step 4: Evaluate the Model\n",
        "mse_poly = mean_squared_error(y_test, y_pred_poly)\n",
        "r2_poly = r2_score(y_test, y_pred_poly)\n",
        "\n",
        "print(\"Polynomial Regression (Degree 3) MSE:\", mse_poly)\n",
        "print(\"Polynomial Regression (Degree 3) R-squared:\", r2_poly)\n",
        "\n",
        "# Step 5: Coefficients\n",
        "coefficients = poly_model.named_steps['model'].coef_  # Access linear model coefficients\n",
        "intercept = poly_model.named_steps['model'].intercept_\n",
        "\n",
        "print(\"Coefficients:\", coefficients)\n",
        "print(\"Intercept:\", intercept)\n"
      ],
      "metadata": {
        "colab": {
          "base_uri": "https://localhost:8080/"
        },
        "id": "XqUSA1m0FcdD",
        "outputId": "a36024e4-37d1-4f16-de42-ffd6ce6cf97d"
      },
      "execution_count": null,
      "outputs": [
        {
          "output_type": "stream",
          "name": "stdout",
          "text": [
            "Polynomial Regression (Degree 3) MSE: 48.55737203920238\n",
            "Polynomial Regression (Degree 3) R-squared: 0.9464981010169966\n",
            "Coefficients: [ 0.00000000e+00  2.11561008e+01  2.66363106e+01 -5.75006668e-01\n",
            "  1.00343207e+00 -6.91658386e-01  1.12416717e+00 -8.28461732e-01\n",
            "  3.51458052e-02  1.07420631e-02]\n",
            "Intercept: 134.84240533557522\n"
          ]
        }
      ]
    },
    {
      "cell_type": "code",
      "source": [
        "from sklearn.linear_model import Ridge\n",
        "from sklearn.pipeline import Pipeline\n",
        "\n",
        "ridge_poly_model = Pipeline([\n",
        "    ('poly', PolynomialFeatures(degree=3)),\n",
        "    ('ridge', Ridge(alpha=1.0))\n",
        "])\n",
        "ridge_poly_model.fit(X_train_scaled, y_train)\n",
        "y_pred_ridge = ridge_poly_model.predict(X_test_scaled)\n",
        "print(\"Ridge MSE:\", mean_squared_error(y_test, y_pred_ridge))\n",
        "print(\"Ridge R-squared:\", r2_score(y_test, y_pred_ridge))\n"
      ],
      "metadata": {
        "colab": {
          "base_uri": "https://localhost:8080/"
        },
        "id": "UQL4rm5SJ5_1",
        "outputId": "5f3812e9-a2eb-458b-e820-c4d45683b3a3"
      },
      "execution_count": null,
      "outputs": [
        {
          "output_type": "stream",
          "name": "stdout",
          "text": [
            "Ridge MSE: 62.859830856346626\n",
            "Ridge R-squared: 0.9307392435107537\n"
          ]
        }
      ]
    },
    {
      "cell_type": "code",
      "source": [
        "from sklearn.linear_model import Ridge\n",
        "from sklearn.pipeline import Pipeline\n",
        "\n",
        "ridge_poly_model = Pipeline([\n",
        "    ('poly', PolynomialFeatures(degree=2)),\n",
        "    ('ridge', Ridge(alpha=1.0))\n",
        "])\n",
        "ridge_poly_model.fit(X_train_scaled, y_train)\n",
        "y_pred_ridge = ridge_poly_model.predict(X_test_scaled)\n",
        "print(\"Ridge MSE:\", mean_squared_error(y_test, y_pred_ridge))\n",
        "print(\"Ridge R-squared:\", r2_score(y_test, y_pred_ridge))\n"
      ],
      "metadata": {
        "colab": {
          "base_uri": "https://localhost:8080/"
        },
        "id": "8hKco_cMLEmD",
        "outputId": "641e6c74-8f71-4f4e-9633-41bd104b9752"
      },
      "execution_count": null,
      "outputs": [
        {
          "output_type": "stream",
          "name": "stdout",
          "text": [
            "Ridge MSE: 50.39982060290522\n",
            "Ridge R-squared: 0.9444680385816361\n"
          ]
        }
      ]
    },
    {
      "cell_type": "code",
      "source": [
        "from sklearn.linear_model import Ridge\n",
        "from sklearn.pipeline import Pipeline\n",
        "\n",
        "ridge_poly_model = Pipeline([\n",
        "    ('poly', PolynomialFeatures(degree=1)),\n",
        "    ('ridge', Ridge(alpha=1.0))\n",
        "])\n",
        "ridge_poly_model.fit(X_train_scaled, y_train)\n",
        "y_pred_ridge = ridge_poly_model.predict(X_test_scaled)\n",
        "print(\"Ridge MSE:\", mean_squared_error(y_test, y_pred_ridge))\n",
        "print(\"Ridge R-squared:\", r2_score(y_test, y_pred_ridge))\n"
      ],
      "metadata": {
        "colab": {
          "base_uri": "https://localhost:8080/"
        },
        "id": "D0G892ANHI_t",
        "outputId": "d43941de-b2b5-41f8-a577-1f9bd76b2bdf"
      },
      "execution_count": null,
      "outputs": [
        {
          "output_type": "stream",
          "name": "stdout",
          "text": [
            "Ridge MSE: 49.34866736328949\n",
            "Ridge R-squared: 0.9456262292348736\n"
          ]
        }
      ]
    },
    {
      "cell_type": "code",
      "source": [],
      "metadata": {
        "id": "apC_DSiqKsQj"
      },
      "execution_count": null,
      "outputs": []
    },
    {
      "cell_type": "markdown",
      "source": [
        "![image.png](data:image/png;base64,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)"
      ],
      "metadata": {
        "id": "RRXlHihaKs_A"
      }
    },
    {
      "cell_type": "code",
      "source": [],
      "metadata": {
        "id": "CCDoqdcIKt56"
      },
      "execution_count": null,
      "outputs": []
    },
    {
      "cell_type": "code",
      "source": [
        "# next class\n",
        "from sklearn.linear_model import Lasso\n",
        "from sklearn.pipeline import Pipeline\n",
        "from sklearn.preprocessing import PolynomialFeatures\n",
        "from sklearn.metrics import mean_squared_error, r2_score\n",
        "\n",
        "# Step 1: Create a Pipeline for Polynomial Features and Lasso Regression\n",
        "lasso_model = Pipeline([\n",
        "    ('poly', PolynomialFeatures(degree=1)),  # Degree can be adjusted (here it's linear for comparison)\n",
        "    ('lasso', Lasso(alpha=0.1, max_iter=10000))  # Alpha is the regularization strength; tweak as needed\n",
        "])\n",
        "\n",
        "# Step 2: Train the Model with Scaled Features\n",
        "lasso_model.fit(X_train_scaled, y_train)\n",
        "\n",
        "# Step 3: Make Predictions\n",
        "y_pred_lasso = lasso_model.predict(X_test_scaled)\n",
        "\n",
        "# Step 4: Evaluate the Model\n",
        "mse_lasso = mean_squared_error(y_test, y_pred_lasso)\n",
        "r2_lasso = r2_score(y_test, y_pred_lasso)\n",
        "\n",
        "print(\"Lasso Regression MSE:\", mse_lasso)\n",
        "print(\"Lasso Regression R-squared:\", r2_lasso)\n",
        "\n",
        "# Step 5: Coefficients and Intercept\n",
        "coefficients = lasso_model.named_steps['lasso'].coef_  # Access Lasso coefficients\n",
        "intercept = lasso_model.named_steps['lasso'].intercept_\n",
        "\n",
        "print(\"Coefficients:\", coefficients)\n",
        "print(\"Intercept:\", intercept)\n"
      ],
      "metadata": {
        "colab": {
          "base_uri": "https://localhost:8080/"
        },
        "id": "lZ66ydYXLvtq",
        "outputId": "22df277e-b160-4291-887c-d9da688ab7c1"
      },
      "execution_count": null,
      "outputs": [
        {
          "output_type": "stream",
          "name": "stdout",
          "text": [
            "Lasso Regression MSE: 46.70162830971068\n",
            "Lasso Regression R-squared: 0.9485428124456433\n",
            "Coefficients: [ 0.         23.16429615 25.67123015]\n",
            "Intercept: 133.93225\n"
          ]
        }
      ]
    },
    {
      "cell_type": "code",
      "source": [
        "import numpy as np\n",
        "\n",
        "# Step 1: Generate Synthetic Data (with potential multicollinearity)\n",
        "np.random.seed(42)  # for reproducibility\n",
        "n_samples = 100\n",
        "n_features = 2\n",
        "\n",
        "# Create features (X) with some correlation\n",
        "X = np.random.rand(n_samples, n_features)\n",
        "X[:, 1] = X[:, 0] + 0.1 * np.random.randn(n_samples) # Feature 1 is dependent on Feature 0 (multicollinearity!)\n",
        "\n",
        "# Create true coefficients (beta) and intercept\n",
        "true_beta = np.array([2.0, -1.5])  # True coefficients for the features\n",
        "true_intercept = 0.5\n",
        "noise = 0.1 * np.random.randn(n_samples)\n",
        "\n",
        "# Generate target variable (y)\n",
        "y = true_intercept + X @ true_beta + noise # @ is matrix multiplication\n",
        "\n",
        "\n"
      ],
      "metadata": {
        "id": "iCSBfklZOGPr"
      },
      "execution_count": null,
      "outputs": []
    },
    {
      "cell_type": "code",
      "source": [
        "# Step 2: Add Intercept Term to Feature Matrix (X)\n",
        "X = np.hstack((np.ones((n_samples, 1)), X))  # Add a column of ones for the intercept\n",
        "\n",
        "X"
      ],
      "metadata": {
        "colab": {
          "base_uri": "https://localhost:8080/"
        },
        "id": "ecHg9NdXg2Lg",
        "outputId": "d1c33334-8e64-4268-a05a-44074da0b00f"
      },
      "execution_count": null,
      "outputs": [
        {
          "output_type": "execute_result",
          "data": {
            "text/plain": [
              "array([[ 1.        ,  0.37454012,  0.30653765],\n",
              "       [ 1.        ,  0.73199394,  0.75521931],\n",
              "       [ 1.        ,  0.15601864,  0.18532589],\n",
              "       [ 1.        ,  0.05808361, -0.01335153],\n",
              "       [ 1.        ,  0.60111501,  0.78769246],\n",
              "       [ 1.        ,  0.02058449,  0.06796779],\n",
              "       [ 1.        ,  0.83244264,  0.71331229],\n",
              "       [ 1.        ,  0.18182497,  0.24748033],\n",
              "       [ 1.        ,  0.30424224,  0.20677408],\n",
              "       [ 1.        ,  0.43194502,  0.51065348],\n",
              "       [ 1.        ,  0.61185289,  0.72771245],\n",
              "       [ 1.        ,  0.29214465,  0.21007642],\n",
              "       [ 1.        ,  0.45606998,  0.5524076 ],\n",
              "       [ 1.        ,  0.19967378,  0.24095187],\n",
              "       [ 1.        ,  0.59241457,  0.67462058],\n",
              "       [ 1.        ,  0.60754485,  0.79722415],\n",
              "       [ 1.        ,  0.06505159,  0.04051278],\n",
              "       [ 1.        ,  0.96563203,  0.89025842],\n",
              "       [ 1.        ,  0.30461377,  0.21566233],\n",
              "       [ 1.        ,  0.68423303,  0.602652  ],\n",
              "       [ 1.        ,  0.12203823,  0.11432806],\n",
              "       [ 1.        ,  0.03438852,  0.06850372],\n",
              "       [ 1.        ,  0.25877998,  0.28644906],\n",
              "       [ 1.        ,  0.31171108,  0.3944294 ],\n",
              "       [ 1.        ,  0.54671028,  0.54801047],\n",
              "       [ 1.        ,  0.96958463,  1.11493804],\n",
              "       [ 1.        ,  0.93949894,  0.91303326],\n",
              "       [ 1.        ,  0.59789998,  0.8699169 ],\n",
              "       [ 1.        ,  0.0884925 ,  0.15105924],\n",
              "       [ 1.        ,  0.04522729, -0.04048847],\n",
              "       [ 1.        ,  0.38867729,  0.28158804],\n",
              "       [ 1.        ,  0.82873751,  0.87698475],\n",
              "       [ 1.        ,  0.28093451,  0.25858823],\n",
              "       [ 1.        ,  0.14092422,  0.21232427],\n",
              "       [ 1.        ,  0.07455064,  0.12187441],\n",
              "       [ 1.        ,  0.77224477,  0.76496188],\n",
              "       [ 1.        ,  0.00552212, -0.07915725],\n",
              "       [ 1.        ,  0.70685734,  0.55537262],\n",
              "       [ 1.        ,  0.77127035,  0.72661885],\n",
              "       [ 1.        ,  0.35846573,  0.44410561],\n",
              "       [ 1.        ,  0.86310343,  0.8845128 ],\n",
              "       [ 1.        ,  0.33089802,  0.20632415],\n",
              "       [ 1.        ,  0.31098232,  0.32830041],\n",
              "       [ 1.        ,  0.72960618,  0.76813792],\n",
              "       [ 1.        ,  0.88721274,  0.798827  ],\n",
              "       [ 1.        ,  0.11959425,  0.13496676],\n",
              "       [ 1.        ,  0.76078505,  0.76660592],\n",
              "       [ 1.        ,  0.77096718,  0.65667015],\n",
              "       [ 1.        ,  0.52273283,  0.55851157],\n",
              "       [ 1.        ,  0.02541913,  0.08149758],\n",
              "       [ 1.        ,  0.03142919,  0.13973431],\n",
              "       [ 1.        ,  0.31435598,  0.41973619],\n",
              "       [ 1.        ,  0.90756647,  0.76979954],\n",
              "       [ 1.        ,  0.41038292,  0.31660042],\n",
              "       [ 1.        ,  0.22879817,  0.28030169],\n",
              "       [ 1.        ,  0.28975145,  0.34113005],\n",
              "       [ 1.        ,  0.92969765,  0.98120242],\n",
              "       [ 1.        ,  0.63340376,  1.01867691],\n",
              "       [ 1.        ,  0.80367208,  0.86076113],\n",
              "       [ 1.        ,  0.892559  ,  1.00611556],\n",
              "       [ 1.        ,  0.80744016,  0.90284033],\n",
              "       [ 1.        ,  0.31800347,  0.3831426 ],\n",
              "       [ 1.        ,  0.22793516,  0.19640824],\n",
              "       [ 1.        ,  0.81801477,  0.89391169],\n",
              "       [ 1.        ,  0.00695213, -0.07033039],\n",
              "       [ 1.        ,  0.417411  ,  0.39372914],\n",
              "       [ 1.        ,  0.11986537,  0.07132901],\n",
              "       [ 1.        ,  0.9429097 ,  0.95109712],\n",
              "       [ 1.        ,  0.51879062,  0.75025648],\n",
              "       [ 1.        ,  0.3636296 ,  0.17690308],\n",
              "       [ 1.        ,  0.96244729,  1.03107331],\n",
              "       [ 1.        ,  0.49724851,  0.33597692],\n",
              "       [ 1.        ,  0.28484049,  0.23764731],\n",
              "       [ 1.        ,  0.60956433,  0.71845939],\n",
              "       [ 1.        ,  0.05147875,  0.05790675],\n",
              "       [ 1.        ,  0.90826589,  0.80049141],\n",
              "       [ 1.        ,  0.14489487,  0.0733645 ],\n",
              "       [ 1.        ,  0.98565045,  1.05361023],\n",
              "       [ 1.        ,  0.67213555,  0.59909888],\n",
              "       [ 1.        ,  0.23763754,  0.2592834 ],\n",
              "       [ 1.        ,  0.36778313,  0.37234032],\n",
              "       [ 1.        ,  0.63352971,  0.56836968],\n",
              "       [ 1.        ,  0.09028977,  0.30468418],\n",
              "       [ 1.        ,  0.32078006,  0.38417197],\n",
              "       [ 1.        ,  0.04077514, -0.16173912],\n",
              "       [ 1.        ,  0.67756436,  0.69620979],\n",
              "       [ 1.        ,  0.51209306,  0.44591441],\n",
              "       [ 1.        ,  0.64517279,  0.73041612],\n",
              "       [ 1.        ,  0.69093774,  0.61168566],\n",
              "       [ 1.        ,  0.93672999,  0.92525634],\n",
              "       [ 1.        ,  0.34106635,  0.39156508],\n",
              "       [ 1.        ,  0.92469362,  1.01126914],\n",
              "       [ 1.        ,  0.25794163,  0.13791199],\n",
              "       [ 1.        ,  0.8172222 ,  0.78377208],\n",
              "       [ 1.        ,  0.52965058,  0.48215605],\n",
              "       [ 1.        ,  0.09310277,  0.02776984],\n",
              "       [ 1.        ,  0.90041806,  1.07696348],\n",
              "       [ 1.        ,  0.33902979,  0.37952796],\n",
              "       [ 1.        ,  0.72595568,  0.59986728],\n",
              "       [ 1.        ,  0.88708642,  0.97887262]])"
            ]
          },
          "metadata": {},
          "execution_count": 24
        }
      ]
    },
    {
      "cell_type": "code",
      "source": [
        "# Step 3: Define Ridge Regression Parameters\n",
        "alpha = 0.1  # Regularization parameter\n",
        "learning_rate = 0.01\n",
        "n_iterations = 1000\n"
      ],
      "metadata": {
        "id": "9UnDWvg_hSHu"
      },
      "execution_count": null,
      "outputs": []
    },
    {
      "cell_type": "code",
      "source": [
        "# Step 4: Initialize Coefficients (beta)\n",
        "beta = np.zeros(X.shape[1]) # start with all zeros\n"
      ],
      "metadata": {
        "id": "PCx0b66ShiOI"
      },
      "execution_count": null,
      "outputs": []
    },
    {
      "cell_type": "code",
      "source": [],
      "metadata": {
        "id": "-x74nXW5hHJO"
      },
      "execution_count": null,
      "outputs": []
    }
  ]
}